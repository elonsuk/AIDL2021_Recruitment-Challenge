{
 "cells": [
  {
   "cell_type": "code",
   "execution_count": 1,
   "id": "de575a56",
   "metadata": {},
   "outputs": [],
   "source": [
    "import os"
   ]
  },
  {
   "cell_type": "code",
   "execution_count": 2,
   "id": "fa901b3f",
   "metadata": {},
   "outputs": [],
   "source": [
    "import pandas as pd\n",
    "import numpy as np\n",
    "import matplotlib.pyplot as plt\n",
    "import seaborn as sns\n",
    "%matplotlib inline"
   ]
  },
  {
   "cell_type": "code",
   "execution_count": 3,
   "id": "addb07fe",
   "metadata": {},
   "outputs": [],
   "source": [
    "import tensorflow as tf\n",
    "import tensorflow.keras as keras"
   ]
  },
  {
   "cell_type": "code",
   "execution_count": 4,
   "id": "81b69b2d",
   "metadata": {},
   "outputs": [],
   "source": [
    "physical_devices = tf.config.list_physical_devices('GPU')\n",
    "tf.config.experimental.set_memory_growth(physical_devices[0], True)"
   ]
  },
  {
   "cell_type": "markdown",
   "id": "42f32ff2",
   "metadata": {},
   "source": [
    "## Deep Neural Network Analysis & Prediction Approach"
   ]
  },
  {
   "cell_type": "markdown",
   "id": "3132016a",
   "metadata": {},
   "source": [
    "### Load Data"
   ]
  },
  {
   "cell_type": "code",
   "execution_count": 5,
   "id": "d5c5424e",
   "metadata": {},
   "outputs": [],
   "source": [
    "data = pd.read_csv('organized_twitch_data.csv')"
   ]
  },
  {
   "cell_type": "code",
   "execution_count": 6,
   "id": "52d92224",
   "metadata": {},
   "outputs": [
    {
     "data": {
      "text/html": [
       "<div>\n",
       "<style scoped>\n",
       "    .dataframe tbody tr th:only-of-type {\n",
       "        vertical-align: middle;\n",
       "    }\n",
       "\n",
       "    .dataframe tbody tr th {\n",
       "        vertical-align: top;\n",
       "    }\n",
       "\n",
       "    .dataframe thead th {\n",
       "        text-align: right;\n",
       "    }\n",
       "</style>\n",
       "<table border=\"1\" class=\"dataframe\">\n",
       "  <thead>\n",
       "    <tr style=\"text-align: right;\">\n",
       "      <th></th>\n",
       "      <th>Watch time(Minutes)</th>\n",
       "      <th>Stream time(minutes)</th>\n",
       "      <th>Peak viewers</th>\n",
       "      <th>Average viewers</th>\n",
       "      <th>Followers</th>\n",
       "      <th>Followers gained</th>\n",
       "      <th>Views gained</th>\n",
       "      <th>partnered_true</th>\n",
       "      <th>mature_true</th>\n",
       "      <th>Chinese</th>\n",
       "      <th>...</th>\n",
       "      <th>Korean</th>\n",
       "      <th>Other</th>\n",
       "      <th>Polish</th>\n",
       "      <th>Portuguese</th>\n",
       "      <th>Russian</th>\n",
       "      <th>Slovak</th>\n",
       "      <th>Spanish</th>\n",
       "      <th>Swedish</th>\n",
       "      <th>Thai</th>\n",
       "      <th>Turkish</th>\n",
       "    </tr>\n",
       "  </thead>\n",
       "  <tbody>\n",
       "    <tr>\n",
       "      <th>0</th>\n",
       "      <td>6196161750</td>\n",
       "      <td>215250</td>\n",
       "      <td>222720</td>\n",
       "      <td>27716</td>\n",
       "      <td>3246298</td>\n",
       "      <td>1734810</td>\n",
       "      <td>93036735</td>\n",
       "      <td>1</td>\n",
       "      <td>0</td>\n",
       "      <td>0</td>\n",
       "      <td>...</td>\n",
       "      <td>0</td>\n",
       "      <td>0</td>\n",
       "      <td>0</td>\n",
       "      <td>0</td>\n",
       "      <td>0</td>\n",
       "      <td>0</td>\n",
       "      <td>0</td>\n",
       "      <td>0</td>\n",
       "      <td>0</td>\n",
       "      <td>0</td>\n",
       "    </tr>\n",
       "    <tr>\n",
       "      <th>1</th>\n",
       "      <td>6091677300</td>\n",
       "      <td>211845</td>\n",
       "      <td>310998</td>\n",
       "      <td>25610</td>\n",
       "      <td>5310163</td>\n",
       "      <td>1370184</td>\n",
       "      <td>89705964</td>\n",
       "      <td>1</td>\n",
       "      <td>0</td>\n",
       "      <td>0</td>\n",
       "      <td>...</td>\n",
       "      <td>0</td>\n",
       "      <td>0</td>\n",
       "      <td>0</td>\n",
       "      <td>0</td>\n",
       "      <td>0</td>\n",
       "      <td>0</td>\n",
       "      <td>0</td>\n",
       "      <td>0</td>\n",
       "      <td>0</td>\n",
       "      <td>0</td>\n",
       "    </tr>\n",
       "    <tr>\n",
       "      <th>2</th>\n",
       "      <td>5644590915</td>\n",
       "      <td>515280</td>\n",
       "      <td>387315</td>\n",
       "      <td>10976</td>\n",
       "      <td>1767635</td>\n",
       "      <td>1023779</td>\n",
       "      <td>102611607</td>\n",
       "      <td>1</td>\n",
       "      <td>1</td>\n",
       "      <td>0</td>\n",
       "      <td>...</td>\n",
       "      <td>0</td>\n",
       "      <td>0</td>\n",
       "      <td>0</td>\n",
       "      <td>1</td>\n",
       "      <td>0</td>\n",
       "      <td>0</td>\n",
       "      <td>0</td>\n",
       "      <td>0</td>\n",
       "      <td>0</td>\n",
       "      <td>0</td>\n",
       "    </tr>\n",
       "    <tr>\n",
       "      <th>3</th>\n",
       "      <td>3970318140</td>\n",
       "      <td>517740</td>\n",
       "      <td>300575</td>\n",
       "      <td>7714</td>\n",
       "      <td>3944850</td>\n",
       "      <td>703986</td>\n",
       "      <td>106546942</td>\n",
       "      <td>1</td>\n",
       "      <td>0</td>\n",
       "      <td>0</td>\n",
       "      <td>...</td>\n",
       "      <td>0</td>\n",
       "      <td>0</td>\n",
       "      <td>0</td>\n",
       "      <td>0</td>\n",
       "      <td>0</td>\n",
       "      <td>0</td>\n",
       "      <td>0</td>\n",
       "      <td>0</td>\n",
       "      <td>0</td>\n",
       "      <td>0</td>\n",
       "    </tr>\n",
       "    <tr>\n",
       "      <th>4</th>\n",
       "      <td>3671000070</td>\n",
       "      <td>123660</td>\n",
       "      <td>285644</td>\n",
       "      <td>29602</td>\n",
       "      <td>8938903</td>\n",
       "      <td>2068424</td>\n",
       "      <td>78998587</td>\n",
       "      <td>1</td>\n",
       "      <td>0</td>\n",
       "      <td>0</td>\n",
       "      <td>...</td>\n",
       "      <td>0</td>\n",
       "      <td>0</td>\n",
       "      <td>0</td>\n",
       "      <td>0</td>\n",
       "      <td>0</td>\n",
       "      <td>0</td>\n",
       "      <td>0</td>\n",
       "      <td>0</td>\n",
       "      <td>0</td>\n",
       "      <td>0</td>\n",
       "    </tr>\n",
       "  </tbody>\n",
       "</table>\n",
       "<p>5 rows × 29 columns</p>\n",
       "</div>"
      ],
      "text/plain": [
       "   Watch time(Minutes)  Stream time(minutes)  Peak viewers  Average viewers  \\\n",
       "0           6196161750                215250        222720            27716   \n",
       "1           6091677300                211845        310998            25610   \n",
       "2           5644590915                515280        387315            10976   \n",
       "3           3970318140                517740        300575             7714   \n",
       "4           3671000070                123660        285644            29602   \n",
       "\n",
       "   Followers  Followers gained  Views gained  partnered_true  mature_true  \\\n",
       "0    3246298           1734810      93036735               1            0   \n",
       "1    5310163           1370184      89705964               1            0   \n",
       "2    1767635           1023779     102611607               1            1   \n",
       "3    3944850            703986     106546942               1            0   \n",
       "4    8938903           2068424      78998587               1            0   \n",
       "\n",
       "   Chinese  ...  Korean  Other  Polish  Portuguese  Russian  Slovak  Spanish  \\\n",
       "0        0  ...       0      0       0           0        0       0        0   \n",
       "1        0  ...       0      0       0           0        0       0        0   \n",
       "2        0  ...       0      0       0           1        0       0        0   \n",
       "3        0  ...       0      0       0           0        0       0        0   \n",
       "4        0  ...       0      0       0           0        0       0        0   \n",
       "\n",
       "   Swedish  Thai  Turkish  \n",
       "0        0     0        0  \n",
       "1        0     0        0  \n",
       "2        0     0        0  \n",
       "3        0     0        0  \n",
       "4        0     0        0  \n",
       "\n",
       "[5 rows x 29 columns]"
      ]
     },
     "execution_count": 6,
     "metadata": {},
     "output_type": "execute_result"
    }
   ],
   "source": [
    "data.head()"
   ]
  },
  {
   "cell_type": "code",
   "execution_count": 7,
   "id": "ea954dcb",
   "metadata": {},
   "outputs": [
    {
     "data": {
      "text/plain": [
       "<AxesSubplot:xlabel='Followers gained'>"
      ]
     },
     "execution_count": 7,
     "metadata": {},
     "output_type": "execute_result"
    },
    {
     "data": {
      "image/png": "[encoded data removed]",
      "text/plain": [
       "<Figure size 1008x360 with 1 Axes>"
      ]
     },
     "metadata": {
      "needs_background": "light"
     },
     "output_type": "display_data"
    }
   ],
   "source": [
    "figure, ax = plt.subplots(figsize=(14, 5))\n",
    "sns.boxplot(ax=ax, x=data['Followers gained'])"
   ]
  },
  {
   "cell_type": "markdown",
   "id": "5dbb4fe1",
   "metadata": {},
   "source": [
    "### Remove Outliers"
   ]
  },
  {
   "cell_type": "code",
   "execution_count": 8,
   "id": "89e7dd0d",
   "metadata": {},
   "outputs": [],
   "source": [
    "Q1 = data['Followers gained'].quantile(0.25)\n",
    "Q3 = data['Followers gained'].quantile(0.75)"
   ]
  },
  {
   "cell_type": "code",
   "execution_count": 9,
   "id": "6bb18fe6",
   "metadata": {},
   "outputs": [],
   "source": [
    "IQR = Q3-Q1\n",
    "lower_limit = Q1-(1.5*IQR)\n",
    "upper_limit = Q3+(1.5*IQR)"
   ]
  },
  {
   "cell_type": "code",
   "execution_count": 10,
   "id": "0544628f",
   "metadata": {},
   "outputs": [],
   "source": [
    "outlier_filter = (data['Followers gained'] >= lower_limit) & (data['Followers gained'] <= upper_limit)"
   ]
  },
  {
   "cell_type": "code",
   "execution_count": 11,
   "id": "2954ee22",
   "metadata": {},
   "outputs": [],
   "source": [
    "no_outliers = data.loc[outlier_filter]"
   ]
  },
  {
   "cell_type": "code",
   "execution_count": 12,
   "id": "d2f9a340",
   "metadata": {},
   "outputs": [
    {
     "data": {
      "text/plain": [
       "910"
      ]
     },
     "execution_count": 12,
     "metadata": {},
     "output_type": "execute_result"
    }
   ],
   "source": [
    "len(no_outliers)"
   ]
  },
  {
   "cell_type": "code",
   "execution_count": 13,
   "id": "dc5427c0",
   "metadata": {},
   "outputs": [],
   "source": [
    "no_outliers = no_outliers.reset_index().drop('index', axis=1)"
   ]
  },
  {
   "cell_type": "code",
   "execution_count": 14,
   "id": "ab26203a",
   "metadata": {},
   "outputs": [
    {
     "data": {
      "text/html": [
       "<div>\n",
       "<style scoped>\n",
       "    .dataframe tbody tr th:only-of-type {\n",
       "        vertical-align: middle;\n",
       "    }\n",
       "\n",
       "    .dataframe tbody tr th {\n",
       "        vertical-align: top;\n",
       "    }\n",
       "\n",
       "    .dataframe thead th {\n",
       "        text-align: right;\n",
       "    }\n",
       "</style>\n",
       "<table border=\"1\" class=\"dataframe\">\n",
       "  <thead>\n",
       "    <tr style=\"text-align: right;\">\n",
       "      <th></th>\n",
       "      <th>Watch time(Minutes)</th>\n",
       "      <th>Stream time(minutes)</th>\n",
       "      <th>Peak viewers</th>\n",
       "      <th>Average viewers</th>\n",
       "      <th>Followers</th>\n",
       "      <th>Followers gained</th>\n",
       "      <th>Views gained</th>\n",
       "      <th>partnered_true</th>\n",
       "      <th>mature_true</th>\n",
       "      <th>Chinese</th>\n",
       "      <th>...</th>\n",
       "      <th>Korean</th>\n",
       "      <th>Other</th>\n",
       "      <th>Polish</th>\n",
       "      <th>Portuguese</th>\n",
       "      <th>Russian</th>\n",
       "      <th>Slovak</th>\n",
       "      <th>Spanish</th>\n",
       "      <th>Swedish</th>\n",
       "      <th>Thai</th>\n",
       "      <th>Turkish</th>\n",
       "    </tr>\n",
       "  </thead>\n",
       "  <tbody>\n",
       "    <tr>\n",
       "      <th>0</th>\n",
       "      <td>3301867485</td>\n",
       "      <td>147885</td>\n",
       "      <td>68795</td>\n",
       "      <td>18985</td>\n",
       "      <td>508816</td>\n",
       "      <td>425468</td>\n",
       "      <td>670137548</td>\n",
       "      <td>1</td>\n",
       "      <td>0</td>\n",
       "      <td>0</td>\n",
       "      <td>...</td>\n",
       "      <td>0</td>\n",
       "      <td>0</td>\n",
       "      <td>0</td>\n",
       "      <td>0</td>\n",
       "      <td>0</td>\n",
       "      <td>0</td>\n",
       "      <td>0</td>\n",
       "      <td>0</td>\n",
       "      <td>0</td>\n",
       "      <td>0</td>\n",
       "    </tr>\n",
       "    <tr>\n",
       "      <th>1</th>\n",
       "      <td>2832930285</td>\n",
       "      <td>128490</td>\n",
       "      <td>89170</td>\n",
       "      <td>21739</td>\n",
       "      <td>2666382</td>\n",
       "      <td>199077</td>\n",
       "      <td>50504526</td>\n",
       "      <td>1</td>\n",
       "      <td>0</td>\n",
       "      <td>0</td>\n",
       "      <td>...</td>\n",
       "      <td>0</td>\n",
       "      <td>0</td>\n",
       "      <td>0</td>\n",
       "      <td>0</td>\n",
       "      <td>0</td>\n",
       "      <td>0</td>\n",
       "      <td>0</td>\n",
       "      <td>0</td>\n",
       "      <td>0</td>\n",
       "      <td>0</td>\n",
       "    </tr>\n",
       "    <tr>\n",
       "      <th>2</th>\n",
       "      <td>2674646715</td>\n",
       "      <td>80820</td>\n",
       "      <td>639375</td>\n",
       "      <td>20960</td>\n",
       "      <td>4487489</td>\n",
       "      <td>497678</td>\n",
       "      <td>56855694</td>\n",
       "      <td>1</td>\n",
       "      <td>0</td>\n",
       "      <td>0</td>\n",
       "      <td>...</td>\n",
       "      <td>0</td>\n",
       "      <td>0</td>\n",
       "      <td>0</td>\n",
       "      <td>0</td>\n",
       "      <td>0</td>\n",
       "      <td>0</td>\n",
       "      <td>0</td>\n",
       "      <td>0</td>\n",
       "      <td>0</td>\n",
       "      <td>0</td>\n",
       "    </tr>\n",
       "    <tr>\n",
       "      <th>3</th>\n",
       "      <td>2329440420</td>\n",
       "      <td>115305</td>\n",
       "      <td>107833</td>\n",
       "      <td>19659</td>\n",
       "      <td>2786162</td>\n",
       "      <td>236169</td>\n",
       "      <td>39334821</td>\n",
       "      <td>1</td>\n",
       "      <td>1</td>\n",
       "      <td>0</td>\n",
       "      <td>...</td>\n",
       "      <td>0</td>\n",
       "      <td>0</td>\n",
       "      <td>0</td>\n",
       "      <td>0</td>\n",
       "      <td>0</td>\n",
       "      <td>0</td>\n",
       "      <td>0</td>\n",
       "      <td>0</td>\n",
       "      <td>0</td>\n",
       "      <td>0</td>\n",
       "    </tr>\n",
       "    <tr>\n",
       "      <th>4</th>\n",
       "      <td>2186662470</td>\n",
       "      <td>181230</td>\n",
       "      <td>26999</td>\n",
       "      <td>12201</td>\n",
       "      <td>494445</td>\n",
       "      <td>92205</td>\n",
       "      <td>34405975</td>\n",
       "      <td>1</td>\n",
       "      <td>0</td>\n",
       "      <td>0</td>\n",
       "      <td>...</td>\n",
       "      <td>1</td>\n",
       "      <td>0</td>\n",
       "      <td>0</td>\n",
       "      <td>0</td>\n",
       "      <td>0</td>\n",
       "      <td>0</td>\n",
       "      <td>0</td>\n",
       "      <td>0</td>\n",
       "      <td>0</td>\n",
       "      <td>0</td>\n",
       "    </tr>\n",
       "  </tbody>\n",
       "</table>\n",
       "<p>5 rows × 29 columns</p>\n",
       "</div>"
      ],
      "text/plain": [
       "   Watch time(Minutes)  Stream time(minutes)  Peak viewers  Average viewers  \\\n",
       "0           3301867485                147885         68795            18985   \n",
       "1           2832930285                128490         89170            21739   \n",
       "2           2674646715                 80820        639375            20960   \n",
       "3           2329440420                115305        107833            19659   \n",
       "4           2186662470                181230         26999            12201   \n",
       "\n",
       "   Followers  Followers gained  Views gained  partnered_true  mature_true  \\\n",
       "0     508816            425468     670137548               1            0   \n",
       "1    2666382            199077      50504526               1            0   \n",
       "2    4487489            497678      56855694               1            0   \n",
       "3    2786162            236169      39334821               1            1   \n",
       "4     494445             92205      34405975               1            0   \n",
       "\n",
       "   Chinese  ...  Korean  Other  Polish  Portuguese  Russian  Slovak  Spanish  \\\n",
       "0        0  ...       0      0       0           0        0       0        0   \n",
       "1        0  ...       0      0       0           0        0       0        0   \n",
       "2        0  ...       0      0       0           0        0       0        0   \n",
       "3        0  ...       0      0       0           0        0       0        0   \n",
       "4        0  ...       1      0       0           0        0       0        0   \n",
       "\n",
       "   Swedish  Thai  Turkish  \n",
       "0        0     0        0  \n",
       "1        0     0        0  \n",
       "2        0     0        0  \n",
       "3        0     0        0  \n",
       "4        0     0        0  \n",
       "\n",
       "[5 rows x 29 columns]"
      ]
     },
     "execution_count": 14,
     "metadata": {},
     "output_type": "execute_result"
    }
   ],
   "source": [
    "no_outliers.head()"
   ]
  },
  {
   "cell_type": "code",
   "execution_count": 15,
   "id": "9168bd3e",
   "metadata": {},
   "outputs": [
    {
     "data": {
      "text/plain": [
       "<AxesSubplot:xlabel='Followers gained'>"
      ]
     },
     "execution_count": 15,
     "metadata": {},
     "output_type": "execute_result"
    },
    {
     "data": {
      "image/png": "[encoded data removed]",
      "text/plain": [
       "<Figure size 1008x360 with 1 Axes>"
      ]
     },
     "metadata": {
      "needs_background": "light"
     },
     "output_type": "display_data"
    }
   ],
   "source": [
    "figure, ax = plt.subplots(figsize=(14,5))\n",
    "sns.boxplot(ax=ax, x=no_outliers['Followers gained'])"
   ]
  },
  {
   "cell_type": "code",
   "execution_count": 16,
   "id": "0042d37a",
   "metadata": {},
   "outputs": [
    {
     "data": {
      "text/plain": [
       "0"
      ]
     },
     "execution_count": 16,
     "metadata": {},
     "output_type": "execute_result"
    }
   ],
   "source": [
    "len(no_outliers[no_outliers['Followers gained'] > upper_limit])"
   ]
  },
  {
   "cell_type": "code",
   "execution_count": 17,
   "id": "9f237f2d",
   "metadata": {},
   "outputs": [
    {
     "data": {
      "text/plain": [
       "0"
      ]
     },
     "execution_count": 17,
     "metadata": {},
     "output_type": "execute_result"
    }
   ],
   "source": [
    "len(no_outliers[no_outliers['Followers gained'] < lower_limit])"
   ]
  },
  {
   "cell_type": "code",
   "execution_count": 18,
   "id": "12b0cd94",
   "metadata": {},
   "outputs": [
    {
     "data": {
      "text/plain": [
       "Watch time(Minutes)     0\n",
       "Stream time(minutes)    0\n",
       "Peak viewers            0\n",
       "Average viewers         0\n",
       "Followers               0\n",
       "Followers gained        0\n",
       "Views gained            0\n",
       "partnered_true          0\n",
       "mature_true             0\n",
       "Chinese                 0\n",
       "Czech                   0\n",
       "English                 0\n",
       "Finnish                 0\n",
       "French                  0\n",
       "German                  0\n",
       "Greek                   0\n",
       "Hungarian               0\n",
       "Italian                 0\n",
       "Japanese                0\n",
       "Korean                  0\n",
       "Other                   0\n",
       "Polish                  0\n",
       "Portuguese              0\n",
       "Russian                 0\n",
       "Slovak                  0\n",
       "Spanish                 0\n",
       "Swedish                 0\n",
       "Thai                    0\n",
       "Turkish                 0\n",
       "dtype: int64"
      ]
     },
     "execution_count": 18,
     "metadata": {},
     "output_type": "execute_result"
    }
   ],
   "source": [
    "no_outliers.isnull().sum()"
   ]
  },
  {
   "cell_type": "code",
   "execution_count": 19,
   "id": "c48ff4d9",
   "metadata": {},
   "outputs": [],
   "source": [
    "no_outliers.to_csv('outliers_removed.csv', index=False)"
   ]
  },
  {
   "cell_type": "markdown",
   "id": "c906d6fa",
   "metadata": {},
   "source": [
    "### Train Test Split"
   ]
  },
  {
   "cell_type": "code",
   "execution_count": 20,
   "id": "b9d38d92",
   "metadata": {},
   "outputs": [],
   "source": [
    "from sklearn.model_selection import train_test_split"
   ]
  },
  {
   "cell_type": "code",
   "execution_count": 21,
   "id": "38f4d6d4",
   "metadata": {},
   "outputs": [],
   "source": [
    "X = no_outliers.drop('Followers gained', axis=1).values\n",
    "y = no_outliers['Followers gained'].values"
   ]
  },
  {
   "cell_type": "code",
   "execution_count": 22,
   "id": "28537b08",
   "metadata": {},
   "outputs": [],
   "source": [
    "X_train, X_test, y_train, y_test = train_test_split(X, y, test_size=0.3, random_state=42)"
   ]
  },
  {
   "cell_type": "markdown",
   "id": "0399cfee",
   "metadata": {},
   "source": [
    "### Data Preprocessing"
   ]
  },
  {
   "cell_type": "code",
   "execution_count": 23,
   "id": "5071ed1e",
   "metadata": {},
   "outputs": [],
   "source": [
    "from sklearn.preprocessing import MinMaxScaler"
   ]
  },
  {
   "cell_type": "code",
   "execution_count": 24,
   "id": "6c6f075c",
   "metadata": {},
   "outputs": [],
   "source": [
    "scaler = MinMaxScaler()"
   ]
  },
  {
   "cell_type": "code",
   "execution_count": 25,
   "id": "43a0f313",
   "metadata": {},
   "outputs": [],
   "source": [
    "X_train = scaler.fit_transform(X_train)\n",
    "X_test = scaler.fit_transform(X_test)"
   ]
  },
  {
   "cell_type": "markdown",
   "id": "68605044",
   "metadata": {},
   "source": [
    "### Model Generation"
   ]
  },
  {
   "cell_type": "code",
   "execution_count": 26,
   "id": "30416f63",
   "metadata": {},
   "outputs": [],
   "source": [
    "from keras.models import Sequential\n",
    "from keras.layers import Dense, Dropout\n",
    "import keras.backend as K\n",
    "from keras.losses import mean_squared_error as mse"
   ]
  },
  {
   "cell_type": "code",
   "execution_count": 27,
   "id": "d0938dd4",
   "metadata": {},
   "outputs": [],
   "source": [
    "model = Sequential()\n",
    "\n",
    "# FIRST DENSE LAYER\n",
    "model.add(Dense(512, activation='relu', kernel_initializer=keras.initializers.RandomUniform()))\n",
    "model.add(Dropout(0.5))\n",
    "\n",
    "# SECOND DENSE LAYER\n",
    "model.add(Dense(512, activation='relu', kernel_initializer=keras.initializers.RandomUniform()))\n",
    "model.add(Dropout(0.5))\n",
    "\n",
    "# THIRD DENSE LAYER\n",
    "model.add(Dense(256, activation='relu', kernel_initializer=keras.initializers.RandomUniform()))\n",
    "model.add(Dropout(0.5))\n",
    "\n",
    "# FOURTH DENSE LAYER\n",
    "model.add(Dense(256, activation='relu', kernel_initializer=keras.initializers.RandomUniform()))\n",
    "model.add(Dropout(0.5))\n",
    "\n",
    "# FIFTH DENSE LAYER\n",
    "model.add(Dense(128, activation='relu', kernel_initializer=keras.initializers.RandomUniform()))\n",
    "model.add(Dropout(0.5))\n",
    "\n",
    "# SIXTH DENSE LAYER\n",
    "model.add(Dense(128, activation='relu', kernel_initializer=keras.initializers.RandomUniform()))\n",
    "model.add(Dropout(0.5))\n",
    "\n",
    "# SEVENTH DENSE LAYER\n",
    "model.add(Dense(64, activation='relu', kernel_initializer=keras.initializers.RandomUniform()))\n",
    "model.add(Dropout(0.5))\n",
    "\n",
    "# EIGHTH DENSE LAYER\n",
    "model.add(Dense(64, activation='relu', kernel_initializer=keras.initializers.RandomUniform()))\n",
    "model.add(Dropout(0.5))\n",
    "\n",
    "# OUTPUT LAYER\n",
    "model.add(Dense(1))\n",
    "\n",
    "# COMPILE MODEL\n",
    "def rmse(y_true, y_pred):\n",
    "    return K.sqrt(mse(y_true, y_pred))\n",
    "\n",
    "model.compile(optimizer='adam', loss=rmse)"
   ]
  },
  {
   "cell_type": "code",
   "execution_count": 28,
   "id": "1b2ef534",
   "metadata": {},
   "outputs": [
    {
     "name": "stdout",
     "output_type": "stream",
     "text": [
      "Epoch 1/300\n",
      "20/20 [==============================] - 2s 17ms/step - loss: 126981.5625 - val_loss: 121840.7422\n",
      "Epoch 2/300\n",
      "20/20 [==============================] - 0s 9ms/step - loss: 118940.5078 - val_loss: 84837.1641\n",
      "Epoch 3/300\n",
      "20/20 [==============================] - 0s 9ms/step - loss: 91245.5469 - val_loss: 83224.6484\n",
      "Epoch 4/300\n",
      "20/20 [==============================] - 0s 9ms/step - loss: 83023.9141 - val_loss: 81527.5234\n",
      "Epoch 5/300\n",
      "20/20 [==============================] - 0s 10ms/step - loss: 84041.6250 - val_loss: 76217.8906\n",
      "Epoch 6/300\n",
      "20/20 [==============================] - 0s 10ms/step - loss: 80377.0781 - val_loss: 73271.2109\n",
      "Epoch 7/300\n",
      "20/20 [==============================] - 0s 9ms/step - loss: 76666.7969 - val_loss: 74585.8281\n",
      "Epoch 8/300\n",
      "20/20 [==============================] - 0s 10ms/step - loss: 74513.2031 - val_loss: 69974.7109\n",
      "Epoch 9/300\n",
      "20/20 [==============================] - 0s 10ms/step - loss: 73545.2344 - val_loss: 75017.8984\n",
      "Epoch 10/300\n",
      "20/20 [==============================] - 0s 9ms/step - loss: 72419.2422 - val_loss: 67626.9688\n",
      "Epoch 11/300\n",
      "20/20 [==============================] - 0s 9ms/step - loss: 74111.8750 - val_loss: 70582.9609\n",
      "Epoch 12/300\n",
      "20/20 [==============================] - 0s 9ms/step - loss: 74013.9688 - val_loss: 67675.4375\n",
      "Epoch 13/300\n",
      "20/20 [==============================] - 0s 9ms/step - loss: 74828.0469 - val_loss: 66606.6406\n",
      "Epoch 14/300\n",
      "20/20 [==============================] - 0s 9ms/step - loss: 71731.5312 - val_loss: 68092.5312\n",
      "Epoch 15/300\n",
      "20/20 [==============================] - 0s 9ms/step - loss: 70704.0156 - val_loss: 67703.3516\n",
      "Epoch 16/300\n",
      "20/20 [==============================] - 0s 9ms/step - loss: 71207.6250 - val_loss: 65192.0820\n",
      "Epoch 17/300\n",
      "20/20 [==============================] - 0s 9ms/step - loss: 71254.5781 - val_loss: 66971.4375\n",
      "Epoch 18/300\n",
      "20/20 [==============================] - 0s 9ms/step - loss: 71606.6094 - val_loss: 67113.4688\n",
      "Epoch 19/300\n",
      "20/20 [==============================] - 0s 9ms/step - loss: 69615.5938 - val_loss: 66197.1172\n",
      "Epoch 20/300\n",
      "20/20 [==============================] - 0s 9ms/step - loss: 73085.6406 - val_loss: 66188.0938\n",
      "Epoch 21/300\n",
      "20/20 [==============================] - 0s 9ms/step - loss: 71797.9766 - val_loss: 65665.1016\n",
      "Epoch 22/300\n",
      "20/20 [==============================] - 0s 9ms/step - loss: 69578.8672 - val_loss: 66035.8828\n",
      "Epoch 23/300\n",
      "20/20 [==============================] - 0s 9ms/step - loss: 70131.8438 - val_loss: 66431.9688\n",
      "Epoch 24/300\n",
      "20/20 [==============================] - 0s 9ms/step - loss: 70711.4922 - val_loss: 67164.0312\n",
      "Epoch 25/300\n",
      "20/20 [==============================] - 0s 9ms/step - loss: 73553.5156 - val_loss: 70320.9453\n",
      "Epoch 26/300\n",
      "20/20 [==============================] - 0s 9ms/step - loss: 73583.8828 - val_loss: 68703.2344\n",
      "Epoch 27/300\n",
      "20/20 [==============================] - 0s 9ms/step - loss: 72168.7969 - val_loss: 65840.9219\n",
      "Epoch 28/300\n",
      "20/20 [==============================] - 0s 9ms/step - loss: 71627.4922 - val_loss: 64291.7070\n",
      "Epoch 29/300\n",
      "20/20 [==============================] - 0s 8ms/step - loss: 69494.1094 - val_loss: 64088.0586\n",
      "Epoch 30/300\n",
      "20/20 [==============================] - 0s 8ms/step - loss: 68862.6562 - val_loss: 64586.8125\n",
      "Epoch 31/300\n",
      "20/20 [==============================] - 0s 9ms/step - loss: 72919.7344 - val_loss: 63851.7734\n",
      "Epoch 32/300\n",
      "20/20 [==============================] - 0s 8ms/step - loss: 70314.9062 - val_loss: 64878.6602\n",
      "Epoch 33/300\n",
      "20/20 [==============================] - 0s 9ms/step - loss: 71820.6719 - val_loss: 64379.7930\n",
      "Epoch 34/300\n",
      "20/20 [==============================] - 0s 9ms/step - loss: 71639.2812 - val_loss: 64631.4297\n",
      "Epoch 35/300\n",
      "20/20 [==============================] - 0s 9ms/step - loss: 71357.5156 - val_loss: 63768.7109\n",
      "Epoch 36/300\n",
      "20/20 [==============================] - 0s 9ms/step - loss: 72607.5391 - val_loss: 64044.6445\n",
      "Epoch 37/300\n",
      "20/20 [==============================] - 0s 9ms/step - loss: 71254.4922 - val_loss: 65384.9141\n",
      "Epoch 38/300\n",
      "20/20 [==============================] - 0s 9ms/step - loss: 72483.7266 - val_loss: 65324.8125\n",
      "Epoch 39/300\n",
      "20/20 [==============================] - 0s 9ms/step - loss: 72775.3594 - val_loss: 63532.0664\n",
      "Epoch 40/300\n",
      "20/20 [==============================] - 0s 8ms/step - loss: 72256.1328 - val_loss: 63845.5078\n",
      "Epoch 41/300\n",
      "20/20 [==============================] - 0s 9ms/step - loss: 69614.8047 - val_loss: 64250.5117\n",
      "Epoch 42/300\n",
      "20/20 [==============================] - 0s 8ms/step - loss: 73682.7578 - val_loss: 65998.4297\n",
      "Epoch 43/300\n",
      "20/20 [==============================] - 0s 9ms/step - loss: 70248.7266 - val_loss: 66148.1875\n",
      "Epoch 44/300\n",
      "20/20 [==============================] - 0s 9ms/step - loss: 70476.2188 - val_loss: 64385.0469\n",
      "Epoch 45/300\n",
      "20/20 [==============================] - 0s 9ms/step - loss: 72073.2188 - val_loss: 63558.9219\n",
      "Epoch 46/300\n",
      "20/20 [==============================] - 0s 9ms/step - loss: 71575.1797 - val_loss: 63300.0234\n",
      "Epoch 47/300\n",
      "20/20 [==============================] - 0s 9ms/step - loss: 71726.9609 - val_loss: 63067.5664\n",
      "Epoch 48/300\n",
      "20/20 [==============================] - 0s 9ms/step - loss: 68694.9844 - val_loss: 62878.2773\n",
      "Epoch 49/300\n",
      "20/20 [==============================] - 0s 9ms/step - loss: 71218.8438 - val_loss: 62843.6562\n",
      "Epoch 50/300\n",
      "20/20 [==============================] - 0s 9ms/step - loss: 73399.9844 - val_loss: 63006.4922\n",
      "Epoch 51/300\n",
      "20/20 [==============================] - 0s 9ms/step - loss: 73606.5938 - val_loss: 62619.8906\n",
      "Epoch 52/300\n",
      "20/20 [==============================] - 0s 9ms/step - loss: 71141.0703 - val_loss: 63099.3320\n",
      "Epoch 53/300\n",
      "20/20 [==============================] - 0s 9ms/step - loss: 70591.2188 - val_loss: 62737.3828\n",
      "Epoch 54/300\n",
      "20/20 [==============================] - 0s 8ms/step - loss: 71286.6719 - val_loss: 62076.0898\n",
      "Epoch 55/300\n",
      "20/20 [==============================] - 0s 8ms/step - loss: 70153.2578 - val_loss: 63065.5234\n",
      "Epoch 56/300\n",
      "20/20 [==============================] - 0s 8ms/step - loss: 72172.6562 - val_loss: 61672.0000\n",
      "Epoch 57/300\n",
      "20/20 [==============================] - 0s 8ms/step - loss: 69519.7500 - val_loss: 62862.9805\n",
      "Epoch 58/300\n",
      "20/20 [==============================] - 0s 8ms/step - loss: 71409.9766 - val_loss: 63317.4062\n",
      "Epoch 59/300\n",
      "20/20 [==============================] - 0s 9ms/step - loss: 68845.1641 - val_loss: 62424.5000\n",
      "Epoch 60/300\n",
      "20/20 [==============================] - 0s 9ms/step - loss: 70431.2578 - val_loss: 62270.6797\n",
      "Epoch 61/300\n",
      "20/20 [==============================] - 0s 8ms/step - loss: 70496.2969 - val_loss: 61659.8906\n",
      "Epoch 62/300\n",
      "20/20 [==============================] - 0s 8ms/step - loss: 69278.9141 - val_loss: 62527.2461\n",
      "Epoch 63/300\n",
      "20/20 [==============================] - 0s 8ms/step - loss: 69245.6094 - val_loss: 62174.0352\n",
      "Epoch 64/300\n",
      "20/20 [==============================] - 0s 8ms/step - loss: 71166.9609 - val_loss: 62208.6875\n",
      "Epoch 65/300\n",
      "20/20 [==============================] - 0s 8ms/step - loss: 71092.2344 - val_loss: 62489.3984\n",
      "Epoch 66/300\n",
      "20/20 [==============================] - 0s 8ms/step - loss: 68902.5391 - val_loss: 62556.2266\n",
      "Epoch 67/300\n",
      "20/20 [==============================] - 0s 8ms/step - loss: 69327.3281 - val_loss: 62447.0039\n",
      "Epoch 68/300\n",
      "20/20 [==============================] - 0s 8ms/step - loss: 72006.7344 - val_loss: 62065.9180\n",
      "Epoch 69/300\n",
      "20/20 [==============================] - 0s 8ms/step - loss: 68673.5703 - val_loss: 61872.2852\n",
      "Epoch 70/300\n",
      "20/20 [==============================] - 0s 8ms/step - loss: 68081.9688 - val_loss: 60830.3984\n",
      "Epoch 71/300\n",
      "20/20 [==============================] - 0s 8ms/step - loss: 69905.9141 - val_loss: 61728.4766\n",
      "Epoch 72/300\n",
      "20/20 [==============================] - 0s 8ms/step - loss: 68887.9609 - val_loss: 62892.7383\n",
      "Epoch 73/300\n",
      "20/20 [==============================] - 0s 8ms/step - loss: 71972.7500 - val_loss: 67650.3125\n",
      "Epoch 74/300\n",
      "20/20 [==============================] - 0s 9ms/step - loss: 71210.1953 - val_loss: 61303.8750\n",
      "Epoch 75/300\n",
      "20/20 [==============================] - 0s 8ms/step - loss: 68670.8594 - val_loss: 61317.1992\n",
      "Epoch 76/300\n",
      "20/20 [==============================] - 0s 8ms/step - loss: 74238.1328 - val_loss: 60957.5898\n"
     ]
    },
    {
     "name": "stdout",
     "output_type": "stream",
     "text": [
      "Epoch 77/300\n",
      "20/20 [==============================] - 0s 8ms/step - loss: 70690.0312 - val_loss: 61717.9766\n",
      "Epoch 78/300\n",
      "20/20 [==============================] - 0s 8ms/step - loss: 68011.6094 - val_loss: 61048.4102\n",
      "Epoch 79/300\n",
      "20/20 [==============================] - 0s 8ms/step - loss: 70267.1797 - val_loss: 60461.1562\n",
      "Epoch 80/300\n",
      "20/20 [==============================] - 0s 8ms/step - loss: 68560.4844 - val_loss: 65813.7109\n",
      "Epoch 81/300\n",
      "20/20 [==============================] - 0s 8ms/step - loss: 71536.6484 - val_loss: 60527.9375\n",
      "Epoch 82/300\n",
      "20/20 [==============================] - 0s 8ms/step - loss: 68906.6484 - val_loss: 60549.7852\n",
      "Epoch 83/300\n",
      "20/20 [==============================] - 0s 8ms/step - loss: 68928.6172 - val_loss: 59721.4375\n",
      "Epoch 84/300\n",
      "20/20 [==============================] - 0s 8ms/step - loss: 71167.7031 - val_loss: 62295.1211\n",
      "Epoch 85/300\n",
      "20/20 [==============================] - 0s 8ms/step - loss: 70087.4766 - val_loss: 60136.6445\n",
      "Epoch 86/300\n",
      "20/20 [==============================] - 0s 8ms/step - loss: 65776.1797 - val_loss: 61109.0547\n",
      "Epoch 87/300\n",
      "20/20 [==============================] - 0s 8ms/step - loss: 70067.3594 - val_loss: 59803.7617\n",
      "Epoch 88/300\n",
      "20/20 [==============================] - 0s 8ms/step - loss: 69400.6797 - val_loss: 59751.2578\n",
      "Epoch 89/300\n",
      "20/20 [==============================] - 0s 8ms/step - loss: 70739.4375 - val_loss: 61115.7500\n",
      "Epoch 90/300\n",
      "20/20 [==============================] - 0s 8ms/step - loss: 65175.0078 - val_loss: 59429.8164\n",
      "Epoch 91/300\n",
      "20/20 [==============================] - 0s 8ms/step - loss: 67130.8594 - val_loss: 59951.8633\n",
      "Epoch 92/300\n",
      "20/20 [==============================] - 0s 8ms/step - loss: 66752.7422 - val_loss: 60396.5156\n",
      "Epoch 93/300\n",
      "20/20 [==============================] - 0s 8ms/step - loss: 65815.9844 - val_loss: 58811.9219\n",
      "Epoch 94/300\n",
      "20/20 [==============================] - 0s 8ms/step - loss: 69282.7656 - val_loss: 59005.2539\n",
      "Epoch 95/300\n",
      "20/20 [==============================] - 0s 8ms/step - loss: 70494.1641 - val_loss: 58166.5625\n",
      "Epoch 96/300\n",
      "20/20 [==============================] - 0s 8ms/step - loss: 66601.5000 - val_loss: 58789.0625\n",
      "Epoch 97/300\n",
      "20/20 [==============================] - 0s 9ms/step - loss: 67880.3750 - val_loss: 59182.9883\n",
      "Epoch 98/300\n",
      "20/20 [==============================] - 0s 8ms/step - loss: 67686.4375 - val_loss: 60239.1484\n",
      "Epoch 99/300\n",
      "20/20 [==============================] - 0s 8ms/step - loss: 69851.8438 - val_loss: 58100.0625\n",
      "Epoch 100/300\n",
      "20/20 [==============================] - 0s 8ms/step - loss: 66983.5078 - val_loss: 58137.6523\n",
      "Epoch 101/300\n",
      "20/20 [==============================] - 0s 8ms/step - loss: 66960.8672 - val_loss: 56864.5781\n",
      "Epoch 102/300\n",
      "20/20 [==============================] - 0s 8ms/step - loss: 67314.2578 - val_loss: 58119.6211\n",
      "Epoch 103/300\n",
      "20/20 [==============================] - 0s 8ms/step - loss: 66869.5469 - val_loss: 60752.4570\n",
      "Epoch 104/300\n",
      "20/20 [==============================] - 0s 8ms/step - loss: 66987.0703 - val_loss: 56621.9688\n",
      "Epoch 105/300\n",
      "20/20 [==============================] - 0s 8ms/step - loss: 66084.4922 - val_loss: 56308.2773\n",
      "Epoch 106/300\n",
      "20/20 [==============================] - 0s 8ms/step - loss: 71256.0000 - val_loss: 58381.8555\n",
      "Epoch 107/300\n",
      "20/20 [==============================] - 0s 8ms/step - loss: 68673.7031 - val_loss: 57849.7344\n",
      "Epoch 108/300\n",
      "20/20 [==============================] - 0s 8ms/step - loss: 67184.2578 - val_loss: 57202.2656\n",
      "Epoch 109/300\n",
      "20/20 [==============================] - 0s 8ms/step - loss: 66802.2344 - val_loss: 57641.2500\n",
      "Epoch 110/300\n",
      "20/20 [==============================] - 0s 8ms/step - loss: 66370.5156 - val_loss: 56853.2109\n",
      "Epoch 111/300\n",
      "20/20 [==============================] - 0s 8ms/step - loss: 66959.2891 - val_loss: 56855.0859\n",
      "Epoch 112/300\n",
      "20/20 [==============================] - 0s 8ms/step - loss: 66537.2031 - val_loss: 58201.7812\n",
      "Epoch 113/300\n",
      "20/20 [==============================] - 0s 8ms/step - loss: 64446.4492 - val_loss: 58381.1133\n",
      "Epoch 114/300\n",
      "20/20 [==============================] - 0s 8ms/step - loss: 67890.7891 - val_loss: 58006.8398\n",
      "Epoch 115/300\n",
      "20/20 [==============================] - 0s 8ms/step - loss: 65923.4922 - val_loss: 58521.3633\n",
      "Epoch 116/300\n",
      "20/20 [==============================] - 0s 8ms/step - loss: 69660.7812 - val_loss: 58143.6250\n",
      "Epoch 117/300\n",
      "20/20 [==============================] - 0s 8ms/step - loss: 65270.5039 - val_loss: 55776.5430\n",
      "Epoch 118/300\n",
      "20/20 [==============================] - 0s 8ms/step - loss: 66472.3047 - val_loss: 58017.5742\n",
      "Epoch 119/300\n",
      "20/20 [==============================] - 0s 8ms/step - loss: 68356.6562 - val_loss: 59690.9883\n",
      "Epoch 120/300\n",
      "20/20 [==============================] - 0s 8ms/step - loss: 70756.7031 - val_loss: 61470.7695\n",
      "Epoch 121/300\n",
      "20/20 [==============================] - 0s 8ms/step - loss: 65247.5273 - val_loss: 63994.7266\n",
      "Epoch 122/300\n",
      "20/20 [==============================] - 0s 8ms/step - loss: 70616.7422 - val_loss: 57202.2344\n",
      "Epoch 123/300\n",
      "20/20 [==============================] - 0s 8ms/step - loss: 66823.0859 - val_loss: 57859.1992\n",
      "Epoch 124/300\n",
      "20/20 [==============================] - 0s 8ms/step - loss: 69923.2578 - val_loss: 56765.7930\n",
      "Epoch 125/300\n",
      "20/20 [==============================] - 0s 8ms/step - loss: 66895.8828 - val_loss: 57643.3086\n",
      "Epoch 126/300\n",
      "20/20 [==============================] - 0s 8ms/step - loss: 70957.4219 - val_loss: 56129.9844\n",
      "Epoch 127/300\n",
      "20/20 [==============================] - 0s 8ms/step - loss: 66283.9609 - val_loss: 57063.7344\n",
      "Epoch 128/300\n",
      "20/20 [==============================] - 0s 8ms/step - loss: 68371.6250 - val_loss: 56351.8281\n",
      "Epoch 129/300\n",
      "20/20 [==============================] - 0s 8ms/step - loss: 67640.2031 - val_loss: 56047.8828\n",
      "Epoch 130/300\n",
      "20/20 [==============================] - 0s 8ms/step - loss: 66700.3281 - val_loss: 56360.7266\n",
      "Epoch 131/300\n",
      "20/20 [==============================] - 0s 8ms/step - loss: 65116.5586 - val_loss: 56314.6523\n",
      "Epoch 132/300\n",
      "20/20 [==============================] - 0s 8ms/step - loss: 65498.7266 - val_loss: 58719.6172\n",
      "Epoch 133/300\n",
      "20/20 [==============================] - 0s 8ms/step - loss: 63605.5938 - val_loss: 55333.8008\n",
      "Epoch 134/300\n",
      "20/20 [==============================] - 0s 8ms/step - loss: 64449.8398 - val_loss: 56901.1328\n",
      "Epoch 135/300\n",
      "20/20 [==============================] - 0s 8ms/step - loss: 66731.2188 - val_loss: 58280.6953\n",
      "Epoch 136/300\n",
      "20/20 [==============================] - 0s 8ms/step - loss: 64317.6211 - val_loss: 58087.5430\n",
      "Epoch 137/300\n",
      "20/20 [==============================] - 0s 8ms/step - loss: 67616.9766 - val_loss: 60667.8789\n",
      "Epoch 138/300\n",
      "20/20 [==============================] - 0s 8ms/step - loss: 67219.8203 - val_loss: 56195.6562\n",
      "Epoch 139/300\n",
      "20/20 [==============================] - 0s 8ms/step - loss: 68048.1094 - val_loss: 55626.9023\n",
      "Epoch 140/300\n",
      "20/20 [==============================] - 0s 8ms/step - loss: 67017.5859 - val_loss: 56111.9961\n",
      "Epoch 141/300\n",
      "20/20 [==============================] - 0s 8ms/step - loss: 63660.1836 - val_loss: 59779.4375\n",
      "Epoch 142/300\n",
      "20/20 [==============================] - 0s 8ms/step - loss: 64461.9141 - val_loss: 56672.5586\n",
      "Epoch 143/300\n",
      "20/20 [==============================] - 0s 8ms/step - loss: 67251.1875 - val_loss: 58111.4180\n",
      "Epoch 144/300\n",
      "20/20 [==============================] - 0s 8ms/step - loss: 65366.3672 - val_loss: 61842.7344\n",
      "Epoch 145/300\n",
      "20/20 [==============================] - 0s 8ms/step - loss: 65262.9258 - val_loss: 64132.1016\n",
      "Epoch 146/300\n",
      "20/20 [==============================] - 0s 8ms/step - loss: 69336.4922 - val_loss: 57007.4531\n",
      "Epoch 147/300\n",
      "20/20 [==============================] - 0s 8ms/step - loss: 65572.3984 - val_loss: 57079.5117\n",
      "Epoch 148/300\n",
      "20/20 [==============================] - 0s 8ms/step - loss: 68017.6250 - val_loss: 57864.5586\n",
      "Epoch 149/300\n",
      "20/20 [==============================] - 0s 8ms/step - loss: 66239.0234 - val_loss: 56383.9961\n",
      "Epoch 150/300\n",
      "20/20 [==============================] - 0s 8ms/step - loss: 65029.8828 - val_loss: 57485.5000\n",
      "Epoch 151/300\n",
      "20/20 [==============================] - 0s 8ms/step - loss: 61667.1133 - val_loss: 57233.5547\n",
      "Epoch 152/300\n"
     ]
    },
    {
     "name": "stdout",
     "output_type": "stream",
     "text": [
      "20/20 [==============================] - 0s 8ms/step - loss: 67045.2109 - val_loss: 57335.8320\n",
      "Epoch 153/300\n",
      "20/20 [==============================] - 0s 8ms/step - loss: 62696.7539 - val_loss: 56687.5586\n",
      "Epoch 154/300\n",
      "20/20 [==============================] - 0s 9ms/step - loss: 65190.5859 - val_loss: 56441.0078\n",
      "Epoch 155/300\n",
      "20/20 [==============================] - 0s 8ms/step - loss: 66084.2422 - val_loss: 57323.3828\n",
      "Epoch 156/300\n",
      "20/20 [==============================] - 0s 10ms/step - loss: 66290.7656 - val_loss: 57387.4766\n",
      "Epoch 157/300\n",
      "20/20 [==============================] - 0s 8ms/step - loss: 66501.6875 - val_loss: 57611.6797\n",
      "Epoch 158/300\n",
      "20/20 [==============================] - 0s 8ms/step - loss: 65698.3281 - val_loss: 58068.9609\n",
      "Epoch 159/300\n",
      "20/20 [==============================] - 0s 8ms/step - loss: 65100.4961 - val_loss: 57687.5781\n",
      "Epoch 160/300\n",
      "20/20 [==============================] - 0s 8ms/step - loss: 64746.1367 - val_loss: 58802.9102\n",
      "Epoch 161/300\n",
      "20/20 [==============================] - 0s 8ms/step - loss: 68036.5391 - val_loss: 62074.0898\n",
      "Epoch 162/300\n",
      "20/20 [==============================] - 0s 8ms/step - loss: 61727.8555 - val_loss: 57918.7422\n",
      "Epoch 163/300\n",
      "20/20 [==============================] - 0s 8ms/step - loss: 64494.1406 - val_loss: 57151.5469\n",
      "Epoch 164/300\n",
      "20/20 [==============================] - 0s 8ms/step - loss: 63059.4297 - val_loss: 56122.3789\n",
      "Epoch 165/300\n",
      "20/20 [==============================] - 0s 9ms/step - loss: 66594.6719 - val_loss: 58718.1992\n",
      "Epoch 166/300\n",
      "20/20 [==============================] - 0s 8ms/step - loss: 65420.9180 - val_loss: 58490.0000\n",
      "Epoch 167/300\n",
      "20/20 [==============================] - 0s 11ms/step - loss: 64234.9766 - val_loss: 59096.5312\n",
      "Epoch 168/300\n",
      "20/20 [==============================] - 0s 11ms/step - loss: 63355.3594 - val_loss: 58824.1953\n",
      "Epoch 169/300\n",
      "20/20 [==============================] - 0s 10ms/step - loss: 66085.5234 - val_loss: 65054.9531\n",
      "Epoch 170/300\n",
      "20/20 [==============================] - 0s 10ms/step - loss: 67412.5156 - val_loss: 57566.7266\n",
      "Epoch 171/300\n",
      "20/20 [==============================] - 0s 10ms/step - loss: 64985.1602 - val_loss: 59800.7422\n",
      "Epoch 172/300\n",
      "20/20 [==============================] - 0s 10ms/step - loss: 65336.2812 - val_loss: 59027.9961\n",
      "Epoch 173/300\n",
      "20/20 [==============================] - 0s 10ms/step - loss: 66724.0781 - val_loss: 58237.6523\n",
      "Epoch 174/300\n",
      "20/20 [==============================] - 0s 10ms/step - loss: 65277.5508 - val_loss: 57947.6914\n",
      "Epoch 175/300\n",
      "20/20 [==============================] - 0s 10ms/step - loss: 64402.2969 - val_loss: 59381.5156\n",
      "Epoch 176/300\n",
      "20/20 [==============================] - 0s 10ms/step - loss: 66633.4844 - val_loss: 60745.1836\n",
      "Epoch 177/300\n",
      "20/20 [==============================] - 0s 10ms/step - loss: 66777.8438 - val_loss: 56893.0039\n",
      "Epoch 178/300\n",
      "20/20 [==============================] - 0s 10ms/step - loss: 64106.2812 - val_loss: 57852.2344\n",
      "Epoch 179/300\n",
      "20/20 [==============================] - 0s 10ms/step - loss: 65560.2500 - val_loss: 56731.6094\n",
      "Epoch 180/300\n",
      "20/20 [==============================] - 0s 10ms/step - loss: 61494.9766 - val_loss: 56375.9375\n",
      "Epoch 181/300\n",
      "20/20 [==============================] - 0s 10ms/step - loss: 63452.9609 - val_loss: 58300.0234\n",
      "Epoch 182/300\n",
      "20/20 [==============================] - 0s 10ms/step - loss: 61778.3672 - val_loss: 56589.3047\n",
      "Epoch 183/300\n",
      "20/20 [==============================] - 0s 10ms/step - loss: 63364.3320 - val_loss: 59080.4766\n",
      "Epoch 184/300\n",
      "20/20 [==============================] - 0s 10ms/step - loss: 66960.9375 - val_loss: 57101.6758\n",
      "Epoch 185/300\n",
      "20/20 [==============================] - 0s 9ms/step - loss: 62239.5273 - val_loss: 57723.6406\n",
      "Epoch 186/300\n",
      "20/20 [==============================] - 0s 9ms/step - loss: 69400.3672 - val_loss: 56769.5195\n",
      "Epoch 187/300\n",
      "20/20 [==============================] - 0s 10ms/step - loss: 62824.1680 - val_loss: 57538.9688\n",
      "Epoch 188/300\n",
      "20/20 [==============================] - 0s 9ms/step - loss: 61282.1914 - val_loss: 60197.0273\n",
      "Epoch 189/300\n",
      "20/20 [==============================] - 0s 10ms/step - loss: 65284.0508 - val_loss: 61290.2031\n",
      "Epoch 190/300\n",
      "20/20 [==============================] - 0s 10ms/step - loss: 64348.3320 - val_loss: 57625.1172\n",
      "Epoch 191/300\n",
      "20/20 [==============================] - 0s 10ms/step - loss: 66355.6641 - val_loss: 57918.2188\n",
      "Epoch 192/300\n",
      "20/20 [==============================] - 0s 10ms/step - loss: 63003.8438 - val_loss: 57288.3984\n",
      "Epoch 193/300\n",
      "20/20 [==============================] - 0s 10ms/step - loss: 63037.7578 - val_loss: 57167.1758\n",
      "Epoch 194/300\n",
      "20/20 [==============================] - 0s 10ms/step - loss: 65264.1680 - val_loss: 57091.4688\n",
      "Epoch 195/300\n",
      "20/20 [==============================] - 0s 10ms/step - loss: 66904.3516 - val_loss: 57886.8203\n",
      "Epoch 196/300\n",
      "20/20 [==============================] - 0s 10ms/step - loss: 63173.7852 - val_loss: 56889.8086\n",
      "Epoch 197/300\n",
      "20/20 [==============================] - 0s 10ms/step - loss: 66910.7422 - val_loss: 58023.6797\n",
      "Epoch 198/300\n",
      "20/20 [==============================] - 0s 10ms/step - loss: 65969.5547 - val_loss: 57465.4805\n",
      "Epoch 199/300\n",
      "20/20 [==============================] - 0s 10ms/step - loss: 63681.8711 - val_loss: 59274.1875\n",
      "Epoch 200/300\n",
      "20/20 [==============================] - 0s 10ms/step - loss: 62940.8398 - val_loss: 56886.8398\n",
      "Epoch 201/300\n",
      "20/20 [==============================] - 0s 10ms/step - loss: 66993.5078 - val_loss: 57071.0078\n",
      "Epoch 202/300\n",
      "20/20 [==============================] - 0s 10ms/step - loss: 65784.6953 - val_loss: 55971.5820\n",
      "Epoch 203/300\n",
      "20/20 [==============================] - 0s 10ms/step - loss: 63677.4375 - val_loss: 56946.2656\n",
      "Epoch 204/300\n",
      "20/20 [==============================] - 0s 10ms/step - loss: 65623.8984 - val_loss: 60574.3516\n",
      "Epoch 205/300\n",
      "20/20 [==============================] - 0s 11ms/step - loss: 65586.8438 - val_loss: 57078.5703\n",
      "Epoch 206/300\n",
      "20/20 [==============================] - 0s 11ms/step - loss: 62967.5781 - val_loss: 57942.1484\n",
      "Epoch 207/300\n",
      "20/20 [==============================] - 0s 10ms/step - loss: 62392.9414 - val_loss: 57370.6992\n",
      "Epoch 208/300\n",
      "20/20 [==============================] - 0s 10ms/step - loss: 61704.8047 - val_loss: 57246.7070\n",
      "Epoch 209/300\n",
      "20/20 [==============================] - 0s 10ms/step - loss: 64327.7734 - val_loss: 56814.2305\n",
      "Epoch 210/300\n",
      "20/20 [==============================] - 0s 11ms/step - loss: 64607.3711 - val_loss: 56703.7930\n",
      "Epoch 211/300\n",
      "20/20 [==============================] - 0s 10ms/step - loss: 63686.8242 - val_loss: 59902.9961\n",
      "Epoch 212/300\n",
      "20/20 [==============================] - 0s 10ms/step - loss: 62452.4258 - val_loss: 58470.4180\n",
      "Epoch 213/300\n",
      "20/20 [==============================] - 0s 10ms/step - loss: 65418.8516 - val_loss: 58126.5898\n",
      "Epoch 214/300\n",
      "20/20 [==============================] - 0s 10ms/step - loss: 65380.5469 - val_loss: 58940.5742\n",
      "Epoch 215/300\n",
      "20/20 [==============================] - 0s 10ms/step - loss: 65017.4258 - val_loss: 56482.0977\n",
      "Epoch 216/300\n",
      "20/20 [==============================] - 0s 10ms/step - loss: 64296.5977 - val_loss: 57277.4570\n",
      "Epoch 217/300\n",
      "20/20 [==============================] - 0s 10ms/step - loss: 63304.5898 - val_loss: 61049.3789\n",
      "Epoch 218/300\n",
      "20/20 [==============================] - 0s 10ms/step - loss: 65714.7031 - val_loss: 58202.8281\n",
      "Epoch 219/300\n",
      "20/20 [==============================] - 0s 10ms/step - loss: 62914.9766 - val_loss: 56579.8828\n",
      "Epoch 220/300\n",
      "20/20 [==============================] - 0s 10ms/step - loss: 63736.8867 - val_loss: 59490.5195\n",
      "Epoch 221/300\n",
      "20/20 [==============================] - 0s 10ms/step - loss: 61098.9219 - val_loss: 58752.2461\n",
      "Epoch 222/300\n",
      "20/20 [==============================] - 0s 10ms/step - loss: 64386.3750 - val_loss: 57784.9961\n",
      "Epoch 223/300\n",
      "20/20 [==============================] - 0s 11ms/step - loss: 64951.2578 - val_loss: 62090.0352\n",
      "Epoch 224/300\n",
      "20/20 [==============================] - 0s 10ms/step - loss: 63299.0078 - val_loss: 58852.8047\n",
      "Epoch 225/300\n",
      "20/20 [==============================] - 0s 10ms/step - loss: 64319.4492 - val_loss: 58902.9492\n",
      "Epoch 226/300\n",
      "20/20 [==============================] - 0s 10ms/step - loss: 62458.6445 - val_loss: 58465.3281\n"
     ]
    },
    {
     "name": "stdout",
     "output_type": "stream",
     "text": [
      "Epoch 227/300\n",
      "20/20 [==============================] - 0s 10ms/step - loss: 61846.9375 - val_loss: 58369.9336\n",
      "Epoch 228/300\n",
      "20/20 [==============================] - 0s 10ms/step - loss: 64097.9102 - val_loss: 57464.8516\n",
      "Epoch 229/300\n",
      "20/20 [==============================] - 0s 10ms/step - loss: 63376.5078 - val_loss: 57277.2891\n",
      "Epoch 230/300\n",
      "20/20 [==============================] - 0s 10ms/step - loss: 60964.6484 - val_loss: 58749.9141\n",
      "Epoch 231/300\n",
      "20/20 [==============================] - 0s 10ms/step - loss: 63536.1016 - val_loss: 57032.8516\n",
      "Epoch 232/300\n",
      "20/20 [==============================] - 0s 10ms/step - loss: 64048.7539 - val_loss: 56847.0156\n",
      "Epoch 233/300\n",
      "20/20 [==============================] - 0s 10ms/step - loss: 64670.7695 - val_loss: 57368.8125\n",
      "Epoch 234/300\n",
      "20/20 [==============================] - 0s 10ms/step - loss: 64198.2539 - val_loss: 57724.3477\n",
      "Epoch 235/300\n",
      "20/20 [==============================] - 0s 10ms/step - loss: 64290.3477 - val_loss: 57410.8477\n",
      "Epoch 236/300\n",
      "20/20 [==============================] - 0s 10ms/step - loss: 61606.3477 - val_loss: 57663.2070\n",
      "Epoch 237/300\n",
      "20/20 [==============================] - 0s 10ms/step - loss: 63861.6875 - val_loss: 60637.8828\n",
      "Epoch 238/300\n",
      "20/20 [==============================] - 0s 10ms/step - loss: 62985.2070 - val_loss: 58856.2695\n",
      "Epoch 239/300\n",
      "20/20 [==============================] - 0s 10ms/step - loss: 63543.5781 - val_loss: 58113.3008\n",
      "Epoch 240/300\n",
      "20/20 [==============================] - 0s 10ms/step - loss: 61219.1211 - val_loss: 57638.7891\n",
      "Epoch 241/300\n",
      "20/20 [==============================] - 0s 10ms/step - loss: 63113.9531 - val_loss: 64463.8672\n",
      "Epoch 242/300\n",
      "20/20 [==============================] - 0s 10ms/step - loss: 64601.2305 - val_loss: 59724.0898\n",
      "Epoch 243/300\n",
      "20/20 [==============================] - 0s 10ms/step - loss: 60742.2617 - val_loss: 57918.8789\n",
      "Epoch 244/300\n",
      "20/20 [==============================] - 0s 10ms/step - loss: 63359.8633 - val_loss: 58916.8516\n",
      "Epoch 245/300\n",
      "20/20 [==============================] - 0s 10ms/step - loss: 62891.0391 - val_loss: 58287.6914\n",
      "Epoch 246/300\n",
      "20/20 [==============================] - 0s 10ms/step - loss: 64679.2344 - val_loss: 57491.6953\n",
      "Epoch 247/300\n",
      "20/20 [==============================] - 0s 10ms/step - loss: 60881.6328 - val_loss: 57499.4375\n",
      "Epoch 248/300\n",
      "20/20 [==============================] - 0s 10ms/step - loss: 62726.7109 - val_loss: 58018.4922\n",
      "Epoch 249/300\n",
      "20/20 [==============================] - 0s 10ms/step - loss: 61577.9297 - val_loss: 59102.6211\n",
      "Epoch 250/300\n",
      "20/20 [==============================] - 0s 10ms/step - loss: 65219.9570 - val_loss: 60234.7930\n",
      "Epoch 251/300\n",
      "20/20 [==============================] - 0s 10ms/step - loss: 63581.6328 - val_loss: 59749.8945\n",
      "Epoch 252/300\n",
      "20/20 [==============================] - 0s 10ms/step - loss: 65321.3516 - val_loss: 57837.4648\n",
      "Epoch 253/300\n",
      "20/20 [==============================] - 0s 10ms/step - loss: 64119.9922 - val_loss: 58503.9805\n",
      "Epoch 254/300\n",
      "20/20 [==============================] - 0s 10ms/step - loss: 61926.4609 - val_loss: 59355.6602\n",
      "Epoch 255/300\n",
      "20/20 [==============================] - 0s 10ms/step - loss: 61649.1680 - val_loss: 59507.3164\n",
      "Epoch 256/300\n",
      "20/20 [==============================] - 0s 10ms/step - loss: 61361.1250 - val_loss: 57935.4375\n",
      "Epoch 257/300\n",
      "20/20 [==============================] - 0s 10ms/step - loss: 64289.0352 - val_loss: 57058.8633\n",
      "Epoch 258/300\n",
      "20/20 [==============================] - 0s 10ms/step - loss: 64101.0039 - val_loss: 58065.0547\n",
      "Epoch 259/300\n",
      "20/20 [==============================] - 0s 10ms/step - loss: 61360.3125 - val_loss: 59188.7461\n",
      "Epoch 260/300\n",
      "20/20 [==============================] - 0s 10ms/step - loss: 64346.5547 - val_loss: 60011.8438\n",
      "Epoch 261/300\n",
      "20/20 [==============================] - 0s 11ms/step - loss: 62446.6797 - val_loss: 59264.9688\n",
      "Epoch 262/300\n",
      "20/20 [==============================] - 0s 10ms/step - loss: 63356.4727 - val_loss: 59995.1875\n",
      "Epoch 263/300\n",
      "20/20 [==============================] - 0s 10ms/step - loss: 63701.3750 - val_loss: 58245.3242\n",
      "Epoch 264/300\n",
      "20/20 [==============================] - 0s 10ms/step - loss: 62368.3594 - val_loss: 58800.5625\n",
      "Epoch 265/300\n",
      "20/20 [==============================] - 0s 10ms/step - loss: 61268.0312 - val_loss: 58244.4492\n",
      "Epoch 266/300\n",
      "20/20 [==============================] - 0s 10ms/step - loss: 64710.1211 - val_loss: 60690.7812\n",
      "Epoch 267/300\n",
      "20/20 [==============================] - 0s 10ms/step - loss: 65076.2578 - val_loss: 58715.5156\n",
      "Epoch 268/300\n",
      "20/20 [==============================] - 0s 10ms/step - loss: 62056.2891 - val_loss: 58063.4297\n",
      "Epoch 269/300\n",
      "20/20 [==============================] - 0s 10ms/step - loss: 61817.1992 - val_loss: 60166.7461\n",
      "Epoch 270/300\n",
      "20/20 [==============================] - 0s 10ms/step - loss: 62195.0781 - val_loss: 60679.5977\n",
      "Epoch 271/300\n",
      "20/20 [==============================] - 0s 10ms/step - loss: 64846.6172 - val_loss: 58621.1484\n",
      "Epoch 272/300\n",
      "20/20 [==============================] - 0s 10ms/step - loss: 61289.8516 - val_loss: 58775.3203\n",
      "Epoch 273/300\n",
      "20/20 [==============================] - 0s 10ms/step - loss: 64270.2109 - val_loss: 59293.3438\n",
      "Epoch 274/300\n",
      "20/20 [==============================] - 0s 10ms/step - loss: 66328.1484 - val_loss: 58690.4258\n",
      "Epoch 275/300\n",
      "20/20 [==============================] - 0s 10ms/step - loss: 62501.1172 - val_loss: 59285.6758\n",
      "Epoch 276/300\n",
      "20/20 [==============================] - 0s 10ms/step - loss: 61807.7344 - val_loss: 60491.7617\n",
      "Epoch 277/300\n",
      "20/20 [==============================] - 0s 10ms/step - loss: 60519.4844 - val_loss: 60485.5273\n",
      "Epoch 278/300\n",
      "20/20 [==============================] - 0s 10ms/step - loss: 64253.1992 - val_loss: 59633.6094\n",
      "Epoch 279/300\n",
      "20/20 [==============================] - 0s 10ms/step - loss: 63878.0859 - val_loss: 58918.3789\n",
      "Epoch 280/300\n",
      "20/20 [==============================] - 0s 10ms/step - loss: 60684.7617 - val_loss: 58907.2969\n",
      "Epoch 281/300\n",
      "20/20 [==============================] - 0s 10ms/step - loss: 59597.4648 - val_loss: 59880.1836\n",
      "Epoch 282/300\n",
      "20/20 [==============================] - 0s 10ms/step - loss: 62207.6367 - val_loss: 58128.9102\n",
      "Epoch 283/300\n",
      "20/20 [==============================] - 0s 10ms/step - loss: 63117.3203 - val_loss: 57309.1172\n",
      "Epoch 284/300\n",
      "20/20 [==============================] - 0s 10ms/step - loss: 65396.5703 - val_loss: 57511.6836\n",
      "Epoch 285/300\n",
      "20/20 [==============================] - 0s 10ms/step - loss: 62313.9219 - val_loss: 58027.6797\n",
      "Epoch 286/300\n",
      "20/20 [==============================] - 0s 10ms/step - loss: 62340.2578 - val_loss: 60450.3516\n",
      "Epoch 287/300\n",
      "20/20 [==============================] - 0s 10ms/step - loss: 61605.0664 - val_loss: 61702.9805\n",
      "Epoch 288/300\n",
      "20/20 [==============================] - 0s 10ms/step - loss: 64073.2422 - val_loss: 59807.0898\n",
      "Epoch 289/300\n",
      "20/20 [==============================] - 0s 10ms/step - loss: 61941.1680 - val_loss: 58639.5000\n",
      "Epoch 290/300\n",
      "20/20 [==============================] - 0s 10ms/step - loss: 61534.6680 - val_loss: 58438.7500\n",
      "Epoch 291/300\n",
      "20/20 [==============================] - 0s 10ms/step - loss: 62055.7812 - val_loss: 60738.2109\n",
      "Epoch 292/300\n",
      "20/20 [==============================] - 0s 10ms/step - loss: 60314.7266 - val_loss: 58414.3477\n",
      "Epoch 293/300\n",
      "20/20 [==============================] - 0s 10ms/step - loss: 62508.5078 - val_loss: 58305.2891\n",
      "Epoch 294/300\n",
      "20/20 [==============================] - 0s 10ms/step - loss: 63120.1836 - val_loss: 57980.2656\n",
      "Epoch 295/300\n",
      "20/20 [==============================] - 0s 10ms/step - loss: 65798.3047 - val_loss: 63612.8555\n",
      "Epoch 296/300\n",
      "20/20 [==============================] - 0s 10ms/step - loss: 64499.1133 - val_loss: 57633.0391\n",
      "Epoch 297/300\n",
      "20/20 [==============================] - 0s 10ms/step - loss: 61724.7109 - val_loss: 60506.4219\n",
      "Epoch 298/300\n",
      "20/20 [==============================] - 0s 10ms/step - loss: 62852.3594 - val_loss: 58612.1250\n",
      "Epoch 299/300\n",
      "20/20 [==============================] - 0s 10ms/step - loss: 62874.8633 - val_loss: 57286.4453\n",
      "Epoch 300/300\n",
      "20/20 [==============================] - 0s 10ms/step - loss: 62153.4492 - val_loss: 57965.2188\n"
     ]
    },
    {
     "data": {
      "text/plain": [
       "<keras.callbacks.History at 0x24f1788c520>"
      ]
     },
     "execution_count": 28,
     "metadata": {},
     "output_type": "execute_result"
    }
   ],
   "source": [
    "model.fit(X_train, y_train, \n",
    "          validation_data=(X_test, y_test), batch_size=32, epochs=300)"
   ]
  },
  {
   "cell_type": "markdown",
   "id": "681af860",
   "metadata": {},
   "source": [
    "### Model Predictions & Evaluation"
   ]
  },
  {
   "cell_type": "code",
   "execution_count": 29,
   "id": "f0b0a88f",
   "metadata": {},
   "outputs": [],
   "source": [
    "dnn_pred = model.predict(X_test)"
   ]
  },
  {
   "cell_type": "code",
   "execution_count": 30,
   "id": "516ffb7e",
   "metadata": {},
   "outputs": [],
   "source": [
    "from sklearn.metrics import mean_squared_error, mean_absolute_error, explained_variance_score, r2_score"
   ]
  },
  {
   "cell_type": "markdown",
   "id": "43582595",
   "metadata": {},
   "source": [
    "Mean Squared Error"
   ]
  },
  {
   "cell_type": "code",
   "execution_count": 31,
   "id": "5a12582e",
   "metadata": {},
   "outputs": [
    {
     "data": {
      "text/plain": [
       "7418804568.113516"
      ]
     },
     "execution_count": 31,
     "metadata": {},
     "output_type": "execute_result"
    }
   ],
   "source": [
    "mean_squared_error(y_test, dnn_pred)"
   ]
  },
  {
   "cell_type": "markdown",
   "id": "bce636fc",
   "metadata": {},
   "source": [
    "Root Mean Squared Error"
   ]
  },
  {
   "cell_type": "code",
   "execution_count": 32,
   "id": "8e89fdb2",
   "metadata": {},
   "outputs": [
    {
     "data": {
      "text/plain": [
       "86132.48265383691"
      ]
     },
     "execution_count": 32,
     "metadata": {},
     "output_type": "execute_result"
    }
   ],
   "source": [
    "np.sqrt(mean_squared_error(y_test, dnn_pred))"
   ]
  },
  {
   "cell_type": "markdown",
   "id": "2e8515cb",
   "metadata": {},
   "source": [
    "Explained Variance Score"
   ]
  },
  {
   "cell_type": "code",
   "execution_count": 33,
   "id": "8d08d67e",
   "metadata": {},
   "outputs": [
    {
     "data": {
      "text/plain": [
       "0.4725414673462325"
      ]
     },
     "execution_count": 33,
     "metadata": {},
     "output_type": "execute_result"
    }
   ],
   "source": [
    "explained_variance_score(y_test, dnn_pred)"
   ]
  },
  {
   "cell_type": "markdown",
   "id": "9e680f04",
   "metadata": {},
   "source": [
    "Accuracy"
   ]
  },
  {
   "cell_type": "code",
   "execution_count": 34,
   "id": "0c0a0e91",
   "metadata": {},
   "outputs": [
    {
     "data": {
      "text/plain": [
       "45.44008272637245"
      ]
     },
     "execution_count": 34,
     "metadata": {},
     "output_type": "execute_result"
    }
   ],
   "source": [
    "r2_score(y_test, dnn_pred) * 100"
   ]
  },
  {
   "cell_type": "markdown",
   "id": "55b549b1",
   "metadata": {},
   "source": [
    "Conclusion 2: No, removing the outliers did not improved the model's accuracy. Despite using the identical DNN model and training method, explained variance score fell from 0.612 to 0.473; accuracy fell from 60.8 to 45.4; the lower the values are, the model is incapable of making accurate predictions."
   ]
  },
  {
   "cell_type": "markdown",
   "id": "fcd6dc7a",
   "metadata": {},
   "source": [
    "Derived Question: Below is the heatmap displaying the correlation between each numerical column and the *Followers gained*. As previously mentioned at the ```1. Twitch Data_DNN``` notebook, *Stream time(minutes)* is negatively correlated with *Followers gained*. If only the positive-highly correlated columns are used to train the model, will it be able to make more accurate predictions?\n",
    "<br>Continued on ```3. High Correlation_DNN```..."
   ]
  },
  {
   "cell_type": "code",
   "execution_count": 39,
   "id": "0a386a2e",
   "metadata": {},
   "outputs": [
    {
     "data": {
      "text/html": [
       "<div>\n",
       "<style scoped>\n",
       "    .dataframe tbody tr th:only-of-type {\n",
       "        vertical-align: middle;\n",
       "    }\n",
       "\n",
       "    .dataframe tbody tr th {\n",
       "        vertical-align: top;\n",
       "    }\n",
       "\n",
       "    .dataframe thead th {\n",
       "        text-align: right;\n",
       "    }\n",
       "</style>\n",
       "<table border=\"1\" class=\"dataframe\">\n",
       "  <thead>\n",
       "    <tr style=\"text-align: right;\">\n",
       "      <th></th>\n",
       "      <th>Watch time(Minutes)</th>\n",
       "      <th>Stream time(minutes)</th>\n",
       "      <th>Peak viewers</th>\n",
       "      <th>Average viewers</th>\n",
       "      <th>Followers</th>\n",
       "      <th>Followers gained</th>\n",
       "      <th>Views gained</th>\n",
       "    </tr>\n",
       "  </thead>\n",
       "  <tbody>\n",
       "    <tr>\n",
       "      <th>Followers gained</th>\n",
       "      <td>0.514648</td>\n",
       "      <td>-0.158165</td>\n",
       "      <td>0.470415</td>\n",
       "      <td>0.420097</td>\n",
       "      <td>0.715618</td>\n",
       "      <td>1.0</td>\n",
       "      <td>0.244297</td>\n",
       "    </tr>\n",
       "  </tbody>\n",
       "</table>\n",
       "</div>"
      ],
      "text/plain": [
       "                  Watch time(Minutes)  Stream time(minutes)  Peak viewers  \\\n",
       "Followers gained             0.514648             -0.158165      0.470415   \n",
       "\n",
       "                  Average viewers  Followers  Followers gained  Views gained  \n",
       "Followers gained         0.420097   0.715618               1.0      0.244297  "
      ]
     },
     "execution_count": 39,
     "metadata": {},
     "output_type": "execute_result"
    }
   ],
   "source": [
    "extracted_corr = pd.read_csv('extracted_corr.csv')\n",
    "extracted_corr.rename(index={0: 'Followers gained'}, inplace=True)\n",
    "extracted_corr"
   ]
  },
  {
   "cell_type": "code",
   "execution_count": 41,
   "id": "586b433e",
   "metadata": {},
   "outputs": [
    {
     "data": {
      "text/plain": [
       "<AxesSubplot:>"
      ]
     },
     "execution_count": 41,
     "metadata": {},
     "output_type": "execute_result"
    },
    {
     "data": {
      "image/png": "[encoded data removed]",
      "text/plain": [
       "<Figure size 720x144 with 2 Axes>"
      ]
     },
     "metadata": {
      "needs_background": "light"
     },
     "output_type": "display_data"
    }
   ],
   "source": [
    "figure, ax = plt.subplots(figsize=(10,2))\n",
    "sns.heatmap(ax=ax, data=extracted_corr, annot=True)"
   ]
  },
  {
   "cell_type": "code",
   "execution_count": null,
   "id": "3a318c2d",
   "metadata": {},
   "outputs": [],
   "source": []
  }
 ],
 "metadata": {
  "kernelspec": {
   "display_name": "Python 3 (ipykernel)",
   "language": "python",
   "name": "python3"
  },
  "language_info": {
   "codemirror_mode": {
    "name": "ipython",
    "version": 3
   },
   "file_extension": ".py",
   "mimetype": "text/x-python",
   "name": "python",
   "nbconvert_exporter": "python",
   "pygments_lexer": "ipython3",
   "version": "3.9.0"
  }
 },
 "nbformat": 4,
 "nbformat_minor": 5
}
