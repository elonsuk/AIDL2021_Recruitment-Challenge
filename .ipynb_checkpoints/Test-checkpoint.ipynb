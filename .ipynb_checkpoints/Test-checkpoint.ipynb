{
 "cells": [
  {
   "cell_type": "code",
   "execution_count": 1,
   "id": "37656d12",
   "metadata": {},
   "outputs": [],
   "source": [
    "import pandas as pd\n",
    "import numpy as np\n",
    "from sklearn.metrics import mean_squared_error\n",
    "\n",
    "def rmse(y_true, y_pred):\n",
    "    return np.sqrt(mean_squared_error(y_true, y_pred))"
   ]
  },
  {
   "cell_type": "code",
   "execution_count": 2,
   "id": "7189ce06",
   "metadata": {},
   "outputs": [],
   "source": [
    "real = pd.read_csv('Data_Files/twitchdata-update.csv')[800:]['Followers gained']\n",
    "pred = pd.read_csv('Trial_3_Predictions.csv')['Followers gained']\n",
    "\n",
    "real = pd.DataFrame(real).reset_index(drop=True)\n",
    "pred = pd.DataFrame(pred)\n",
    "\n",
    "real = real.values\n",
    "pred = pred.values"
   ]
  },
  {
   "cell_type": "code",
   "execution_count": 3,
   "id": "daa891e4",
   "metadata": {},
   "outputs": [
    {
     "data": {
      "text/plain": [
       "109487.58786106762"
      ]
     },
     "execution_count": 3,
     "metadata": {},
     "output_type": "execute_result"
    }
   ],
   "source": [
    "rmse(real, pred)"
   ]
  },
  {
   "cell_type": "code",
   "execution_count": null,
   "id": "ed372b0b",
   "metadata": {},
   "outputs": [],
   "source": []
  }
 ],
 "metadata": {
  "kernelspec": {
   "display_name": "Python 3 (ipykernel)",
   "language": "python",
   "name": "python3"
  },
  "language_info": {
   "codemirror_mode": {
    "name": "ipython",
    "version": 3
   },
   "file_extension": ".py",
   "mimetype": "text/x-python",
   "name": "python",
   "nbconvert_exporter": "python",
   "pygments_lexer": "ipython3",
   "version": "3.9.0"
  }
 },
 "nbformat": 4,
 "nbformat_minor": 5
}
