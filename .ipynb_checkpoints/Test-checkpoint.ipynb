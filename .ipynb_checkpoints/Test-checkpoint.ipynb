{
 "cells": [
  {
   "cell_type": "code",
   "execution_count": 1,
   "id": "2ee2b7eb",
   "metadata": {},
   "outputs": [],
   "source": [
    "import pandas as pd\n",
    "import numpy as np"
   ]
  },
  {
   "cell_type": "code",
   "execution_count": 2,
   "id": "2f048232",
   "metadata": {},
   "outputs": [],
   "source": [
    "from sklearn.metrics import mean_squared_error"
   ]
  },
  {
   "cell_type": "code",
   "execution_count": 3,
   "id": "085c27ae",
   "metadata": {},
   "outputs": [
    {
     "data": {
      "text/html": [
       "<div>\n",
       "<style scoped>\n",
       "    .dataframe tbody tr th:only-of-type {\n",
       "        vertical-align: middle;\n",
       "    }\n",
       "\n",
       "    .dataframe tbody tr th {\n",
       "        vertical-align: top;\n",
       "    }\n",
       "\n",
       "    .dataframe thead th {\n",
       "        text-align: right;\n",
       "    }\n",
       "</style>\n",
       "<table border=\"1\" class=\"dataframe\">\n",
       "  <thead>\n",
       "    <tr style=\"text-align: right;\">\n",
       "      <th></th>\n",
       "      <th>Channel</th>\n",
       "      <th>Followers gained</th>\n",
       "    </tr>\n",
       "  </thead>\n",
       "  <tbody>\n",
       "    <tr>\n",
       "      <th>0</th>\n",
       "      <td>97R8L3J0</td>\n",
       "      <td>183621</td>\n",
       "    </tr>\n",
       "    <tr>\n",
       "      <th>1</th>\n",
       "      <td>6UV44QFF</td>\n",
       "      <td>154873</td>\n",
       "    </tr>\n",
       "    <tr>\n",
       "      <th>2</th>\n",
       "      <td>2WKQZUGR</td>\n",
       "      <td>168211</td>\n",
       "    </tr>\n",
       "    <tr>\n",
       "      <th>3</th>\n",
       "      <td>R4DGVX2D</td>\n",
       "      <td>149778</td>\n",
       "    </tr>\n",
       "    <tr>\n",
       "      <th>4</th>\n",
       "      <td>P8YSNIOI</td>\n",
       "      <td>65074</td>\n",
       "    </tr>\n",
       "  </tbody>\n",
       "</table>\n",
       "</div>"
      ],
      "text/plain": [
       "    Channel  Followers gained\n",
       "0  97R8L3J0            183621\n",
       "1  6UV44QFF            154873\n",
       "2  2WKQZUGR            168211\n",
       "3  R4DGVX2D            149778\n",
       "4  P8YSNIOI             65074"
      ]
     },
     "execution_count": 3,
     "metadata": {},
     "output_type": "execute_result"
    }
   ],
   "source": [
    "pred = pd.read_csv('Trial_3_Predictions.csv')\n",
    "pred.head()"
   ]
  },
  {
   "cell_type": "code",
   "execution_count": 4,
   "id": "de6ae3fd",
   "metadata": {},
   "outputs": [],
   "source": [
    "pred = pred['Followers gained']"
   ]
  },
  {
   "cell_type": "code",
   "execution_count": 5,
   "id": "f9a63780",
   "metadata": {},
   "outputs": [
    {
     "data": {
      "text/plain": [
       "0      183621\n",
       "1      154873\n",
       "2      168211\n",
       "3      149778\n",
       "4       65074\n",
       "        ...  \n",
       "195    182492\n",
       "196     76188\n",
       "197     49811\n",
       "198    152587\n",
       "199     69616\n",
       "Name: Followers gained, Length: 200, dtype: int64"
      ]
     },
     "execution_count": 5,
     "metadata": {},
     "output_type": "execute_result"
    }
   ],
   "source": [
    "pred"
   ]
  },
  {
   "cell_type": "code",
   "execution_count": 6,
   "id": "4df77f48",
   "metadata": {},
   "outputs": [
    {
     "data": {
      "text/plain": [
       "800    304008\n",
       "801      7578\n",
       "802     99872\n",
       "803     84933\n",
       "804     46487\n",
       "        ...  \n",
       "995    562691\n",
       "996     52289\n",
       "997     -4942\n",
       "998    109111\n",
       "999     59432\n",
       "Name: Followers gained, Length: 200, dtype: int64"
      ]
     },
     "execution_count": 6,
     "metadata": {},
     "output_type": "execute_result"
    }
   ],
   "source": [
    "real = pd.read_csv('Data_Files/twitchdata-update.csv')[800:]\n",
    "real = real['Followers gained']\n",
    "real"
   ]
  },
  {
   "cell_type": "code",
   "execution_count": 7,
   "id": "a40253a7",
   "metadata": {},
   "outputs": [
    {
     "data": {
      "text/plain": [
       "110891.89679309305"
      ]
     },
     "execution_count": 7,
     "metadata": {},
     "output_type": "execute_result"
    }
   ],
   "source": [
    "np.sqrt(mean_squared_error(real, pred))"
   ]
  },
  {
   "cell_type": "code",
   "execution_count": null,
   "id": "c2165ef5",
   "metadata": {},
   "outputs": [],
   "source": []
  }
 ],
 "metadata": {
  "kernelspec": {
   "display_name": "Python 3 (ipykernel)",
   "language": "python",
   "name": "python3"
  },
  "language_info": {
   "codemirror_mode": {
    "name": "ipython",
    "version": 3
   },
   "file_extension": ".py",
   "mimetype": "text/x-python",
   "name": "python",
   "nbconvert_exporter": "python",
   "pygments_lexer": "ipython3",
   "version": "3.9.0"
  }
 },
 "nbformat": 4,
 "nbformat_minor": 5
}
