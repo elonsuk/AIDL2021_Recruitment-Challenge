{
 "cells": [
  {
   "cell_type": "code",
   "execution_count": 1,
   "id": "80152940",
   "metadata": {},
   "outputs": [],
   "source": [
    "import os"
   ]
  },
  {
   "cell_type": "code",
   "execution_count": 2,
   "id": "13e312a8",
   "metadata": {},
   "outputs": [],
   "source": [
    "import pandas as pd\n",
    "import numpy as np\n",
    "import matplotlib.pyplot as plt\n",
    "import seaborn as sns\n",
    "%matplotlib inline"
   ]
  },
  {
   "cell_type": "code",
   "execution_count": 3,
   "id": "c1bd604c",
   "metadata": {},
   "outputs": [],
   "source": [
    "import tensorflow as tf\n",
    "import tensorflow.keras as keras"
   ]
  },
  {
   "cell_type": "code",
   "execution_count": 4,
   "id": "d5c77ddc",
   "metadata": {},
   "outputs": [],
   "source": [
    "from scipy import stats"
   ]
  },
  {
   "cell_type": "code",
   "execution_count": 5,
   "id": "b71f1612",
   "metadata": {},
   "outputs": [],
   "source": [
    "physical_devices = tf.config.list_physical_devices('GPU')\n",
    "tf.config.experimental.set_memory_growth(physical_devices[0], True)"
   ]
  },
  {
   "cell_type": "markdown",
   "id": "998c5389",
   "metadata": {},
   "source": [
    "### Load Data"
   ]
  },
  {
   "cell_type": "code",
   "execution_count": 6,
   "id": "809ed43f",
   "metadata": {},
   "outputs": [],
   "source": [
    "data = pd.read_csv('Data_Files/train.csv')"
   ]
  },
  {
   "cell_type": "code",
   "execution_count": 7,
   "id": "71e9dcbe",
   "metadata": {},
   "outputs": [
    {
     "data": {
      "text/html": [
       "<div>\n",
       "<style scoped>\n",
       "    .dataframe tbody tr th:only-of-type {\n",
       "        vertical-align: middle;\n",
       "    }\n",
       "\n",
       "    .dataframe tbody tr th {\n",
       "        vertical-align: top;\n",
       "    }\n",
       "\n",
       "    .dataframe thead th {\n",
       "        text-align: right;\n",
       "    }\n",
       "</style>\n",
       "<table border=\"1\" class=\"dataframe\">\n",
       "  <thead>\n",
       "    <tr style=\"text-align: right;\">\n",
       "      <th></th>\n",
       "      <th>Channel</th>\n",
       "      <th>Watch time(Minutes)</th>\n",
       "      <th>Stream time(minutes)</th>\n",
       "      <th>Peak viewers</th>\n",
       "      <th>Average viewers</th>\n",
       "      <th>Followers</th>\n",
       "      <th>Followers gained</th>\n",
       "      <th>Views gained</th>\n",
       "      <th>Partnered</th>\n",
       "      <th>Mature</th>\n",
       "      <th>Language</th>\n",
       "    </tr>\n",
       "  </thead>\n",
       "  <tbody>\n",
       "    <tr>\n",
       "      <th>0</th>\n",
       "      <td>2ZR62O53</td>\n",
       "      <td>6196161750</td>\n",
       "      <td>215250</td>\n",
       "      <td>222720</td>\n",
       "      <td>27716</td>\n",
       "      <td>3246298</td>\n",
       "      <td>1734810</td>\n",
       "      <td>93036735</td>\n",
       "      <td>1</td>\n",
       "      <td>0</td>\n",
       "      <td>English</td>\n",
       "    </tr>\n",
       "    <tr>\n",
       "      <th>1</th>\n",
       "      <td>ZJ31SS7Q</td>\n",
       "      <td>6091677300</td>\n",
       "      <td>211845</td>\n",
       "      <td>310998</td>\n",
       "      <td>25610</td>\n",
       "      <td>5310163</td>\n",
       "      <td>1370184</td>\n",
       "      <td>89705964</td>\n",
       "      <td>1</td>\n",
       "      <td>0</td>\n",
       "      <td>English</td>\n",
       "    </tr>\n",
       "    <tr>\n",
       "      <th>2</th>\n",
       "      <td>I31VI9RK</td>\n",
       "      <td>5644590915</td>\n",
       "      <td>515280</td>\n",
       "      <td>387315</td>\n",
       "      <td>10976</td>\n",
       "      <td>1767635</td>\n",
       "      <td>1023779</td>\n",
       "      <td>102611607</td>\n",
       "      <td>1</td>\n",
       "      <td>1</td>\n",
       "      <td>Portuguese</td>\n",
       "    </tr>\n",
       "    <tr>\n",
       "      <th>3</th>\n",
       "      <td>6GP9WLYR</td>\n",
       "      <td>3970318140</td>\n",
       "      <td>517740</td>\n",
       "      <td>300575</td>\n",
       "      <td>7714</td>\n",
       "      <td>3944850</td>\n",
       "      <td>703986</td>\n",
       "      <td>106546942</td>\n",
       "      <td>1</td>\n",
       "      <td>0</td>\n",
       "      <td>English</td>\n",
       "    </tr>\n",
       "    <tr>\n",
       "      <th>4</th>\n",
       "      <td>3DVR0TDD</td>\n",
       "      <td>3671000070</td>\n",
       "      <td>123660</td>\n",
       "      <td>285644</td>\n",
       "      <td>29602</td>\n",
       "      <td>8938903</td>\n",
       "      <td>2068424</td>\n",
       "      <td>78998587</td>\n",
       "      <td>1</td>\n",
       "      <td>0</td>\n",
       "      <td>English</td>\n",
       "    </tr>\n",
       "  </tbody>\n",
       "</table>\n",
       "</div>"
      ],
      "text/plain": [
       "    Channel  Watch time(Minutes)  Stream time(minutes)  Peak viewers  \\\n",
       "0  2ZR62O53           6196161750                215250        222720   \n",
       "1  ZJ31SS7Q           6091677300                211845        310998   \n",
       "2  I31VI9RK           5644590915                515280        387315   \n",
       "3  6GP9WLYR           3970318140                517740        300575   \n",
       "4  3DVR0TDD           3671000070                123660        285644   \n",
       "\n",
       "   Average viewers  Followers  Followers gained  Views gained  Partnered  \\\n",
       "0            27716    3246298           1734810      93036735          1   \n",
       "1            25610    5310163           1370184      89705964          1   \n",
       "2            10976    1767635           1023779     102611607          1   \n",
       "3             7714    3944850            703986     106546942          1   \n",
       "4            29602    8938903           2068424      78998587          1   \n",
       "\n",
       "   Mature    Language  \n",
       "0       0     English  \n",
       "1       0     English  \n",
       "2       1  Portuguese  \n",
       "3       0     English  \n",
       "4       0     English  "
      ]
     },
     "execution_count": 7,
     "metadata": {},
     "output_type": "execute_result"
    }
   ],
   "source": [
    "data.head()"
   ]
  },
  {
   "cell_type": "code",
   "execution_count": 8,
   "id": "4af02a23",
   "metadata": {},
   "outputs": [
    {
     "data": {
      "text/plain": [
       "Index(['Channel', 'Watch time(Minutes)', 'Stream time(minutes)',\n",
       "       'Peak viewers', 'Average viewers', 'Followers', 'Followers gained',\n",
       "       'Views gained', 'Partnered', 'Mature', 'Language'],\n",
       "      dtype='object')"
      ]
     },
     "execution_count": 8,
     "metadata": {},
     "output_type": "execute_result"
    }
   ],
   "source": [
    "data.columns"
   ]
  },
  {
   "cell_type": "code",
   "execution_count": 9,
   "id": "b9993f4c",
   "metadata": {},
   "outputs": [
    {
     "data": {
      "text/html": [
       "<div>\n",
       "<style scoped>\n",
       "    .dataframe tbody tr th:only-of-type {\n",
       "        vertical-align: middle;\n",
       "    }\n",
       "\n",
       "    .dataframe tbody tr th {\n",
       "        vertical-align: top;\n",
       "    }\n",
       "\n",
       "    .dataframe thead th {\n",
       "        text-align: right;\n",
       "    }\n",
       "</style>\n",
       "<table border=\"1\" class=\"dataframe\">\n",
       "  <thead>\n",
       "    <tr style=\"text-align: right;\">\n",
       "      <th></th>\n",
       "      <th>Watch time(Minutes)</th>\n",
       "      <th>Stream time(minutes)</th>\n",
       "      <th>Peak viewers</th>\n",
       "      <th>Average viewers</th>\n",
       "      <th>Followers</th>\n",
       "      <th>Followers gained</th>\n",
       "      <th>Views gained</th>\n",
       "      <th>Partnered</th>\n",
       "      <th>Mature</th>\n",
       "    </tr>\n",
       "  </thead>\n",
       "  <tbody>\n",
       "    <tr>\n",
       "      <th>0</th>\n",
       "      <td>6196161750</td>\n",
       "      <td>215250</td>\n",
       "      <td>222720</td>\n",
       "      <td>27716</td>\n",
       "      <td>3246298</td>\n",
       "      <td>1734810</td>\n",
       "      <td>93036735</td>\n",
       "      <td>1</td>\n",
       "      <td>0</td>\n",
       "    </tr>\n",
       "    <tr>\n",
       "      <th>1</th>\n",
       "      <td>6091677300</td>\n",
       "      <td>211845</td>\n",
       "      <td>310998</td>\n",
       "      <td>25610</td>\n",
       "      <td>5310163</td>\n",
       "      <td>1370184</td>\n",
       "      <td>89705964</td>\n",
       "      <td>1</td>\n",
       "      <td>0</td>\n",
       "    </tr>\n",
       "    <tr>\n",
       "      <th>2</th>\n",
       "      <td>5644590915</td>\n",
       "      <td>515280</td>\n",
       "      <td>387315</td>\n",
       "      <td>10976</td>\n",
       "      <td>1767635</td>\n",
       "      <td>1023779</td>\n",
       "      <td>102611607</td>\n",
       "      <td>1</td>\n",
       "      <td>1</td>\n",
       "    </tr>\n",
       "    <tr>\n",
       "      <th>3</th>\n",
       "      <td>3970318140</td>\n",
       "      <td>517740</td>\n",
       "      <td>300575</td>\n",
       "      <td>7714</td>\n",
       "      <td>3944850</td>\n",
       "      <td>703986</td>\n",
       "      <td>106546942</td>\n",
       "      <td>1</td>\n",
       "      <td>0</td>\n",
       "    </tr>\n",
       "    <tr>\n",
       "      <th>4</th>\n",
       "      <td>3671000070</td>\n",
       "      <td>123660</td>\n",
       "      <td>285644</td>\n",
       "      <td>29602</td>\n",
       "      <td>8938903</td>\n",
       "      <td>2068424</td>\n",
       "      <td>78998587</td>\n",
       "      <td>1</td>\n",
       "      <td>0</td>\n",
       "    </tr>\n",
       "  </tbody>\n",
       "</table>\n",
       "</div>"
      ],
      "text/plain": [
       "   Watch time(Minutes)  Stream time(minutes)  Peak viewers  Average viewers  \\\n",
       "0           6196161750                215250        222720            27716   \n",
       "1           6091677300                211845        310998            25610   \n",
       "2           5644590915                515280        387315            10976   \n",
       "3           3970318140                517740        300575             7714   \n",
       "4           3671000070                123660        285644            29602   \n",
       "\n",
       "   Followers  Followers gained  Views gained  Partnered  Mature  \n",
       "0    3246298           1734810      93036735          1       0  \n",
       "1    5310163           1370184      89705964          1       0  \n",
       "2    1767635           1023779     102611607          1       1  \n",
       "3    3944850            703986     106546942          1       0  \n",
       "4    8938903           2068424      78998587          1       0  "
      ]
     },
     "execution_count": 9,
     "metadata": {},
     "output_type": "execute_result"
    }
   ],
   "source": [
    "data.drop(['Channel', 'Language'], axis=1, inplace=True)\n",
    "data.head()"
   ]
  },
  {
   "cell_type": "markdown",
   "id": "95ab6989",
   "metadata": {},
   "source": [
    "### Exploratory Data Analysis"
   ]
  },
  {
   "cell_type": "code",
   "execution_count": 10,
   "id": "9951a4f3",
   "metadata": {},
   "outputs": [
    {
     "data": {
      "text/plain": [
       "<AxesSubplot:xlabel='Followers gained', ylabel='Count'>"
      ]
     },
     "execution_count": 10,
     "metadata": {},
     "output_type": "execute_result"
    },
    {
     "data": {
      "image/png": "[encoded data removed]",
      "text/plain": [
       "<Figure size 720x432 with 1 Axes>"
      ]
     },
     "metadata": {
      "needs_background": "light"
     },
     "output_type": "display_data"
    }
   ],
   "source": [
    "figure, ax = plt.subplots(figsize=(10,6))\n",
    "sns.histplot(ax=ax, x=data['Followers gained'], bins=30)"
   ]
  },
  {
   "cell_type": "code",
   "execution_count": 11,
   "id": "6354c616",
   "metadata": {},
   "outputs": [],
   "source": [
    "equations = {}"
   ]
  },
  {
   "cell_type": "code",
   "execution_count": 12,
   "id": "6ae341c7",
   "metadata": {},
   "outputs": [],
   "source": [
    "def linear_reg(x, y):\n",
    "    fig, ax = plt.subplots(figsize=(10,8))\n",
    "    \n",
    "    slope, intercept, r_value, p_value, std_err = stats.linregress(data[x], data[y])\n",
    "    rounded_slope = np.round(slope, 5)\n",
    "    rounded_intercept = np.round(intercept, 5)\n",
    "    equation = f'y = {rounded_slope}x + {rounded_intercept}'\n",
    "    \n",
    "    plot = sns.regplot(ax=ax, data=data, x=x, y=y,\n",
    "           line_kws={'label': f'y = {slope}x + {intercept}'})\n",
    "    plot.legend()\n",
    "    \n",
    "    equations[y] = [equation, rounded_slope, rounded_intercept]\n",
    "    print(equation)"
   ]
  },
  {
   "cell_type": "code",
   "execution_count": 13,
   "id": "dc49f4a4",
   "metadata": {},
   "outputs": [],
   "source": [
    "def logistic_reg(x, y):\n",
    "    fig, ax = plt.subplots(figsize=(10,8))\n",
    "    plot = sns.regplot(ax=ax, data=data, x=x, y=y, logistic=True)"
   ]
  },
  {
   "cell_type": "code",
   "execution_count": 14,
   "id": "50ae302e",
   "metadata": {},
   "outputs": [],
   "source": [
    "fg = 'Followers gained'"
   ]
  },
  {
   "cell_type": "markdown",
   "id": "be78cf1d",
   "metadata": {},
   "source": [
    "Followers gained vs Watch time(Minutes)"
   ]
  },
  {
   "cell_type": "code",
   "execution_count": 15,
   "id": "c508f5cf",
   "metadata": {},
   "outputs": [
    {
     "name": "stdout",
     "output_type": "stream",
     "text": [
      "y = 813.25271x + 301887023.06061\n"
     ]
    },
    {
     "data": {
      "image/png": "[encoded data removed]",
      "text/plain": [
       "<Figure size 720x576 with 1 Axes>"
      ]
     },
     "metadata": {
      "needs_background": "light"
     },
     "output_type": "display_data"
    }
   ],
   "source": [
    "linear_reg(fg, 'Watch time(Minutes)')"
   ]
  },
  {
   "cell_type": "markdown",
   "id": "8eb976ba",
   "metadata": {},
   "source": [
    "Followers gained vs Stream time(minutes)"
   ]
  },
  {
   "cell_type": "code",
   "execution_count": 16,
   "id": "4589b847",
   "metadata": {},
   "outputs": [
    {
     "name": "stdout",
     "output_type": "stream",
     "text": [
      "y = -0.03954x + 133618.97481\n"
     ]
    },
    {
     "data": {
      "image/png": "[encoded data removed]",
      "text/plain": [
       "<Figure size 720x576 with 1 Axes>"
      ]
     },
     "metadata": {
      "needs_background": "light"
     },
     "output_type": "display_data"
    }
   ],
   "source": [
    "linear_reg(fg, 'Stream time(minutes)')"
   ]
  },
  {
   "cell_type": "markdown",
   "id": "9d04d583",
   "metadata": {},
   "source": [
    "Followers gained vs Peak viewers"
   ]
  },
  {
   "cell_type": "code",
   "execution_count": 17,
   "id": "9c4b2051",
   "metadata": {},
   "outputs": [
    {
     "name": "stdout",
     "output_type": "stream",
     "text": [
      "y = 0.08213x + 23423.76162\n"
     ]
    },
    {
     "data": {
      "image/png": "[encoded data removed]",
      "text/plain": [
       "<Figure size 720x576 with 1 Axes>"
      ]
     },
     "metadata": {
      "needs_background": "light"
     },
     "output_type": "display_data"
    }
   ],
   "source": [
    "linear_reg(fg, 'Peak viewers')"
   ]
  },
  {
   "cell_type": "markdown",
   "id": "62f04ea6",
   "metadata": {},
   "source": [
    "Followers gained vs Average viewers"
   ]
  },
  {
   "cell_type": "code",
   "execution_count": 18,
   "id": "65e397dd",
   "metadata": {},
   "outputs": [
    {
     "name": "stdout",
     "output_type": "stream",
     "text": [
      "y = 0.01029x + 3037.70073\n"
     ]
    },
    {
     "data": {
      "image/png": "[encoded data removed]",
      "text/plain": [
       "<Figure size 720x576 with 1 Axes>"
      ]
     },
     "metadata": {
      "needs_background": "light"
     },
     "output_type": "display_data"
    }
   ],
   "source": [
    "linear_reg(fg, 'Average viewers')"
   ]
  },
  {
   "cell_type": "markdown",
   "id": "6800b2af",
   "metadata": {},
   "source": [
    "Followers gained vs Followers"
   ]
  },
  {
   "cell_type": "code",
   "execution_count": 19,
   "id": "387ba8fb",
   "metadata": {},
   "outputs": [
    {
     "name": "stdout",
     "output_type": "stream",
     "text": [
      "y = 1.68166x + 258256.47468\n"
     ]
    },
    {
     "data": {
      "image/png": "[encoded data removed]",
      "text/plain": [
       "<Figure size 720x576 with 1 Axes>"
      ]
     },
     "metadata": {
      "needs_background": "light"
     },
     "output_type": "display_data"
    }
   ],
   "source": [
    "linear_reg(fg, 'Followers')"
   ]
  },
  {
   "cell_type": "markdown",
   "id": "b9a1e6d9",
   "metadata": {},
   "source": [
    "Followers gained vs Views gained"
   ]
  },
  {
   "cell_type": "code",
   "execution_count": 20,
   "id": "1ad00142",
   "metadata": {},
   "outputs": [
    {
     "name": "stdout",
     "output_type": "stream",
     "text": [
      "y = 17.44591x + 9343542.72224\n"
     ]
    },
    {
     "data": {
      "image/png": "[encoded data removed]",
      "text/plain": [
       "<Figure size 720x576 with 1 Axes>"
      ]
     },
     "metadata": {
      "needs_background": "light"
     },
     "output_type": "display_data"
    }
   ],
   "source": [
    "linear_reg(fg, 'Views gained')"
   ]
  },
  {
   "cell_type": "code",
   "execution_count": 21,
   "id": "f0400666",
   "metadata": {},
   "outputs": [
    {
     "data": {
      "text/html": [
       "<div>\n",
       "<style scoped>\n",
       "    .dataframe tbody tr th:only-of-type {\n",
       "        vertical-align: middle;\n",
       "    }\n",
       "\n",
       "    .dataframe tbody tr th {\n",
       "        vertical-align: top;\n",
       "    }\n",
       "\n",
       "    .dataframe thead th {\n",
       "        text-align: right;\n",
       "    }\n",
       "</style>\n",
       "<table border=\"1\" class=\"dataframe\">\n",
       "  <thead>\n",
       "    <tr style=\"text-align: right;\">\n",
       "      <th></th>\n",
       "      <th>partnered_true</th>\n",
       "    </tr>\n",
       "  </thead>\n",
       "  <tbody>\n",
       "    <tr>\n",
       "      <th>0</th>\n",
       "      <td>1</td>\n",
       "    </tr>\n",
       "    <tr>\n",
       "      <th>1</th>\n",
       "      <td>1</td>\n",
       "    </tr>\n",
       "    <tr>\n",
       "      <th>2</th>\n",
       "      <td>1</td>\n",
       "    </tr>\n",
       "    <tr>\n",
       "      <th>3</th>\n",
       "      <td>1</td>\n",
       "    </tr>\n",
       "    <tr>\n",
       "      <th>4</th>\n",
       "      <td>1</td>\n",
       "    </tr>\n",
       "  </tbody>\n",
       "</table>\n",
       "</div>"
      ],
      "text/plain": [
       "   partnered_true\n",
       "0               1\n",
       "1               1\n",
       "2               1\n",
       "3               1\n",
       "4               1"
      ]
     },
     "execution_count": 21,
     "metadata": {},
     "output_type": "execute_result"
    }
   ],
   "source": [
    "partnered = pd.get_dummies(data['Partnered'], drop_first=True)\n",
    "partnered.rename(columns={True: 'partnered_true'}, inplace=True)\n",
    "partnered.head()"
   ]
  },
  {
   "cell_type": "code",
   "execution_count": 22,
   "id": "05cd523e",
   "metadata": {},
   "outputs": [
    {
     "data": {
      "text/html": [
       "<div>\n",
       "<style scoped>\n",
       "    .dataframe tbody tr th:only-of-type {\n",
       "        vertical-align: middle;\n",
       "    }\n",
       "\n",
       "    .dataframe tbody tr th {\n",
       "        vertical-align: top;\n",
       "    }\n",
       "\n",
       "    .dataframe thead th {\n",
       "        text-align: right;\n",
       "    }\n",
       "</style>\n",
       "<table border=\"1\" class=\"dataframe\">\n",
       "  <thead>\n",
       "    <tr style=\"text-align: right;\">\n",
       "      <th></th>\n",
       "      <th>mature_true</th>\n",
       "    </tr>\n",
       "  </thead>\n",
       "  <tbody>\n",
       "    <tr>\n",
       "      <th>0</th>\n",
       "      <td>0</td>\n",
       "    </tr>\n",
       "    <tr>\n",
       "      <th>1</th>\n",
       "      <td>0</td>\n",
       "    </tr>\n",
       "    <tr>\n",
       "      <th>2</th>\n",
       "      <td>1</td>\n",
       "    </tr>\n",
       "    <tr>\n",
       "      <th>3</th>\n",
       "      <td>0</td>\n",
       "    </tr>\n",
       "    <tr>\n",
       "      <th>4</th>\n",
       "      <td>0</td>\n",
       "    </tr>\n",
       "  </tbody>\n",
       "</table>\n",
       "</div>"
      ],
      "text/plain": [
       "   mature_true\n",
       "0            0\n",
       "1            0\n",
       "2            1\n",
       "3            0\n",
       "4            0"
      ]
     },
     "execution_count": 22,
     "metadata": {},
     "output_type": "execute_result"
    }
   ],
   "source": [
    "mature = pd.get_dummies(data['Mature'], drop_first=True)\n",
    "mature.rename(columns={True: 'mature_true'}, inplace=True)\n",
    "mature.head()"
   ]
  },
  {
   "cell_type": "code",
   "execution_count": 23,
   "id": "f6542897",
   "metadata": {},
   "outputs": [
    {
     "data": {
      "text/html": [
       "<div>\n",
       "<style scoped>\n",
       "    .dataframe tbody tr th:only-of-type {\n",
       "        vertical-align: middle;\n",
       "    }\n",
       "\n",
       "    .dataframe tbody tr th {\n",
       "        vertical-align: top;\n",
       "    }\n",
       "\n",
       "    .dataframe thead th {\n",
       "        text-align: right;\n",
       "    }\n",
       "</style>\n",
       "<table border=\"1\" class=\"dataframe\">\n",
       "  <thead>\n",
       "    <tr style=\"text-align: right;\">\n",
       "      <th></th>\n",
       "      <th>Watch time(Minutes)</th>\n",
       "      <th>Stream time(minutes)</th>\n",
       "      <th>Peak viewers</th>\n",
       "      <th>Average viewers</th>\n",
       "      <th>Followers</th>\n",
       "      <th>Followers gained</th>\n",
       "      <th>Views gained</th>\n",
       "      <th>Partnered</th>\n",
       "      <th>Mature</th>\n",
       "      <th>partnered_true</th>\n",
       "      <th>mature_true</th>\n",
       "    </tr>\n",
       "  </thead>\n",
       "  <tbody>\n",
       "    <tr>\n",
       "      <th>0</th>\n",
       "      <td>6196161750</td>\n",
       "      <td>215250</td>\n",
       "      <td>222720</td>\n",
       "      <td>27716</td>\n",
       "      <td>3246298</td>\n",
       "      <td>1734810</td>\n",
       "      <td>93036735</td>\n",
       "      <td>1</td>\n",
       "      <td>0</td>\n",
       "      <td>1</td>\n",
       "      <td>0</td>\n",
       "    </tr>\n",
       "    <tr>\n",
       "      <th>1</th>\n",
       "      <td>6091677300</td>\n",
       "      <td>211845</td>\n",
       "      <td>310998</td>\n",
       "      <td>25610</td>\n",
       "      <td>5310163</td>\n",
       "      <td>1370184</td>\n",
       "      <td>89705964</td>\n",
       "      <td>1</td>\n",
       "      <td>0</td>\n",
       "      <td>1</td>\n",
       "      <td>0</td>\n",
       "    </tr>\n",
       "    <tr>\n",
       "      <th>2</th>\n",
       "      <td>5644590915</td>\n",
       "      <td>515280</td>\n",
       "      <td>387315</td>\n",
       "      <td>10976</td>\n",
       "      <td>1767635</td>\n",
       "      <td>1023779</td>\n",
       "      <td>102611607</td>\n",
       "      <td>1</td>\n",
       "      <td>1</td>\n",
       "      <td>1</td>\n",
       "      <td>1</td>\n",
       "    </tr>\n",
       "    <tr>\n",
       "      <th>3</th>\n",
       "      <td>3970318140</td>\n",
       "      <td>517740</td>\n",
       "      <td>300575</td>\n",
       "      <td>7714</td>\n",
       "      <td>3944850</td>\n",
       "      <td>703986</td>\n",
       "      <td>106546942</td>\n",
       "      <td>1</td>\n",
       "      <td>0</td>\n",
       "      <td>1</td>\n",
       "      <td>0</td>\n",
       "    </tr>\n",
       "    <tr>\n",
       "      <th>4</th>\n",
       "      <td>3671000070</td>\n",
       "      <td>123660</td>\n",
       "      <td>285644</td>\n",
       "      <td>29602</td>\n",
       "      <td>8938903</td>\n",
       "      <td>2068424</td>\n",
       "      <td>78998587</td>\n",
       "      <td>1</td>\n",
       "      <td>0</td>\n",
       "      <td>1</td>\n",
       "      <td>0</td>\n",
       "    </tr>\n",
       "  </tbody>\n",
       "</table>\n",
       "</div>"
      ],
      "text/plain": [
       "   Watch time(Minutes)  Stream time(minutes)  Peak viewers  Average viewers  \\\n",
       "0           6196161750                215250        222720            27716   \n",
       "1           6091677300                211845        310998            25610   \n",
       "2           5644590915                515280        387315            10976   \n",
       "3           3970318140                517740        300575             7714   \n",
       "4           3671000070                123660        285644            29602   \n",
       "\n",
       "   Followers  Followers gained  Views gained  Partnered  Mature  \\\n",
       "0    3246298           1734810      93036735          1       0   \n",
       "1    5310163           1370184      89705964          1       0   \n",
       "2    1767635           1023779     102611607          1       1   \n",
       "3    3944850            703986     106546942          1       0   \n",
       "4    8938903           2068424      78998587          1       0   \n",
       "\n",
       "   partnered_true  mature_true  \n",
       "0               1            0  \n",
       "1               1            0  \n",
       "2               1            1  \n",
       "3               1            0  \n",
       "4               1            0  "
      ]
     },
     "execution_count": 23,
     "metadata": {},
     "output_type": "execute_result"
    }
   ],
   "source": [
    "data = pd.concat([data, partnered, mature], axis=1)\n",
    "data.head()"
   ]
  },
  {
   "cell_type": "code",
   "execution_count": 24,
   "id": "e0235fa4",
   "metadata": {},
   "outputs": [
    {
     "data": {
      "text/html": [
       "<div>\n",
       "<style scoped>\n",
       "    .dataframe tbody tr th:only-of-type {\n",
       "        vertical-align: middle;\n",
       "    }\n",
       "\n",
       "    .dataframe tbody tr th {\n",
       "        vertical-align: top;\n",
       "    }\n",
       "\n",
       "    .dataframe thead th {\n",
       "        text-align: right;\n",
       "    }\n",
       "</style>\n",
       "<table border=\"1\" class=\"dataframe\">\n",
       "  <thead>\n",
       "    <tr style=\"text-align: right;\">\n",
       "      <th></th>\n",
       "      <th>Watch time(Minutes)</th>\n",
       "      <th>Stream time(minutes)</th>\n",
       "      <th>Peak viewers</th>\n",
       "      <th>Average viewers</th>\n",
       "      <th>Followers</th>\n",
       "      <th>Followers gained</th>\n",
       "      <th>Views gained</th>\n",
       "      <th>partnered_true</th>\n",
       "      <th>mature_true</th>\n",
       "    </tr>\n",
       "  </thead>\n",
       "  <tbody>\n",
       "    <tr>\n",
       "      <th>0</th>\n",
       "      <td>6196161750</td>\n",
       "      <td>215250</td>\n",
       "      <td>222720</td>\n",
       "      <td>27716</td>\n",
       "      <td>3246298</td>\n",
       "      <td>1734810</td>\n",
       "      <td>93036735</td>\n",
       "      <td>1</td>\n",
       "      <td>0</td>\n",
       "    </tr>\n",
       "    <tr>\n",
       "      <th>1</th>\n",
       "      <td>6091677300</td>\n",
       "      <td>211845</td>\n",
       "      <td>310998</td>\n",
       "      <td>25610</td>\n",
       "      <td>5310163</td>\n",
       "      <td>1370184</td>\n",
       "      <td>89705964</td>\n",
       "      <td>1</td>\n",
       "      <td>0</td>\n",
       "    </tr>\n",
       "    <tr>\n",
       "      <th>2</th>\n",
       "      <td>5644590915</td>\n",
       "      <td>515280</td>\n",
       "      <td>387315</td>\n",
       "      <td>10976</td>\n",
       "      <td>1767635</td>\n",
       "      <td>1023779</td>\n",
       "      <td>102611607</td>\n",
       "      <td>1</td>\n",
       "      <td>1</td>\n",
       "    </tr>\n",
       "    <tr>\n",
       "      <th>3</th>\n",
       "      <td>3970318140</td>\n",
       "      <td>517740</td>\n",
       "      <td>300575</td>\n",
       "      <td>7714</td>\n",
       "      <td>3944850</td>\n",
       "      <td>703986</td>\n",
       "      <td>106546942</td>\n",
       "      <td>1</td>\n",
       "      <td>0</td>\n",
       "    </tr>\n",
       "    <tr>\n",
       "      <th>4</th>\n",
       "      <td>3671000070</td>\n",
       "      <td>123660</td>\n",
       "      <td>285644</td>\n",
       "      <td>29602</td>\n",
       "      <td>8938903</td>\n",
       "      <td>2068424</td>\n",
       "      <td>78998587</td>\n",
       "      <td>1</td>\n",
       "      <td>0</td>\n",
       "    </tr>\n",
       "  </tbody>\n",
       "</table>\n",
       "</div>"
      ],
      "text/plain": [
       "   Watch time(Minutes)  Stream time(minutes)  Peak viewers  Average viewers  \\\n",
       "0           6196161750                215250        222720            27716   \n",
       "1           6091677300                211845        310998            25610   \n",
       "2           5644590915                515280        387315            10976   \n",
       "3           3970318140                517740        300575             7714   \n",
       "4           3671000070                123660        285644            29602   \n",
       "\n",
       "   Followers  Followers gained  Views gained  partnered_true  mature_true  \n",
       "0    3246298           1734810      93036735               1            0  \n",
       "1    5310163           1370184      89705964               1            0  \n",
       "2    1767635           1023779     102611607               1            1  \n",
       "3    3944850            703986     106546942               1            0  \n",
       "4    8938903           2068424      78998587               1            0  "
      ]
     },
     "execution_count": 24,
     "metadata": {},
     "output_type": "execute_result"
    }
   ],
   "source": [
    "data.drop(['Partnered', 'Mature'], axis=1, inplace=True)\n",
    "data.head()"
   ]
  },
  {
   "cell_type": "code",
   "execution_count": 25,
   "id": "f3539c91",
   "metadata": {},
   "outputs": [
    {
     "data": {
      "image/png": "[encoded data removed]",
      "text/plain": [
       "<Figure size 720x576 with 1 Axes>"
      ]
     },
     "metadata": {
      "needs_background": "light"
     },
     "output_type": "display_data"
    }
   ],
   "source": [
    "logistic_reg(fg, 'partnered_true')"
   ]
  },
  {
   "cell_type": "code",
   "execution_count": 26,
   "id": "fbb7e2e9",
   "metadata": {},
   "outputs": [
    {
     "data": {
      "image/png": "[encoded data removed]",
      "text/plain": [
       "<Figure size 720x576 with 1 Axes>"
      ]
     },
     "metadata": {
      "needs_background": "light"
     },
     "output_type": "display_data"
    }
   ],
   "source": [
    "logistic_reg(fg, 'mature_true')"
   ]
  },
  {
   "cell_type": "code",
   "execution_count": 27,
   "id": "95b70714",
   "metadata": {},
   "outputs": [],
   "source": [
    "data.drop(['partnered_true', 'mature_true'], axis=1, inplace=True)"
   ]
  },
  {
   "cell_type": "code",
   "execution_count": 28,
   "id": "dd74f844",
   "metadata": {},
   "outputs": [
    {
     "data": {
      "text/html": [
       "<div>\n",
       "<style scoped>\n",
       "    .dataframe tbody tr th:only-of-type {\n",
       "        vertical-align: middle;\n",
       "    }\n",
       "\n",
       "    .dataframe tbody tr th {\n",
       "        vertical-align: top;\n",
       "    }\n",
       "\n",
       "    .dataframe thead th {\n",
       "        text-align: right;\n",
       "    }\n",
       "</style>\n",
       "<table border=\"1\" class=\"dataframe\">\n",
       "  <thead>\n",
       "    <tr style=\"text-align: right;\">\n",
       "      <th></th>\n",
       "      <th>Watch time(Minutes)</th>\n",
       "      <th>Stream time(minutes)</th>\n",
       "      <th>Peak viewers</th>\n",
       "      <th>Average viewers</th>\n",
       "      <th>Followers</th>\n",
       "      <th>Followers gained</th>\n",
       "      <th>Views gained</th>\n",
       "    </tr>\n",
       "  </thead>\n",
       "  <tbody>\n",
       "    <tr>\n",
       "      <th>0</th>\n",
       "      <td>6196161750</td>\n",
       "      <td>215250</td>\n",
       "      <td>222720</td>\n",
       "      <td>27716</td>\n",
       "      <td>3246298</td>\n",
       "      <td>1734810</td>\n",
       "      <td>93036735</td>\n",
       "    </tr>\n",
       "    <tr>\n",
       "      <th>1</th>\n",
       "      <td>6091677300</td>\n",
       "      <td>211845</td>\n",
       "      <td>310998</td>\n",
       "      <td>25610</td>\n",
       "      <td>5310163</td>\n",
       "      <td>1370184</td>\n",
       "      <td>89705964</td>\n",
       "    </tr>\n",
       "    <tr>\n",
       "      <th>2</th>\n",
       "      <td>5644590915</td>\n",
       "      <td>515280</td>\n",
       "      <td>387315</td>\n",
       "      <td>10976</td>\n",
       "      <td>1767635</td>\n",
       "      <td>1023779</td>\n",
       "      <td>102611607</td>\n",
       "    </tr>\n",
       "    <tr>\n",
       "      <th>3</th>\n",
       "      <td>3970318140</td>\n",
       "      <td>517740</td>\n",
       "      <td>300575</td>\n",
       "      <td>7714</td>\n",
       "      <td>3944850</td>\n",
       "      <td>703986</td>\n",
       "      <td>106546942</td>\n",
       "    </tr>\n",
       "    <tr>\n",
       "      <th>4</th>\n",
       "      <td>3671000070</td>\n",
       "      <td>123660</td>\n",
       "      <td>285644</td>\n",
       "      <td>29602</td>\n",
       "      <td>8938903</td>\n",
       "      <td>2068424</td>\n",
       "      <td>78998587</td>\n",
       "    </tr>\n",
       "  </tbody>\n",
       "</table>\n",
       "</div>"
      ],
      "text/plain": [
       "   Watch time(Minutes)  Stream time(minutes)  Peak viewers  Average viewers  \\\n",
       "0           6196161750                215250        222720            27716   \n",
       "1           6091677300                211845        310998            25610   \n",
       "2           5644590915                515280        387315            10976   \n",
       "3           3970318140                517740        300575             7714   \n",
       "4           3671000070                123660        285644            29602   \n",
       "\n",
       "   Followers  Followers gained  Views gained  \n",
       "0    3246298           1734810      93036735  \n",
       "1    5310163           1370184      89705964  \n",
       "2    1767635           1023779     102611607  \n",
       "3    3944850            703986     106546942  \n",
       "4    8938903           2068424      78998587  "
      ]
     },
     "execution_count": 28,
     "metadata": {},
     "output_type": "execute_result"
    }
   ],
   "source": [
    "data.head()"
   ]
  },
  {
   "cell_type": "code",
   "execution_count": 29,
   "id": "a7d0dd39",
   "metadata": {},
   "outputs": [
    {
     "name": "stdout",
     "output_type": "stream",
     "text": [
      "Watch time(Minutes): ['y = 813.25271x + 301887023.06061', 813.25271, 301887023.06061]\n",
      "Stream time(minutes): ['y = -0.03954x + 133618.97481', -0.03954, 133618.97481]\n",
      "Peak viewers: ['y = 0.08213x + 23423.76162', 0.08213, 23423.76162]\n",
      "Average viewers: ['y = 0.01029x + 3037.70073', 0.01029, 3037.70073]\n",
      "Followers: ['y = 1.68166x + 258256.47468', 1.68166, 258256.47468]\n",
      "Views gained: ['y = 17.44591x + 9343542.72224', 17.44591, 9343542.72224]\n"
     ]
    }
   ],
   "source": [
    "for key in equations:\n",
    "    print(f\"{key}: {equations[key]}\")"
   ]
  },
  {
   "cell_type": "markdown",
   "id": "a2782247",
   "metadata": {},
   "source": [
    "### Dataset Augmentation"
   ]
  },
  {
   "cell_type": "code",
   "execution_count": 30,
   "id": "fefffe3c",
   "metadata": {},
   "outputs": [],
   "source": [
    "sorted_fg = data['Followers gained'].sort_values(ascending=True)"
   ]
  },
  {
   "cell_type": "code",
   "execution_count": 31,
   "id": "87e601ec",
   "metadata": {},
   "outputs": [],
   "source": [
    "Q75, Q50, Q25 = np.percentile(sorted_fg, [75, 50, 25])\n",
    "IQR = Q75-Q25\n",
    "lower_bound = Q25-(1.5*IQR)\n",
    "higher_bound = Q75+(1.5*IQR)"
   ]
  },
  {
   "cell_type": "code",
   "execution_count": 32,
   "id": "4b2cafa7",
   "metadata": {},
   "outputs": [],
   "source": [
    "raf = np.random.randint(lower_bound, higher_bound, size=10**4)"
   ]
  },
  {
   "cell_type": "code",
   "execution_count": 33,
   "id": "f255f9b9",
   "metadata": {},
   "outputs": [
    {
     "data": {
      "text/plain": [
       "array([ 293816,  465743,   23940, ...,  213439, -209115, -125781])"
      ]
     },
     "execution_count": 33,
     "metadata": {},
     "output_type": "execute_result"
    }
   ],
   "source": [
    "raf"
   ]
  },
  {
   "cell_type": "code",
   "execution_count": 34,
   "id": "1daa1fe2",
   "metadata": {},
   "outputs": [],
   "source": [
    "aug_data = pd.DataFrame()\n",
    "cols = []\n",
    "\n",
    "for key in equations:\n",
    "    slope = equations[key][1]\n",
    "    intercept = equations[key][2]\n",
    "    \n",
    "    cols.append(key)\n",
    "    values = [(int((slope * fg) + intercept)) for fg in raf]\n",
    "    \n",
    "    aug_data[key] = values"
   ]
  },
  {
   "cell_type": "code",
   "execution_count": 35,
   "id": "11c50a0b",
   "metadata": {},
   "outputs": [
    {
     "data": {
      "text/html": [
       "<div>\n",
       "<style scoped>\n",
       "    .dataframe tbody tr th:only-of-type {\n",
       "        vertical-align: middle;\n",
       "    }\n",
       "\n",
       "    .dataframe tbody tr th {\n",
       "        vertical-align: top;\n",
       "    }\n",
       "\n",
       "    .dataframe thead th {\n",
       "        text-align: right;\n",
       "    }\n",
       "</style>\n",
       "<table border=\"1\" class=\"dataframe\">\n",
       "  <thead>\n",
       "    <tr style=\"text-align: right;\">\n",
       "      <th></th>\n",
       "      <th>Watch time(Minutes)</th>\n",
       "      <th>Stream time(minutes)</th>\n",
       "      <th>Peak viewers</th>\n",
       "      <th>Average viewers</th>\n",
       "      <th>Followers</th>\n",
       "      <th>Views gained</th>\n",
       "    </tr>\n",
       "  </thead>\n",
       "  <tbody>\n",
       "    <tr>\n",
       "      <th>0</th>\n",
       "      <td>540833681</td>\n",
       "      <td>122001</td>\n",
       "      <td>47554</td>\n",
       "      <td>6061</td>\n",
       "      <td>752355</td>\n",
       "      <td>14469430</td>\n",
       "    </tr>\n",
       "    <tr>\n",
       "      <th>1</th>\n",
       "      <td>680653779</td>\n",
       "      <td>115203</td>\n",
       "      <td>61675</td>\n",
       "      <td>7830</td>\n",
       "      <td>1041477</td>\n",
       "      <td>17468853</td>\n",
       "    </tr>\n",
       "    <tr>\n",
       "      <th>2</th>\n",
       "      <td>321356292</td>\n",
       "      <td>132672</td>\n",
       "      <td>25389</td>\n",
       "      <td>3284</td>\n",
       "      <td>298515</td>\n",
       "      <td>9761197</td>\n",
       "    </tr>\n",
       "    <tr>\n",
       "      <th>3</th>\n",
       "      <td>179773875</td>\n",
       "      <td>139556</td>\n",
       "      <td>11091</td>\n",
       "      <td>1492</td>\n",
       "      <td>5748</td>\n",
       "      <td>6723969</td>\n",
       "    </tr>\n",
       "    <tr>\n",
       "      <th>4</th>\n",
       "      <td>593813842</td>\n",
       "      <td>119425</td>\n",
       "      <td>52905</td>\n",
       "      <td>6731</td>\n",
       "      <td>861908</td>\n",
       "      <td>15605961</td>\n",
       "    </tr>\n",
       "  </tbody>\n",
       "</table>\n",
       "</div>"
      ],
      "text/plain": [
       "   Watch time(Minutes)  Stream time(minutes)  Peak viewers  Average viewers  \\\n",
       "0            540833681                122001         47554             6061   \n",
       "1            680653779                115203         61675             7830   \n",
       "2            321356292                132672         25389             3284   \n",
       "3            179773875                139556         11091             1492   \n",
       "4            593813842                119425         52905             6731   \n",
       "\n",
       "   Followers  Views gained  \n",
       "0     752355      14469430  \n",
       "1    1041477      17468853  \n",
       "2     298515       9761197  \n",
       "3       5748       6723969  \n",
       "4     861908      15605961  "
      ]
     },
     "execution_count": 35,
     "metadata": {},
     "output_type": "execute_result"
    }
   ],
   "source": [
    "aug_data.head()"
   ]
  },
  {
   "cell_type": "code",
   "execution_count": 36,
   "id": "2a7bd7de",
   "metadata": {},
   "outputs": [
    {
     "name": "stdout",
     "output_type": "stream",
     "text": [
      "<class 'pandas.core.frame.DataFrame'>\n",
      "RangeIndex: 10000 entries, 0 to 9999\n",
      "Data columns (total 6 columns):\n",
      " #   Column                Non-Null Count  Dtype\n",
      "---  ------                --------------  -----\n",
      " 0   Watch time(Minutes)   10000 non-null  int64\n",
      " 1   Stream time(minutes)  10000 non-null  int64\n",
      " 2   Peak viewers          10000 non-null  int64\n",
      " 3   Average viewers       10000 non-null  int64\n",
      " 4   Followers             10000 non-null  int64\n",
      " 5   Views gained          10000 non-null  int64\n",
      "dtypes: int64(6)\n",
      "memory usage: 468.9 KB\n"
     ]
    }
   ],
   "source": [
    "aug_data.info()"
   ]
  },
  {
   "cell_type": "code",
   "execution_count": 37,
   "id": "f4916572",
   "metadata": {},
   "outputs": [
    {
     "data": {
      "text/plain": [
       "['Watch time(Minutes)',\n",
       " 'Stream time(minutes)',\n",
       " 'Peak viewers',\n",
       " 'Average viewers',\n",
       " 'Followers',\n",
       " 'Views gained']"
      ]
     },
     "execution_count": 37,
     "metadata": {},
     "output_type": "execute_result"
    }
   ],
   "source": [
    "cols"
   ]
  },
  {
   "cell_type": "code",
   "execution_count": 38,
   "id": "18d53fb5",
   "metadata": {},
   "outputs": [],
   "source": [
    "cols.append('Followers gained')"
   ]
  },
  {
   "cell_type": "code",
   "execution_count": 39,
   "id": "1ce29e91",
   "metadata": {},
   "outputs": [
    {
     "data": {
      "text/plain": [
       "['Watch time(Minutes)',\n",
       " 'Stream time(minutes)',\n",
       " 'Peak viewers',\n",
       " 'Average viewers',\n",
       " 'Followers',\n",
       " 'Views gained',\n",
       " 'Followers gained']"
      ]
     },
     "execution_count": 39,
     "metadata": {},
     "output_type": "execute_result"
    }
   ],
   "source": [
    "cols"
   ]
  },
  {
   "cell_type": "code",
   "execution_count": 40,
   "id": "81e12ec3",
   "metadata": {},
   "outputs": [],
   "source": [
    "aug_data['Followers gained'] = raf"
   ]
  },
  {
   "cell_type": "code",
   "execution_count": 41,
   "id": "82180a79",
   "metadata": {},
   "outputs": [
    {
     "data": {
      "text/html": [
       "<div>\n",
       "<style scoped>\n",
       "    .dataframe tbody tr th:only-of-type {\n",
       "        vertical-align: middle;\n",
       "    }\n",
       "\n",
       "    .dataframe tbody tr th {\n",
       "        vertical-align: top;\n",
       "    }\n",
       "\n",
       "    .dataframe thead th {\n",
       "        text-align: right;\n",
       "    }\n",
       "</style>\n",
       "<table border=\"1\" class=\"dataframe\">\n",
       "  <thead>\n",
       "    <tr style=\"text-align: right;\">\n",
       "      <th></th>\n",
       "      <th>Watch time(Minutes)</th>\n",
       "      <th>Stream time(minutes)</th>\n",
       "      <th>Peak viewers</th>\n",
       "      <th>Average viewers</th>\n",
       "      <th>Followers</th>\n",
       "      <th>Views gained</th>\n",
       "      <th>Followers gained</th>\n",
       "    </tr>\n",
       "  </thead>\n",
       "  <tbody>\n",
       "    <tr>\n",
       "      <th>0</th>\n",
       "      <td>540833681</td>\n",
       "      <td>122001</td>\n",
       "      <td>47554</td>\n",
       "      <td>6061</td>\n",
       "      <td>752355</td>\n",
       "      <td>14469430</td>\n",
       "      <td>293816</td>\n",
       "    </tr>\n",
       "    <tr>\n",
       "      <th>1</th>\n",
       "      <td>680653779</td>\n",
       "      <td>115203</td>\n",
       "      <td>61675</td>\n",
       "      <td>7830</td>\n",
       "      <td>1041477</td>\n",
       "      <td>17468853</td>\n",
       "      <td>465743</td>\n",
       "    </tr>\n",
       "    <tr>\n",
       "      <th>2</th>\n",
       "      <td>321356292</td>\n",
       "      <td>132672</td>\n",
       "      <td>25389</td>\n",
       "      <td>3284</td>\n",
       "      <td>298515</td>\n",
       "      <td>9761197</td>\n",
       "      <td>23940</td>\n",
       "    </tr>\n",
       "    <tr>\n",
       "      <th>3</th>\n",
       "      <td>179773875</td>\n",
       "      <td>139556</td>\n",
       "      <td>11091</td>\n",
       "      <td>1492</td>\n",
       "      <td>5748</td>\n",
       "      <td>6723969</td>\n",
       "      <td>-150154</td>\n",
       "    </tr>\n",
       "    <tr>\n",
       "      <th>4</th>\n",
       "      <td>593813842</td>\n",
       "      <td>119425</td>\n",
       "      <td>52905</td>\n",
       "      <td>6731</td>\n",
       "      <td>861908</td>\n",
       "      <td>15605961</td>\n",
       "      <td>358962</td>\n",
       "    </tr>\n",
       "  </tbody>\n",
       "</table>\n",
       "</div>"
      ],
      "text/plain": [
       "   Watch time(Minutes)  Stream time(minutes)  Peak viewers  Average viewers  \\\n",
       "0            540833681                122001         47554             6061   \n",
       "1            680653779                115203         61675             7830   \n",
       "2            321356292                132672         25389             3284   \n",
       "3            179773875                139556         11091             1492   \n",
       "4            593813842                119425         52905             6731   \n",
       "\n",
       "   Followers  Views gained  Followers gained  \n",
       "0     752355      14469430            293816  \n",
       "1    1041477      17468853            465743  \n",
       "2     298515       9761197             23940  \n",
       "3       5748       6723969           -150154  \n",
       "4     861908      15605961            358962  "
      ]
     },
     "execution_count": 41,
     "metadata": {},
     "output_type": "execute_result"
    }
   ],
   "source": [
    "aug_data.head()"
   ]
  },
  {
   "cell_type": "code",
   "execution_count": 42,
   "id": "f98b191e",
   "metadata": {},
   "outputs": [],
   "source": [
    "data = data.reindex(columns=cols)"
   ]
  },
  {
   "cell_type": "code",
   "execution_count": 43,
   "id": "c6054e60",
   "metadata": {},
   "outputs": [
    {
     "data": {
      "text/html": [
       "<div>\n",
       "<style scoped>\n",
       "    .dataframe tbody tr th:only-of-type {\n",
       "        vertical-align: middle;\n",
       "    }\n",
       "\n",
       "    .dataframe tbody tr th {\n",
       "        vertical-align: top;\n",
       "    }\n",
       "\n",
       "    .dataframe thead th {\n",
       "        text-align: right;\n",
       "    }\n",
       "</style>\n",
       "<table border=\"1\" class=\"dataframe\">\n",
       "  <thead>\n",
       "    <tr style=\"text-align: right;\">\n",
       "      <th></th>\n",
       "      <th>Watch time(Minutes)</th>\n",
       "      <th>Stream time(minutes)</th>\n",
       "      <th>Peak viewers</th>\n",
       "      <th>Average viewers</th>\n",
       "      <th>Followers</th>\n",
       "      <th>Views gained</th>\n",
       "      <th>Followers gained</th>\n",
       "    </tr>\n",
       "  </thead>\n",
       "  <tbody>\n",
       "    <tr>\n",
       "      <th>0</th>\n",
       "      <td>6196161750</td>\n",
       "      <td>215250</td>\n",
       "      <td>222720</td>\n",
       "      <td>27716</td>\n",
       "      <td>3246298</td>\n",
       "      <td>93036735</td>\n",
       "      <td>1734810</td>\n",
       "    </tr>\n",
       "    <tr>\n",
       "      <th>1</th>\n",
       "      <td>6091677300</td>\n",
       "      <td>211845</td>\n",
       "      <td>310998</td>\n",
       "      <td>25610</td>\n",
       "      <td>5310163</td>\n",
       "      <td>89705964</td>\n",
       "      <td>1370184</td>\n",
       "    </tr>\n",
       "    <tr>\n",
       "      <th>2</th>\n",
       "      <td>5644590915</td>\n",
       "      <td>515280</td>\n",
       "      <td>387315</td>\n",
       "      <td>10976</td>\n",
       "      <td>1767635</td>\n",
       "      <td>102611607</td>\n",
       "      <td>1023779</td>\n",
       "    </tr>\n",
       "    <tr>\n",
       "      <th>3</th>\n",
       "      <td>3970318140</td>\n",
       "      <td>517740</td>\n",
       "      <td>300575</td>\n",
       "      <td>7714</td>\n",
       "      <td>3944850</td>\n",
       "      <td>106546942</td>\n",
       "      <td>703986</td>\n",
       "    </tr>\n",
       "    <tr>\n",
       "      <th>4</th>\n",
       "      <td>3671000070</td>\n",
       "      <td>123660</td>\n",
       "      <td>285644</td>\n",
       "      <td>29602</td>\n",
       "      <td>8938903</td>\n",
       "      <td>78998587</td>\n",
       "      <td>2068424</td>\n",
       "    </tr>\n",
       "  </tbody>\n",
       "</table>\n",
       "</div>"
      ],
      "text/plain": [
       "   Watch time(Minutes)  Stream time(minutes)  Peak viewers  Average viewers  \\\n",
       "0           6196161750                215250        222720            27716   \n",
       "1           6091677300                211845        310998            25610   \n",
       "2           5644590915                515280        387315            10976   \n",
       "3           3970318140                517740        300575             7714   \n",
       "4           3671000070                123660        285644            29602   \n",
       "\n",
       "   Followers  Views gained  Followers gained  \n",
       "0    3246298      93036735           1734810  \n",
       "1    5310163      89705964           1370184  \n",
       "2    1767635     102611607           1023779  \n",
       "3    3944850     106546942            703986  \n",
       "4    8938903      78998587           2068424  "
      ]
     },
     "execution_count": 43,
     "metadata": {},
     "output_type": "execute_result"
    }
   ],
   "source": [
    "data.head()"
   ]
  },
  {
   "cell_type": "code",
   "execution_count": 44,
   "id": "7d4fde73",
   "metadata": {},
   "outputs": [],
   "source": [
    "data = pd.concat([data,aug_data], axis=0).reset_index()"
   ]
  },
  {
   "cell_type": "code",
   "execution_count": 45,
   "id": "df3d7e59",
   "metadata": {},
   "outputs": [],
   "source": [
    "data.drop('index', axis=1, inplace=True)"
   ]
  },
  {
   "cell_type": "code",
   "execution_count": 46,
   "id": "2aca431c",
   "metadata": {},
   "outputs": [
    {
     "data": {
      "text/html": [
       "<div>\n",
       "<style scoped>\n",
       "    .dataframe tbody tr th:only-of-type {\n",
       "        vertical-align: middle;\n",
       "    }\n",
       "\n",
       "    .dataframe tbody tr th {\n",
       "        vertical-align: top;\n",
       "    }\n",
       "\n",
       "    .dataframe thead th {\n",
       "        text-align: right;\n",
       "    }\n",
       "</style>\n",
       "<table border=\"1\" class=\"dataframe\">\n",
       "  <thead>\n",
       "    <tr style=\"text-align: right;\">\n",
       "      <th></th>\n",
       "      <th>Watch time(Minutes)</th>\n",
       "      <th>Stream time(minutes)</th>\n",
       "      <th>Peak viewers</th>\n",
       "      <th>Average viewers</th>\n",
       "      <th>Followers</th>\n",
       "      <th>Views gained</th>\n",
       "      <th>Followers gained</th>\n",
       "    </tr>\n",
       "  </thead>\n",
       "  <tbody>\n",
       "    <tr>\n",
       "      <th>0</th>\n",
       "      <td>6196161750</td>\n",
       "      <td>215250</td>\n",
       "      <td>222720</td>\n",
       "      <td>27716</td>\n",
       "      <td>3246298</td>\n",
       "      <td>93036735</td>\n",
       "      <td>1734810</td>\n",
       "    </tr>\n",
       "    <tr>\n",
       "      <th>1</th>\n",
       "      <td>6091677300</td>\n",
       "      <td>211845</td>\n",
       "      <td>310998</td>\n",
       "      <td>25610</td>\n",
       "      <td>5310163</td>\n",
       "      <td>89705964</td>\n",
       "      <td>1370184</td>\n",
       "    </tr>\n",
       "    <tr>\n",
       "      <th>2</th>\n",
       "      <td>5644590915</td>\n",
       "      <td>515280</td>\n",
       "      <td>387315</td>\n",
       "      <td>10976</td>\n",
       "      <td>1767635</td>\n",
       "      <td>102611607</td>\n",
       "      <td>1023779</td>\n",
       "    </tr>\n",
       "    <tr>\n",
       "      <th>3</th>\n",
       "      <td>3970318140</td>\n",
       "      <td>517740</td>\n",
       "      <td>300575</td>\n",
       "      <td>7714</td>\n",
       "      <td>3944850</td>\n",
       "      <td>106546942</td>\n",
       "      <td>703986</td>\n",
       "    </tr>\n",
       "    <tr>\n",
       "      <th>4</th>\n",
       "      <td>3671000070</td>\n",
       "      <td>123660</td>\n",
       "      <td>285644</td>\n",
       "      <td>29602</td>\n",
       "      <td>8938903</td>\n",
       "      <td>78998587</td>\n",
       "      <td>2068424</td>\n",
       "    </tr>\n",
       "  </tbody>\n",
       "</table>\n",
       "</div>"
      ],
      "text/plain": [
       "   Watch time(Minutes)  Stream time(minutes)  Peak viewers  Average viewers  \\\n",
       "0           6196161750                215250        222720            27716   \n",
       "1           6091677300                211845        310998            25610   \n",
       "2           5644590915                515280        387315            10976   \n",
       "3           3970318140                517740        300575             7714   \n",
       "4           3671000070                123660        285644            29602   \n",
       "\n",
       "   Followers  Views gained  Followers gained  \n",
       "0    3246298      93036735           1734810  \n",
       "1    5310163      89705964           1370184  \n",
       "2    1767635     102611607           1023779  \n",
       "3    3944850     106546942            703986  \n",
       "4    8938903      78998587           2068424  "
      ]
     },
     "execution_count": 46,
     "metadata": {},
     "output_type": "execute_result"
    }
   ],
   "source": [
    "data.head()"
   ]
  },
  {
   "cell_type": "code",
   "execution_count": 47,
   "id": "56a3c5aa",
   "metadata": {},
   "outputs": [
    {
     "name": "stdout",
     "output_type": "stream",
     "text": [
      "<class 'pandas.core.frame.DataFrame'>\n",
      "RangeIndex: 10800 entries, 0 to 10799\n",
      "Data columns (total 7 columns):\n",
      " #   Column                Non-Null Count  Dtype\n",
      "---  ------                --------------  -----\n",
      " 0   Watch time(Minutes)   10800 non-null  int64\n",
      " 1   Stream time(minutes)  10800 non-null  int64\n",
      " 2   Peak viewers          10800 non-null  int64\n",
      " 3   Average viewers       10800 non-null  int64\n",
      " 4   Followers             10800 non-null  int64\n",
      " 5   Views gained          10800 non-null  int64\n",
      " 6   Followers gained      10800 non-null  int64\n",
      "dtypes: int64(7)\n",
      "memory usage: 590.8 KB\n"
     ]
    }
   ],
   "source": [
    "data.info()"
   ]
  },
  {
   "cell_type": "markdown",
   "id": "f0f40ce1",
   "metadata": {},
   "source": [
    "### Train Test Split"
   ]
  },
  {
   "cell_type": "code",
   "execution_count": 48,
   "id": "c16528ec",
   "metadata": {},
   "outputs": [],
   "source": [
    "X = data.drop('Followers gained', axis=1).values\n",
    "y = data['Followers gained'].values"
   ]
  },
  {
   "cell_type": "code",
   "execution_count": 49,
   "id": "57b8f0bc",
   "metadata": {},
   "outputs": [],
   "source": [
    "from sklearn.model_selection import train_test_split"
   ]
  },
  {
   "cell_type": "code",
   "execution_count": 50,
   "id": "ec1b30cf",
   "metadata": {},
   "outputs": [],
   "source": [
    "X_train, X_val, y_train, y_val = train_test_split(X, y, test_size=0.2, random_state=42)"
   ]
  },
  {
   "cell_type": "markdown",
   "id": "0a2e842e",
   "metadata": {},
   "source": [
    "### Data Preprocessing"
   ]
  },
  {
   "cell_type": "code",
   "execution_count": 51,
   "id": "30a6cb80",
   "metadata": {},
   "outputs": [],
   "source": [
    "from sklearn.preprocessing import StandardScaler"
   ]
  },
  {
   "cell_type": "code",
   "execution_count": 52,
   "id": "ca35adab",
   "metadata": {},
   "outputs": [],
   "source": [
    "scaler = StandardScaler()"
   ]
  },
  {
   "cell_type": "code",
   "execution_count": 53,
   "id": "4f18196b",
   "metadata": {},
   "outputs": [],
   "source": [
    "X_train = scaler.fit_transform(X_train)\n",
    "X_val = scaler.fit_transform(X_val)"
   ]
  },
  {
   "cell_type": "markdown",
   "id": "10d960d4",
   "metadata": {},
   "source": [
    "### Model Generation"
   ]
  },
  {
   "cell_type": "code",
   "execution_count": 54,
   "id": "7e615542",
   "metadata": {},
   "outputs": [],
   "source": [
    "from keras.models import Sequential\n",
    "from keras.layers import Dense, Dropout\n",
    "import keras.backend as K\n",
    "from keras.losses import mean_squared_error as mse"
   ]
  },
  {
   "cell_type": "code",
   "execution_count": 55,
   "id": "9e9e162f",
   "metadata": {},
   "outputs": [],
   "source": [
    "model = Sequential()\n",
    "\n",
    "# INPUT LAYER\n",
    "model.add(Dense(512, activation='relu', kernel_initializer=keras.initializers.RandomUniform()))\n",
    "model.add(Dropout(0.5))\n",
    "\n",
    "# FIRST DENSE LAYER\n",
    "model.add(Dense(512, activation='relu', kernel_initializer=keras.initializers.RandomUniform()))\n",
    "model.add(Dropout(0.5))\n",
    "\n",
    "# SECOND DENSE LAYER\n",
    "model.add(Dense(256, activation='relu', kernel_initializer=keras.initializers.RandomUniform()))\n",
    "model.add(Dropout(0.5))\n",
    "\n",
    "# THIRD DENSE LAYER\n",
    "model.add(Dense(256, activation='relu', kernel_initializer=keras.initializers.RandomUniform()))\n",
    "model.add(Dropout(0.5))\n",
    "\n",
    "# FOURTH DENSE LAYER\n",
    "model.add(Dense(128, activation='relu', kernel_initializer=keras.initializers.RandomUniform()))\n",
    "model.add(Dropout(0.5))\n",
    "\n",
    "# FIFTH DENSE LAYER\n",
    "model.add(Dense(128, activation='relu', kernel_initializer=keras.initializers.RandomUniform()))\n",
    "model.add(Dropout(0.5))\n",
    "\n",
    "# SIXTH DENSE LAYER\n",
    "model.add(Dense(64, activation='relu', kernel_initializer=keras.initializers.RandomUniform()))\n",
    "model.add(Dropout(0.5))\n",
    "\n",
    "# SEVENTH DENSE LAYER\n",
    "model.add(Dense(64, activation='relu', kernel_initializer=keras.initializers.RandomUniform()))\n",
    "model.add(Dropout(0.5))\n",
    "\n",
    "# OUTPUT LAYER\n",
    "model.add(Dense(1))\n",
    "\n",
    "# COMPILE MODEL\n",
    "def rmse(y_true, y_pred):\n",
    "    return K.sqrt(mse(y_true, y_pred))\n",
    "\n",
    "model.compile(optimizer='adam', loss=rmse)"
   ]
  },
  {
   "cell_type": "markdown",
   "id": "a14b74ac",
   "metadata": {},
   "source": [
    "### Cross Validation and Model Training"
   ]
  },
  {
   "cell_type": "code",
   "execution_count": 56,
   "id": "f92c98cb",
   "metadata": {},
   "outputs": [
    {
     "name": "stdout",
     "output_type": "stream",
     "text": [
      "Epoch 1/70\n",
      "270/270 [==============================] - 3s 7ms/step - loss: 118764.4453 - val_loss: 42055.8359\n",
      "Epoch 2/70\n",
      "270/270 [==============================] - 2s 6ms/step - loss: 75729.3750 - val_loss: 50188.4219\n",
      "Epoch 3/70\n",
      "270/270 [==============================] - 2s 6ms/step - loss: 71818.0781 - val_loss: 66036.1641\n",
      "Epoch 4/70\n",
      "270/270 [==============================] - 2s 6ms/step - loss: 70092.7969 - val_loss: 42399.8672\n",
      "Epoch 5/70\n",
      "270/270 [==============================] - 2s 6ms/step - loss: 69146.6484 - val_loss: 44998.3320\n",
      "Epoch 6/70\n",
      "270/270 [==============================] - 2s 6ms/step - loss: 68997.7812 - val_loss: 47918.7812\n",
      "Epoch 7/70\n",
      "270/270 [==============================] - 2s 6ms/step - loss: 66905.2500 - val_loss: 38479.3125\n",
      "Epoch 8/70\n",
      "270/270 [==============================] - 2s 6ms/step - loss: 67967.5469 - val_loss: 37600.3125\n",
      "Epoch 9/70\n",
      "270/270 [==============================] - 2s 6ms/step - loss: 67395.2656 - val_loss: 37872.9375\n",
      "Epoch 10/70\n",
      "270/270 [==============================] - 2s 6ms/step - loss: 66461.1406 - val_loss: 42700.1523\n",
      "Epoch 11/70\n",
      "270/270 [==============================] - 2s 6ms/step - loss: 66666.1562 - val_loss: 46152.6172\n",
      "Epoch 12/70\n",
      "270/270 [==============================] - 2s 6ms/step - loss: 67319.4766 - val_loss: 52842.6992\n",
      "Epoch 13/70\n",
      "270/270 [==============================] - 2s 6ms/step - loss: 65988.1016 - val_loss: 46635.4375\n",
      "Epoch 14/70\n",
      "270/270 [==============================] - 2s 6ms/step - loss: 65833.9375 - val_loss: 43865.7266\n",
      "Epoch 15/70\n",
      "270/270 [==============================] - 2s 6ms/step - loss: 66543.9219 - val_loss: 60792.8906\n",
      "Epoch 16/70\n",
      "270/270 [==============================] - 2s 6ms/step - loss: 65365.7500 - val_loss: 43337.5195\n",
      "Epoch 17/70\n",
      "270/270 [==============================] - 2s 6ms/step - loss: 66637.1172 - val_loss: 44615.4180\n",
      "Epoch 18/70\n",
      "270/270 [==============================] - 1s 6ms/step - loss: 66136.1562 - val_loss: 65803.2344\n",
      "Epoch 19/70\n",
      "270/270 [==============================] - 2s 6ms/step - loss: 66604.0469 - val_loss: 49208.7695\n",
      "Epoch 20/70\n",
      "270/270 [==============================] - 1s 5ms/step - loss: 65823.9766 - val_loss: 63505.5117\n",
      "Epoch 21/70\n",
      "270/270 [==============================] - 1s 5ms/step - loss: 65457.7617 - val_loss: 57028.6797\n",
      "Epoch 22/70\n",
      "270/270 [==============================] - 1s 5ms/step - loss: 65557.7969 - val_loss: 50364.9844\n",
      "Epoch 23/70\n",
      "270/270 [==============================] - 1s 5ms/step - loss: 64912.7344 - val_loss: 47410.3555\n",
      "Epoch 24/70\n",
      "270/270 [==============================] - 1s 5ms/step - loss: 65606.3984 - val_loss: 40214.0469\n",
      "Epoch 25/70\n",
      "270/270 [==============================] - 1s 6ms/step - loss: 65607.6172 - val_loss: 68395.8906\n",
      "Epoch 26/70\n",
      "270/270 [==============================] - 1s 5ms/step - loss: 65510.5781 - val_loss: 64031.7188\n",
      "Epoch 27/70\n",
      "270/270 [==============================] - 1s 5ms/step - loss: 65275.6133 - val_loss: 55962.4922\n",
      "Epoch 28/70\n",
      "270/270 [==============================] - 2s 6ms/step - loss: 63654.3320 - val_loss: 61318.4961\n",
      "Epoch 29/70\n",
      "270/270 [==============================] - 2s 6ms/step - loss: 64172.2500 - val_loss: 50947.7500\n",
      "Epoch 30/70\n",
      "270/270 [==============================] - 2s 6ms/step - loss: 65245.7773 - val_loss: 55861.9102\n",
      "Epoch 31/70\n",
      "270/270 [==============================] - 2s 6ms/step - loss: 65939.3750 - val_loss: 62351.6953\n",
      "Epoch 32/70\n",
      "270/270 [==============================] - 2s 6ms/step - loss: 64825.5039 - val_loss: 56195.2852\n",
      "Epoch 33/70\n",
      "270/270 [==============================] - 2s 6ms/step - loss: 63987.6211 - val_loss: 41691.8945\n",
      "Epoch 34/70\n",
      "270/270 [==============================] - 2s 6ms/step - loss: 64793.3398 - val_loss: 53829.9531\n",
      "Epoch 35/70\n",
      "270/270 [==============================] - 2s 6ms/step - loss: 63631.9336 - val_loss: 41887.0781\n",
      "Epoch 36/70\n",
      "270/270 [==============================] - 2s 6ms/step - loss: 64611.1172 - val_loss: 50694.8203\n",
      "Epoch 37/70\n",
      "270/270 [==============================] - 2s 6ms/step - loss: 64482.2500 - val_loss: 59208.3750\n",
      "Epoch 38/70\n",
      "270/270 [==============================] - 2s 6ms/step - loss: 64430.1836 - val_loss: 35814.2852\n",
      "Epoch 39/70\n",
      "270/270 [==============================] - 2s 6ms/step - loss: 64912.7852 - val_loss: 46616.6758\n",
      "Epoch 40/70\n",
      "270/270 [==============================] - 2s 6ms/step - loss: 63914.7188 - val_loss: 36223.5508\n",
      "Epoch 41/70\n",
      "270/270 [==============================] - 2s 6ms/step - loss: 64671.9180 - val_loss: 53993.8945\n",
      "Epoch 42/70\n",
      "270/270 [==============================] - 2s 6ms/step - loss: 63939.2891 - val_loss: 49833.4180\n",
      "Epoch 43/70\n",
      "270/270 [==============================] - 2s 6ms/step - loss: 63928.7695 - val_loss: 66934.4453\n",
      "Epoch 44/70\n",
      "270/270 [==============================] - 2s 6ms/step - loss: 64314.4453 - val_loss: 82174.4141\n",
      "Epoch 45/70\n",
      "270/270 [==============================] - 2s 6ms/step - loss: 64567.0586 - val_loss: 52335.1211\n",
      "Epoch 46/70\n",
      "270/270 [==============================] - 2s 6ms/step - loss: 64503.1719 - val_loss: 72042.3594\n",
      "Epoch 47/70\n",
      "270/270 [==============================] - 2s 6ms/step - loss: 64597.0234 - val_loss: 76544.2812\n",
      "Epoch 48/70\n",
      "270/270 [==============================] - 2s 6ms/step - loss: 63007.3867 - val_loss: 62916.3555\n",
      "Epoch 49/70\n",
      "270/270 [==============================] - 2s 6ms/step - loss: 65375.8086 - val_loss: 49640.4492\n",
      "Epoch 50/70\n",
      "270/270 [==============================] - 2s 6ms/step - loss: 64088.6523 - val_loss: 84468.0859\n",
      "Epoch 51/70\n",
      "270/270 [==============================] - 2s 6ms/step - loss: 63561.7109 - val_loss: 78261.4766\n",
      "Epoch 52/70\n",
      "270/270 [==============================] - 2s 6ms/step - loss: 64210.4219 - val_loss: 57946.2773\n",
      "Epoch 53/70\n",
      "270/270 [==============================] - 2s 6ms/step - loss: 64869.6211 - val_loss: 78228.0469\n",
      "Epoch 54/70\n",
      "270/270 [==============================] - 2s 6ms/step - loss: 66209.5469 - val_loss: 56351.0586\n",
      "Epoch 55/70\n",
      "270/270 [==============================] - 2s 6ms/step - loss: 63233.1250 - val_loss: 67000.6641\n",
      "Epoch 56/70\n",
      "270/270 [==============================] - 2s 6ms/step - loss: 63874.2812 - val_loss: 47553.9648\n",
      "Epoch 57/70\n",
      "270/270 [==============================] - 2s 6ms/step - loss: 64339.9844 - val_loss: 71040.6406\n",
      "Epoch 58/70\n",
      "270/270 [==============================] - 2s 6ms/step - loss: 62928.3125 - val_loss: 60580.1719\n",
      "Epoch 59/70\n",
      "270/270 [==============================] - 2s 6ms/step - loss: 62239.8672 - val_loss: 55298.3672\n",
      "Epoch 60/70\n",
      "270/270 [==============================] - 2s 6ms/step - loss: 63583.1172 - val_loss: 59116.7656\n",
      "Epoch 61/70\n",
      "270/270 [==============================] - 2s 6ms/step - loss: 62433.8281 - val_loss: 61644.0547\n",
      "Epoch 62/70\n",
      "270/270 [==============================] - 2s 6ms/step - loss: 62569.9844 - val_loss: 57740.3516\n",
      "Epoch 63/70\n",
      "270/270 [==============================] - 2s 6ms/step - loss: 63051.0312 - val_loss: 72123.3594\n",
      "Epoch 64/70\n",
      "270/270 [==============================] - 2s 6ms/step - loss: 61558.6797 - val_loss: 37642.7500\n",
      "Epoch 65/70\n",
      "270/270 [==============================] - 2s 6ms/step - loss: 64434.1406 - val_loss: 74339.8750\n",
      "Epoch 66/70\n",
      "270/270 [==============================] - 2s 6ms/step - loss: 62178.8164 - val_loss: 67888.4375\n",
      "Epoch 67/70\n",
      "270/270 [==============================] - 2s 6ms/step - loss: 62314.3555 - val_loss: 67945.2266\n",
      "Epoch 68/70\n",
      "270/270 [==============================] - 2s 6ms/step - loss: 63201.2500 - val_loss: 68982.9062\n",
      "Epoch 69/70\n",
      "270/270 [==============================] - 2s 6ms/step - loss: 62873.3320 - val_loss: 65876.3438\n",
      "Epoch 70/70\n",
      "270/270 [==============================] - 2s 6ms/step - loss: 64311.2812 - val_loss: 52288.9961\n"
     ]
    },
    {
     "data": {
      "text/plain": [
       "<keras.callbacks.History at 0x260821064c0>"
      ]
     },
     "execution_count": 56,
     "metadata": {},
     "output_type": "execute_result"
    }
   ],
   "source": [
    "model.fit(X_train, y_train, validation_data=(X_val, y_val), batch_size=32, epochs=70)"
   ]
  },
  {
   "cell_type": "markdown",
   "id": "11319ee5",
   "metadata": {},
   "source": [
    "### Model Prediction & Output CSV"
   ]
  },
  {
   "cell_type": "code",
   "execution_count": 58,
   "id": "10b729c5",
   "metadata": {},
   "outputs": [],
   "source": [
    "test = pd.read_csv('Data_Files/test.csv')"
   ]
  },
  {
   "cell_type": "code",
   "execution_count": 59,
   "id": "721a2d8a",
   "metadata": {},
   "outputs": [
    {
     "data": {
      "text/html": [
       "<div>\n",
       "<style scoped>\n",
       "    .dataframe tbody tr th:only-of-type {\n",
       "        vertical-align: middle;\n",
       "    }\n",
       "\n",
       "    .dataframe tbody tr th {\n",
       "        vertical-align: top;\n",
       "    }\n",
       "\n",
       "    .dataframe thead th {\n",
       "        text-align: right;\n",
       "    }\n",
       "</style>\n",
       "<table border=\"1\" class=\"dataframe\">\n",
       "  <thead>\n",
       "    <tr style=\"text-align: right;\">\n",
       "      <th></th>\n",
       "      <th>Channel</th>\n",
       "      <th>Watch time(Minutes)</th>\n",
       "      <th>Stream time(minutes)</th>\n",
       "      <th>Peak viewers</th>\n",
       "      <th>Average viewers</th>\n",
       "      <th>Followers</th>\n",
       "      <th>Views gained</th>\n",
       "      <th>Partnered</th>\n",
       "      <th>Mature</th>\n",
       "      <th>Language</th>\n",
       "    </tr>\n",
       "  </thead>\n",
       "  <tbody>\n",
       "    <tr>\n",
       "      <th>0</th>\n",
       "      <td>97R8L3J0</td>\n",
       "      <td>154332060</td>\n",
       "      <td>27105</td>\n",
       "      <td>29983</td>\n",
       "      <td>5864</td>\n",
       "      <td>308815</td>\n",
       "      <td>8255635</td>\n",
       "      <td>0</td>\n",
       "      <td>0</td>\n",
       "      <td>Russian</td>\n",
       "    </tr>\n",
       "    <tr>\n",
       "      <th>1</th>\n",
       "      <td>6UV44QFF</td>\n",
       "      <td>154277370</td>\n",
       "      <td>87375</td>\n",
       "      <td>9437</td>\n",
       "      <td>1759</td>\n",
       "      <td>151886</td>\n",
       "      <td>3019137</td>\n",
       "      <td>1</td>\n",
       "      <td>1</td>\n",
       "      <td>French</td>\n",
       "    </tr>\n",
       "    <tr>\n",
       "      <th>2</th>\n",
       "      <td>2WKQZUGR</td>\n",
       "      <td>154125945</td>\n",
       "      <td>77475</td>\n",
       "      <td>9460</td>\n",
       "      <td>2106</td>\n",
       "      <td>411346</td>\n",
       "      <td>4832180</td>\n",
       "      <td>1</td>\n",
       "      <td>0</td>\n",
       "      <td>Turkish</td>\n",
       "    </tr>\n",
       "    <tr>\n",
       "      <th>3</th>\n",
       "      <td>R4DGVX2D</td>\n",
       "      <td>153988380</td>\n",
       "      <td>83325</td>\n",
       "      <td>11200</td>\n",
       "      <td>1787</td>\n",
       "      <td>272635</td>\n",
       "      <td>4345590</td>\n",
       "      <td>1</td>\n",
       "      <td>0</td>\n",
       "      <td>French</td>\n",
       "    </tr>\n",
       "    <tr>\n",
       "      <th>4</th>\n",
       "      <td>P8YSNIOI</td>\n",
       "      <td>153963765</td>\n",
       "      <td>110910</td>\n",
       "      <td>14329</td>\n",
       "      <td>1281</td>\n",
       "      <td>106365</td>\n",
       "      <td>1449834</td>\n",
       "      <td>1</td>\n",
       "      <td>1</td>\n",
       "      <td>English</td>\n",
       "    </tr>\n",
       "  </tbody>\n",
       "</table>\n",
       "</div>"
      ],
      "text/plain": [
       "    Channel  Watch time(Minutes)  Stream time(minutes)  Peak viewers  \\\n",
       "0  97R8L3J0            154332060                 27105         29983   \n",
       "1  6UV44QFF            154277370                 87375          9437   \n",
       "2  2WKQZUGR            154125945                 77475          9460   \n",
       "3  R4DGVX2D            153988380                 83325         11200   \n",
       "4  P8YSNIOI            153963765                110910         14329   \n",
       "\n",
       "   Average viewers  Followers  Views gained  Partnered  Mature Language  \n",
       "0             5864     308815       8255635          0       0  Russian  \n",
       "1             1759     151886       3019137          1       1   French  \n",
       "2             2106     411346       4832180          1       0  Turkish  \n",
       "3             1787     272635       4345590          1       0   French  \n",
       "4             1281     106365       1449834          1       1  English  "
      ]
     },
     "execution_count": 59,
     "metadata": {},
     "output_type": "execute_result"
    }
   ],
   "source": [
    "test.head()"
   ]
  },
  {
   "cell_type": "code",
   "execution_count": 60,
   "id": "ce8c8faf",
   "metadata": {},
   "outputs": [
    {
     "data": {
      "text/html": [
       "<div>\n",
       "<style scoped>\n",
       "    .dataframe tbody tr th:only-of-type {\n",
       "        vertical-align: middle;\n",
       "    }\n",
       "\n",
       "    .dataframe tbody tr th {\n",
       "        vertical-align: top;\n",
       "    }\n",
       "\n",
       "    .dataframe thead th {\n",
       "        text-align: right;\n",
       "    }\n",
       "</style>\n",
       "<table border=\"1\" class=\"dataframe\">\n",
       "  <thead>\n",
       "    <tr style=\"text-align: right;\">\n",
       "      <th></th>\n",
       "      <th>Watch time(Minutes)</th>\n",
       "      <th>Stream time(minutes)</th>\n",
       "      <th>Peak viewers</th>\n",
       "      <th>Average viewers</th>\n",
       "      <th>Followers</th>\n",
       "      <th>Views gained</th>\n",
       "    </tr>\n",
       "  </thead>\n",
       "  <tbody>\n",
       "    <tr>\n",
       "      <th>0</th>\n",
       "      <td>154332060</td>\n",
       "      <td>27105</td>\n",
       "      <td>29983</td>\n",
       "      <td>5864</td>\n",
       "      <td>308815</td>\n",
       "      <td>8255635</td>\n",
       "    </tr>\n",
       "    <tr>\n",
       "      <th>1</th>\n",
       "      <td>154277370</td>\n",
       "      <td>87375</td>\n",
       "      <td>9437</td>\n",
       "      <td>1759</td>\n",
       "      <td>151886</td>\n",
       "      <td>3019137</td>\n",
       "    </tr>\n",
       "    <tr>\n",
       "      <th>2</th>\n",
       "      <td>154125945</td>\n",
       "      <td>77475</td>\n",
       "      <td>9460</td>\n",
       "      <td>2106</td>\n",
       "      <td>411346</td>\n",
       "      <td>4832180</td>\n",
       "    </tr>\n",
       "    <tr>\n",
       "      <th>3</th>\n",
       "      <td>153988380</td>\n",
       "      <td>83325</td>\n",
       "      <td>11200</td>\n",
       "      <td>1787</td>\n",
       "      <td>272635</td>\n",
       "      <td>4345590</td>\n",
       "    </tr>\n",
       "    <tr>\n",
       "      <th>4</th>\n",
       "      <td>153963765</td>\n",
       "      <td>110910</td>\n",
       "      <td>14329</td>\n",
       "      <td>1281</td>\n",
       "      <td>106365</td>\n",
       "      <td>1449834</td>\n",
       "    </tr>\n",
       "  </tbody>\n",
       "</table>\n",
       "</div>"
      ],
      "text/plain": [
       "   Watch time(Minutes)  Stream time(minutes)  Peak viewers  Average viewers  \\\n",
       "0            154332060                 27105         29983             5864   \n",
       "1            154277370                 87375          9437             1759   \n",
       "2            154125945                 77475          9460             2106   \n",
       "3            153988380                 83325         11200             1787   \n",
       "4            153963765                110910         14329             1281   \n",
       "\n",
       "   Followers  Views gained  \n",
       "0     308815       8255635  \n",
       "1     151886       3019137  \n",
       "2     411346       4832180  \n",
       "3     272635       4345590  \n",
       "4     106365       1449834  "
      ]
     },
     "execution_count": 60,
     "metadata": {},
     "output_type": "execute_result"
    }
   ],
   "source": [
    "test.drop(['Channel', 'Partnered', 'Mature', 'Language'], axis=1, inplace=True)\n",
    "test.head()"
   ]
  },
  {
   "cell_type": "code",
   "execution_count": 61,
   "id": "594d9590",
   "metadata": {},
   "outputs": [],
   "source": [
    "test = scaler.fit_transform(test.values)"
   ]
  },
  {
   "cell_type": "code",
   "execution_count": 62,
   "id": "ab8bc436",
   "metadata": {},
   "outputs": [],
   "source": [
    "predictions = model.predict(test).astype(int)"
   ]
  },
  {
   "cell_type": "code",
   "execution_count": 63,
   "id": "57360e27",
   "metadata": {},
   "outputs": [
    {
     "data": {
      "text/plain": [
       "array([266465,  84996, 157522, 124380,  90820, 137582,  75898,  84952,\n",
       "        67669, 190354, 211883, 147718, 193722,  68358, 126746,  63090,\n",
       "       547381,  57545,  55658, 182893, 116734, 633917,  73020,  89312,\n",
       "        61435, 451165, 249755,  70882,  56372,  55219, 229542,  78338,\n",
       "       250410,  57810,  63197,  48916,  56405,  55594,  58499,  97055,\n",
       "        97895, 489947, 232338,  63758, 209184,  47317,  67732,  68774,\n",
       "       239835,  78016, 274875,  43847, 273122, 486637,  68154, 270266,\n",
       "        79910,  69480, 167543, 157589, 209297, 103400,  58595,  93565,\n",
       "       196876,  49892, 363830, 207513,  45961,  91634,  54788, 200251,\n",
       "        43609, 200711, 254837,  46598,  59286,  53579, 116698, 223134,\n",
       "       396205,  56614,  97431, 110112,  47624, 145513,  37323, 239880,\n",
       "        50848,  97788,  49702,  74834, 103338,  97026,  50564,  90670,\n",
       "       166486, 117787, 100776,  86035, 381214, 194466, 227830,  43381,\n",
       "       108948, 114364, 116053,  23779,  37113,  88442, 117257, 123055,\n",
       "        67513,  22308, 135511,  28572,  60765, 142017,  45367, 198212,\n",
       "       118604,  48763, -23775, -32852, 739225, 161092, -23033, 269942,\n",
       "        45333,  31635,  53783,  55058,  99932,  55798, -19453, 108487,\n",
       "        33319,  33941,  77343, -23781,  57406,  13945, 114187,  77457,\n",
       "       -24653,  68143,  58741, -10817,  34935, -44093, 115217, 154003,\n",
       "       -11059, 182869, -59452, 118020, -53228,  33919,  27436,  55975,\n",
       "       -11197,  47103,  18747,  39574,  37216,  22956, 215060, -72277,\n",
       "        84808,  31026, -54740, -95535, -48458,  54609,  28983, -47809,\n",
       "       -26955, 196641,  32606,  44980, -76019, 130326,  39214,  28772,\n",
       "       -99450,  85625, -59923,  30966, 476482, -21057,  29204, -79521,\n",
       "        39443,  29579,  51441, 230851, -26002,   4699,  80435, -21192])"
      ]
     },
     "execution_count": 63,
     "metadata": {},
     "output_type": "execute_result"
    }
   ],
   "source": [
    "predictions = predictions.transpose()[0]\n",
    "predictions"
   ]
  },
  {
   "cell_type": "code",
   "execution_count": 64,
   "id": "aa930ac7",
   "metadata": {},
   "outputs": [],
   "source": [
    "test = pd.read_csv('Data_Files/test.csv')"
   ]
  },
  {
   "cell_type": "code",
   "execution_count": 65,
   "id": "262697df",
   "metadata": {},
   "outputs": [
    {
     "data": {
      "text/html": [
       "<div>\n",
       "<style scoped>\n",
       "    .dataframe tbody tr th:only-of-type {\n",
       "        vertical-align: middle;\n",
       "    }\n",
       "\n",
       "    .dataframe tbody tr th {\n",
       "        vertical-align: top;\n",
       "    }\n",
       "\n",
       "    .dataframe thead th {\n",
       "        text-align: right;\n",
       "    }\n",
       "</style>\n",
       "<table border=\"1\" class=\"dataframe\">\n",
       "  <thead>\n",
       "    <tr style=\"text-align: right;\">\n",
       "      <th></th>\n",
       "      <th>Channel</th>\n",
       "      <th>Watch time(Minutes)</th>\n",
       "      <th>Stream time(minutes)</th>\n",
       "      <th>Peak viewers</th>\n",
       "      <th>Average viewers</th>\n",
       "      <th>Followers</th>\n",
       "      <th>Views gained</th>\n",
       "      <th>Partnered</th>\n",
       "      <th>Mature</th>\n",
       "      <th>Language</th>\n",
       "    </tr>\n",
       "  </thead>\n",
       "  <tbody>\n",
       "    <tr>\n",
       "      <th>0</th>\n",
       "      <td>97R8L3J0</td>\n",
       "      <td>154332060</td>\n",
       "      <td>27105</td>\n",
       "      <td>29983</td>\n",
       "      <td>5864</td>\n",
       "      <td>308815</td>\n",
       "      <td>8255635</td>\n",
       "      <td>0</td>\n",
       "      <td>0</td>\n",
       "      <td>Russian</td>\n",
       "    </tr>\n",
       "    <tr>\n",
       "      <th>1</th>\n",
       "      <td>6UV44QFF</td>\n",
       "      <td>154277370</td>\n",
       "      <td>87375</td>\n",
       "      <td>9437</td>\n",
       "      <td>1759</td>\n",
       "      <td>151886</td>\n",
       "      <td>3019137</td>\n",
       "      <td>1</td>\n",
       "      <td>1</td>\n",
       "      <td>French</td>\n",
       "    </tr>\n",
       "    <tr>\n",
       "      <th>2</th>\n",
       "      <td>2WKQZUGR</td>\n",
       "      <td>154125945</td>\n",
       "      <td>77475</td>\n",
       "      <td>9460</td>\n",
       "      <td>2106</td>\n",
       "      <td>411346</td>\n",
       "      <td>4832180</td>\n",
       "      <td>1</td>\n",
       "      <td>0</td>\n",
       "      <td>Turkish</td>\n",
       "    </tr>\n",
       "    <tr>\n",
       "      <th>3</th>\n",
       "      <td>R4DGVX2D</td>\n",
       "      <td>153988380</td>\n",
       "      <td>83325</td>\n",
       "      <td>11200</td>\n",
       "      <td>1787</td>\n",
       "      <td>272635</td>\n",
       "      <td>4345590</td>\n",
       "      <td>1</td>\n",
       "      <td>0</td>\n",
       "      <td>French</td>\n",
       "    </tr>\n",
       "    <tr>\n",
       "      <th>4</th>\n",
       "      <td>P8YSNIOI</td>\n",
       "      <td>153963765</td>\n",
       "      <td>110910</td>\n",
       "      <td>14329</td>\n",
       "      <td>1281</td>\n",
       "      <td>106365</td>\n",
       "      <td>1449834</td>\n",
       "      <td>1</td>\n",
       "      <td>1</td>\n",
       "      <td>English</td>\n",
       "    </tr>\n",
       "  </tbody>\n",
       "</table>\n",
       "</div>"
      ],
      "text/plain": [
       "    Channel  Watch time(Minutes)  Stream time(minutes)  Peak viewers  \\\n",
       "0  97R8L3J0            154332060                 27105         29983   \n",
       "1  6UV44QFF            154277370                 87375          9437   \n",
       "2  2WKQZUGR            154125945                 77475          9460   \n",
       "3  R4DGVX2D            153988380                 83325         11200   \n",
       "4  P8YSNIOI            153963765                110910         14329   \n",
       "\n",
       "   Average viewers  Followers  Views gained  Partnered  Mature Language  \n",
       "0             5864     308815       8255635          0       0  Russian  \n",
       "1             1759     151886       3019137          1       1   French  \n",
       "2             2106     411346       4832180          1       0  Turkish  \n",
       "3             1787     272635       4345590          1       0   French  \n",
       "4             1281     106365       1449834          1       1  English  "
      ]
     },
     "execution_count": 65,
     "metadata": {},
     "output_type": "execute_result"
    }
   ],
   "source": [
    "test.head()"
   ]
  },
  {
   "cell_type": "code",
   "execution_count": 66,
   "id": "a6540e51",
   "metadata": {},
   "outputs": [
    {
     "data": {
      "text/plain": [
       "array(['97R8L3J0', '6UV44QFF', '2WKQZUGR', 'R4DGVX2D', 'P8YSNIOI',\n",
       "       '5IL9FI45', 'NC7JUCJY', 'XU261DWX', '76AHTXRR', 'KAQ2Q45C',\n",
       "       'HAIJUCL9', 'NCFZHHG4', 'AGV8MTIJ', '8X54BWPE', 'E7634T6S',\n",
       "       'HFWDCEW4', '0RDKF07Z', 'FTEFFWAQ', 'XNMSA40S', 'SVBRIZU0',\n",
       "       'C1L4P5OR', '1JWE7QOC', 'V6FXFI2H', 'DJ7O0OV4', 'WTSJIMO9',\n",
       "       'RFBSZOYQ', '9SIX7I0P', '7G85C5ZP', '2ZZUCKKO', '4RTJDN6Z',\n",
       "       'OQ0LPR3P', 'IRKSFU9L', 'KCR2HJ4E', 'AC2YM51V', 'NG3V02W1',\n",
       "       'VEKSH3FS', 'LJQYWPA6', 'J8PZO3OA', 'C1GFB1XZ', 'GHAJJ13R',\n",
       "       'MAOK5SK4', 'Y1NSXUDK', 'HH9KFLG0', '9AI8J3MA', 'P23JCLZS',\n",
       "       '1H0TVC34', 'OET4SNO6', 'Y2KCFBHI', 'T97USKJY', 'AJ1U0DHD',\n",
       "       '5TSOTNSV', '2NDVUF0M', 'X8MGXK2E', 'K5TK8XP1', 'OTUZH15H',\n",
       "       'NOF55S7E', 'VOC5320L', 'F1UIP7T2', 'NLKWAR4D', 'U0SSFWKI',\n",
       "       'SPZCFM5S', '7NDOBA4T', 'BCDD00YU', '9OEDKNVZ', 'LFWCLKH0',\n",
       "       'IE1Y1CL2', 'QA3HHJUX', 'SIFJXDO0', '800TO8XY', 'NOHAHI0J',\n",
       "       'U8CO7QC9', 'WCBVQ6UV', 'ZX9CG1EO', '9TWNKU9G', 'WHL0TN8I',\n",
       "       'CBYLVUE7', 'LJIMJ12V', '06MD1LT5', '21XY2CPG', 'HY2LUVDP',\n",
       "       'P3UAC32R', '9C73GBWH', 'DMTO130O', 'F4M29S23', '3L2HHO1M',\n",
       "       '5ZBOFS35', 'R2B43PD3', 'AWJO66MF', 'VZ4Z1BQZ', '30F3R8PJ',\n",
       "       'HB366JNS', 'NY2QW85O', '7C3PUO7O', '4Z7GFN23', '6AP10RKD',\n",
       "       'RQQENY7K', '21UKAC1I', 'YSCPP8Y9', 'MGU4X4ZR', 'L6STERKG',\n",
       "       '6KHQEEF3', 'LMDOK7C0', 'JPAKUEGQ', '9FH0FGAN', '0A9BQJ08',\n",
       "       'F49YU62R', 'I11TS64I', 'V3JB6HXZ', 'TY0OM7R9', 'D6NQQ4Q9',\n",
       "       'GNQRCYTO', '8MM6VLDQ', 'ZBLBC0KZ', '9PS36V1L', 'HUWXFD1A',\n",
       "       '6TA70YSS', '0Z270718', 'J1Z0FU5D', 'RAF0HWF7', 'BVOJL7R5',\n",
       "       'JRQPOUEI', '392U8SKE', '1SY41CBM', '0J4LMADN', 'WXMW8JBG',\n",
       "       'T88C7HKS', '7QBGKMG2', 'S31RPC2H', 'LHVEZIHF', 'U7TY0IQE',\n",
       "       'J5CC0RM0', 'TF78RW7C', 'HCGUQXUC', '6LSJFUCX', '99TCWDDY',\n",
       "       'OFVE8IRF', '2FQO36WB', '5XN1VMXO', 'NDDTO13W', 'R9PURLB3',\n",
       "       'SK3X7IYG', 'ATCN7U5R', 'W6NR9ONF', 'NEM6VMWX', 'VNL1VFR5',\n",
       "       '7LP552IU', 'TGK8F39M', 'KEV57RH5', 'JIM9LSK5', 'BSDLVO2I',\n",
       "       'G7G7FV0X', '597EVC99', '8Z6QC7O0', 'UDMSE9Y9', '4LJ6SDG1',\n",
       "       'XWW9QM9G', 'KZEMYOY3', 'PEDQYBCD', 'BA9R0NPM', 'YATJ5E6B',\n",
       "       '2G54M1QE', '5NM8O1UW', 'QX5T9VB6', 'P9J2BA2U', 'NSWGXG2K',\n",
       "       'LWP1U9XY', 'CFY1IIEK', 'WNDJN6UD', 'WVW8NRAD', 'QS1HA5F9',\n",
       "       '1CXVFZQU', 'U82NWI5C', 'RLKTAV0A', 'QKV3BCBI', 'M97VERXS',\n",
       "       'WMFWASPW', 'IWR0JXDM', 'WQSBO5AC', '3HAF2PBT', '0KFC5QTP',\n",
       "       'S0LDDVWC', '22RGXCRW', '7JRPVB1E', 'A5FU8N28', 'UH8FL7SG',\n",
       "       'W3KWC4FU', 'BJJMOS3H', 'ZGNGLLHL', 'WIOOR3XV', 'JTLS449J',\n",
       "       'PU1QP84L', '4OIBPLN0', 'EG7M3EP1', '5JILGOO9', 'G3PORDNE',\n",
       "       '8Q556ABI', 'AXQ2XZ45', 'AP7UE7SZ', 'PNCBWRE4', '7S7Y639P'],\n",
       "      dtype=object)"
      ]
     },
     "execution_count": 66,
     "metadata": {},
     "output_type": "execute_result"
    }
   ],
   "source": [
    "channel_vals = test['Channel'].values\n",
    "channel_vals"
   ]
  },
  {
   "cell_type": "code",
   "execution_count": 67,
   "id": "6df6fea4",
   "metadata": {},
   "outputs": [
    {
     "data": {
      "text/html": [
       "<div>\n",
       "<style scoped>\n",
       "    .dataframe tbody tr th:only-of-type {\n",
       "        vertical-align: middle;\n",
       "    }\n",
       "\n",
       "    .dataframe tbody tr th {\n",
       "        vertical-align: top;\n",
       "    }\n",
       "\n",
       "    .dataframe thead th {\n",
       "        text-align: right;\n",
       "    }\n",
       "</style>\n",
       "<table border=\"1\" class=\"dataframe\">\n",
       "  <thead>\n",
       "    <tr style=\"text-align: right;\">\n",
       "      <th></th>\n",
       "      <th>Channels</th>\n",
       "      <th>Followers_gained</th>\n",
       "    </tr>\n",
       "  </thead>\n",
       "  <tbody>\n",
       "    <tr>\n",
       "      <th>0</th>\n",
       "      <td>97R8L3J0</td>\n",
       "      <td>266465</td>\n",
       "    </tr>\n",
       "    <tr>\n",
       "      <th>1</th>\n",
       "      <td>6UV44QFF</td>\n",
       "      <td>84996</td>\n",
       "    </tr>\n",
       "    <tr>\n",
       "      <th>2</th>\n",
       "      <td>2WKQZUGR</td>\n",
       "      <td>157522</td>\n",
       "    </tr>\n",
       "    <tr>\n",
       "      <th>3</th>\n",
       "      <td>R4DGVX2D</td>\n",
       "      <td>124380</td>\n",
       "    </tr>\n",
       "    <tr>\n",
       "      <th>4</th>\n",
       "      <td>P8YSNIOI</td>\n",
       "      <td>90820</td>\n",
       "    </tr>\n",
       "  </tbody>\n",
       "</table>\n",
       "</div>"
      ],
      "text/plain": [
       "   Channels  Followers_gained\n",
       "0  97R8L3J0            266465\n",
       "1  6UV44QFF             84996\n",
       "2  2WKQZUGR            157522\n",
       "3  R4DGVX2D            124380\n",
       "4  P8YSNIOI             90820"
      ]
     },
     "execution_count": 67,
     "metadata": {},
     "output_type": "execute_result"
    }
   ],
   "source": [
    "predictions_org = pd.DataFrame({'Channel': channel_vals, 'Followers gained': predictions})\n",
    "predictions_org.head()"
   ]
  },
  {
   "cell_type": "code",
   "execution_count": 68,
   "id": "08ee7b70",
   "metadata": {},
   "outputs": [],
   "source": [
    "predictions_org.to_csv('Predictions.csv', index=False)"
   ]
  },
  {
   "cell_type": "code",
   "execution_count": null,
   "id": "ad9c666a",
   "metadata": {},
   "outputs": [],
   "source": []
  }
 ],
 "metadata": {
  "kernelspec": {
   "display_name": "Python 3 (ipykernel)",
   "language": "python",
   "name": "python3"
  },
  "language_info": {
   "codemirror_mode": {
    "name": "ipython",
    "version": 3
   },
   "file_extension": ".py",
   "mimetype": "text/x-python",
   "name": "python",
   "nbconvert_exporter": "python",
   "pygments_lexer": "ipython3",
   "version": "3.9.0"
  }
 },
 "nbformat": 4,
 "nbformat_minor": 5
}
