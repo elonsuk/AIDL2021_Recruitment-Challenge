{
 "cells": [
  {
   "cell_type": "code",
   "execution_count": 1,
   "id": "14f30720",
   "metadata": {},
   "outputs": [],
   "source": [
    "import os"
   ]
  },
  {
   "cell_type": "code",
   "execution_count": 2,
   "id": "be1bf4a9",
   "metadata": {},
   "outputs": [],
   "source": [
    "import pandas as pd\n",
    "import numpy as np\n",
    "import matplotlib.pyplot as plt\n",
    "import seaborn as sns\n",
    "%matplotlib inline"
   ]
  },
  {
   "cell_type": "code",
   "execution_count": 3,
   "id": "8feaa61f",
   "metadata": {},
   "outputs": [],
   "source": [
    "import tensorflow as tf\n",
    "import tensorflow.keras as keras\n",
    "from scipy import stats"
   ]
  },
  {
   "cell_type": "code",
   "execution_count": 4,
   "id": "f103fcf5",
   "metadata": {},
   "outputs": [],
   "source": [
    "from sklearn.metrics import mean_squared_error, explained_variance_score"
   ]
  },
  {
   "cell_type": "markdown",
   "id": "66b425f7",
   "metadata": {},
   "source": [
    "## Load Data"
   ]
  },
  {
   "cell_type": "code",
   "execution_count": 5,
   "id": "c2bbdc64",
   "metadata": {},
   "outputs": [
    {
     "data": {
      "text/html": [
       "<div>\n",
       "<style scoped>\n",
       "    .dataframe tbody tr th:only-of-type {\n",
       "        vertical-align: middle;\n",
       "    }\n",
       "\n",
       "    .dataframe tbody tr th {\n",
       "        vertical-align: top;\n",
       "    }\n",
       "\n",
       "    .dataframe thead th {\n",
       "        text-align: right;\n",
       "    }\n",
       "</style>\n",
       "<table border=\"1\" class=\"dataframe\">\n",
       "  <thead>\n",
       "    <tr style=\"text-align: right;\">\n",
       "      <th></th>\n",
       "      <th>Channel</th>\n",
       "      <th>Watch time(Minutes)</th>\n",
       "      <th>Stream time(minutes)</th>\n",
       "      <th>Peak viewers</th>\n",
       "      <th>Average viewers</th>\n",
       "      <th>Followers</th>\n",
       "      <th>Followers gained</th>\n",
       "      <th>Views gained</th>\n",
       "      <th>Partnered</th>\n",
       "      <th>Mature</th>\n",
       "      <th>Language</th>\n",
       "    </tr>\n",
       "  </thead>\n",
       "  <tbody>\n",
       "    <tr>\n",
       "      <th>0</th>\n",
       "      <td>2ZR62O53</td>\n",
       "      <td>6196161750</td>\n",
       "      <td>215250</td>\n",
       "      <td>222720</td>\n",
       "      <td>27716</td>\n",
       "      <td>3246298</td>\n",
       "      <td>1734810</td>\n",
       "      <td>93036735</td>\n",
       "      <td>1</td>\n",
       "      <td>0</td>\n",
       "      <td>English</td>\n",
       "    </tr>\n",
       "    <tr>\n",
       "      <th>1</th>\n",
       "      <td>ZJ31SS7Q</td>\n",
       "      <td>6091677300</td>\n",
       "      <td>211845</td>\n",
       "      <td>310998</td>\n",
       "      <td>25610</td>\n",
       "      <td>5310163</td>\n",
       "      <td>1370184</td>\n",
       "      <td>89705964</td>\n",
       "      <td>1</td>\n",
       "      <td>0</td>\n",
       "      <td>English</td>\n",
       "    </tr>\n",
       "    <tr>\n",
       "      <th>2</th>\n",
       "      <td>I31VI9RK</td>\n",
       "      <td>5644590915</td>\n",
       "      <td>515280</td>\n",
       "      <td>387315</td>\n",
       "      <td>10976</td>\n",
       "      <td>1767635</td>\n",
       "      <td>1023779</td>\n",
       "      <td>102611607</td>\n",
       "      <td>1</td>\n",
       "      <td>1</td>\n",
       "      <td>Portuguese</td>\n",
       "    </tr>\n",
       "    <tr>\n",
       "      <th>3</th>\n",
       "      <td>6GP9WLYR</td>\n",
       "      <td>3970318140</td>\n",
       "      <td>517740</td>\n",
       "      <td>300575</td>\n",
       "      <td>7714</td>\n",
       "      <td>3944850</td>\n",
       "      <td>703986</td>\n",
       "      <td>106546942</td>\n",
       "      <td>1</td>\n",
       "      <td>0</td>\n",
       "      <td>English</td>\n",
       "    </tr>\n",
       "    <tr>\n",
       "      <th>4</th>\n",
       "      <td>3DVR0TDD</td>\n",
       "      <td>3671000070</td>\n",
       "      <td>123660</td>\n",
       "      <td>285644</td>\n",
       "      <td>29602</td>\n",
       "      <td>8938903</td>\n",
       "      <td>2068424</td>\n",
       "      <td>78998587</td>\n",
       "      <td>1</td>\n",
       "      <td>0</td>\n",
       "      <td>English</td>\n",
       "    </tr>\n",
       "  </tbody>\n",
       "</table>\n",
       "</div>"
      ],
      "text/plain": [
       "    Channel  Watch time(Minutes)  Stream time(minutes)  Peak viewers  \\\n",
       "0  2ZR62O53           6196161750                215250        222720   \n",
       "1  ZJ31SS7Q           6091677300                211845        310998   \n",
       "2  I31VI9RK           5644590915                515280        387315   \n",
       "3  6GP9WLYR           3970318140                517740        300575   \n",
       "4  3DVR0TDD           3671000070                123660        285644   \n",
       "\n",
       "   Average viewers  Followers  Followers gained  Views gained  Partnered  \\\n",
       "0            27716    3246298           1734810      93036735          1   \n",
       "1            25610    5310163           1370184      89705964          1   \n",
       "2            10976    1767635           1023779     102611607          1   \n",
       "3             7714    3944850            703986     106546942          1   \n",
       "4            29602    8938903           2068424      78998587          1   \n",
       "\n",
       "   Mature    Language  \n",
       "0       0     English  \n",
       "1       0     English  \n",
       "2       1  Portuguese  \n",
       "3       0     English  \n",
       "4       0     English  "
      ]
     },
     "execution_count": 5,
     "metadata": {},
     "output_type": "execute_result"
    }
   ],
   "source": [
    "data = pd.read_csv('Data_Files/train.csv')\n",
    "data.head()"
   ]
  },
  {
   "cell_type": "markdown",
   "id": "f3c64937",
   "metadata": {},
   "source": [
    "## Data Preprocessing"
   ]
  },
  {
   "cell_type": "markdown",
   "id": "824a3fe2",
   "metadata": {},
   "source": [
    "### Add a constant for eliminating negative values"
   ]
  },
  {
   "cell_type": "code",
   "execution_count": 6,
   "id": "5a726633",
   "metadata": {},
   "outputs": [
    {
     "data": {
      "text/plain": [
       "-15772"
      ]
     },
     "execution_count": 6,
     "metadata": {},
     "output_type": "execute_result"
    }
   ],
   "source": [
    "data['Followers gained'].min()"
   ]
  },
  {
   "cell_type": "code",
   "execution_count": 7,
   "id": "ad939d4a",
   "metadata": {},
   "outputs": [
    {
     "data": {
      "text/html": [
       "<div>\n",
       "<style scoped>\n",
       "    .dataframe tbody tr th:only-of-type {\n",
       "        vertical-align: middle;\n",
       "    }\n",
       "\n",
       "    .dataframe tbody tr th {\n",
       "        vertical-align: top;\n",
       "    }\n",
       "\n",
       "    .dataframe thead th {\n",
       "        text-align: right;\n",
       "    }\n",
       "</style>\n",
       "<table border=\"1\" class=\"dataframe\">\n",
       "  <thead>\n",
       "    <tr style=\"text-align: right;\">\n",
       "      <th></th>\n",
       "      <th>Watch time(Minutes)</th>\n",
       "      <th>Stream time(minutes)</th>\n",
       "      <th>Peak viewers</th>\n",
       "      <th>Average viewers</th>\n",
       "      <th>Followers</th>\n",
       "      <th>Followers gained</th>\n",
       "      <th>Views gained</th>\n",
       "    </tr>\n",
       "  </thead>\n",
       "  <tbody>\n",
       "    <tr>\n",
       "      <th>0</th>\n",
       "      <td>6196161750</td>\n",
       "      <td>215250</td>\n",
       "      <td>222720</td>\n",
       "      <td>27716</td>\n",
       "      <td>3246298</td>\n",
       "      <td>1734810</td>\n",
       "      <td>93036735</td>\n",
       "    </tr>\n",
       "    <tr>\n",
       "      <th>1</th>\n",
       "      <td>6091677300</td>\n",
       "      <td>211845</td>\n",
       "      <td>310998</td>\n",
       "      <td>25610</td>\n",
       "      <td>5310163</td>\n",
       "      <td>1370184</td>\n",
       "      <td>89705964</td>\n",
       "    </tr>\n",
       "    <tr>\n",
       "      <th>2</th>\n",
       "      <td>5644590915</td>\n",
       "      <td>515280</td>\n",
       "      <td>387315</td>\n",
       "      <td>10976</td>\n",
       "      <td>1767635</td>\n",
       "      <td>1023779</td>\n",
       "      <td>102611607</td>\n",
       "    </tr>\n",
       "    <tr>\n",
       "      <th>3</th>\n",
       "      <td>3970318140</td>\n",
       "      <td>517740</td>\n",
       "      <td>300575</td>\n",
       "      <td>7714</td>\n",
       "      <td>3944850</td>\n",
       "      <td>703986</td>\n",
       "      <td>106546942</td>\n",
       "    </tr>\n",
       "    <tr>\n",
       "      <th>4</th>\n",
       "      <td>3671000070</td>\n",
       "      <td>123660</td>\n",
       "      <td>285644</td>\n",
       "      <td>29602</td>\n",
       "      <td>8938903</td>\n",
       "      <td>2068424</td>\n",
       "      <td>78998587</td>\n",
       "    </tr>\n",
       "  </tbody>\n",
       "</table>\n",
       "</div>"
      ],
      "text/plain": [
       "   Watch time(Minutes)  Stream time(minutes)  Peak viewers  Average viewers  \\\n",
       "0           6196161750                215250        222720            27716   \n",
       "1           6091677300                211845        310998            25610   \n",
       "2           5644590915                515280        387315            10976   \n",
       "3           3970318140                517740        300575             7714   \n",
       "4           3671000070                123660        285644            29602   \n",
       "\n",
       "   Followers  Followers gained  Views gained  \n",
       "0    3246298           1734810      93036735  \n",
       "1    5310163           1370184      89705964  \n",
       "2    1767635           1023779     102611607  \n",
       "3    3944850            703986     106546942  \n",
       "4    8938903           2068424      78998587  "
      ]
     },
     "execution_count": 7,
     "metadata": {},
     "output_type": "execute_result"
    }
   ],
   "source": [
    "numeric = data.drop(['Channel', 'Partnered', 'Mature', 'Language'], axis=1)\n",
    "numeric.head()"
   ]
  },
  {
   "cell_type": "code",
   "execution_count": 8,
   "id": "35c0284a",
   "metadata": {},
   "outputs": [],
   "source": [
    "numeric += 15772"
   ]
  },
  {
   "cell_type": "code",
   "execution_count": 9,
   "id": "fb17930f",
   "metadata": {},
   "outputs": [
    {
     "data": {
      "text/html": [
       "<div>\n",
       "<style scoped>\n",
       "    .dataframe tbody tr th:only-of-type {\n",
       "        vertical-align: middle;\n",
       "    }\n",
       "\n",
       "    .dataframe tbody tr th {\n",
       "        vertical-align: top;\n",
       "    }\n",
       "\n",
       "    .dataframe thead th {\n",
       "        text-align: right;\n",
       "    }\n",
       "</style>\n",
       "<table border=\"1\" class=\"dataframe\">\n",
       "  <thead>\n",
       "    <tr style=\"text-align: right;\">\n",
       "      <th></th>\n",
       "      <th>Watch time(Minutes)</th>\n",
       "      <th>Stream time(minutes)</th>\n",
       "      <th>Peak viewers</th>\n",
       "      <th>Average viewers</th>\n",
       "      <th>Followers</th>\n",
       "      <th>Followers gained</th>\n",
       "      <th>Views gained</th>\n",
       "    </tr>\n",
       "  </thead>\n",
       "  <tbody>\n",
       "    <tr>\n",
       "      <th>0</th>\n",
       "      <td>6196177522</td>\n",
       "      <td>231022</td>\n",
       "      <td>238492</td>\n",
       "      <td>43488</td>\n",
       "      <td>3262070</td>\n",
       "      <td>1750582</td>\n",
       "      <td>93052507</td>\n",
       "    </tr>\n",
       "    <tr>\n",
       "      <th>1</th>\n",
       "      <td>6091693072</td>\n",
       "      <td>227617</td>\n",
       "      <td>326770</td>\n",
       "      <td>41382</td>\n",
       "      <td>5325935</td>\n",
       "      <td>1385956</td>\n",
       "      <td>89721736</td>\n",
       "    </tr>\n",
       "    <tr>\n",
       "      <th>2</th>\n",
       "      <td>5644606687</td>\n",
       "      <td>531052</td>\n",
       "      <td>403087</td>\n",
       "      <td>26748</td>\n",
       "      <td>1783407</td>\n",
       "      <td>1039551</td>\n",
       "      <td>102627379</td>\n",
       "    </tr>\n",
       "    <tr>\n",
       "      <th>3</th>\n",
       "      <td>3970333912</td>\n",
       "      <td>533512</td>\n",
       "      <td>316347</td>\n",
       "      <td>23486</td>\n",
       "      <td>3960622</td>\n",
       "      <td>719758</td>\n",
       "      <td>106562714</td>\n",
       "    </tr>\n",
       "    <tr>\n",
       "      <th>4</th>\n",
       "      <td>3671015842</td>\n",
       "      <td>139432</td>\n",
       "      <td>301416</td>\n",
       "      <td>45374</td>\n",
       "      <td>8954675</td>\n",
       "      <td>2084196</td>\n",
       "      <td>79014359</td>\n",
       "    </tr>\n",
       "  </tbody>\n",
       "</table>\n",
       "</div>"
      ],
      "text/plain": [
       "   Watch time(Minutes)  Stream time(minutes)  Peak viewers  Average viewers  \\\n",
       "0           6196177522                231022        238492            43488   \n",
       "1           6091693072                227617        326770            41382   \n",
       "2           5644606687                531052        403087            26748   \n",
       "3           3970333912                533512        316347            23486   \n",
       "4           3671015842                139432        301416            45374   \n",
       "\n",
       "   Followers  Followers gained  Views gained  \n",
       "0    3262070           1750582      93052507  \n",
       "1    5325935           1385956      89721736  \n",
       "2    1783407           1039551     102627379  \n",
       "3    3960622            719758     106562714  \n",
       "4    8954675           2084196      79014359  "
      ]
     },
     "execution_count": 9,
     "metadata": {},
     "output_type": "execute_result"
    }
   ],
   "source": [
    "numeric.head()"
   ]
  },
  {
   "cell_type": "code",
   "execution_count": 10,
   "id": "2ad29782",
   "metadata": {},
   "outputs": [
    {
     "data": {
      "text/plain": [
       "0"
      ]
     },
     "execution_count": 10,
     "metadata": {},
     "output_type": "execute_result"
    }
   ],
   "source": [
    "numeric['Followers gained'].min()"
   ]
  },
  {
   "cell_type": "code",
   "execution_count": 11,
   "id": "b501511c",
   "metadata": {},
   "outputs": [
    {
     "name": "stdout",
     "output_type": "stream",
     "text": [
      "Watch time(Minutes): 154539937\n",
      "\n",
      "Stream time(minutes): 21967\n",
      "\n",
      "Peak viewers: 16954\n",
      "\n",
      "Average viewers: 16085\n",
      "\n",
      "Followers: 19432\n",
      "\n",
      "Followers gained: 0\n",
      "\n",
      "Views gained: 191560\n",
      "\n"
     ]
    }
   ],
   "source": [
    "for col in numeric.columns:\n",
    "    print(f\"{col}: {numeric[col].min()}\\n\")"
   ]
  },
  {
   "cell_type": "markdown",
   "id": "0bc71df2",
   "metadata": {},
   "source": [
    "### Log transformation"
   ]
  },
  {
   "cell_type": "code",
   "execution_count": 12,
   "id": "929c7a00",
   "metadata": {},
   "outputs": [
    {
     "data": {
      "text/html": [
       "<div>\n",
       "<style scoped>\n",
       "    .dataframe tbody tr th:only-of-type {\n",
       "        vertical-align: middle;\n",
       "    }\n",
       "\n",
       "    .dataframe tbody tr th {\n",
       "        vertical-align: top;\n",
       "    }\n",
       "\n",
       "    .dataframe thead th {\n",
       "        text-align: right;\n",
       "    }\n",
       "</style>\n",
       "<table border=\"1\" class=\"dataframe\">\n",
       "  <thead>\n",
       "    <tr style=\"text-align: right;\">\n",
       "      <th></th>\n",
       "      <th>Watch time(Minutes)</th>\n",
       "      <th>Stream time(minutes)</th>\n",
       "      <th>Peak viewers</th>\n",
       "      <th>Average viewers</th>\n",
       "      <th>Followers</th>\n",
       "      <th>Followers gained</th>\n",
       "      <th>Views gained</th>\n",
       "    </tr>\n",
       "  </thead>\n",
       "  <tbody>\n",
       "    <tr>\n",
       "      <th>0</th>\n",
       "      <td>22.547198</td>\n",
       "      <td>12.350268</td>\n",
       "      <td>12.382091</td>\n",
       "      <td>10.680240</td>\n",
       "      <td>14.997873</td>\n",
       "      <td>14.375459</td>\n",
       "      <td>18.348674</td>\n",
       "    </tr>\n",
       "    <tr>\n",
       "      <th>1</th>\n",
       "      <td>22.530192</td>\n",
       "      <td>12.335420</td>\n",
       "      <td>12.697012</td>\n",
       "      <td>10.630601</td>\n",
       "      <td>15.488099</td>\n",
       "      <td>14.141901</td>\n",
       "      <td>18.312224</td>\n",
       "    </tr>\n",
       "    <tr>\n",
       "      <th>2</th>\n",
       "      <td>22.453966</td>\n",
       "      <td>13.182615</td>\n",
       "      <td>12.906908</td>\n",
       "      <td>10.194215</td>\n",
       "      <td>14.394036</td>\n",
       "      <td>13.854299</td>\n",
       "      <td>18.446615</td>\n",
       "    </tr>\n",
       "    <tr>\n",
       "      <th>3</th>\n",
       "      <td>22.102116</td>\n",
       "      <td>13.187237</td>\n",
       "      <td>12.664595</td>\n",
       "      <td>10.064160</td>\n",
       "      <td>15.191912</td>\n",
       "      <td>13.486670</td>\n",
       "      <td>18.484244</td>\n",
       "    </tr>\n",
       "    <tr>\n",
       "      <th>4</th>\n",
       "      <td>22.023734</td>\n",
       "      <td>11.845332</td>\n",
       "      <td>12.616247</td>\n",
       "      <td>10.722695</td>\n",
       "      <td>16.007686</td>\n",
       "      <td>14.549894</td>\n",
       "      <td>18.185140</td>\n",
       "    </tr>\n",
       "  </tbody>\n",
       "</table>\n",
       "</div>"
      ],
      "text/plain": [
       "   Watch time(Minutes)  Stream time(minutes)  Peak viewers  Average viewers  \\\n",
       "0            22.547198             12.350268     12.382091        10.680240   \n",
       "1            22.530192             12.335420     12.697012        10.630601   \n",
       "2            22.453966             13.182615     12.906908        10.194215   \n",
       "3            22.102116             13.187237     12.664595        10.064160   \n",
       "4            22.023734             11.845332     12.616247        10.722695   \n",
       "\n",
       "   Followers  Followers gained  Views gained  \n",
       "0  14.997873         14.375459     18.348674  \n",
       "1  15.488099         14.141901     18.312224  \n",
       "2  14.394036         13.854299     18.446615  \n",
       "3  15.191912         13.486670     18.484244  \n",
       "4  16.007686         14.549894     18.185140  "
      ]
     },
     "execution_count": 12,
     "metadata": {},
     "output_type": "execute_result"
    }
   ],
   "source": [
    "numeric = numeric.transform(np.log)\n",
    "numeric.head()"
   ]
  },
  {
   "cell_type": "markdown",
   "id": "8538e2f6",
   "metadata": {},
   "source": [
    "### Remove outliers"
   ]
  },
  {
   "cell_type": "code",
   "execution_count": 13,
   "id": "e9fc769e",
   "metadata": {},
   "outputs": [],
   "source": [
    "sns.set_theme(style='whitegrid')"
   ]
  },
  {
   "cell_type": "code",
   "execution_count": 14,
   "id": "e0af651c",
   "metadata": {},
   "outputs": [],
   "source": [
    "def remove_outliers(x):\n",
    "    global numeric\n",
    "    data_var = numeric[x]\n",
    "    \n",
    "    Q75, Q25 = np.percentile(data_var, [75, 25])\n",
    "    IQR = Q75 - Q25\n",
    "    lower_bound = Q25 - (1.5*IQR)\n",
    "    upper_bound = Q75 + (1.5*IQR)\n",
    "    \n",
    "    numeric = numeric[(numeric[x] >= lower_bound) & (numeric[x] <= upper_bound)].reset_index()\n",
    "    numeric.drop('index', axis=1, inplace=True)\n",
    "    \n",
    "    print(f'{numeric.info()}\\n')"
   ]
  },
  {
   "cell_type": "code",
   "execution_count": 15,
   "id": "70c6e6b3",
   "metadata": {},
   "outputs": [
    {
     "name": "stdout",
     "output_type": "stream",
     "text": [
      "<class 'pandas.core.frame.DataFrame'>\n",
      "RangeIndex: 783 entries, 0 to 782\n",
      "Data columns (total 7 columns):\n",
      " #   Column                Non-Null Count  Dtype  \n",
      "---  ------                --------------  -----  \n",
      " 0   Watch time(Minutes)   783 non-null    float64\n",
      " 1   Stream time(minutes)  783 non-null    float64\n",
      " 2   Peak viewers          783 non-null    float64\n",
      " 3   Average viewers       783 non-null    float64\n",
      " 4   Followers             783 non-null    float64\n",
      " 5   Followers gained      783 non-null    float64\n",
      " 6   Views gained          783 non-null    float64\n",
      "dtypes: float64(7)\n",
      "memory usage: 42.9 KB\n",
      "None\n",
      "\n",
      "<class 'pandas.core.frame.DataFrame'>\n",
      "RangeIndex: 731 entries, 0 to 730\n",
      "Data columns (total 7 columns):\n",
      " #   Column                Non-Null Count  Dtype  \n",
      "---  ------                --------------  -----  \n",
      " 0   Watch time(Minutes)   731 non-null    float64\n",
      " 1   Stream time(minutes)  731 non-null    float64\n",
      " 2   Peak viewers          731 non-null    float64\n",
      " 3   Average viewers       731 non-null    float64\n",
      " 4   Followers             731 non-null    float64\n",
      " 5   Followers gained      731 non-null    float64\n",
      " 6   Views gained          731 non-null    float64\n",
      "dtypes: float64(7)\n",
      "memory usage: 40.1 KB\n",
      "None\n",
      "\n",
      "<class 'pandas.core.frame.DataFrame'>\n",
      "RangeIndex: 706 entries, 0 to 705\n",
      "Data columns (total 7 columns):\n",
      " #   Column                Non-Null Count  Dtype  \n",
      "---  ------                --------------  -----  \n",
      " 0   Watch time(Minutes)   706 non-null    float64\n",
      " 1   Stream time(minutes)  706 non-null    float64\n",
      " 2   Peak viewers          706 non-null    float64\n",
      " 3   Average viewers       706 non-null    float64\n",
      " 4   Followers             706 non-null    float64\n",
      " 5   Followers gained      706 non-null    float64\n",
      " 6   Views gained          706 non-null    float64\n",
      "dtypes: float64(7)\n",
      "memory usage: 38.7 KB\n",
      "None\n",
      "\n",
      "<class 'pandas.core.frame.DataFrame'>\n",
      "RangeIndex: 666 entries, 0 to 665\n",
      "Data columns (total 7 columns):\n",
      " #   Column                Non-Null Count  Dtype  \n",
      "---  ------                --------------  -----  \n",
      " 0   Watch time(Minutes)   666 non-null    float64\n",
      " 1   Stream time(minutes)  666 non-null    float64\n",
      " 2   Peak viewers          666 non-null    float64\n",
      " 3   Average viewers       666 non-null    float64\n",
      " 4   Followers             666 non-null    float64\n",
      " 5   Followers gained      666 non-null    float64\n",
      " 6   Views gained          666 non-null    float64\n",
      "dtypes: float64(7)\n",
      "memory usage: 36.5 KB\n",
      "None\n",
      "\n",
      "<class 'pandas.core.frame.DataFrame'>\n",
      "RangeIndex: 661 entries, 0 to 660\n",
      "Data columns (total 7 columns):\n",
      " #   Column                Non-Null Count  Dtype  \n",
      "---  ------                --------------  -----  \n",
      " 0   Watch time(Minutes)   661 non-null    float64\n",
      " 1   Stream time(minutes)  661 non-null    float64\n",
      " 2   Peak viewers          661 non-null    float64\n",
      " 3   Average viewers       661 non-null    float64\n",
      " 4   Followers             661 non-null    float64\n",
      " 5   Followers gained      661 non-null    float64\n",
      " 6   Views gained          661 non-null    float64\n",
      "dtypes: float64(7)\n",
      "memory usage: 36.3 KB\n",
      "None\n",
      "\n",
      "<class 'pandas.core.frame.DataFrame'>\n",
      "RangeIndex: 660 entries, 0 to 659\n",
      "Data columns (total 7 columns):\n",
      " #   Column                Non-Null Count  Dtype  \n",
      "---  ------                --------------  -----  \n",
      " 0   Watch time(Minutes)   660 non-null    float64\n",
      " 1   Stream time(minutes)  660 non-null    float64\n",
      " 2   Peak viewers          660 non-null    float64\n",
      " 3   Average viewers       660 non-null    float64\n",
      " 4   Followers             660 non-null    float64\n",
      " 5   Followers gained      660 non-null    float64\n",
      " 6   Views gained          660 non-null    float64\n",
      "dtypes: float64(7)\n",
      "memory usage: 36.2 KB\n",
      "None\n",
      "\n",
      "<class 'pandas.core.frame.DataFrame'>\n",
      "RangeIndex: 649 entries, 0 to 648\n",
      "Data columns (total 7 columns):\n",
      " #   Column                Non-Null Count  Dtype  \n",
      "---  ------                --------------  -----  \n",
      " 0   Watch time(Minutes)   649 non-null    float64\n",
      " 1   Stream time(minutes)  649 non-null    float64\n",
      " 2   Peak viewers          649 non-null    float64\n",
      " 3   Average viewers       649 non-null    float64\n",
      " 4   Followers             649 non-null    float64\n",
      " 5   Followers gained      649 non-null    float64\n",
      " 6   Views gained          649 non-null    float64\n",
      "dtypes: float64(7)\n",
      "memory usage: 35.6 KB\n",
      "None\n",
      "\n"
     ]
    }
   ],
   "source": [
    "for col in numeric.columns:\n",
    "    remove_outliers(col)"
   ]
  },
  {
   "cell_type": "markdown",
   "id": "843f6a59",
   "metadata": {},
   "source": [
    "### Polynomial Regression"
   ]
  },
  {
   "cell_type": "code",
   "execution_count": 16,
   "id": "2304e2f9",
   "metadata": {},
   "outputs": [],
   "source": [
    "equations = {}\n",
    "\n",
    "fg = 'Followers gained'\n",
    "\n",
    "def display_reg(x, y, degree=3):\n",
    "    fig, ax = plt.subplots(figsize=(20,16))\n",
    "    \n",
    "    horizontal = np.linspace(numeric[x].min(), numeric[x].max(), len(numeric[x]))\n",
    "    function_model = np.poly1d(np.polyfit(numeric[x].values, numeric[y].values, degree))\n",
    "    \n",
    "    equations[y] = function_model\n",
    "    \n",
    "    plt.scatter(data=numeric, x=x, y=y, zorder=1)\n",
    "    plt.plot(horizontal, function_model(horizontal), zorder=2, color='r')\n",
    "    \n",
    "    plt.xlabel(x)\n",
    "    plt.ylabel(y)\n",
    "    \n",
    "    plt.show()"
   ]
  },
  {
   "cell_type": "code",
   "execution_count": 17,
   "id": "ac248aea",
   "metadata": {
    "scrolled": true
   },
   "outputs": [
    {
     "data": {
      "image/png": "[encoded data removed]",
      "text/plain": [
       "<Figure size 1440x1152 with 1 Axes>"
      ]
     },
     "metadata": {},
     "output_type": "display_data"
    },
    {
     "data": {
      "image/png": "[encoded data removed]",
      "text/plain": [
       "<Figure size 1440x1152 with 1 Axes>"
      ]
     },
     "metadata": {},
     "output_type": "display_data"
    },
    {
     "data": {
      "image/png": "[encoded data removed]",
      "text/plain": [
       "<Figure size 1440x1152 with 1 Axes>"
      ]
     },
     "metadata": {},
     "output_type": "display_data"
    },
    {
     "data": {
      "image/png": "[encoded data removed]",
      "text/plain": [
       "<Figure size 1440x1152 with 1 Axes>"
      ]
     },
     "metadata": {},
     "output_type": "display_data"
    },
    {
     "data": {
      "image/png": "[encoded data removed]",
      "text/plain": [
       "<Figure size 1440x1152 with 1 Axes>"
      ]
     },
     "metadata": {},
     "output_type": "display_data"
    },
    {
     "data": {
      "image/png": "[encoded data removed]",
      "text/plain": [
       "<Figure size 1440x1152 with 1 Axes>"
      ]
     },
     "metadata": {},
     "output_type": "display_data"
    }
   ],
   "source": [
    "y_columns = numeric.drop('Followers gained', axis=1).columns\n",
    "\n",
    "for y in y_columns:\n",
    "    display_reg(fg, y, 4)"
   ]
  },
  {
   "cell_type": "code",
   "execution_count": 18,
   "id": "99d90f65",
   "metadata": {},
   "outputs": [
    {
     "data": {
      "text/plain": [
       "{'Watch time(Minutes)': poly1d([ 5.45370343e-03, -2.29734583e-01,  3.58180373e+00, -2.42893720e+01,\n",
       "         7.91222948e+01]),\n",
       " 'Stream time(minutes)': poly1d([ 3.43288233e-03, -1.44195517e-01,  2.20455750e+00, -1.45278641e+01,\n",
       "         4.65571269e+01]),\n",
       " 'Peak viewers': poly1d([ 9.90820191e-03, -4.59582942e-01,  7.99009070e+00, -6.14748316e+01,\n",
       "         1.86382020e+02]),\n",
       " 'Average viewers': poly1d([ 7.56935002e-04, -3.11642245e-02,  4.81970404e-01, -3.28687457e+00,\n",
       "         1.80440357e+01]),\n",
       " 'Followers': poly1d([ 2.59564762e-02, -1.30137841e+00,  2.44464023e+01, -2.03254827e+02,\n",
       "         6.42218063e+02]),\n",
       " 'Views gained': poly1d([-3.45476341e-03,  2.06527921e-01, -4.40654275e+00,  4.05460392e+01,\n",
       "        -1.21459443e+02])}"
      ]
     },
     "execution_count": 18,
     "metadata": {},
     "output_type": "execute_result"
    }
   ],
   "source": [
    "equations"
   ]
  },
  {
   "cell_type": "markdown",
   "id": "35cfcc7e",
   "metadata": {},
   "source": [
    "### Artificial Data Generation based on retrieved regression"
   ]
  },
  {
   "cell_type": "code",
   "execution_count": 19,
   "id": "a19ce44f",
   "metadata": {},
   "outputs": [
    {
     "data": {
      "text/html": [
       "<div>\n",
       "<style scoped>\n",
       "    .dataframe tbody tr th:only-of-type {\n",
       "        vertical-align: middle;\n",
       "    }\n",
       "\n",
       "    .dataframe tbody tr th {\n",
       "        vertical-align: top;\n",
       "    }\n",
       "\n",
       "    .dataframe thead th {\n",
       "        text-align: right;\n",
       "    }\n",
       "</style>\n",
       "<table border=\"1\" class=\"dataframe\">\n",
       "  <thead>\n",
       "    <tr style=\"text-align: right;\">\n",
       "      <th></th>\n",
       "      <th>Watch time(Minutes)</th>\n",
       "      <th>Stream time(minutes)</th>\n",
       "      <th>Peak viewers</th>\n",
       "      <th>Average viewers</th>\n",
       "      <th>Followers</th>\n",
       "      <th>Views gained</th>\n",
       "      <th>Followers gained</th>\n",
       "    </tr>\n",
       "  </thead>\n",
       "  <tbody>\n",
       "    <tr>\n",
       "      <th>0</th>\n",
       "      <td>21.109149</td>\n",
       "      <td>12.053312</td>\n",
       "      <td>10.716371</td>\n",
       "      <td>10.127750</td>\n",
       "      <td>14.148330</td>\n",
       "      <td>16.813730</td>\n",
       "      <td>11.631286</td>\n",
       "    </tr>\n",
       "    <tr>\n",
       "      <th>1</th>\n",
       "      <td>21.055679</td>\n",
       "      <td>11.964364</td>\n",
       "      <td>10.851374</td>\n",
       "      <td>10.122181</td>\n",
       "      <td>13.839043</td>\n",
       "      <td>17.398859</td>\n",
       "      <td>13.051765</td>\n",
       "    </tr>\n",
       "    <tr>\n",
       "      <th>2</th>\n",
       "      <td>21.031515</td>\n",
       "      <td>12.100751</td>\n",
       "      <td>11.981916</td>\n",
       "      <td>10.079036</td>\n",
       "      <td>13.544537</td>\n",
       "      <td>17.289888</td>\n",
       "      <td>12.863929</td>\n",
       "    </tr>\n",
       "    <tr>\n",
       "      <th>3</th>\n",
       "      <td>21.015458</td>\n",
       "      <td>12.251677</td>\n",
       "      <td>11.009092</td>\n",
       "      <td>10.013014</td>\n",
       "      <td>13.093748</td>\n",
       "      <td>16.466689</td>\n",
       "      <td>12.784320</td>\n",
       "    </tr>\n",
       "    <tr>\n",
       "      <th>4</th>\n",
       "      <td>20.948589</td>\n",
       "      <td>11.963409</td>\n",
       "      <td>11.187486</td>\n",
       "      <td>10.104590</td>\n",
       "      <td>12.917791</td>\n",
       "      <td>16.855177</td>\n",
       "      <td>11.936329</td>\n",
       "    </tr>\n",
       "  </tbody>\n",
       "</table>\n",
       "</div>"
      ],
      "text/plain": [
       "   Watch time(Minutes)  Stream time(minutes)  Peak viewers  Average viewers  \\\n",
       "0            21.109149             12.053312     10.716371        10.127750   \n",
       "1            21.055679             11.964364     10.851374        10.122181   \n",
       "2            21.031515             12.100751     11.981916        10.079036   \n",
       "3            21.015458             12.251677     11.009092        10.013014   \n",
       "4            20.948589             11.963409     11.187486        10.104590   \n",
       "\n",
       "   Followers  Views gained  Followers gained  \n",
       "0  14.148330     16.813730         11.631286  \n",
       "1  13.839043     17.398859         13.051765  \n",
       "2  13.544537     17.289888         12.863929  \n",
       "3  13.093748     16.466689         12.784320  \n",
       "4  12.917791     16.855177         11.936329  "
      ]
     },
     "execution_count": 19,
     "metadata": {},
     "output_type": "execute_result"
    }
   ],
   "source": [
    "cols = ['Watch time(Minutes)', 'Stream time(minutes)', 'Peak viewers', \n",
    "        'Average viewers', 'Followers', 'Views gained', 'Followers gained']\n",
    "\n",
    "numeric = numeric.reindex(columns=cols)\n",
    "numeric.head()"
   ]
  },
  {
   "cell_type": "code",
   "execution_count": 20,
   "id": "33f21b51",
   "metadata": {},
   "outputs": [
    {
     "name": "stdout",
     "output_type": "stream",
     "text": [
      "<class 'pandas.core.frame.DataFrame'>\n",
      "Int64Index: 2649 entries, 0 to 1999\n",
      "Data columns (total 7 columns):\n",
      " #   Column                Non-Null Count  Dtype  \n",
      "---  ------                --------------  -----  \n",
      " 0   Watch time(Minutes)   2649 non-null   float64\n",
      " 1   Stream time(minutes)  2649 non-null   float64\n",
      " 2   Peak viewers          2649 non-null   float64\n",
      " 3   Average viewers       2649 non-null   float64\n",
      " 4   Followers             2649 non-null   float64\n",
      " 5   Views gained          2649 non-null   float64\n",
      " 6   Followers gained      2649 non-null   float64\n",
      "dtypes: float64(7)\n",
      "memory usage: 165.6 KB\n"
     ]
    }
   ],
   "source": [
    "fg = numeric['Followers gained']\n",
    "\n",
    "raf = []\n",
    "aug_data = pd.DataFrame()\n",
    "\n",
    "while (len(raf) < 2*(10**3)):\n",
    "    rand_fg = np.random.randint(fg.min(), fg.max())\n",
    "    raf.append(rand_fg)\n",
    "        \n",
    "for key in equations:\n",
    "    values = [(equations[key](fg)) for fg in raf]\n",
    "    aug_data[key] = values\n",
    "\n",
    "aug_data['Followers gained'] = raf\n",
    "numeric = numeric.append(aug_data)\n",
    "\n",
    "numeric.info()"
   ]
  },
  {
   "cell_type": "markdown",
   "id": "f054a016",
   "metadata": {},
   "source": [
    "## Feature Engineering"
   ]
  },
  {
   "cell_type": "code",
   "execution_count": 21,
   "id": "52d1b578",
   "metadata": {},
   "outputs": [
    {
     "data": {
      "text/html": [
       "<div>\n",
       "<style scoped>\n",
       "    .dataframe tbody tr th:only-of-type {\n",
       "        vertical-align: middle;\n",
       "    }\n",
       "\n",
       "    .dataframe tbody tr th {\n",
       "        vertical-align: top;\n",
       "    }\n",
       "\n",
       "    .dataframe thead th {\n",
       "        text-align: right;\n",
       "    }\n",
       "</style>\n",
       "<table border=\"1\" class=\"dataframe\">\n",
       "  <thead>\n",
       "    <tr style=\"text-align: right;\">\n",
       "      <th></th>\n",
       "      <th>Watch time(Minutes)</th>\n",
       "      <th>Stream time(minutes)</th>\n",
       "      <th>Peak viewers</th>\n",
       "      <th>Average viewers</th>\n",
       "      <th>Followers</th>\n",
       "      <th>Views gained</th>\n",
       "      <th>Followers gained</th>\n",
       "    </tr>\n",
       "  </thead>\n",
       "  <tbody>\n",
       "    <tr>\n",
       "      <th>0</th>\n",
       "      <td>21.109149</td>\n",
       "      <td>12.053312</td>\n",
       "      <td>10.716371</td>\n",
       "      <td>10.127750</td>\n",
       "      <td>14.148330</td>\n",
       "      <td>16.813730</td>\n",
       "      <td>11.631286</td>\n",
       "    </tr>\n",
       "    <tr>\n",
       "      <th>1</th>\n",
       "      <td>21.055679</td>\n",
       "      <td>11.964364</td>\n",
       "      <td>10.851374</td>\n",
       "      <td>10.122181</td>\n",
       "      <td>13.839043</td>\n",
       "      <td>17.398859</td>\n",
       "      <td>13.051765</td>\n",
       "    </tr>\n",
       "    <tr>\n",
       "      <th>2</th>\n",
       "      <td>21.031515</td>\n",
       "      <td>12.100751</td>\n",
       "      <td>11.981916</td>\n",
       "      <td>10.079036</td>\n",
       "      <td>13.544537</td>\n",
       "      <td>17.289888</td>\n",
       "      <td>12.863929</td>\n",
       "    </tr>\n",
       "    <tr>\n",
       "      <th>3</th>\n",
       "      <td>21.015458</td>\n",
       "      <td>12.251677</td>\n",
       "      <td>11.009092</td>\n",
       "      <td>10.013014</td>\n",
       "      <td>13.093748</td>\n",
       "      <td>16.466689</td>\n",
       "      <td>12.784320</td>\n",
       "    </tr>\n",
       "    <tr>\n",
       "      <th>4</th>\n",
       "      <td>20.948589</td>\n",
       "      <td>11.963409</td>\n",
       "      <td>11.187486</td>\n",
       "      <td>10.104590</td>\n",
       "      <td>12.917791</td>\n",
       "      <td>16.855177</td>\n",
       "      <td>11.936329</td>\n",
       "    </tr>\n",
       "  </tbody>\n",
       "</table>\n",
       "</div>"
      ],
      "text/plain": [
       "   Watch time(Minutes)  Stream time(minutes)  Peak viewers  Average viewers  \\\n",
       "0            21.109149             12.053312     10.716371        10.127750   \n",
       "1            21.055679             11.964364     10.851374        10.122181   \n",
       "2            21.031515             12.100751     11.981916        10.079036   \n",
       "3            21.015458             12.251677     11.009092        10.013014   \n",
       "4            20.948589             11.963409     11.187486        10.104590   \n",
       "\n",
       "   Followers  Views gained  Followers gained  \n",
       "0  14.148330     16.813730         11.631286  \n",
       "1  13.839043     17.398859         13.051765  \n",
       "2  13.544537     17.289888         12.863929  \n",
       "3  13.093748     16.466689         12.784320  \n",
       "4  12.917791     16.855177         11.936329  "
      ]
     },
     "execution_count": 21,
     "metadata": {},
     "output_type": "execute_result"
    }
   ],
   "source": [
    "numeric.head()"
   ]
  },
  {
   "cell_type": "code",
   "execution_count": 22,
   "id": "f6339320",
   "metadata": {},
   "outputs": [
    {
     "data": {
      "text/plain": [
       "<AxesSubplot:>"
      ]
     },
     "execution_count": 22,
     "metadata": {},
     "output_type": "execute_result"
    },
    {
     "data": {
      "image/png": "[encoded data removed]",
      "text/plain": [
       "<Figure size 720x144 with 2 Axes>"
      ]
     },
     "metadata": {},
     "output_type": "display_data"
    }
   ],
   "source": [
    "extracted = pd.DataFrame(numeric.corr().loc['Followers gained']).transpose()\n",
    "\n",
    "figure, ax = plt.subplots(figsize=(10,2))\n",
    "figure.set_facecolor('white')\n",
    "sns.heatmap(ax=ax, data=extracted, annot=True)"
   ]
  },
  {
   "cell_type": "code",
   "execution_count": 23,
   "id": "5099822b",
   "metadata": {},
   "outputs": [],
   "source": [
    "# How much each viewer spends time in watching the stream?\n",
    "numeric['Watch time(Minutes)/Average viewers'] = numeric['Watch time(Minutes)'] / numeric['Average viewers']\n",
    "\n",
    "# If all the followers viewed the stream, how much time would each of them spend?\n",
    "numeric['Watch time(Minutes)/Followers'] = numeric['Watch time(Minutes)'] / numeric['Followers']\n",
    "\n",
    "# What proportion of Peak viewers is out of total Followers?\n",
    "numeric['Peak viewers/Followers'] = numeric['Peak viewers'] / numeric['Followers']\n",
    "\n",
    "# What proportion of Average viewers is out of total Followers?\n",
    "numeric['Average viewers/Followers'] = numeric['Average viewers'] / numeric['Followers']\n",
    "\n",
    "# How much views will be optained from a single minute of streaming?\n",
    "numeric['Views gained/Stream time(minutes)'] = numeric['Views gained'] / numeric['Stream time(minutes)']"
   ]
  },
  {
   "cell_type": "code",
   "execution_count": 24,
   "id": "6c3f6b7c",
   "metadata": {},
   "outputs": [
    {
     "data": {
      "text/plain": [
       "<AxesSubplot:>"
      ]
     },
     "execution_count": 24,
     "metadata": {},
     "output_type": "execute_result"
    },
    {
     "data": {
      "image/png": "[encoded data removed]",
      "text/plain": [
       "<Figure size 720x144 with 2 Axes>"
      ]
     },
     "metadata": {},
     "output_type": "display_data"
    }
   ],
   "source": [
    "extracted = pd.DataFrame(numeric.corr().loc['Followers gained']).transpose()\n",
    "\n",
    "figure, ax = plt.subplots(figsize=(10,2))\n",
    "figure.set_facecolor('white')\n",
    "sns.heatmap(ax=ax, data=extracted, annot=True)"
   ]
  },
  {
   "cell_type": "code",
   "execution_count": 25,
   "id": "b55620a0",
   "metadata": {},
   "outputs": [
    {
     "data": {
      "text/html": [
       "<div>\n",
       "<style scoped>\n",
       "    .dataframe tbody tr th:only-of-type {\n",
       "        vertical-align: middle;\n",
       "    }\n",
       "\n",
       "    .dataframe tbody tr th {\n",
       "        vertical-align: top;\n",
       "    }\n",
       "\n",
       "    .dataframe thead th {\n",
       "        text-align: right;\n",
       "    }\n",
       "</style>\n",
       "<table border=\"1\" class=\"dataframe\">\n",
       "  <thead>\n",
       "    <tr style=\"text-align: right;\">\n",
       "      <th></th>\n",
       "      <th>Watch time(Minutes)</th>\n",
       "      <th>Stream time(minutes)</th>\n",
       "      <th>Peak viewers</th>\n",
       "      <th>Average viewers</th>\n",
       "      <th>Followers</th>\n",
       "      <th>Views gained</th>\n",
       "      <th>Followers gained</th>\n",
       "      <th>Watch time(Minutes)/Average viewers</th>\n",
       "      <th>Watch time(Minutes)/Followers</th>\n",
       "      <th>Peak viewers/Followers</th>\n",
       "      <th>Average viewers/Followers</th>\n",
       "      <th>Views gained/Stream time(minutes)</th>\n",
       "    </tr>\n",
       "  </thead>\n",
       "  <tbody>\n",
       "    <tr>\n",
       "      <th>0</th>\n",
       "      <td>21.109149</td>\n",
       "      <td>12.053312</td>\n",
       "      <td>10.716371</td>\n",
       "      <td>10.127750</td>\n",
       "      <td>14.148330</td>\n",
       "      <td>16.813730</td>\n",
       "      <td>11.631286</td>\n",
       "      <td>2.084288</td>\n",
       "      <td>1.491989</td>\n",
       "      <td>0.757430</td>\n",
       "      <td>0.715827</td>\n",
       "      <td>1.394947</td>\n",
       "    </tr>\n",
       "    <tr>\n",
       "      <th>1</th>\n",
       "      <td>21.055679</td>\n",
       "      <td>11.964364</td>\n",
       "      <td>10.851374</td>\n",
       "      <td>10.122181</td>\n",
       "      <td>13.839043</td>\n",
       "      <td>17.398859</td>\n",
       "      <td>13.051765</td>\n",
       "      <td>2.080152</td>\n",
       "      <td>1.521469</td>\n",
       "      <td>0.784113</td>\n",
       "      <td>0.731422</td>\n",
       "      <td>1.454223</td>\n",
       "    </tr>\n",
       "    <tr>\n",
       "      <th>2</th>\n",
       "      <td>21.031515</td>\n",
       "      <td>12.100751</td>\n",
       "      <td>11.981916</td>\n",
       "      <td>10.079036</td>\n",
       "      <td>13.544537</td>\n",
       "      <td>17.289888</td>\n",
       "      <td>12.863929</td>\n",
       "      <td>2.086659</td>\n",
       "      <td>1.552767</td>\n",
       "      <td>0.884631</td>\n",
       "      <td>0.744140</td>\n",
       "      <td>1.428828</td>\n",
       "    </tr>\n",
       "    <tr>\n",
       "      <th>3</th>\n",
       "      <td>21.015458</td>\n",
       "      <td>12.251677</td>\n",
       "      <td>11.009092</td>\n",
       "      <td>10.013014</td>\n",
       "      <td>13.093748</td>\n",
       "      <td>16.466689</td>\n",
       "      <td>12.784320</td>\n",
       "      <td>2.098814</td>\n",
       "      <td>1.604999</td>\n",
       "      <td>0.840790</td>\n",
       "      <td>0.764717</td>\n",
       "      <td>1.344036</td>\n",
       "    </tr>\n",
       "    <tr>\n",
       "      <th>4</th>\n",
       "      <td>20.948589</td>\n",
       "      <td>11.963409</td>\n",
       "      <td>11.187486</td>\n",
       "      <td>10.104590</td>\n",
       "      <td>12.917791</td>\n",
       "      <td>16.855177</td>\n",
       "      <td>11.936329</td>\n",
       "      <td>2.073176</td>\n",
       "      <td>1.621685</td>\n",
       "      <td>0.866053</td>\n",
       "      <td>0.782223</td>\n",
       "      <td>1.408894</td>\n",
       "    </tr>\n",
       "  </tbody>\n",
       "</table>\n",
       "</div>"
      ],
      "text/plain": [
       "   Watch time(Minutes)  Stream time(minutes)  Peak viewers  Average viewers  \\\n",
       "0            21.109149             12.053312     10.716371        10.127750   \n",
       "1            21.055679             11.964364     10.851374        10.122181   \n",
       "2            21.031515             12.100751     11.981916        10.079036   \n",
       "3            21.015458             12.251677     11.009092        10.013014   \n",
       "4            20.948589             11.963409     11.187486        10.104590   \n",
       "\n",
       "   Followers  Views gained  Followers gained  \\\n",
       "0  14.148330     16.813730         11.631286   \n",
       "1  13.839043     17.398859         13.051765   \n",
       "2  13.544537     17.289888         12.863929   \n",
       "3  13.093748     16.466689         12.784320   \n",
       "4  12.917791     16.855177         11.936329   \n",
       "\n",
       "   Watch time(Minutes)/Average viewers  Watch time(Minutes)/Followers  \\\n",
       "0                             2.084288                       1.491989   \n",
       "1                             2.080152                       1.521469   \n",
       "2                             2.086659                       1.552767   \n",
       "3                             2.098814                       1.604999   \n",
       "4                             2.073176                       1.621685   \n",
       "\n",
       "   Peak viewers/Followers  Average viewers/Followers  \\\n",
       "0                0.757430                   0.715827   \n",
       "1                0.784113                   0.731422   \n",
       "2                0.884631                   0.744140   \n",
       "3                0.840790                   0.764717   \n",
       "4                0.866053                   0.782223   \n",
       "\n",
       "   Views gained/Stream time(minutes)  \n",
       "0                           1.394947  \n",
       "1                           1.454223  \n",
       "2                           1.428828  \n",
       "3                           1.344036  \n",
       "4                           1.408894  "
      ]
     },
     "execution_count": 25,
     "metadata": {},
     "output_type": "execute_result"
    }
   ],
   "source": [
    "numeric.head()"
   ]
  },
  {
   "cell_type": "code",
   "execution_count": 26,
   "id": "f09cc31a",
   "metadata": {},
   "outputs": [
    {
     "name": "stdout",
     "output_type": "stream",
     "text": [
      "<class 'pandas.core.frame.DataFrame'>\n",
      "Int64Index: 2649 entries, 0 to 1999\n",
      "Data columns (total 12 columns):\n",
      " #   Column                               Non-Null Count  Dtype  \n",
      "---  ------                               --------------  -----  \n",
      " 0   Watch time(Minutes)                  2649 non-null   float64\n",
      " 1   Stream time(minutes)                 2649 non-null   float64\n",
      " 2   Peak viewers                         2649 non-null   float64\n",
      " 3   Average viewers                      2649 non-null   float64\n",
      " 4   Followers                            2649 non-null   float64\n",
      " 5   Views gained                         2649 non-null   float64\n",
      " 6   Followers gained                     2649 non-null   float64\n",
      " 7   Watch time(Minutes)/Average viewers  2649 non-null   float64\n",
      " 8   Watch time(Minutes)/Followers        2649 non-null   float64\n",
      " 9   Peak viewers/Followers               2649 non-null   float64\n",
      " 10  Average viewers/Followers            2649 non-null   float64\n",
      " 11  Views gained/Stream time(minutes)    2649 non-null   float64\n",
      "dtypes: float64(12)\n",
      "memory usage: 269.0 KB\n"
     ]
    }
   ],
   "source": [
    "numeric.info()"
   ]
  },
  {
   "cell_type": "markdown",
   "id": "0bcec20d",
   "metadata": {},
   "source": [
    "## Train, Test, Val Split & Data Scaling"
   ]
  },
  {
   "cell_type": "code",
   "execution_count": 27,
   "id": "4b9fcae9",
   "metadata": {},
   "outputs": [],
   "source": [
    "from sklearn.model_selection import train_test_split\n",
    "from sklearn.preprocessing import StandardScaler\n",
    "scaler = StandardScaler()"
   ]
  },
  {
   "cell_type": "code",
   "execution_count": 28,
   "id": "4e2d3722",
   "metadata": {},
   "outputs": [],
   "source": [
    "X = numeric.drop('Followers gained', axis=1).values\n",
    "y = numeric['Followers gained'].values\n",
    "\n",
    "X_train, X_test, y_train, y_test = train_test_split(X, y, test_size=0.2, random_state=42)\n",
    "X_test, X_val, y_test, y_val = train_test_split(X_test, y_test, test_size=0.2, random_state=101)"
   ]
  },
  {
   "cell_type": "code",
   "execution_count": 29,
   "id": "521d389d",
   "metadata": {},
   "outputs": [],
   "source": [
    "X_train = scaler.fit_transform(X_train)\n",
    "X_test = scaler.fit_transform(X_test)\n",
    "X_val = scaler.fit_transform(X_val)"
   ]
  },
  {
   "cell_type": "markdown",
   "id": "6206c1d2",
   "metadata": {},
   "source": [
    "## Models Generation"
   ]
  },
  {
   "cell_type": "code",
   "execution_count": 30,
   "id": "394bdc3d",
   "metadata": {},
   "outputs": [],
   "source": [
    "def rmse(y_true, y_pred):\n",
    "    return np.sqrt(mean_squared_error(y_true, y_pred))"
   ]
  },
  {
   "cell_type": "markdown",
   "id": "c43765e7",
   "metadata": {},
   "source": [
    "### Deep Neural Network"
   ]
  },
  {
   "cell_type": "code",
   "execution_count": 33,
   "id": "d8ed5f1b",
   "metadata": {},
   "outputs": [],
   "source": [
    "from keras.models import Sequential\n",
    "from keras.layers import Input, Dense, Dropout\n",
    "import keras.backend as K\n",
    "from keras.losses import mean_squared_error as mse"
   ]
  },
  {
   "cell_type": "code",
   "execution_count": 36,
   "id": "d2e840fd",
   "metadata": {},
   "outputs": [],
   "source": [
    "inputs = Input(shape=(11))\n",
    "\n",
    "x1 = Dense(430, activation='selu', kernel_initializer=keras.initializers.RandomUniform())(inputs)\n",
    "d1 = Dropout(0.6)(x1)\n",
    "\n",
    "x2 = Dense(430, activation='selu', kernel_initializer=keras.initializers.RandomUniform())(d1)\n",
    "d2 = Dropout(0.6)(x2)\n",
    "\n",
    "x3 = Dense(256, activation='selu', kernel_initializer=keras.initializers.RandomUniform())(d2)\n",
    "d3 = Dropout(0.6)(x3)\n",
    "\n",
    "x4 = Dense(256, activation='selu', kernel_initializer=keras.initializers.RandomUniform())(d3)\n",
    "d4 = Dropout(0.6)(x4)\n",
    "\n",
    "x5 = Dense(128, activation='selu', kernel_initializer=keras.initializers.RandomUniform())(d4)\n",
    "d5 = Dropout(0.6)(x5)\n",
    "\n",
    "x6 = Dense(128, activation='selu', kernel_initializer=keras.initializers.RandomUniform())(d5)\n",
    "d6 = Dropout(0.6)(x6)\n",
    "\n",
    "x7 = Dense(32, activation='selu', kernel_initializer=keras.initializers.RandomUniform())(d6)\n",
    "d7 = Dropout(0.6)(x7)\n",
    "\n",
    "x8 = Dense(32, activation='selu', kernel_initializer=keras.initializers.RandomUniform())(d7)\n",
    "d8 = Dropout(0.6)(x8)\n",
    "\n",
    "outputs = Dense(1)(d8)\n",
    "\n",
    "model = keras.Model(inputs=inputs, outputs=outputs)\n",
    "\n",
    "def rmse(y_true, y_pred):\n",
    "    return K.sqrt(mse(y_true, y_pred))\n",
    "\n",
    "model.compile(\n",
    "    loss=rmse, optimizer=keras.optimizers.Adam(learning_rate=0.001)\n",
    ")"
   ]
  },
  {
   "cell_type": "code",
   "execution_count": 37,
   "id": "58bebe15",
   "metadata": {},
   "outputs": [
    {
     "name": "stdout",
     "output_type": "stream",
     "text": [
      "Epoch 1/75\n",
      "67/67 [==============================] - 2s 9ms/step - loss: 5.5457 - val_loss: 1.1611\n",
      "Epoch 2/75\n",
      "67/67 [==============================] - 0s 7ms/step - loss: 2.7504 - val_loss: 1.1643\n",
      "Epoch 3/75\n",
      "67/67 [==============================] - 0s 7ms/step - loss: 2.5552 - val_loss: 0.9410\n",
      "Epoch 4/75\n",
      "67/67 [==============================] - 0s 7ms/step - loss: 2.4561 - val_loss: 1.1271\n",
      "Epoch 5/75\n",
      "67/67 [==============================] - 0s 7ms/step - loss: 2.4128 - val_loss: 0.6892\n",
      "Epoch 6/75\n",
      "67/67 [==============================] - 0s 7ms/step - loss: 2.2756 - val_loss: 0.9257\n",
      "Epoch 7/75\n",
      "67/67 [==============================] - 0s 7ms/step - loss: 2.2542 - val_loss: 0.9304\n",
      "Epoch 8/75\n",
      "67/67 [==============================] - 0s 7ms/step - loss: 2.3244 - val_loss: 0.8612\n",
      "Epoch 9/75\n",
      "67/67 [==============================] - 0s 7ms/step - loss: 2.2740 - val_loss: 0.6960\n",
      "Epoch 10/75\n",
      "67/67 [==============================] - 1s 8ms/step - loss: 2.3216 - val_loss: 0.9191\n",
      "Epoch 11/75\n",
      "67/67 [==============================] - 0s 7ms/step - loss: 2.2712 - val_loss: 0.6335\n",
      "Epoch 12/75\n",
      "67/67 [==============================] - 0s 6ms/step - loss: 2.1835 - val_loss: 0.7013\n",
      "Epoch 13/75\n",
      "67/67 [==============================] - 0s 6ms/step - loss: 2.1794 - val_loss: 0.6954\n",
      "Epoch 14/75\n",
      "67/67 [==============================] - 0s 7ms/step - loss: 2.2004 - val_loss: 0.9265\n",
      "Epoch 15/75\n",
      "67/67 [==============================] - 0s 7ms/step - loss: 2.1848 - val_loss: 0.7438\n",
      "Epoch 16/75\n",
      "67/67 [==============================] - 0s 6ms/step - loss: 2.1834 - val_loss: 0.6620\n",
      "Epoch 17/75\n",
      "67/67 [==============================] - 0s 6ms/step - loss: 2.1380 - val_loss: 0.7497\n",
      "Epoch 18/75\n",
      "67/67 [==============================] - 0s 6ms/step - loss: 2.1897 - val_loss: 0.6787\n",
      "Epoch 19/75\n",
      "67/67 [==============================] - 0s 6ms/step - loss: 2.1027 - val_loss: 0.8424\n",
      "Epoch 20/75\n",
      "67/67 [==============================] - 0s 6ms/step - loss: 2.0391 - val_loss: 0.5978\n",
      "Epoch 21/75\n",
      "67/67 [==============================] - 0s 6ms/step - loss: 2.1096 - val_loss: 0.9293\n",
      "Epoch 22/75\n",
      "67/67 [==============================] - 0s 6ms/step - loss: 2.0700 - val_loss: 0.6921\n",
      "Epoch 23/75\n",
      "67/67 [==============================] - 0s 7ms/step - loss: 2.1444 - val_loss: 0.6832\n",
      "Epoch 24/75\n",
      "67/67 [==============================] - 1s 8ms/step - loss: 2.0706 - val_loss: 0.6665\n",
      "Epoch 25/75\n",
      "67/67 [==============================] - 0s 7ms/step - loss: 2.0548 - val_loss: 0.6191\n",
      "Epoch 26/75\n",
      "67/67 [==============================] - 0s 7ms/step - loss: 2.0617 - val_loss: 0.7798\n",
      "Epoch 27/75\n",
      "67/67 [==============================] - 0s 7ms/step - loss: 2.0311 - val_loss: 0.6574\n",
      "Epoch 28/75\n",
      "67/67 [==============================] - 0s 7ms/step - loss: 1.9938 - val_loss: 0.6224\n",
      "Epoch 29/75\n",
      "67/67 [==============================] - 0s 7ms/step - loss: 2.0025 - val_loss: 0.6729\n",
      "Epoch 30/75\n",
      "67/67 [==============================] - 0s 7ms/step - loss: 1.9945 - val_loss: 0.7822\n",
      "Epoch 31/75\n",
      "67/67 [==============================] - 0s 7ms/step - loss: 1.9627 - val_loss: 0.7139\n",
      "Epoch 32/75\n",
      "67/67 [==============================] - 0s 7ms/step - loss: 1.9373 - val_loss: 0.8145\n",
      "Epoch 33/75\n",
      "67/67 [==============================] - 0s 7ms/step - loss: 1.9970 - val_loss: 0.7403\n",
      "Epoch 34/75\n",
      "67/67 [==============================] - 0s 7ms/step - loss: 1.9833 - val_loss: 0.7327\n",
      "Epoch 35/75\n",
      "67/67 [==============================] - 1s 8ms/step - loss: 2.0319 - val_loss: 0.9412\n",
      "Epoch 36/75\n",
      "67/67 [==============================] - 0s 7ms/step - loss: 1.9407 - val_loss: 0.7413\n",
      "Epoch 37/75\n",
      "67/67 [==============================] - 0s 7ms/step - loss: 1.9125 - val_loss: 0.4753\n",
      "Epoch 38/75\n",
      "67/67 [==============================] - 0s 7ms/step - loss: 1.8805 - val_loss: 0.6530\n",
      "Epoch 39/75\n",
      "67/67 [==============================] - 0s 7ms/step - loss: 1.8830 - val_loss: 0.6962\n",
      "Epoch 40/75\n",
      "67/67 [==============================] - 0s 7ms/step - loss: 1.8588 - val_loss: 0.5437\n",
      "Epoch 41/75\n",
      "67/67 [==============================] - 0s 7ms/step - loss: 1.8758 - val_loss: 0.7131\n",
      "Epoch 42/75\n",
      "67/67 [==============================] - 0s 6ms/step - loss: 1.8635 - val_loss: 0.6564\n",
      "Epoch 43/75\n",
      "67/67 [==============================] - 0s 7ms/step - loss: 1.9619 - val_loss: 0.8311\n",
      "Epoch 44/75\n",
      "67/67 [==============================] - 0s 7ms/step - loss: 2.0133 - val_loss: 0.6003\n",
      "Epoch 45/75\n",
      "67/67 [==============================] - 0s 7ms/step - loss: 1.9547 - val_loss: 0.9061\n",
      "Epoch 46/75\n",
      "67/67 [==============================] - 0s 6ms/step - loss: 1.8564 - val_loss: 0.6405\n",
      "Epoch 47/75\n",
      "67/67 [==============================] - 0s 6ms/step - loss: 1.8074 - val_loss: 0.5639\n",
      "Epoch 48/75\n",
      "67/67 [==============================] - 0s 6ms/step - loss: 1.8231 - val_loss: 0.5856\n",
      "Epoch 49/75\n",
      "67/67 [==============================] - 0s 6ms/step - loss: 1.8570 - val_loss: 0.6555\n",
      "Epoch 50/75\n",
      "67/67 [==============================] - 0s 6ms/step - loss: 1.7966 - val_loss: 0.7343\n",
      "Epoch 51/75\n",
      "67/67 [==============================] - 0s 6ms/step - loss: 1.7500 - val_loss: 0.5519\n",
      "Epoch 52/75\n",
      "67/67 [==============================] - 0s 6ms/step - loss: 1.8167 - val_loss: 0.7527\n",
      "Epoch 53/75\n",
      "67/67 [==============================] - 0s 6ms/step - loss: 1.7664 - val_loss: 0.5310\n",
      "Epoch 54/75\n",
      "67/67 [==============================] - 0s 6ms/step - loss: 1.7804 - val_loss: 0.4381\n",
      "Epoch 55/75\n",
      "67/67 [==============================] - 0s 6ms/step - loss: 1.7522 - val_loss: 0.6199\n",
      "Epoch 56/75\n",
      "67/67 [==============================] - 0s 6ms/step - loss: 1.7321 - val_loss: 0.4858\n",
      "Epoch 57/75\n",
      "67/67 [==============================] - 0s 6ms/step - loss: 1.7047 - val_loss: 0.5256\n",
      "Epoch 58/75\n",
      "67/67 [==============================] - 0s 6ms/step - loss: 1.7173 - val_loss: 0.5181\n",
      "Epoch 59/75\n",
      "67/67 [==============================] - 0s 6ms/step - loss: 1.6956 - val_loss: 0.5167\n",
      "Epoch 60/75\n",
      "67/67 [==============================] - 0s 6ms/step - loss: 1.7329 - val_loss: 0.7048\n",
      "Epoch 61/75\n",
      "67/67 [==============================] - 0s 6ms/step - loss: 1.6453 - val_loss: 0.4933\n",
      "Epoch 62/75\n",
      "67/67 [==============================] - 0s 6ms/step - loss: 1.7135 - val_loss: 0.7910\n",
      "Epoch 63/75\n",
      "67/67 [==============================] - 0s 6ms/step - loss: 1.6546 - val_loss: 0.5210\n",
      "Epoch 64/75\n",
      "67/67 [==============================] - 0s 6ms/step - loss: 1.6281 - val_loss: 0.6041\n",
      "Epoch 65/75\n",
      "67/67 [==============================] - 0s 6ms/step - loss: 1.6740 - val_loss: 0.7185\n",
      "Epoch 66/75\n",
      "67/67 [==============================] - 0s 6ms/step - loss: 1.6468 - val_loss: 0.6483\n",
      "Epoch 67/75\n",
      "67/67 [==============================] - 0s 6ms/step - loss: 1.6997 - val_loss: 0.5762\n",
      "Epoch 68/75\n",
      "67/67 [==============================] - 0s 6ms/step - loss: 1.6824 - val_loss: 0.6374\n",
      "Epoch 69/75\n",
      "67/67 [==============================] - 0s 6ms/step - loss: 1.7061 - val_loss: 0.7920\n",
      "Epoch 70/75\n",
      "67/67 [==============================] - 0s 6ms/step - loss: 1.6336 - val_loss: 0.4597\n",
      "Epoch 71/75\n",
      "67/67 [==============================] - 0s 6ms/step - loss: 1.5903 - val_loss: 0.5743\n",
      "Epoch 72/75\n",
      "67/67 [==============================] - 0s 6ms/step - loss: 1.5923 - val_loss: 0.6780\n",
      "Epoch 73/75\n",
      "67/67 [==============================] - 0s 6ms/step - loss: 1.7140 - val_loss: 0.6227\n",
      "Epoch 74/75\n",
      "67/67 [==============================] - 0s 6ms/step - loss: 1.6211 - val_loss: 0.6052\n",
      "Epoch 75/75\n",
      "67/67 [==============================] - 0s 6ms/step - loss: 1.6310 - val_loss: 0.6205\n"
     ]
    },
    {
     "data": {
      "text/plain": [
       "<keras.callbacks.History at 0x25f4cf61af0>"
      ]
     },
     "execution_count": 37,
     "metadata": {},
     "output_type": "execute_result"
    }
   ],
   "source": [
    "model.fit(X_train, y_train, validation_data=(X_val, y_val), batch_size=32, epochs=75)"
   ]
  },
  {
   "cell_type": "markdown",
   "id": "277f10a0",
   "metadata": {},
   "source": [
    "### XGBRegressor"
   ]
  },
  {
   "cell_type": "code",
   "execution_count": 38,
   "id": "e2772ccb",
   "metadata": {},
   "outputs": [
    {
     "name": "stdout",
     "output_type": "stream",
     "text": [
      "[20:51:13] WARNING: C:/Users/Administrator/workspace/xgboost-win64_release_1.4.0/src/objective/regression_obj.cu:171: reg:linear is now deprecated in favor of reg:squarederror.\n",
      "\n",
      "XGBoost Train EVS: 0.9967052928294794\n",
      "XGBoost Train RMSE: 0.11145082116127014\n",
      "\n",
      "XGBoost Test EVS: 0.8445952957236605\n",
      "XGBoost Test RMSE: 0.56349116563797\n",
      "\n"
     ]
    }
   ],
   "source": [
    "from xgboost import XGBRegressor\n",
    "\n",
    "# Model generation and training\n",
    "xgb_model = XGBRegressor(objective='reg:linear', \n",
    "                         n_estimators=5000, \n",
    "                         max_depth=15, \n",
    "                         eta=0.001, \n",
    "                         subsample=0.8, \n",
    "                         colsample_bytree=0.8, \n",
    "                         eval_metric='rmse')\n",
    "\n",
    "xgb_model.fit(X_train, y_train, eval_set=[(X_val, y_val)], verbose=0)\n",
    "\n",
    "# Make predictions\n",
    "train_pred = xgb_model.predict(X_train)\n",
    "test_pred = xgb_model.predict(X_test)\n",
    "\n",
    "# Train set performance\n",
    "xgb_train_evs = explained_variance_score(y_train, train_pred)\n",
    "xgb_train_rmse = rmse(y_train, train_pred)\n",
    "\n",
    "# Test set performance\n",
    "xgb_test_evs = explained_variance_score(y_test, test_pred)\n",
    "xgb_test_rmse = rmse(y_test, test_pred)\n",
    "\n",
    "# Output results\n",
    "xgb_results = f\"\"\"\n",
    "XGBoost Train EVS: {xgb_train_evs}\n",
    "XGBoost Train RMSE: {xgb_train_rmse}\n",
    "\n",
    "XGBoost Test EVS: {xgb_test_evs}\n",
    "XGBoost Test RMSE: {xgb_test_rmse}\n",
    "\"\"\"\n",
    "\n",
    "print(xgb_results)"
   ]
  },
  {
   "cell_type": "markdown",
   "id": "d92f5a8c",
   "metadata": {},
   "source": [
    "### LGBMRegressor"
   ]
  },
  {
   "cell_type": "code",
   "execution_count": 39,
   "id": "863d6352",
   "metadata": {},
   "outputs": [
    {
     "name": "stdout",
     "output_type": "stream",
     "text": [
      "\n",
      "LightGBM Train EVS: 0.9911311362137526\n",
      "LightGBM Train RMSE: 0.12542520238007906\n",
      "\n",
      "LightGBM Test EVS: 0.7123195181594686\n",
      "LightGBM Test RMSE: 0.7693921580333197\n",
      "\n"
     ]
    }
   ],
   "source": [
    "from lightgbm import LGBMRegressor as lgb\n",
    "\n",
    "# Model generation and training\n",
    "lgb_model = lgb(boosting_type='gbdt', objective='regression',\n",
    "                num_leaves=150, learning_rate=0.001, n_estimators=10**4)\n",
    "lgb_model.fit(X_train, y_train)\n",
    "\n",
    "# Make predictions\n",
    "train_pred = lgb_model.predict(X_train)\n",
    "test_pred = lgb_model.predict(X_test)\n",
    "\n",
    "# Train set performance\n",
    "lgb_train_evs = explained_variance_score(y_train, train_pred)\n",
    "lgb_train_rmse = rmse(y_train, train_pred)\n",
    "\n",
    "# Test set performance\n",
    "lgb_test_evs = explained_variance_score(y_test, test_pred)\n",
    "lgb_test_rmse = rmse(y_test, test_pred)\n",
    "\n",
    "# Output results\n",
    "lgb_results = f\"\"\"\n",
    "LightGBM Train EVS: {lgb_train_evs}\n",
    "LightGBM Train RMSE: {lgb_train_rmse}\n",
    "\n",
    "LightGBM Test EVS: {lgb_test_evs}\n",
    "LightGBM Test RMSE: {lgb_test_rmse}\n",
    "\"\"\"\n",
    "\n",
    "print(lgb_results)"
   ]
  },
  {
   "cell_type": "markdown",
   "id": "042b946f",
   "metadata": {},
   "source": [
    "### Random Forests Regressor"
   ]
  },
  {
   "cell_type": "code",
   "execution_count": 40,
   "id": "8b16fa6e",
   "metadata": {},
   "outputs": [
    {
     "name": "stderr",
     "output_type": "stream",
     "text": [
      "[Parallel(n_jobs=1)]: Using backend SequentialBackend with 1 concurrent workers.\n"
     ]
    },
    {
     "name": "stdout",
     "output_type": "stream",
     "text": [
      "\n",
      "Random Forests Train EVS: 0.9918458773609383\n",
      "Random Forests Train RMSE: 0.12026648980318665\n",
      "\n",
      "Random Forests Test EVS: 0.89057006706295\n",
      "Random Forests Test RMSE: 0.4716556176605354\n",
      "\n"
     ]
    },
    {
     "name": "stderr",
     "output_type": "stream",
     "text": [
      "[Parallel(n_jobs=1)]: Done 350 out of 350 | elapsed:    0.9s finished\n",
      "[Parallel(n_jobs=1)]: Using backend SequentialBackend with 1 concurrent workers.\n",
      "[Parallel(n_jobs=1)]: Done 350 out of 350 | elapsed:    0.0s finished\n",
      "[Parallel(n_jobs=1)]: Using backend SequentialBackend with 1 concurrent workers.\n",
      "[Parallel(n_jobs=1)]: Done 350 out of 350 | elapsed:    0.0s finished\n"
     ]
    }
   ],
   "source": [
    "from sklearn.ensemble import RandomForestRegressor\n",
    "\n",
    "# Model generation and training\n",
    "forest = RandomForestRegressor(n_estimators=350, verbose=1)\n",
    "forest.fit(X_train, y_train)\n",
    "\n",
    "# Make predictions\n",
    "train_pred = forest.predict(X_train)\n",
    "test_pred = forest.predict(X_test)\n",
    "\n",
    "# Train set performance\n",
    "rf_train_evs = explained_variance_score(y_train, train_pred)\n",
    "rf_train_rmse = rmse(y_train, train_pred)\n",
    "\n",
    "# Test set performance\n",
    "rf_test_evs = explained_variance_score(y_test, test_pred)\n",
    "rf_test_rmse = rmse(y_test, test_pred)\n",
    "\n",
    "# Output results\n",
    "rf_results = f\"\"\"\n",
    "Random Forests Train EVS: {rf_train_evs}\n",
    "Random Forests Train RMSE: {rf_train_rmse}\n",
    "\n",
    "Random Forests Test EVS: {rf_test_evs}\n",
    "Random Forests Test RMSE: {rf_test_rmse}\n",
    "\"\"\"\n",
    "\n",
    "print(rf_results)"
   ]
  },
  {
   "cell_type": "markdown",
   "id": "56780d76",
   "metadata": {},
   "source": [
    "## Stacked Model"
   ]
  },
  {
   "cell_type": "code",
   "execution_count": 41,
   "id": "554a0920",
   "metadata": {},
   "outputs": [
    {
     "name": "stdout",
     "output_type": "stream",
     "text": [
      "[20:51:58] WARNING: C:/Users/Administrator/workspace/xgboost-win64_release_1.4.0/src/objective/regression_obj.cu:171: reg:linear is now deprecated in favor of reg:squarederror.\n"
     ]
    },
    {
     "name": "stderr",
     "output_type": "stream",
     "text": [
      "[Parallel(n_jobs=1)]: Using backend SequentialBackend with 1 concurrent workers.\n",
      "[Parallel(n_jobs=1)]: Done 350 out of 350 | elapsed:    1.1s finished\n"
     ]
    },
    {
     "name": "stdout",
     "output_type": "stream",
     "text": [
      "[20:52:13] WARNING: C:/Users/Administrator/workspace/xgboost-win64_release_1.4.0/src/objective/regression_obj.cu:171: reg:linear is now deprecated in favor of reg:squarederror.\n",
      "[20:52:21] WARNING: C:/Users/Administrator/workspace/xgboost-win64_release_1.4.0/src/objective/regression_obj.cu:171: reg:linear is now deprecated in favor of reg:squarederror.\n",
      "[20:52:29] WARNING: C:/Users/Administrator/workspace/xgboost-win64_release_1.4.0/src/objective/regression_obj.cu:171: reg:linear is now deprecated in favor of reg:squarederror.\n",
      "[20:52:37] WARNING: C:/Users/Administrator/workspace/xgboost-win64_release_1.4.0/src/objective/regression_obj.cu:171: reg:linear is now deprecated in favor of reg:squarederror.\n",
      "[20:52:44] WARNING: C:/Users/Administrator/workspace/xgboost-win64_release_1.4.0/src/objective/regression_obj.cu:171: reg:linear is now deprecated in favor of reg:squarederror.\n"
     ]
    },
    {
     "name": "stderr",
     "output_type": "stream",
     "text": [
      "[Parallel(n_jobs=1)]: Using backend SequentialBackend with 1 concurrent workers.\n",
      "[Parallel(n_jobs=1)]: Done 350 out of 350 | elapsed:    0.7s finished\n",
      "[Parallel(n_jobs=1)]: Using backend SequentialBackend with 1 concurrent workers.\n",
      "[Parallel(n_jobs=1)]: Done 350 out of 350 | elapsed:    0.0s finished\n",
      "[Parallel(n_jobs=1)]: Using backend SequentialBackend with 1 concurrent workers.\n",
      "[Parallel(n_jobs=1)]: Done 350 out of 350 | elapsed:    0.7s finished\n",
      "[Parallel(n_jobs=1)]: Using backend SequentialBackend with 1 concurrent workers.\n",
      "[Parallel(n_jobs=1)]: Done 350 out of 350 | elapsed:    0.0s finished\n",
      "[Parallel(n_jobs=1)]: Using backend SequentialBackend with 1 concurrent workers.\n",
      "[Parallel(n_jobs=1)]: Done 350 out of 350 | elapsed:    0.7s finished\n",
      "[Parallel(n_jobs=1)]: Using backend SequentialBackend with 1 concurrent workers.\n",
      "[Parallel(n_jobs=1)]: Done 350 out of 350 | elapsed:    0.0s finished\n",
      "[Parallel(n_jobs=1)]: Using backend SequentialBackend with 1 concurrent workers.\n",
      "[Parallel(n_jobs=1)]: Done 350 out of 350 | elapsed:    0.7s finished\n",
      "[Parallel(n_jobs=1)]: Using backend SequentialBackend with 1 concurrent workers.\n",
      "[Parallel(n_jobs=1)]: Done 350 out of 350 | elapsed:    0.0s finished\n",
      "[Parallel(n_jobs=1)]: Using backend SequentialBackend with 1 concurrent workers.\n",
      "[Parallel(n_jobs=1)]: Done 350 out of 350 | elapsed:    0.7s finished\n",
      "[Parallel(n_jobs=1)]: Using backend SequentialBackend with 1 concurrent workers.\n",
      "[Parallel(n_jobs=1)]: Done 350 out of 350 | elapsed:    0.0s finished\n",
      "[Parallel(n_jobs=1)]: Using backend SequentialBackend with 1 concurrent workers.\n",
      "[Parallel(n_jobs=1)]: Done 350 out of 350 | elapsed:    0.0s finished\n",
      "[Parallel(n_jobs=1)]: Using backend SequentialBackend with 1 concurrent workers.\n"
     ]
    },
    {
     "name": "stdout",
     "output_type": "stream",
     "text": [
      "\n",
      "Stacked Model Train EVS: 0.9950354756935508\n",
      "Stacked Model Train RMSE: 0.09394265333069227\n",
      "\n",
      "Stacked Model Test EVS: 0.8665527409035786\n",
      "Stacked Model Test RMSE: 0.512467992328783\n",
      "\n"
     ]
    },
    {
     "name": "stderr",
     "output_type": "stream",
     "text": [
      "[Parallel(n_jobs=1)]: Done 350 out of 350 | elapsed:    0.0s finished\n"
     ]
    }
   ],
   "source": [
    "from sklearn.ensemble import StackingRegressor\n",
    "from sklearn.linear_model import LinearRegression\n",
    "\n",
    "# Models to use\n",
    "estimators = [\n",
    "    ('XGBRegressor', xgb_model),\n",
    "    ('LGBMRegressor', lgb_model),\n",
    "    ('RFRegressor', forest)\n",
    "]\n",
    "\n",
    "# Build Stacked Model\n",
    "stack_model = StackingRegressor(\n",
    "    estimators=estimators, final_estimator=LinearRegression()\n",
    ")\n",
    "\n",
    "# Train Stacked Model\n",
    "stack_model.fit(X_train, y_train)\n",
    "\n",
    "# Make Predictions\n",
    "sm_train_pred = stack_model.predict(X_train) \n",
    "sm_test_pred = stack_model.predict(X_test)\n",
    "\n",
    "# Train Set Performance\n",
    "sm_train_evs = explained_variance_score(y_train, sm_train_pred)\n",
    "sm_train_rmse = rmse(y_train, sm_train_pred)\n",
    "\n",
    "# Test Set Performance\n",
    "sm_test_evs = explained_variance_score(y_test, sm_test_pred)\n",
    "sm_test_rmse = rmse(y_test, sm_test_pred)\n",
    "\n",
    "# Output results\n",
    "sm_results = f\"\"\"\n",
    "Stacked Model Train EVS: {sm_train_evs}\n",
    "Stacked Model Train RMSE: {sm_train_rmse}\n",
    "\n",
    "Stacked Model Test EVS: {sm_test_evs}\n",
    "Stacked Model Test RMSE: {sm_test_rmse}\n",
    "\"\"\"\n",
    "\n",
    "print(sm_results)"
   ]
  },
  {
   "cell_type": "markdown",
   "id": "e3930370",
   "metadata": {},
   "source": [
    "## Model Predictions"
   ]
  },
  {
   "cell_type": "code",
   "execution_count": 42,
   "id": "5637b848",
   "metadata": {},
   "outputs": [
    {
     "data": {
      "text/html": [
       "<div>\n",
       "<style scoped>\n",
       "    .dataframe tbody tr th:only-of-type {\n",
       "        vertical-align: middle;\n",
       "    }\n",
       "\n",
       "    .dataframe tbody tr th {\n",
       "        vertical-align: top;\n",
       "    }\n",
       "\n",
       "    .dataframe thead th {\n",
       "        text-align: right;\n",
       "    }\n",
       "</style>\n",
       "<table border=\"1\" class=\"dataframe\">\n",
       "  <thead>\n",
       "    <tr style=\"text-align: right;\">\n",
       "      <th></th>\n",
       "      <th>Channel</th>\n",
       "      <th>Watch time(Minutes)</th>\n",
       "      <th>Stream time(minutes)</th>\n",
       "      <th>Peak viewers</th>\n",
       "      <th>Average viewers</th>\n",
       "      <th>Followers</th>\n",
       "      <th>Views gained</th>\n",
       "      <th>Partnered</th>\n",
       "      <th>Mature</th>\n",
       "      <th>Language</th>\n",
       "    </tr>\n",
       "  </thead>\n",
       "  <tbody>\n",
       "    <tr>\n",
       "      <th>0</th>\n",
       "      <td>97R8L3J0</td>\n",
       "      <td>154332060</td>\n",
       "      <td>27105</td>\n",
       "      <td>29983</td>\n",
       "      <td>5864</td>\n",
       "      <td>308815</td>\n",
       "      <td>8255635</td>\n",
       "      <td>0</td>\n",
       "      <td>0</td>\n",
       "      <td>Russian</td>\n",
       "    </tr>\n",
       "    <tr>\n",
       "      <th>1</th>\n",
       "      <td>6UV44QFF</td>\n",
       "      <td>154277370</td>\n",
       "      <td>87375</td>\n",
       "      <td>9437</td>\n",
       "      <td>1759</td>\n",
       "      <td>151886</td>\n",
       "      <td>3019137</td>\n",
       "      <td>1</td>\n",
       "      <td>1</td>\n",
       "      <td>French</td>\n",
       "    </tr>\n",
       "    <tr>\n",
       "      <th>2</th>\n",
       "      <td>2WKQZUGR</td>\n",
       "      <td>154125945</td>\n",
       "      <td>77475</td>\n",
       "      <td>9460</td>\n",
       "      <td>2106</td>\n",
       "      <td>411346</td>\n",
       "      <td>4832180</td>\n",
       "      <td>1</td>\n",
       "      <td>0</td>\n",
       "      <td>Turkish</td>\n",
       "    </tr>\n",
       "    <tr>\n",
       "      <th>3</th>\n",
       "      <td>R4DGVX2D</td>\n",
       "      <td>153988380</td>\n",
       "      <td>83325</td>\n",
       "      <td>11200</td>\n",
       "      <td>1787</td>\n",
       "      <td>272635</td>\n",
       "      <td>4345590</td>\n",
       "      <td>1</td>\n",
       "      <td>0</td>\n",
       "      <td>French</td>\n",
       "    </tr>\n",
       "    <tr>\n",
       "      <th>4</th>\n",
       "      <td>P8YSNIOI</td>\n",
       "      <td>153963765</td>\n",
       "      <td>110910</td>\n",
       "      <td>14329</td>\n",
       "      <td>1281</td>\n",
       "      <td>106365</td>\n",
       "      <td>1449834</td>\n",
       "      <td>1</td>\n",
       "      <td>1</td>\n",
       "      <td>English</td>\n",
       "    </tr>\n",
       "  </tbody>\n",
       "</table>\n",
       "</div>"
      ],
      "text/plain": [
       "    Channel  Watch time(Minutes)  Stream time(minutes)  Peak viewers  \\\n",
       "0  97R8L3J0            154332060                 27105         29983   \n",
       "1  6UV44QFF            154277370                 87375          9437   \n",
       "2  2WKQZUGR            154125945                 77475          9460   \n",
       "3  R4DGVX2D            153988380                 83325         11200   \n",
       "4  P8YSNIOI            153963765                110910         14329   \n",
       "\n",
       "   Average viewers  Followers  Views gained  Partnered  Mature Language  \n",
       "0             5864     308815       8255635          0       0  Russian  \n",
       "1             1759     151886       3019137          1       1   French  \n",
       "2             2106     411346       4832180          1       0  Turkish  \n",
       "3             1787     272635       4345590          1       0   French  \n",
       "4             1281     106365       1449834          1       1  English  "
      ]
     },
     "execution_count": 42,
     "metadata": {},
     "output_type": "execute_result"
    }
   ],
   "source": [
    "test = pd.read_csv('Data_Files/test.csv')\n",
    "test.head()"
   ]
  },
  {
   "cell_type": "code",
   "execution_count": 43,
   "id": "51813db6",
   "metadata": {},
   "outputs": [
    {
     "data": {
      "text/html": [
       "<div>\n",
       "<style scoped>\n",
       "    .dataframe tbody tr th:only-of-type {\n",
       "        vertical-align: middle;\n",
       "    }\n",
       "\n",
       "    .dataframe tbody tr th {\n",
       "        vertical-align: top;\n",
       "    }\n",
       "\n",
       "    .dataframe thead th {\n",
       "        text-align: right;\n",
       "    }\n",
       "</style>\n",
       "<table border=\"1\" class=\"dataframe\">\n",
       "  <thead>\n",
       "    <tr style=\"text-align: right;\">\n",
       "      <th></th>\n",
       "      <th>Watch time(Minutes)</th>\n",
       "      <th>Stream time(minutes)</th>\n",
       "      <th>Peak viewers</th>\n",
       "      <th>Average viewers</th>\n",
       "      <th>Followers</th>\n",
       "      <th>Views gained</th>\n",
       "    </tr>\n",
       "  </thead>\n",
       "  <tbody>\n",
       "    <tr>\n",
       "      <th>0</th>\n",
       "      <td>154332060</td>\n",
       "      <td>27105</td>\n",
       "      <td>29983</td>\n",
       "      <td>5864</td>\n",
       "      <td>308815</td>\n",
       "      <td>8255635</td>\n",
       "    </tr>\n",
       "    <tr>\n",
       "      <th>1</th>\n",
       "      <td>154277370</td>\n",
       "      <td>87375</td>\n",
       "      <td>9437</td>\n",
       "      <td>1759</td>\n",
       "      <td>151886</td>\n",
       "      <td>3019137</td>\n",
       "    </tr>\n",
       "    <tr>\n",
       "      <th>2</th>\n",
       "      <td>154125945</td>\n",
       "      <td>77475</td>\n",
       "      <td>9460</td>\n",
       "      <td>2106</td>\n",
       "      <td>411346</td>\n",
       "      <td>4832180</td>\n",
       "    </tr>\n",
       "    <tr>\n",
       "      <th>3</th>\n",
       "      <td>153988380</td>\n",
       "      <td>83325</td>\n",
       "      <td>11200</td>\n",
       "      <td>1787</td>\n",
       "      <td>272635</td>\n",
       "      <td>4345590</td>\n",
       "    </tr>\n",
       "    <tr>\n",
       "      <th>4</th>\n",
       "      <td>153963765</td>\n",
       "      <td>110910</td>\n",
       "      <td>14329</td>\n",
       "      <td>1281</td>\n",
       "      <td>106365</td>\n",
       "      <td>1449834</td>\n",
       "    </tr>\n",
       "  </tbody>\n",
       "</table>\n",
       "</div>"
      ],
      "text/plain": [
       "   Watch time(Minutes)  Stream time(minutes)  Peak viewers  Average viewers  \\\n",
       "0            154332060                 27105         29983             5864   \n",
       "1            154277370                 87375          9437             1759   \n",
       "2            154125945                 77475          9460             2106   \n",
       "3            153988380                 83325         11200             1787   \n",
       "4            153963765                110910         14329             1281   \n",
       "\n",
       "   Followers  Views gained  \n",
       "0     308815       8255635  \n",
       "1     151886       3019137  \n",
       "2     411346       4832180  \n",
       "3     272635       4345590  \n",
       "4     106365       1449834  "
      ]
     },
     "execution_count": 43,
     "metadata": {},
     "output_type": "execute_result"
    }
   ],
   "source": [
    "test.drop(['Channel', 'Partnered', 'Mature', 'Language'], axis=1, inplace=True)\n",
    "test.head()"
   ]
  },
  {
   "cell_type": "code",
   "execution_count": 44,
   "id": "83cc3736",
   "metadata": {},
   "outputs": [
    {
     "name": "stdout",
     "output_type": "stream",
     "text": [
      "Watch time(Minutes): 122192850\n",
      "\n",
      "Stream time(minutes): 3465\n",
      "\n",
      "Peak viewers: 496\n",
      "\n",
      "Average viewers: 235\n",
      "\n",
      "Followers: 7102\n",
      "\n",
      "Views gained: 956614\n",
      "\n"
     ]
    }
   ],
   "source": [
    "for col in test.columns:\n",
    "    print(f\"{col}: {test[col].min()}\\n\")"
   ]
  },
  {
   "cell_type": "code",
   "execution_count": 45,
   "id": "e95911c2",
   "metadata": {},
   "outputs": [
    {
     "data": {
      "text/html": [
       "<div>\n",
       "<style scoped>\n",
       "    .dataframe tbody tr th:only-of-type {\n",
       "        vertical-align: middle;\n",
       "    }\n",
       "\n",
       "    .dataframe tbody tr th {\n",
       "        vertical-align: top;\n",
       "    }\n",
       "\n",
       "    .dataframe thead th {\n",
       "        text-align: right;\n",
       "    }\n",
       "</style>\n",
       "<table border=\"1\" class=\"dataframe\">\n",
       "  <thead>\n",
       "    <tr style=\"text-align: right;\">\n",
       "      <th></th>\n",
       "      <th>Watch time(Minutes)</th>\n",
       "      <th>Stream time(minutes)</th>\n",
       "      <th>Peak viewers</th>\n",
       "      <th>Average viewers</th>\n",
       "      <th>Followers</th>\n",
       "      <th>Views gained</th>\n",
       "    </tr>\n",
       "  </thead>\n",
       "  <tbody>\n",
       "    <tr>\n",
       "      <th>0</th>\n",
       "      <td>18.854617</td>\n",
       "      <td>10.207473</td>\n",
       "      <td>10.308386</td>\n",
       "      <td>8.676587</td>\n",
       "      <td>12.640498</td>\n",
       "      <td>15.926407</td>\n",
       "    </tr>\n",
       "    <tr>\n",
       "      <th>1</th>\n",
       "      <td>18.854263</td>\n",
       "      <td>11.377964</td>\n",
       "      <td>9.152393</td>\n",
       "      <td>7.472501</td>\n",
       "      <td>11.930886</td>\n",
       "      <td>14.920482</td>\n",
       "    </tr>\n",
       "    <tr>\n",
       "      <th>2</th>\n",
       "      <td>18.853281</td>\n",
       "      <td>11.257711</td>\n",
       "      <td>9.154828</td>\n",
       "      <td>7.652546</td>\n",
       "      <td>12.927190</td>\n",
       "      <td>15.390808</td>\n",
       "    </tr>\n",
       "    <tr>\n",
       "      <th>3</th>\n",
       "      <td>18.852388</td>\n",
       "      <td>11.330504</td>\n",
       "      <td>9.323669</td>\n",
       "      <td>7.488294</td>\n",
       "      <td>12.515889</td>\n",
       "      <td>15.284672</td>\n",
       "    </tr>\n",
       "    <tr>\n",
       "      <th>4</th>\n",
       "      <td>18.852228</td>\n",
       "      <td>11.616474</td>\n",
       "      <td>9.570041</td>\n",
       "      <td>7.155396</td>\n",
       "      <td>11.574632</td>\n",
       "      <td>14.186960</td>\n",
       "    </tr>\n",
       "  </tbody>\n",
       "</table>\n",
       "</div>"
      ],
      "text/plain": [
       "   Watch time(Minutes)  Stream time(minutes)  Peak viewers  Average viewers  \\\n",
       "0            18.854617             10.207473     10.308386         8.676587   \n",
       "1            18.854263             11.377964      9.152393         7.472501   \n",
       "2            18.853281             11.257711      9.154828         7.652546   \n",
       "3            18.852388             11.330504      9.323669         7.488294   \n",
       "4            18.852228             11.616474      9.570041         7.155396   \n",
       "\n",
       "   Followers  Views gained  \n",
       "0  12.640498     15.926407  \n",
       "1  11.930886     14.920482  \n",
       "2  12.927190     15.390808  \n",
       "3  12.515889     15.284672  \n",
       "4  11.574632     14.186960  "
      ]
     },
     "execution_count": 45,
     "metadata": {},
     "output_type": "execute_result"
    }
   ],
   "source": [
    "test = test.transform(np.log)\n",
    "test.head()"
   ]
  },
  {
   "cell_type": "code",
   "execution_count": 46,
   "id": "b01d115e",
   "metadata": {},
   "outputs": [],
   "source": [
    "test['Watch time(Minutes)/Average viewers'] = test['Watch time(Minutes)'] / test['Average viewers']\n",
    "test['Watch time(Minutes)/Followers'] = test['Watch time(Minutes)'] / test['Followers']\n",
    "test['Peak viewers/Followers'] = test['Peak viewers'] / test['Followers']\n",
    "test['Average viewers/Followers'] = test['Average viewers'] / test['Followers']\n",
    "test['Views gained/Stream time(minutes)'] = test['Views gained'] / test['Stream time(minutes)']"
   ]
  },
  {
   "cell_type": "code",
   "execution_count": 47,
   "id": "b90de067",
   "metadata": {},
   "outputs": [
    {
     "data": {
      "text/html": [
       "<div>\n",
       "<style scoped>\n",
       "    .dataframe tbody tr th:only-of-type {\n",
       "        vertical-align: middle;\n",
       "    }\n",
       "\n",
       "    .dataframe tbody tr th {\n",
       "        vertical-align: top;\n",
       "    }\n",
       "\n",
       "    .dataframe thead th {\n",
       "        text-align: right;\n",
       "    }\n",
       "</style>\n",
       "<table border=\"1\" class=\"dataframe\">\n",
       "  <thead>\n",
       "    <tr style=\"text-align: right;\">\n",
       "      <th></th>\n",
       "      <th>Watch time(Minutes)</th>\n",
       "      <th>Stream time(minutes)</th>\n",
       "      <th>Peak viewers</th>\n",
       "      <th>Average viewers</th>\n",
       "      <th>Followers</th>\n",
       "      <th>Views gained</th>\n",
       "      <th>Watch time(Minutes)/Average viewers</th>\n",
       "      <th>Watch time(Minutes)/Followers</th>\n",
       "      <th>Peak viewers/Followers</th>\n",
       "      <th>Average viewers/Followers</th>\n",
       "      <th>Views gained/Stream time(minutes)</th>\n",
       "    </tr>\n",
       "  </thead>\n",
       "  <tbody>\n",
       "    <tr>\n",
       "      <th>0</th>\n",
       "      <td>18.854617</td>\n",
       "      <td>10.207473</td>\n",
       "      <td>10.308386</td>\n",
       "      <td>8.676587</td>\n",
       "      <td>12.640498</td>\n",
       "      <td>15.926407</td>\n",
       "      <td>2.173045</td>\n",
       "      <td>1.491604</td>\n",
       "      <td>0.815505</td>\n",
       "      <td>0.686412</td>\n",
       "      <td>1.560269</td>\n",
       "    </tr>\n",
       "    <tr>\n",
       "      <th>1</th>\n",
       "      <td>18.854263</td>\n",
       "      <td>11.377964</td>\n",
       "      <td>9.152393</td>\n",
       "      <td>7.472501</td>\n",
       "      <td>11.930886</td>\n",
       "      <td>14.920482</td>\n",
       "      <td>2.523153</td>\n",
       "      <td>1.580290</td>\n",
       "      <td>0.767118</td>\n",
       "      <td>0.626316</td>\n",
       "      <td>1.311349</td>\n",
       "    </tr>\n",
       "    <tr>\n",
       "      <th>2</th>\n",
       "      <td>18.853281</td>\n",
       "      <td>11.257711</td>\n",
       "      <td>9.154828</td>\n",
       "      <td>7.652546</td>\n",
       "      <td>12.927190</td>\n",
       "      <td>15.390808</td>\n",
       "      <td>2.463661</td>\n",
       "      <td>1.458421</td>\n",
       "      <td>0.708184</td>\n",
       "      <td>0.591973</td>\n",
       "      <td>1.367135</td>\n",
       "    </tr>\n",
       "    <tr>\n",
       "      <th>3</th>\n",
       "      <td>18.852388</td>\n",
       "      <td>11.330504</td>\n",
       "      <td>9.323669</td>\n",
       "      <td>7.488294</td>\n",
       "      <td>12.515889</td>\n",
       "      <td>15.284672</td>\n",
       "      <td>2.517581</td>\n",
       "      <td>1.506276</td>\n",
       "      <td>0.744947</td>\n",
       "      <td>0.598303</td>\n",
       "      <td>1.348984</td>\n",
       "    </tr>\n",
       "    <tr>\n",
       "      <th>4</th>\n",
       "      <td>18.852228</td>\n",
       "      <td>11.616474</td>\n",
       "      <td>9.570041</td>\n",
       "      <td>7.155396</td>\n",
       "      <td>11.574632</td>\n",
       "      <td>14.186960</td>\n",
       "      <td>2.634687</td>\n",
       "      <td>1.628754</td>\n",
       "      <td>0.826812</td>\n",
       "      <td>0.618196</td>\n",
       "      <td>1.221279</td>\n",
       "    </tr>\n",
       "  </tbody>\n",
       "</table>\n",
       "</div>"
      ],
      "text/plain": [
       "   Watch time(Minutes)  Stream time(minutes)  Peak viewers  Average viewers  \\\n",
       "0            18.854617             10.207473     10.308386         8.676587   \n",
       "1            18.854263             11.377964      9.152393         7.472501   \n",
       "2            18.853281             11.257711      9.154828         7.652546   \n",
       "3            18.852388             11.330504      9.323669         7.488294   \n",
       "4            18.852228             11.616474      9.570041         7.155396   \n",
       "\n",
       "   Followers  Views gained  Watch time(Minutes)/Average viewers  \\\n",
       "0  12.640498     15.926407                             2.173045   \n",
       "1  11.930886     14.920482                             2.523153   \n",
       "2  12.927190     15.390808                             2.463661   \n",
       "3  12.515889     15.284672                             2.517581   \n",
       "4  11.574632     14.186960                             2.634687   \n",
       "\n",
       "   Watch time(Minutes)/Followers  Peak viewers/Followers  \\\n",
       "0                       1.491604                0.815505   \n",
       "1                       1.580290                0.767118   \n",
       "2                       1.458421                0.708184   \n",
       "3                       1.506276                0.744947   \n",
       "4                       1.628754                0.826812   \n",
       "\n",
       "   Average viewers/Followers  Views gained/Stream time(minutes)  \n",
       "0                   0.686412                           1.560269  \n",
       "1                   0.626316                           1.311349  \n",
       "2                   0.591973                           1.367135  \n",
       "3                   0.598303                           1.348984  \n",
       "4                   0.618196                           1.221279  "
      ]
     },
     "execution_count": 47,
     "metadata": {},
     "output_type": "execute_result"
    }
   ],
   "source": [
    "test.head()"
   ]
  },
  {
   "cell_type": "code",
   "execution_count": 48,
   "id": "fb204a8d",
   "metadata": {},
   "outputs": [],
   "source": [
    "test = scaler.fit_transform(test.values)"
   ]
  },
  {
   "cell_type": "code",
   "execution_count": 49,
   "id": "6c6a4f52",
   "metadata": {},
   "outputs": [
    {
     "name": "stderr",
     "output_type": "stream",
     "text": [
      "[Parallel(n_jobs=1)]: Using backend SequentialBackend with 1 concurrent workers.\n",
      "[Parallel(n_jobs=1)]: Done 350 out of 350 | elapsed:    0.0s finished\n"
     ]
    }
   ],
   "source": [
    "dnn_pred = model.predict(test)\n",
    "stack_pred = stack_model.predict(test)"
   ]
  },
  {
   "cell_type": "code",
   "execution_count": 50,
   "id": "71f05cc9",
   "metadata": {},
   "outputs": [
    {
     "data": {
      "text/plain": [
       "array([11.800092 , 11.06785  , 11.708244 , 11.644267 , 10.363035 ,\n",
       "       11.690654 , 11.110671 , 10.98633  , 10.69603  , 11.677722 ,\n",
       "       11.679372 , 11.819312 , 11.549769 , 10.237633 , 11.648641 ,\n",
       "       10.745369 , 11.833435 , 10.021063 , 10.270262 , 11.58183  ,\n",
       "       11.207002 , 11.83062  , 10.08346  , 10.83564  , 10.448669 ,\n",
       "       11.793546 , 11.533126 , 10.9836855,  9.662837 , 10.187506 ,\n",
       "       11.700067 , 10.5158205, 11.683711 , 10.250576 , 10.158436 ,\n",
       "       10.001113 , 10.1071   ,  9.961699 , 10.407297 , 11.55188  ,\n",
       "       10.26922  , 11.810503 , 11.416679 , 10.327497 , 11.6037   ,\n",
       "       10.229306 , 11.509292 , 10.816238 , 11.716852 , 10.485067 ,\n",
       "       11.739592 , 10.980644 , 11.771915 , 11.8242035,  9.931339 ,\n",
       "       11.660249 , 10.364318 , 10.123871 , 11.239761 , 10.99885  ,\n",
       "       11.461808 , 10.996342 , 10.131268 , 10.385502 ,  9.591685 ,\n",
       "       10.828424 , 11.725953 , 11.758922 , 10.555019 ,  9.780773 ,\n",
       "       10.905344 , 11.653154 , 10.727258 , 11.75075  , 11.781734 ,\n",
       "       10.1839   , 11.6315975, 10.032801 , 10.725214 , 11.677817 ,\n",
       "       11.759142 , 10.299271 , 11.473521 , 11.204201 , 11.42837  ,\n",
       "       10.567958 , 10.365131 , 11.802865 , 10.221062 ,  9.8455925,\n",
       "        9.470106 ,  9.966181 , 11.624167 , 10.16473  , 10.834465 ,\n",
       "       10.736074 , 11.693082 , 11.416007 , 11.739706 , 10.062946 ,\n",
       "       11.79273  , 11.634331 , 11.68861  , 10.083757 , 10.088341 ,\n",
       "       11.340009 , 11.614552 , 10.116146 ,  9.918742 ,  9.954615 ,\n",
       "        9.608501 , 11.3763895,  9.998933 , 10.09416  , 11.699327 ,\n",
       "       10.004208 , 11.726498 , 11.633175 , 11.713073 , 11.708548 ,\n",
       "       11.335144 , 11.4048   , 10.223749 , 10.064426 , 11.857172 ,\n",
       "       11.298498 ,  9.981884 , 11.91536  , 11.063467 , 11.366796 ,\n",
       "       11.44594  , 11.495403 , 11.807442 , 11.730099 , 10.486994 ,\n",
       "       10.036537 , 10.03512  , 11.386919 , 10.949446 , 10.203091 ,\n",
       "       10.730874 , 11.400129 , 11.493877 , 11.639038 , 10.150663 ,\n",
       "       11.734007 , 11.75206  , 10.375171 , 11.046265 , 10.239796 ,\n",
       "       11.742004 , 11.849845 , 10.726932 , 11.735153 , 10.72162  ,\n",
       "       11.421311 , 10.845627 , 10.267523 , 10.61083  , 11.658824 ,\n",
       "       11.396505 , 10.346781 , 10.959496 , 11.394781 , 11.652626 ,\n",
       "       10.970779 , 11.364762 ,  9.951023 , 10.741522 , 10.92129  ,\n",
       "       10.481753 , 10.192421 ,  9.872156 , 11.685477 , 11.062622 ,\n",
       "        9.989497 ,  9.686045 , 11.733067 , 11.594275 , 11.394387 ,\n",
       "        9.934864 , 10.894479 , 10.066752 ,  9.985733 , 10.130726 ,\n",
       "       10.726109 ,  9.901064 , 11.48762  , 11.839426 , 11.337771 ,\n",
       "       11.831351 ,  9.876791 ,  9.474256 ,  9.812283 , 11.458675 ,\n",
       "       11.781865 ,  9.955394 , 10.04701  , 10.863458 , 10.333657 ],\n",
       "      dtype=float32)"
      ]
     },
     "execution_count": 50,
     "metadata": {},
     "output_type": "execute_result"
    }
   ],
   "source": [
    "dnn_pred = dnn_pred.transpose()[0]\n",
    "dnn_pred"
   ]
  },
  {
   "cell_type": "code",
   "execution_count": 51,
   "id": "ae82719e",
   "metadata": {},
   "outputs": [
    {
     "data": {
      "text/plain": [
       "array([12.39929094, 11.85461175, 12.13135116, 11.87256156, 11.52930648,\n",
       "       12.01438813, 12.01811963, 11.79188412, 11.78230592, 11.97887234,\n",
       "       11.9605128 , 11.51844676, 12.22473712, 11.36013566, 11.87016988,\n",
       "       11.18070938, 12.81127084, 10.83040239, 11.42448746, 11.6866369 ,\n",
       "       11.55535418, 12.84302316, 11.56809439, 11.71894129, 11.87898603,\n",
       "       12.47400499, 11.75422965, 11.62445932, 10.30981322, 11.00417163,\n",
       "       12.0974152 , 11.1127071 , 12.12387725, 10.99698385, 11.23390812,\n",
       "       10.72493336, 11.03269733, 10.98395339, 11.74396848, 11.88019786,\n",
       "       11.8194266 , 12.59326639, 12.06227238, 11.02186837, 11.95927526,\n",
       "       10.84763578, 11.35144484, 11.80363976, 12.07614711, 11.65373575,\n",
       "       12.22940731, 11.10022313, 12.37076479, 12.60292608, 10.89940252,\n",
       "       12.01232537, 11.41489829, 11.35975917, 11.45754229, 10.77723065,\n",
       "       12.16480242, 11.95079813, 11.12355195, 11.6330774 , 12.22242731,\n",
       "       11.31293617, 11.39387014, 12.15434676, 10.96745881, 11.28339745,\n",
       "       11.34901071, 11.80516571, 11.46127004, 12.12623637, 11.96645855,\n",
       "       10.94567704, 11.9014929 , 10.87302338, 11.96622063, 12.17330462,\n",
       "       12.44773428, 11.22860825, 11.65910704, 11.72214888, 11.6783777 ,\n",
       "       10.84739389, 10.92189173, 12.32185299, 11.02322468, 11.1912057 ,\n",
       "       10.16273878, 10.78099914, 11.93258082, 11.68718757, 11.63272851,\n",
       "       11.59355511, 12.01558154, 12.10650458, 12.01375485, 11.50566343,\n",
       "       12.47168998, 12.15107204, 11.86352147, 11.22026882, 11.9003539 ,\n",
       "       11.98549763, 12.08801276, 10.99093017, 10.9682961 , 11.66219173,\n",
       "       10.7552839 , 12.19954107, 11.3483451 , 10.91835694, 12.22593473,\n",
       "       11.00134131, 11.49436255, 12.08869383, 11.13490764, 12.20448103,\n",
       "       12.22447989, 11.76222724, 11.27475487, 10.80973406, 13.05878238,\n",
       "       12.17241736, 10.96177966, 11.90519285, 11.9127528 , 11.95870689,\n",
       "       11.99306639, 11.78948699, 12.58827331, 11.23830899, 11.5656129 ,\n",
       "       12.21955383, 11.26105295, 11.13823256, 11.60920459, 11.64258366,\n",
       "       11.78494361, 11.72432163, 12.31850882, 12.18473848, 11.0435961 ,\n",
       "       12.17633632, 12.0068149 , 11.66587218, 11.97975413, 11.42215372,\n",
       "       12.37775006, 12.50912056, 11.81203002, 12.34548388, 11.74709815,\n",
       "       11.72254161, 11.71978778, 11.99994569, 11.75919444, 12.12004459,\n",
       "       11.96734765, 11.90246315, 11.56018422, 11.66346427, 11.90742501,\n",
       "       11.7173377 , 11.9866131 , 10.99859061, 11.50074984, 11.99134446,\n",
       "       11.02727893, 11.37224613, 10.80672851, 12.0759519 , 11.01506726,\n",
       "       10.8334084 , 10.6637394 , 12.20028709, 11.91641529, 11.63392625,\n",
       "       11.10679444, 12.01744294, 11.60501954, 11.22777739, 11.04771953,\n",
       "       11.98316895, 10.94561688, 11.8440213 , 12.68650155, 11.97221441,\n",
       "       11.19924542, 10.66600704, 10.14724505, 11.2405313 , 11.0028495 ,\n",
       "       12.3200611 , 11.76914391, 11.04036747, 11.9134107 , 11.64123665])"
      ]
     },
     "execution_count": 51,
     "metadata": {},
     "output_type": "execute_result"
    }
   ],
   "source": [
    "stack_pred"
   ]
  },
  {
   "cell_type": "code",
   "execution_count": 52,
   "id": "8b2dac88",
   "metadata": {},
   "outputs": [],
   "source": [
    "predictions = np.divide(np.add(dnn_pred, stack_pred), 2)"
   ]
  },
  {
   "cell_type": "code",
   "execution_count": 53,
   "id": "a3766f50",
   "metadata": {},
   "outputs": [
    {
     "data": {
      "text/plain": [
       "array([12.09969134, 11.46123093, 11.91979774, 11.75841432, 10.94617084,\n",
       "       11.85252097, 11.56439534, 11.38910708, 11.23916779, 11.82829716,\n",
       "       11.81994232, 11.66887943, 11.88725326, 10.79888421, 11.75940526,\n",
       "       10.96303917, 12.32235295, 10.42573262, 10.84737461, 11.63423346,\n",
       "       11.38117793, 12.33682148, 10.82577712, 11.27729062, 11.16382773,\n",
       "       12.13377536, 11.64367776, 11.30407241,  9.98632512, 10.59583868,\n",
       "       11.89874088, 10.8142638 , 11.90379415, 10.62377993, 10.69617197,\n",
       "       10.36302315, 10.56989843, 10.47282596, 11.07563281, 11.71603887,\n",
       "       11.04432347, 12.2018847 , 11.73947588, 10.67468245, 11.78148747,\n",
       "       10.538471  , 11.43036824, 11.30993908, 11.89649965, 11.06940156,\n",
       "       11.98449945, 11.04043368, 12.07134011, 12.21356479, 10.41537089,\n",
       "       11.83628706, 10.88960809, 10.74181501, 11.34865182, 10.88804026,\n",
       "       11.81330531, 11.47356992, 10.62740975, 11.00928963, 10.9070563 ,\n",
       "       11.07068031, 11.55991162, 11.95663419, 10.7612391 , 10.53208531,\n",
       "       11.12717736, 11.72916004, 11.09426388, 11.93849298, 11.87409651,\n",
       "       10.56478846, 11.76654521, 10.45291203, 11.34571732, 11.92556098,\n",
       "       12.1034381 , 10.76393944, 11.56631413, 11.46317481, 11.55337409,\n",
       "       10.70767589, 10.64351155, 12.06235901, 10.62214319, 10.5183991 ,\n",
       "        9.81642245, 10.37358997, 11.77837413, 10.92595882, 11.23359677,\n",
       "       11.16481478, 11.8543317 , 11.76125581, 11.87673044, 10.78430487,\n",
       "       12.13221016, 11.8927014 , 11.77606577, 10.65201311, 10.99434733,\n",
       "       11.66275319, 11.85128215, 10.55353813, 10.44351914, 10.80840319,\n",
       "       10.18189267, 11.78796529, 10.67363897, 10.50625851, 11.9626311 ,\n",
       "       10.50277446, 11.6104301 , 11.86093437, 11.42399021, 11.95651431,\n",
       "       11.77981197, 11.58351383, 10.74925201, 10.43708024, 12.4579772 ,\n",
       "       11.73545776, 10.47183183, 11.91027665, 11.48810991, 11.66275122,\n",
       "       11.7195032 , 11.64244514, 12.19785751, 11.48420386, 11.02630334,\n",
       "       11.1280455 , 10.64808648, 11.26257579, 11.27932516, 10.92283717,\n",
       "       11.25790884, 11.56222547, 11.90619312, 11.91188828, 10.59712974,\n",
       "       11.9551716 , 11.87943742, 11.02052144, 11.51300939, 10.8309747 ,\n",
       "       12.05987723, 12.17948274, 11.2694808 , 12.04031854, 11.23435888,\n",
       "       11.57192649, 11.2827073 , 11.13373425, 11.18501237, 11.88943428,\n",
       "       11.6819265 , 11.12462197, 11.25983988, 11.52912269, 11.78002552,\n",
       "       11.34405856, 11.6756877 , 10.47480686, 11.12113584, 11.45631743,\n",
       "       10.75451614, 10.78233354, 10.33944232, 11.88071458, 11.03884466,\n",
       "       10.41145279, 10.17489205, 11.96667682, 11.75534538, 11.51415675,\n",
       "       10.52082924, 11.45596087, 10.83588599, 10.60675521, 10.58922269,\n",
       "       11.35463875, 10.4233404 , 11.66582082, 12.2629638 , 11.65499291,\n",
       "       11.51529835, 10.27139902,  9.8107503 , 10.52640693, 11.23076244,\n",
       "       12.05096311, 10.86226885, 10.54368895, 11.38843419, 10.98744696])"
      ]
     },
     "execution_count": 53,
     "metadata": {},
     "output_type": "execute_result"
    }
   ],
   "source": [
    "predictions"
   ]
  },
  {
   "cell_type": "code",
   "execution_count": 54,
   "id": "be9bb5eb",
   "metadata": {},
   "outputs": [
    {
     "data": {
      "text/plain": [
       "array([179816,  94961, 150211, 127824,  56736, 140437, 105281,  88354,\n",
       "        76051, 137076, 135936, 116877, 145401,  48966, 127951,  57701,\n",
       "       224662,  33716,  51399, 112897,  87656, 227936,  50300,  79006,\n",
       "        70532, 186050, 113968,  81151,  21727,  39968, 147081,  49725,\n",
       "       147826,  41100,  44186,  31666,  38944,  35341,  64578, 122521,\n",
       "        62587, 199164, 125426,  43246, 130808,  37739,  92075,  81628,\n",
       "       146752,  64177, 160251,  62344, 174789, 201504,  33368, 138176,\n",
       "        53616,  46249,  84850,  53532, 135037,  96140,  41250,  60432,\n",
       "        54560,  64259, 104810, 155847,  47157,  37499,  67994, 124139,\n",
       "        65792, 153045, 143500,  38746, 128868,  34645,  84602, 151079,\n",
       "       180491,  47284, 105483,  95146, 104127,  44697,  41919, 173227,\n",
       "        41033,  36989,  18332,  32003, 130401,  55601,  75629,  70602,\n",
       "       140692, 128188, 143879,  48257, 185759, 146195, 130100,  42277,\n",
       "        59536, 116163, 140264,  38312,  34321,  49434,  26420, 131658,\n",
       "        43201,  36543, 156785,  36416, 110241, 141624,  91490, 155828,\n",
       "       130589, 107313,  46595,  34100, 257294, 124923,  35306, 148787,\n",
       "        97548, 116163, 122946, 113828, 198363,  97168,  61469,  68053,\n",
       "        42111,  77852,  79167,  55427,  77490, 105053, 148181, 149027,\n",
       "        40019, 155619, 144269,  61115, 100008,  50562, 172797, 194752,\n",
       "        78392, 169450,  75686, 106077,  79436,  68441,  72042, 145718,\n",
       "       118412,  67820,  77640, 101632, 130617,  84462, 117675,  35412,\n",
       "        67584,  94496,  46841,  48162,  30928, 144453,  62245,  33238,\n",
       "        26236, 157420, 127432, 100123,  37079,  94462,  50811,  40406,\n",
       "        39704,  85360,  33635, 116520, 211708, 115265, 100237,  28894,\n",
       "        18228,  37287,  75415, 171264,  52170,  37937,  88294,  59127])"
      ]
     },
     "execution_count": 54,
     "metadata": {},
     "output_type": "execute_result"
    }
   ],
   "source": [
    "predictions = np.exp(predictions).astype(int)\n",
    "predictions"
   ]
  },
  {
   "cell_type": "markdown",
   "id": "df52a3cb",
   "metadata": {},
   "source": [
    "## Output Predictions"
   ]
  },
  {
   "cell_type": "code",
   "execution_count": 55,
   "id": "90fe4f92",
   "metadata": {},
   "outputs": [],
   "source": [
    "channels = pd.read_csv('Data_Files/test.csv')['Channel']\n",
    "channels = pd.DataFrame(channels)\n",
    "\n",
    "predictions = pd.DataFrame(predictions)\n",
    "predictions = predictions.rename(columns={0: 'Followers gained'})"
   ]
  },
  {
   "cell_type": "code",
   "execution_count": 56,
   "id": "0065f333",
   "metadata": {},
   "outputs": [
    {
     "data": {
      "text/html": [
       "<div>\n",
       "<style scoped>\n",
       "    .dataframe tbody tr th:only-of-type {\n",
       "        vertical-align: middle;\n",
       "    }\n",
       "\n",
       "    .dataframe tbody tr th {\n",
       "        vertical-align: top;\n",
       "    }\n",
       "\n",
       "    .dataframe thead th {\n",
       "        text-align: right;\n",
       "    }\n",
       "</style>\n",
       "<table border=\"1\" class=\"dataframe\">\n",
       "  <thead>\n",
       "    <tr style=\"text-align: right;\">\n",
       "      <th></th>\n",
       "      <th>Channel</th>\n",
       "    </tr>\n",
       "  </thead>\n",
       "  <tbody>\n",
       "    <tr>\n",
       "      <th>0</th>\n",
       "      <td>97R8L3J0</td>\n",
       "    </tr>\n",
       "    <tr>\n",
       "      <th>1</th>\n",
       "      <td>6UV44QFF</td>\n",
       "    </tr>\n",
       "    <tr>\n",
       "      <th>2</th>\n",
       "      <td>2WKQZUGR</td>\n",
       "    </tr>\n",
       "    <tr>\n",
       "      <th>3</th>\n",
       "      <td>R4DGVX2D</td>\n",
       "    </tr>\n",
       "    <tr>\n",
       "      <th>4</th>\n",
       "      <td>P8YSNIOI</td>\n",
       "    </tr>\n",
       "  </tbody>\n",
       "</table>\n",
       "</div>"
      ],
      "text/plain": [
       "    Channel\n",
       "0  97R8L3J0\n",
       "1  6UV44QFF\n",
       "2  2WKQZUGR\n",
       "3  R4DGVX2D\n",
       "4  P8YSNIOI"
      ]
     },
     "execution_count": 56,
     "metadata": {},
     "output_type": "execute_result"
    }
   ],
   "source": [
    "channels.head()"
   ]
  },
  {
   "cell_type": "code",
   "execution_count": 57,
   "id": "40402d28",
   "metadata": {},
   "outputs": [
    {
     "data": {
      "text/html": [
       "<div>\n",
       "<style scoped>\n",
       "    .dataframe tbody tr th:only-of-type {\n",
       "        vertical-align: middle;\n",
       "    }\n",
       "\n",
       "    .dataframe tbody tr th {\n",
       "        vertical-align: top;\n",
       "    }\n",
       "\n",
       "    .dataframe thead th {\n",
       "        text-align: right;\n",
       "    }\n",
       "</style>\n",
       "<table border=\"1\" class=\"dataframe\">\n",
       "  <thead>\n",
       "    <tr style=\"text-align: right;\">\n",
       "      <th></th>\n",
       "      <th>Followers gained</th>\n",
       "    </tr>\n",
       "  </thead>\n",
       "  <tbody>\n",
       "    <tr>\n",
       "      <th>0</th>\n",
       "      <td>179816</td>\n",
       "    </tr>\n",
       "    <tr>\n",
       "      <th>1</th>\n",
       "      <td>94961</td>\n",
       "    </tr>\n",
       "    <tr>\n",
       "      <th>2</th>\n",
       "      <td>150211</td>\n",
       "    </tr>\n",
       "    <tr>\n",
       "      <th>3</th>\n",
       "      <td>127824</td>\n",
       "    </tr>\n",
       "    <tr>\n",
       "      <th>4</th>\n",
       "      <td>56736</td>\n",
       "    </tr>\n",
       "  </tbody>\n",
       "</table>\n",
       "</div>"
      ],
      "text/plain": [
       "   Followers gained\n",
       "0            179816\n",
       "1             94961\n",
       "2            150211\n",
       "3            127824\n",
       "4             56736"
      ]
     },
     "execution_count": 57,
     "metadata": {},
     "output_type": "execute_result"
    }
   ],
   "source": [
    "predictions.head()"
   ]
  },
  {
   "cell_type": "code",
   "execution_count": 58,
   "id": "e9e2d8b7",
   "metadata": {},
   "outputs": [
    {
     "data": {
      "text/html": [
       "<div>\n",
       "<style scoped>\n",
       "    .dataframe tbody tr th:only-of-type {\n",
       "        vertical-align: middle;\n",
       "    }\n",
       "\n",
       "    .dataframe tbody tr th {\n",
       "        vertical-align: top;\n",
       "    }\n",
       "\n",
       "    .dataframe thead th {\n",
       "        text-align: right;\n",
       "    }\n",
       "</style>\n",
       "<table border=\"1\" class=\"dataframe\">\n",
       "  <thead>\n",
       "    <tr style=\"text-align: right;\">\n",
       "      <th></th>\n",
       "      <th>Channel</th>\n",
       "      <th>Followers gained</th>\n",
       "    </tr>\n",
       "  </thead>\n",
       "  <tbody>\n",
       "    <tr>\n",
       "      <th>0</th>\n",
       "      <td>97R8L3J0</td>\n",
       "      <td>179816</td>\n",
       "    </tr>\n",
       "    <tr>\n",
       "      <th>1</th>\n",
       "      <td>6UV44QFF</td>\n",
       "      <td>94961</td>\n",
       "    </tr>\n",
       "    <tr>\n",
       "      <th>2</th>\n",
       "      <td>2WKQZUGR</td>\n",
       "      <td>150211</td>\n",
       "    </tr>\n",
       "    <tr>\n",
       "      <th>3</th>\n",
       "      <td>R4DGVX2D</td>\n",
       "      <td>127824</td>\n",
       "    </tr>\n",
       "    <tr>\n",
       "      <th>4</th>\n",
       "      <td>P8YSNIOI</td>\n",
       "      <td>56736</td>\n",
       "    </tr>\n",
       "  </tbody>\n",
       "</table>\n",
       "</div>"
      ],
      "text/plain": [
       "    Channel  Followers gained\n",
       "0  97R8L3J0            179816\n",
       "1  6UV44QFF             94961\n",
       "2  2WKQZUGR            150211\n",
       "3  R4DGVX2D            127824\n",
       "4  P8YSNIOI             56736"
      ]
     },
     "execution_count": 58,
     "metadata": {},
     "output_type": "execute_result"
    }
   ],
   "source": [
    "output = pd.concat([channels, predictions], axis=1)\n",
    "output.head()"
   ]
  },
  {
   "cell_type": "code",
   "execution_count": 59,
   "id": "939be500",
   "metadata": {},
   "outputs": [],
   "source": [
    "output.to_csv('Trial_3_Predictions.csv', index=False)"
   ]
  },
  {
   "cell_type": "code",
   "execution_count": null,
   "id": "389931ad",
   "metadata": {},
   "outputs": [],
   "source": []
  }
 ],
 "metadata": {
  "kernelspec": {
   "display_name": "Python 3 (ipykernel)",
   "language": "python",
   "name": "python3"
  },
  "language_info": {
   "codemirror_mode": {
    "name": "ipython",
    "version": 3
   },
   "file_extension": ".py",
   "mimetype": "text/x-python",
   "name": "python",
   "nbconvert_exporter": "python",
   "pygments_lexer": "ipython3",
   "version": "3.9.0"
  }
 },
 "nbformat": 4,
 "nbformat_minor": 5
}
