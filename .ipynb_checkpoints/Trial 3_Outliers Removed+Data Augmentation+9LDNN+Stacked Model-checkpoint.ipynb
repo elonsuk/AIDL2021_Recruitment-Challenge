{
 "cells": [
  {
   "cell_type": "code",
   "execution_count": 1,
   "id": "14f30720",
   "metadata": {},
   "outputs": [],
   "source": [
    "import os"
   ]
  },
  {
   "cell_type": "code",
   "execution_count": 2,
   "id": "be1bf4a9",
   "metadata": {},
   "outputs": [],
   "source": [
    "import pandas as pd\n",
    "import numpy as np\n",
    "import matplotlib.pyplot as plt\n",
    "import seaborn as sns\n",
    "%matplotlib inline"
   ]
  },
  {
   "cell_type": "code",
   "execution_count": 3,
   "id": "8feaa61f",
   "metadata": {},
   "outputs": [],
   "source": [
    "import tensorflow as tf\n",
    "import tensorflow.keras as keras\n",
    "from scipy import stats"
   ]
  },
  {
   "cell_type": "code",
   "execution_count": 4,
   "id": "f103fcf5",
   "metadata": {},
   "outputs": [],
   "source": [
    "from sklearn.metrics import mean_squared_error, explained_variance_score"
   ]
  },
  {
   "cell_type": "markdown",
   "id": "66b425f7",
   "metadata": {},
   "source": [
    "## Load Data"
   ]
  },
  {
   "cell_type": "code",
   "execution_count": 5,
   "id": "c2bbdc64",
   "metadata": {},
   "outputs": [
    {
     "data": {
      "text/html": [
       "<div>\n",
       "<style scoped>\n",
       "    .dataframe tbody tr th:only-of-type {\n",
       "        vertical-align: middle;\n",
       "    }\n",
       "\n",
       "    .dataframe tbody tr th {\n",
       "        vertical-align: top;\n",
       "    }\n",
       "\n",
       "    .dataframe thead th {\n",
       "        text-align: right;\n",
       "    }\n",
       "</style>\n",
       "<table border=\"1\" class=\"dataframe\">\n",
       "  <thead>\n",
       "    <tr style=\"text-align: right;\">\n",
       "      <th></th>\n",
       "      <th>Channel</th>\n",
       "      <th>Watch time(Minutes)</th>\n",
       "      <th>Stream time(minutes)</th>\n",
       "      <th>Peak viewers</th>\n",
       "      <th>Average viewers</th>\n",
       "      <th>Followers</th>\n",
       "      <th>Followers gained</th>\n",
       "      <th>Views gained</th>\n",
       "      <th>Partnered</th>\n",
       "      <th>Mature</th>\n",
       "      <th>Language</th>\n",
       "    </tr>\n",
       "  </thead>\n",
       "  <tbody>\n",
       "    <tr>\n",
       "      <th>0</th>\n",
       "      <td>2ZR62O53</td>\n",
       "      <td>6196161750</td>\n",
       "      <td>215250</td>\n",
       "      <td>222720</td>\n",
       "      <td>27716</td>\n",
       "      <td>3246298</td>\n",
       "      <td>1734810</td>\n",
       "      <td>93036735</td>\n",
       "      <td>1</td>\n",
       "      <td>0</td>\n",
       "      <td>English</td>\n",
       "    </tr>\n",
       "    <tr>\n",
       "      <th>1</th>\n",
       "      <td>ZJ31SS7Q</td>\n",
       "      <td>6091677300</td>\n",
       "      <td>211845</td>\n",
       "      <td>310998</td>\n",
       "      <td>25610</td>\n",
       "      <td>5310163</td>\n",
       "      <td>1370184</td>\n",
       "      <td>89705964</td>\n",
       "      <td>1</td>\n",
       "      <td>0</td>\n",
       "      <td>English</td>\n",
       "    </tr>\n",
       "    <tr>\n",
       "      <th>2</th>\n",
       "      <td>I31VI9RK</td>\n",
       "      <td>5644590915</td>\n",
       "      <td>515280</td>\n",
       "      <td>387315</td>\n",
       "      <td>10976</td>\n",
       "      <td>1767635</td>\n",
       "      <td>1023779</td>\n",
       "      <td>102611607</td>\n",
       "      <td>1</td>\n",
       "      <td>1</td>\n",
       "      <td>Portuguese</td>\n",
       "    </tr>\n",
       "    <tr>\n",
       "      <th>3</th>\n",
       "      <td>6GP9WLYR</td>\n",
       "      <td>3970318140</td>\n",
       "      <td>517740</td>\n",
       "      <td>300575</td>\n",
       "      <td>7714</td>\n",
       "      <td>3944850</td>\n",
       "      <td>703986</td>\n",
       "      <td>106546942</td>\n",
       "      <td>1</td>\n",
       "      <td>0</td>\n",
       "      <td>English</td>\n",
       "    </tr>\n",
       "    <tr>\n",
       "      <th>4</th>\n",
       "      <td>3DVR0TDD</td>\n",
       "      <td>3671000070</td>\n",
       "      <td>123660</td>\n",
       "      <td>285644</td>\n",
       "      <td>29602</td>\n",
       "      <td>8938903</td>\n",
       "      <td>2068424</td>\n",
       "      <td>78998587</td>\n",
       "      <td>1</td>\n",
       "      <td>0</td>\n",
       "      <td>English</td>\n",
       "    </tr>\n",
       "  </tbody>\n",
       "</table>\n",
       "</div>"
      ],
      "text/plain": [
       "    Channel  Watch time(Minutes)  Stream time(minutes)  Peak viewers  \\\n",
       "0  2ZR62O53           6196161750                215250        222720   \n",
       "1  ZJ31SS7Q           6091677300                211845        310998   \n",
       "2  I31VI9RK           5644590915                515280        387315   \n",
       "3  6GP9WLYR           3970318140                517740        300575   \n",
       "4  3DVR0TDD           3671000070                123660        285644   \n",
       "\n",
       "   Average viewers  Followers  Followers gained  Views gained  Partnered  \\\n",
       "0            27716    3246298           1734810      93036735          1   \n",
       "1            25610    5310163           1370184      89705964          1   \n",
       "2            10976    1767635           1023779     102611607          1   \n",
       "3             7714    3944850            703986     106546942          1   \n",
       "4            29602    8938903           2068424      78998587          1   \n",
       "\n",
       "   Mature    Language  \n",
       "0       0     English  \n",
       "1       0     English  \n",
       "2       1  Portuguese  \n",
       "3       0     English  \n",
       "4       0     English  "
      ]
     },
     "execution_count": 5,
     "metadata": {},
     "output_type": "execute_result"
    }
   ],
   "source": [
    "data = pd.read_csv('Data_Files/train.csv')\n",
    "data.head()"
   ]
  },
  {
   "cell_type": "markdown",
   "id": "f3c64937",
   "metadata": {},
   "source": [
    "## Data Preprocessing"
   ]
  },
  {
   "cell_type": "markdown",
   "id": "824a3fe2",
   "metadata": {},
   "source": [
    "### Add a constant for eliminating negative values"
   ]
  },
  {
   "cell_type": "code",
   "execution_count": 6,
   "id": "5a726633",
   "metadata": {},
   "outputs": [
    {
     "data": {
      "text/plain": [
       "-15772"
      ]
     },
     "execution_count": 6,
     "metadata": {},
     "output_type": "execute_result"
    }
   ],
   "source": [
    "data['Followers gained'].min()"
   ]
  },
  {
   "cell_type": "code",
   "execution_count": 7,
   "id": "ad939d4a",
   "metadata": {},
   "outputs": [
    {
     "data": {
      "text/html": [
       "<div>\n",
       "<style scoped>\n",
       "    .dataframe tbody tr th:only-of-type {\n",
       "        vertical-align: middle;\n",
       "    }\n",
       "\n",
       "    .dataframe tbody tr th {\n",
       "        vertical-align: top;\n",
       "    }\n",
       "\n",
       "    .dataframe thead th {\n",
       "        text-align: right;\n",
       "    }\n",
       "</style>\n",
       "<table border=\"1\" class=\"dataframe\">\n",
       "  <thead>\n",
       "    <tr style=\"text-align: right;\">\n",
       "      <th></th>\n",
       "      <th>Watch time(Minutes)</th>\n",
       "      <th>Stream time(minutes)</th>\n",
       "      <th>Peak viewers</th>\n",
       "      <th>Average viewers</th>\n",
       "      <th>Followers</th>\n",
       "      <th>Followers gained</th>\n",
       "      <th>Views gained</th>\n",
       "    </tr>\n",
       "  </thead>\n",
       "  <tbody>\n",
       "    <tr>\n",
       "      <th>0</th>\n",
       "      <td>6196161750</td>\n",
       "      <td>215250</td>\n",
       "      <td>222720</td>\n",
       "      <td>27716</td>\n",
       "      <td>3246298</td>\n",
       "      <td>1734810</td>\n",
       "      <td>93036735</td>\n",
       "    </tr>\n",
       "    <tr>\n",
       "      <th>1</th>\n",
       "      <td>6091677300</td>\n",
       "      <td>211845</td>\n",
       "      <td>310998</td>\n",
       "      <td>25610</td>\n",
       "      <td>5310163</td>\n",
       "      <td>1370184</td>\n",
       "      <td>89705964</td>\n",
       "    </tr>\n",
       "    <tr>\n",
       "      <th>2</th>\n",
       "      <td>5644590915</td>\n",
       "      <td>515280</td>\n",
       "      <td>387315</td>\n",
       "      <td>10976</td>\n",
       "      <td>1767635</td>\n",
       "      <td>1023779</td>\n",
       "      <td>102611607</td>\n",
       "    </tr>\n",
       "    <tr>\n",
       "      <th>3</th>\n",
       "      <td>3970318140</td>\n",
       "      <td>517740</td>\n",
       "      <td>300575</td>\n",
       "      <td>7714</td>\n",
       "      <td>3944850</td>\n",
       "      <td>703986</td>\n",
       "      <td>106546942</td>\n",
       "    </tr>\n",
       "    <tr>\n",
       "      <th>4</th>\n",
       "      <td>3671000070</td>\n",
       "      <td>123660</td>\n",
       "      <td>285644</td>\n",
       "      <td>29602</td>\n",
       "      <td>8938903</td>\n",
       "      <td>2068424</td>\n",
       "      <td>78998587</td>\n",
       "    </tr>\n",
       "  </tbody>\n",
       "</table>\n",
       "</div>"
      ],
      "text/plain": [
       "   Watch time(Minutes)  Stream time(minutes)  Peak viewers  Average viewers  \\\n",
       "0           6196161750                215250        222720            27716   \n",
       "1           6091677300                211845        310998            25610   \n",
       "2           5644590915                515280        387315            10976   \n",
       "3           3970318140                517740        300575             7714   \n",
       "4           3671000070                123660        285644            29602   \n",
       "\n",
       "   Followers  Followers gained  Views gained  \n",
       "0    3246298           1734810      93036735  \n",
       "1    5310163           1370184      89705964  \n",
       "2    1767635           1023779     102611607  \n",
       "3    3944850            703986     106546942  \n",
       "4    8938903           2068424      78998587  "
      ]
     },
     "execution_count": 7,
     "metadata": {},
     "output_type": "execute_result"
    }
   ],
   "source": [
    "numeric = data.drop(['Channel', 'Partnered', 'Mature', 'Language'], axis=1)\n",
    "numeric.head()"
   ]
  },
  {
   "cell_type": "code",
   "execution_count": 8,
   "id": "35c0284a",
   "metadata": {},
   "outputs": [],
   "source": [
    "numeric += 15772"
   ]
  },
  {
   "cell_type": "code",
   "execution_count": 9,
   "id": "fb17930f",
   "metadata": {},
   "outputs": [
    {
     "data": {
      "text/html": [
       "<div>\n",
       "<style scoped>\n",
       "    .dataframe tbody tr th:only-of-type {\n",
       "        vertical-align: middle;\n",
       "    }\n",
       "\n",
       "    .dataframe tbody tr th {\n",
       "        vertical-align: top;\n",
       "    }\n",
       "\n",
       "    .dataframe thead th {\n",
       "        text-align: right;\n",
       "    }\n",
       "</style>\n",
       "<table border=\"1\" class=\"dataframe\">\n",
       "  <thead>\n",
       "    <tr style=\"text-align: right;\">\n",
       "      <th></th>\n",
       "      <th>Watch time(Minutes)</th>\n",
       "      <th>Stream time(minutes)</th>\n",
       "      <th>Peak viewers</th>\n",
       "      <th>Average viewers</th>\n",
       "      <th>Followers</th>\n",
       "      <th>Followers gained</th>\n",
       "      <th>Views gained</th>\n",
       "    </tr>\n",
       "  </thead>\n",
       "  <tbody>\n",
       "    <tr>\n",
       "      <th>0</th>\n",
       "      <td>6196177522</td>\n",
       "      <td>231022</td>\n",
       "      <td>238492</td>\n",
       "      <td>43488</td>\n",
       "      <td>3262070</td>\n",
       "      <td>1750582</td>\n",
       "      <td>93052507</td>\n",
       "    </tr>\n",
       "    <tr>\n",
       "      <th>1</th>\n",
       "      <td>6091693072</td>\n",
       "      <td>227617</td>\n",
       "      <td>326770</td>\n",
       "      <td>41382</td>\n",
       "      <td>5325935</td>\n",
       "      <td>1385956</td>\n",
       "      <td>89721736</td>\n",
       "    </tr>\n",
       "    <tr>\n",
       "      <th>2</th>\n",
       "      <td>5644606687</td>\n",
       "      <td>531052</td>\n",
       "      <td>403087</td>\n",
       "      <td>26748</td>\n",
       "      <td>1783407</td>\n",
       "      <td>1039551</td>\n",
       "      <td>102627379</td>\n",
       "    </tr>\n",
       "    <tr>\n",
       "      <th>3</th>\n",
       "      <td>3970333912</td>\n",
       "      <td>533512</td>\n",
       "      <td>316347</td>\n",
       "      <td>23486</td>\n",
       "      <td>3960622</td>\n",
       "      <td>719758</td>\n",
       "      <td>106562714</td>\n",
       "    </tr>\n",
       "    <tr>\n",
       "      <th>4</th>\n",
       "      <td>3671015842</td>\n",
       "      <td>139432</td>\n",
       "      <td>301416</td>\n",
       "      <td>45374</td>\n",
       "      <td>8954675</td>\n",
       "      <td>2084196</td>\n",
       "      <td>79014359</td>\n",
       "    </tr>\n",
       "  </tbody>\n",
       "</table>\n",
       "</div>"
      ],
      "text/plain": [
       "   Watch time(Minutes)  Stream time(minutes)  Peak viewers  Average viewers  \\\n",
       "0           6196177522                231022        238492            43488   \n",
       "1           6091693072                227617        326770            41382   \n",
       "2           5644606687                531052        403087            26748   \n",
       "3           3970333912                533512        316347            23486   \n",
       "4           3671015842                139432        301416            45374   \n",
       "\n",
       "   Followers  Followers gained  Views gained  \n",
       "0    3262070           1750582      93052507  \n",
       "1    5325935           1385956      89721736  \n",
       "2    1783407           1039551     102627379  \n",
       "3    3960622            719758     106562714  \n",
       "4    8954675           2084196      79014359  "
      ]
     },
     "execution_count": 9,
     "metadata": {},
     "output_type": "execute_result"
    }
   ],
   "source": [
    "numeric.head()"
   ]
  },
  {
   "cell_type": "code",
   "execution_count": 10,
   "id": "2ad29782",
   "metadata": {},
   "outputs": [
    {
     "data": {
      "text/plain": [
       "0"
      ]
     },
     "execution_count": 10,
     "metadata": {},
     "output_type": "execute_result"
    }
   ],
   "source": [
    "numeric['Followers gained'].min()"
   ]
  },
  {
   "cell_type": "code",
   "execution_count": 11,
   "id": "b501511c",
   "metadata": {},
   "outputs": [
    {
     "name": "stdout",
     "output_type": "stream",
     "text": [
      "Watch time(Minutes): 154539937\n",
      "\n",
      "Stream time(minutes): 21967\n",
      "\n",
      "Peak viewers: 16954\n",
      "\n",
      "Average viewers: 16085\n",
      "\n",
      "Followers: 19432\n",
      "\n",
      "Followers gained: 0\n",
      "\n",
      "Views gained: 191560\n",
      "\n"
     ]
    }
   ],
   "source": [
    "for col in numeric.columns:\n",
    "    print(f\"{col}: {numeric[col].min()}\\n\")"
   ]
  },
  {
   "cell_type": "markdown",
   "id": "0bc71df2",
   "metadata": {},
   "source": [
    "### Log transformation"
   ]
  },
  {
   "cell_type": "code",
   "execution_count": 12,
   "id": "929c7a00",
   "metadata": {},
   "outputs": [
    {
     "data": {
      "text/html": [
       "<div>\n",
       "<style scoped>\n",
       "    .dataframe tbody tr th:only-of-type {\n",
       "        vertical-align: middle;\n",
       "    }\n",
       "\n",
       "    .dataframe tbody tr th {\n",
       "        vertical-align: top;\n",
       "    }\n",
       "\n",
       "    .dataframe thead th {\n",
       "        text-align: right;\n",
       "    }\n",
       "</style>\n",
       "<table border=\"1\" class=\"dataframe\">\n",
       "  <thead>\n",
       "    <tr style=\"text-align: right;\">\n",
       "      <th></th>\n",
       "      <th>Watch time(Minutes)</th>\n",
       "      <th>Stream time(minutes)</th>\n",
       "      <th>Peak viewers</th>\n",
       "      <th>Average viewers</th>\n",
       "      <th>Followers</th>\n",
       "      <th>Followers gained</th>\n",
       "      <th>Views gained</th>\n",
       "    </tr>\n",
       "  </thead>\n",
       "  <tbody>\n",
       "    <tr>\n",
       "      <th>0</th>\n",
       "      <td>22.547198</td>\n",
       "      <td>12.350268</td>\n",
       "      <td>12.382091</td>\n",
       "      <td>10.680240</td>\n",
       "      <td>14.997873</td>\n",
       "      <td>14.375459</td>\n",
       "      <td>18.348674</td>\n",
       "    </tr>\n",
       "    <tr>\n",
       "      <th>1</th>\n",
       "      <td>22.530192</td>\n",
       "      <td>12.335420</td>\n",
       "      <td>12.697012</td>\n",
       "      <td>10.630601</td>\n",
       "      <td>15.488099</td>\n",
       "      <td>14.141901</td>\n",
       "      <td>18.312224</td>\n",
       "    </tr>\n",
       "    <tr>\n",
       "      <th>2</th>\n",
       "      <td>22.453966</td>\n",
       "      <td>13.182615</td>\n",
       "      <td>12.906908</td>\n",
       "      <td>10.194215</td>\n",
       "      <td>14.394036</td>\n",
       "      <td>13.854299</td>\n",
       "      <td>18.446615</td>\n",
       "    </tr>\n",
       "    <tr>\n",
       "      <th>3</th>\n",
       "      <td>22.102116</td>\n",
       "      <td>13.187237</td>\n",
       "      <td>12.664595</td>\n",
       "      <td>10.064160</td>\n",
       "      <td>15.191912</td>\n",
       "      <td>13.486670</td>\n",
       "      <td>18.484244</td>\n",
       "    </tr>\n",
       "    <tr>\n",
       "      <th>4</th>\n",
       "      <td>22.023734</td>\n",
       "      <td>11.845332</td>\n",
       "      <td>12.616247</td>\n",
       "      <td>10.722695</td>\n",
       "      <td>16.007686</td>\n",
       "      <td>14.549894</td>\n",
       "      <td>18.185140</td>\n",
       "    </tr>\n",
       "  </tbody>\n",
       "</table>\n",
       "</div>"
      ],
      "text/plain": [
       "   Watch time(Minutes)  Stream time(minutes)  Peak viewers  Average viewers  \\\n",
       "0            22.547198             12.350268     12.382091        10.680240   \n",
       "1            22.530192             12.335420     12.697012        10.630601   \n",
       "2            22.453966             13.182615     12.906908        10.194215   \n",
       "3            22.102116             13.187237     12.664595        10.064160   \n",
       "4            22.023734             11.845332     12.616247        10.722695   \n",
       "\n",
       "   Followers  Followers gained  Views gained  \n",
       "0  14.997873         14.375459     18.348674  \n",
       "1  15.488099         14.141901     18.312224  \n",
       "2  14.394036         13.854299     18.446615  \n",
       "3  15.191912         13.486670     18.484244  \n",
       "4  16.007686         14.549894     18.185140  "
      ]
     },
     "execution_count": 12,
     "metadata": {},
     "output_type": "execute_result"
    }
   ],
   "source": [
    "numeric = numeric.transform(np.log)\n",
    "numeric.head()"
   ]
  },
  {
   "cell_type": "markdown",
   "id": "8538e2f6",
   "metadata": {},
   "source": [
    "### Remove outliers"
   ]
  },
  {
   "cell_type": "code",
   "execution_count": 13,
   "id": "e9fc769e",
   "metadata": {},
   "outputs": [],
   "source": [
    "sns.set_theme(style='whitegrid')"
   ]
  },
  {
   "cell_type": "code",
   "execution_count": 14,
   "id": "e0af651c",
   "metadata": {},
   "outputs": [],
   "source": [
    "def remove_outliers(x):\n",
    "    global numeric\n",
    "    data_var = numeric[x]\n",
    "    \n",
    "    Q75, Q25 = np.percentile(data_var, [75, 25])\n",
    "    IQR = Q75 - Q25\n",
    "    lower_bound = Q25 - (1.5*IQR)\n",
    "    upper_bound = Q75 + (1.5*IQR)\n",
    "    \n",
    "    numeric = numeric[(numeric[x] >= lower_bound) & (numeric[x] <= upper_bound)].reset_index()\n",
    "    numeric.drop('index', axis=1, inplace=True)\n",
    "    \n",
    "    print(f'{numeric.info()}\\n')"
   ]
  },
  {
   "cell_type": "code",
   "execution_count": 15,
   "id": "70c6e6b3",
   "metadata": {},
   "outputs": [
    {
     "name": "stdout",
     "output_type": "stream",
     "text": [
      "<class 'pandas.core.frame.DataFrame'>\n",
      "RangeIndex: 783 entries, 0 to 782\n",
      "Data columns (total 7 columns):\n",
      " #   Column                Non-Null Count  Dtype  \n",
      "---  ------                --------------  -----  \n",
      " 0   Watch time(Minutes)   783 non-null    float64\n",
      " 1   Stream time(minutes)  783 non-null    float64\n",
      " 2   Peak viewers          783 non-null    float64\n",
      " 3   Average viewers       783 non-null    float64\n",
      " 4   Followers             783 non-null    float64\n",
      " 5   Followers gained      783 non-null    float64\n",
      " 6   Views gained          783 non-null    float64\n",
      "dtypes: float64(7)\n",
      "memory usage: 42.9 KB\n",
      "None\n",
      "\n",
      "<class 'pandas.core.frame.DataFrame'>\n",
      "RangeIndex: 731 entries, 0 to 730\n",
      "Data columns (total 7 columns):\n",
      " #   Column                Non-Null Count  Dtype  \n",
      "---  ------                --------------  -----  \n",
      " 0   Watch time(Minutes)   731 non-null    float64\n",
      " 1   Stream time(minutes)  731 non-null    float64\n",
      " 2   Peak viewers          731 non-null    float64\n",
      " 3   Average viewers       731 non-null    float64\n",
      " 4   Followers             731 non-null    float64\n",
      " 5   Followers gained      731 non-null    float64\n",
      " 6   Views gained          731 non-null    float64\n",
      "dtypes: float64(7)\n",
      "memory usage: 40.1 KB\n",
      "None\n",
      "\n",
      "<class 'pandas.core.frame.DataFrame'>\n",
      "RangeIndex: 706 entries, 0 to 705\n",
      "Data columns (total 7 columns):\n",
      " #   Column                Non-Null Count  Dtype  \n",
      "---  ------                --------------  -----  \n",
      " 0   Watch time(Minutes)   706 non-null    float64\n",
      " 1   Stream time(minutes)  706 non-null    float64\n",
      " 2   Peak viewers          706 non-null    float64\n",
      " 3   Average viewers       706 non-null    float64\n",
      " 4   Followers             706 non-null    float64\n",
      " 5   Followers gained      706 non-null    float64\n",
      " 6   Views gained          706 non-null    float64\n",
      "dtypes: float64(7)\n",
      "memory usage: 38.7 KB\n",
      "None\n",
      "\n",
      "<class 'pandas.core.frame.DataFrame'>\n",
      "RangeIndex: 666 entries, 0 to 665\n",
      "Data columns (total 7 columns):\n",
      " #   Column                Non-Null Count  Dtype  \n",
      "---  ------                --------------  -----  \n",
      " 0   Watch time(Minutes)   666 non-null    float64\n",
      " 1   Stream time(minutes)  666 non-null    float64\n",
      " 2   Peak viewers          666 non-null    float64\n",
      " 3   Average viewers       666 non-null    float64\n",
      " 4   Followers             666 non-null    float64\n",
      " 5   Followers gained      666 non-null    float64\n",
      " 6   Views gained          666 non-null    float64\n",
      "dtypes: float64(7)\n",
      "memory usage: 36.5 KB\n",
      "None\n",
      "\n",
      "<class 'pandas.core.frame.DataFrame'>\n",
      "RangeIndex: 661 entries, 0 to 660\n",
      "Data columns (total 7 columns):\n",
      " #   Column                Non-Null Count  Dtype  \n",
      "---  ------                --------------  -----  \n",
      " 0   Watch time(Minutes)   661 non-null    float64\n",
      " 1   Stream time(minutes)  661 non-null    float64\n",
      " 2   Peak viewers          661 non-null    float64\n",
      " 3   Average viewers       661 non-null    float64\n",
      " 4   Followers             661 non-null    float64\n",
      " 5   Followers gained      661 non-null    float64\n",
      " 6   Views gained          661 non-null    float64\n",
      "dtypes: float64(7)\n",
      "memory usage: 36.3 KB\n",
      "None\n",
      "\n",
      "<class 'pandas.core.frame.DataFrame'>\n",
      "RangeIndex: 660 entries, 0 to 659\n",
      "Data columns (total 7 columns):\n",
      " #   Column                Non-Null Count  Dtype  \n",
      "---  ------                --------------  -----  \n",
      " 0   Watch time(Minutes)   660 non-null    float64\n",
      " 1   Stream time(minutes)  660 non-null    float64\n",
      " 2   Peak viewers          660 non-null    float64\n",
      " 3   Average viewers       660 non-null    float64\n",
      " 4   Followers             660 non-null    float64\n",
      " 5   Followers gained      660 non-null    float64\n",
      " 6   Views gained          660 non-null    float64\n",
      "dtypes: float64(7)\n",
      "memory usage: 36.2 KB\n",
      "None\n",
      "\n",
      "<class 'pandas.core.frame.DataFrame'>\n",
      "RangeIndex: 649 entries, 0 to 648\n",
      "Data columns (total 7 columns):\n",
      " #   Column                Non-Null Count  Dtype  \n",
      "---  ------                --------------  -----  \n",
      " 0   Watch time(Minutes)   649 non-null    float64\n",
      " 1   Stream time(minutes)  649 non-null    float64\n",
      " 2   Peak viewers          649 non-null    float64\n",
      " 3   Average viewers       649 non-null    float64\n",
      " 4   Followers             649 non-null    float64\n",
      " 5   Followers gained      649 non-null    float64\n",
      " 6   Views gained          649 non-null    float64\n",
      "dtypes: float64(7)\n",
      "memory usage: 35.6 KB\n",
      "None\n",
      "\n"
     ]
    }
   ],
   "source": [
    "for col in numeric.columns:\n",
    "    remove_outliers(col)"
   ]
  },
  {
   "cell_type": "markdown",
   "id": "843f6a59",
   "metadata": {},
   "source": [
    "### Polynomial Regression"
   ]
  },
  {
   "cell_type": "code",
   "execution_count": 17,
   "id": "2304e2f9",
   "metadata": {},
   "outputs": [],
   "source": [
    "equations = {}\n",
    "\n",
    "fg = 'Followers gained'\n",
    "\n",
    "def display_reg(x, y, degree=3):\n",
    "    fig, ax = plt.subplots(figsize=(20,16))\n",
    "    \n",
    "    horizontal = np.linspace(numeric[x].min(), numeric[x].max(), len(numeric[x]))\n",
    "    function_model = np.poly1d(np.polyfit(numeric[x].values, numeric[y].values, degree))\n",
    "    \n",
    "    equations[y] = function_model\n",
    "    \n",
    "    plt.scatter(data=numeric, x=x, y=y, zorder=1)\n",
    "    plt.plot(horizontal, function_model(horizontal), zorder=2, color='r')\n",
    "    \n",
    "    plt.xlabel(x)\n",
    "    plt.ylabel(y)\n",
    "    \n",
    "    plt.show()"
   ]
  },
  {
   "cell_type": "code",
   "execution_count": 18,
   "id": "ac248aea",
   "metadata": {
    "scrolled": true
   },
   "outputs": [
    {
     "data": {
      "image/png": "[encoded data removed]",
      "text/plain": [
       "<Figure size 1440x1152 with 1 Axes>"
      ]
     },
     "metadata": {},
     "output_type": "display_data"
    },
    {
     "data": {
      "image/png": "[encoded data removed]",
      "text/plain": [
       "<Figure size 1440x1152 with 1 Axes>"
      ]
     },
     "metadata": {},
     "output_type": "display_data"
    },
    {
     "data": {
      "image/png": "[encoded data removed]",
      "text/plain": [
       "<Figure size 1440x1152 with 1 Axes>"
      ]
     },
     "metadata": {},
     "output_type": "display_data"
    },
    {
     "data": {
      "image/png": "[encoded data removed]",
      "text/plain": [
       "<Figure size 1440x1152 with 1 Axes>"
      ]
     },
     "metadata": {},
     "output_type": "display_data"
    },
    {
     "data": {
      "image/png": "[encoded data removed]",
      "text/plain": [
       "<Figure size 1440x1152 with 1 Axes>"
      ]
     },
     "metadata": {},
     "output_type": "display_data"
    },
    {
     "data": {
      "image/png": "[encoded data removed]",
      "text/plain": [
       "<Figure size 1440x1152 with 1 Axes>"
      ]
     },
     "metadata": {},
     "output_type": "display_data"
    }
   ],
   "source": [
    "y_columns = numeric.drop('Followers gained', axis=1).columns\n",
    "\n",
    "for y in y_columns:\n",
    "    display_reg(fg, y, 5)"
   ]
  },
  {
   "cell_type": "code",
   "execution_count": 19,
   "id": "99d90f65",
   "metadata": {},
   "outputs": [
    {
     "data": {
      "text/plain": [
       "{'Watch time(Minutes)': poly1d([-8.42754278e-03,  5.00371835e-01, -1.18103503e+01,  1.38535700e+02,\n",
       "        -8.07494690e+02,  1.88993869e+03]),\n",
       " 'Stream time(minutes)': poly1d([ 4.60067138e-03, -2.66747376e-01,  6.17776670e+00, -7.14679880e+01,\n",
       "         4.13030960e+02, -9.41983824e+02]),\n",
       " 'Peak viewers': poly1d([-1.16837925e-02,  6.96053727e-01, -1.65147386e+01,  1.95087726e+02,\n",
       "        -1.14729648e+03,  2.69686504e+03]),\n",
       " 'Average viewers': poly1d([-1.90553110e-03,  1.12661664e-01, -2.64962893e+00,  3.09960661e+01,\n",
       "        -1.80375514e+02,  4.27483304e+02]),\n",
       " 'Followers': poly1d([-8.72146341e-03,  5.38135469e-01, -1.32858819e+01,  1.64106977e+02,\n",
       "        -1.01377537e+03,  2.51618884e+03]),\n",
       " 'Views gained': poly1d([-7.68038929e-03,  4.47585833e-01, -1.03473950e+01,  1.18582861e+02,\n",
       "        -6.73223311e+02,  1.52881694e+03])}"
      ]
     },
     "execution_count": 19,
     "metadata": {},
     "output_type": "execute_result"
    }
   ],
   "source": [
    "equations"
   ]
  },
  {
   "cell_type": "markdown",
   "id": "35cfcc7e",
   "metadata": {},
   "source": [
    "### Artificial Data Generation based on retrieved regression"
   ]
  },
  {
   "cell_type": "code",
   "execution_count": 20,
   "id": "a19ce44f",
   "metadata": {},
   "outputs": [
    {
     "data": {
      "text/html": [
       "<div>\n",
       "<style scoped>\n",
       "    .dataframe tbody tr th:only-of-type {\n",
       "        vertical-align: middle;\n",
       "    }\n",
       "\n",
       "    .dataframe tbody tr th {\n",
       "        vertical-align: top;\n",
       "    }\n",
       "\n",
       "    .dataframe thead th {\n",
       "        text-align: right;\n",
       "    }\n",
       "</style>\n",
       "<table border=\"1\" class=\"dataframe\">\n",
       "  <thead>\n",
       "    <tr style=\"text-align: right;\">\n",
       "      <th></th>\n",
       "      <th>Watch time(Minutes)</th>\n",
       "      <th>Stream time(minutes)</th>\n",
       "      <th>Peak viewers</th>\n",
       "      <th>Average viewers</th>\n",
       "      <th>Followers</th>\n",
       "      <th>Views gained</th>\n",
       "      <th>Followers gained</th>\n",
       "    </tr>\n",
       "  </thead>\n",
       "  <tbody>\n",
       "    <tr>\n",
       "      <th>0</th>\n",
       "      <td>21.109149</td>\n",
       "      <td>12.053312</td>\n",
       "      <td>10.716371</td>\n",
       "      <td>10.127750</td>\n",
       "      <td>14.148330</td>\n",
       "      <td>16.813730</td>\n",
       "      <td>11.631286</td>\n",
       "    </tr>\n",
       "    <tr>\n",
       "      <th>1</th>\n",
       "      <td>21.055679</td>\n",
       "      <td>11.964364</td>\n",
       "      <td>10.851374</td>\n",
       "      <td>10.122181</td>\n",
       "      <td>13.839043</td>\n",
       "      <td>17.398859</td>\n",
       "      <td>13.051765</td>\n",
       "    </tr>\n",
       "    <tr>\n",
       "      <th>2</th>\n",
       "      <td>21.031515</td>\n",
       "      <td>12.100751</td>\n",
       "      <td>11.981916</td>\n",
       "      <td>10.079036</td>\n",
       "      <td>13.544537</td>\n",
       "      <td>17.289888</td>\n",
       "      <td>12.863929</td>\n",
       "    </tr>\n",
       "    <tr>\n",
       "      <th>3</th>\n",
       "      <td>21.015458</td>\n",
       "      <td>12.251677</td>\n",
       "      <td>11.009092</td>\n",
       "      <td>10.013014</td>\n",
       "      <td>13.093748</td>\n",
       "      <td>16.466689</td>\n",
       "      <td>12.784320</td>\n",
       "    </tr>\n",
       "    <tr>\n",
       "      <th>4</th>\n",
       "      <td>20.948589</td>\n",
       "      <td>11.963409</td>\n",
       "      <td>11.187486</td>\n",
       "      <td>10.104590</td>\n",
       "      <td>12.917791</td>\n",
       "      <td>16.855177</td>\n",
       "      <td>11.936329</td>\n",
       "    </tr>\n",
       "  </tbody>\n",
       "</table>\n",
       "</div>"
      ],
      "text/plain": [
       "   Watch time(Minutes)  Stream time(minutes)  Peak viewers  Average viewers  \\\n",
       "0            21.109149             12.053312     10.716371        10.127750   \n",
       "1            21.055679             11.964364     10.851374        10.122181   \n",
       "2            21.031515             12.100751     11.981916        10.079036   \n",
       "3            21.015458             12.251677     11.009092        10.013014   \n",
       "4            20.948589             11.963409     11.187486        10.104590   \n",
       "\n",
       "   Followers  Views gained  Followers gained  \n",
       "0  14.148330     16.813730         11.631286  \n",
       "1  13.839043     17.398859         13.051765  \n",
       "2  13.544537     17.289888         12.863929  \n",
       "3  13.093748     16.466689         12.784320  \n",
       "4  12.917791     16.855177         11.936329  "
      ]
     },
     "execution_count": 20,
     "metadata": {},
     "output_type": "execute_result"
    }
   ],
   "source": [
    "cols = ['Watch time(Minutes)', 'Stream time(minutes)', 'Peak viewers', \n",
    "        'Average viewers', 'Followers', 'Views gained', 'Followers gained']\n",
    "\n",
    "numeric = numeric.reindex(columns=cols)\n",
    "numeric.head()"
   ]
  },
  {
   "cell_type": "code",
   "execution_count": 23,
   "id": "33f21b51",
   "metadata": {},
   "outputs": [
    {
     "name": "stdout",
     "output_type": "stream",
     "text": [
      "<class 'pandas.core.frame.DataFrame'>\n",
      "Int64Index: 2649 entries, 0 to 1999\n",
      "Data columns (total 7 columns):\n",
      " #   Column                Non-Null Count  Dtype  \n",
      "---  ------                --------------  -----  \n",
      " 0   Watch time(Minutes)   2649 non-null   float64\n",
      " 1   Stream time(minutes)  2649 non-null   float64\n",
      " 2   Peak viewers          2649 non-null   float64\n",
      " 3   Average viewers       2649 non-null   float64\n",
      " 4   Followers             2649 non-null   float64\n",
      " 5   Views gained          2649 non-null   float64\n",
      " 6   Followers gained      2649 non-null   float64\n",
      "dtypes: float64(7)\n",
      "memory usage: 165.6 KB\n"
     ]
    }
   ],
   "source": [
    "fg = numeric['Followers gained']\n",
    "\n",
    "raf = []\n",
    "aug_data = pd.DataFrame()\n",
    "\n",
    "while (len(raf) < 2*(10**3)):\n",
    "    rand_fg = np.random.randint(fg.min(), fg.max())\n",
    "    raf.append(rand_fg)\n",
    "        \n",
    "for key in equations:\n",
    "    values = [(equations[key](fg)) for fg in raf]\n",
    "    aug_data[key] = values\n",
    "\n",
    "aug_data['Followers gained'] = raf\n",
    "numeric = numeric.append(aug_data)\n",
    "\n",
    "numeric.info()"
   ]
  },
  {
   "cell_type": "markdown",
   "id": "f054a016",
   "metadata": {},
   "source": [
    "## Feature Engineering"
   ]
  },
  {
   "cell_type": "code",
   "execution_count": 24,
   "id": "52d1b578",
   "metadata": {},
   "outputs": [
    {
     "data": {
      "text/html": [
       "<div>\n",
       "<style scoped>\n",
       "    .dataframe tbody tr th:only-of-type {\n",
       "        vertical-align: middle;\n",
       "    }\n",
       "\n",
       "    .dataframe tbody tr th {\n",
       "        vertical-align: top;\n",
       "    }\n",
       "\n",
       "    .dataframe thead th {\n",
       "        text-align: right;\n",
       "    }\n",
       "</style>\n",
       "<table border=\"1\" class=\"dataframe\">\n",
       "  <thead>\n",
       "    <tr style=\"text-align: right;\">\n",
       "      <th></th>\n",
       "      <th>Watch time(Minutes)</th>\n",
       "      <th>Stream time(minutes)</th>\n",
       "      <th>Peak viewers</th>\n",
       "      <th>Average viewers</th>\n",
       "      <th>Followers</th>\n",
       "      <th>Views gained</th>\n",
       "      <th>Followers gained</th>\n",
       "    </tr>\n",
       "  </thead>\n",
       "  <tbody>\n",
       "    <tr>\n",
       "      <th>0</th>\n",
       "      <td>21.109149</td>\n",
       "      <td>12.053312</td>\n",
       "      <td>10.716371</td>\n",
       "      <td>10.127750</td>\n",
       "      <td>14.148330</td>\n",
       "      <td>16.813730</td>\n",
       "      <td>11.631286</td>\n",
       "    </tr>\n",
       "    <tr>\n",
       "      <th>1</th>\n",
       "      <td>21.055679</td>\n",
       "      <td>11.964364</td>\n",
       "      <td>10.851374</td>\n",
       "      <td>10.122181</td>\n",
       "      <td>13.839043</td>\n",
       "      <td>17.398859</td>\n",
       "      <td>13.051765</td>\n",
       "    </tr>\n",
       "    <tr>\n",
       "      <th>2</th>\n",
       "      <td>21.031515</td>\n",
       "      <td>12.100751</td>\n",
       "      <td>11.981916</td>\n",
       "      <td>10.079036</td>\n",
       "      <td>13.544537</td>\n",
       "      <td>17.289888</td>\n",
       "      <td>12.863929</td>\n",
       "    </tr>\n",
       "    <tr>\n",
       "      <th>3</th>\n",
       "      <td>21.015458</td>\n",
       "      <td>12.251677</td>\n",
       "      <td>11.009092</td>\n",
       "      <td>10.013014</td>\n",
       "      <td>13.093748</td>\n",
       "      <td>16.466689</td>\n",
       "      <td>12.784320</td>\n",
       "    </tr>\n",
       "    <tr>\n",
       "      <th>4</th>\n",
       "      <td>20.948589</td>\n",
       "      <td>11.963409</td>\n",
       "      <td>11.187486</td>\n",
       "      <td>10.104590</td>\n",
       "      <td>12.917791</td>\n",
       "      <td>16.855177</td>\n",
       "      <td>11.936329</td>\n",
       "    </tr>\n",
       "  </tbody>\n",
       "</table>\n",
       "</div>"
      ],
      "text/plain": [
       "   Watch time(Minutes)  Stream time(minutes)  Peak viewers  Average viewers  \\\n",
       "0            21.109149             12.053312     10.716371        10.127750   \n",
       "1            21.055679             11.964364     10.851374        10.122181   \n",
       "2            21.031515             12.100751     11.981916        10.079036   \n",
       "3            21.015458             12.251677     11.009092        10.013014   \n",
       "4            20.948589             11.963409     11.187486        10.104590   \n",
       "\n",
       "   Followers  Views gained  Followers gained  \n",
       "0  14.148330     16.813730         11.631286  \n",
       "1  13.839043     17.398859         13.051765  \n",
       "2  13.544537     17.289888         12.863929  \n",
       "3  13.093748     16.466689         12.784320  \n",
       "4  12.917791     16.855177         11.936329  "
      ]
     },
     "execution_count": 24,
     "metadata": {},
     "output_type": "execute_result"
    }
   ],
   "source": [
    "numeric.head()"
   ]
  },
  {
   "cell_type": "code",
   "execution_count": 27,
   "id": "f6339320",
   "metadata": {},
   "outputs": [
    {
     "data": {
      "text/plain": [
       "<AxesSubplot:>"
      ]
     },
     "execution_count": 27,
     "metadata": {},
     "output_type": "execute_result"
    },
    {
     "data": {
      "image/png": "[encoded data removed]",
      "text/plain": [
       "<Figure size 720x144 with 2 Axes>"
      ]
     },
     "metadata": {},
     "output_type": "display_data"
    }
   ],
   "source": [
    "extracted = pd.DataFrame(numeric.corr().loc['Followers gained']).transpose()\n",
    "\n",
    "figure, ax = plt.subplots(figsize=(10,2))\n",
    "figure.set_facecolor('white')\n",
    "sns.heatmap(ax=ax, data=extracted, annot=True)"
   ]
  },
  {
   "cell_type": "code",
   "execution_count": 28,
   "id": "5099822b",
   "metadata": {},
   "outputs": [],
   "source": [
    "# How much each viewer spends time in watching the stream?\n",
    "numeric['Watch time(Minutes)/Average viewers'] = numeric['Watch time(Minutes)'] / numeric['Average viewers']\n",
    "\n",
    "# If all the followers viewed the stream, how much time would each of them spend?\n",
    "numeric['Watch time(Minutes)/Followers'] = numeric['Watch time(Minutes)'] / numeric['Followers']\n",
    "\n",
    "# What proportion of Peak viewers is out of total Followers?\n",
    "numeric['Peak viewers/Followers'] = numeric['Peak viewers'] / numeric['Followers']\n",
    "\n",
    "# What proportion of Average viewers is out of total Followers?\n",
    "numeric['Average viewers/Followers'] = numeric['Average viewers'] / numeric['Followers']\n",
    "\n",
    "# How much views will be optained from a single minute of streaming?\n",
    "numeric['Views gained/Stream time(minutes)'] = numeric['Views gained'] / numeric['Stream time(minutes)']"
   ]
  },
  {
   "cell_type": "code",
   "execution_count": 29,
   "id": "6c3f6b7c",
   "metadata": {},
   "outputs": [
    {
     "data": {
      "text/plain": [
       "<AxesSubplot:>"
      ]
     },
     "execution_count": 29,
     "metadata": {},
     "output_type": "execute_result"
    },
    {
     "data": {
      "image/png": "[encoded data removed]",
      "text/plain": [
       "<Figure size 720x144 with 2 Axes>"
      ]
     },
     "metadata": {},
     "output_type": "display_data"
    }
   ],
   "source": [
    "extracted = pd.DataFrame(numeric.corr().loc['Followers gained']).transpose()\n",
    "\n",
    "figure, ax = plt.subplots(figsize=(10,2))\n",
    "figure.set_facecolor('white')\n",
    "sns.heatmap(ax=ax, data=extracted, annot=True)"
   ]
  },
  {
   "cell_type": "code",
   "execution_count": 30,
   "id": "b55620a0",
   "metadata": {},
   "outputs": [
    {
     "data": {
      "text/html": [
       "<div>\n",
       "<style scoped>\n",
       "    .dataframe tbody tr th:only-of-type {\n",
       "        vertical-align: middle;\n",
       "    }\n",
       "\n",
       "    .dataframe tbody tr th {\n",
       "        vertical-align: top;\n",
       "    }\n",
       "\n",
       "    .dataframe thead th {\n",
       "        text-align: right;\n",
       "    }\n",
       "</style>\n",
       "<table border=\"1\" class=\"dataframe\">\n",
       "  <thead>\n",
       "    <tr style=\"text-align: right;\">\n",
       "      <th></th>\n",
       "      <th>Watch time(Minutes)</th>\n",
       "      <th>Stream time(minutes)</th>\n",
       "      <th>Peak viewers</th>\n",
       "      <th>Average viewers</th>\n",
       "      <th>Followers</th>\n",
       "      <th>Views gained</th>\n",
       "      <th>Followers gained</th>\n",
       "      <th>Watch time(Minutes)/Average viewers</th>\n",
       "      <th>Watch time(Minutes)/Followers</th>\n",
       "      <th>Peak viewers/Followers</th>\n",
       "      <th>Average viewers/Followers</th>\n",
       "      <th>Views gained/Stream time(minutes)</th>\n",
       "    </tr>\n",
       "  </thead>\n",
       "  <tbody>\n",
       "    <tr>\n",
       "      <th>0</th>\n",
       "      <td>21.109149</td>\n",
       "      <td>12.053312</td>\n",
       "      <td>10.716371</td>\n",
       "      <td>10.127750</td>\n",
       "      <td>14.148330</td>\n",
       "      <td>16.813730</td>\n",
       "      <td>11.631286</td>\n",
       "      <td>2.084288</td>\n",
       "      <td>1.491989</td>\n",
       "      <td>0.757430</td>\n",
       "      <td>0.715827</td>\n",
       "      <td>1.394947</td>\n",
       "    </tr>\n",
       "    <tr>\n",
       "      <th>1</th>\n",
       "      <td>21.055679</td>\n",
       "      <td>11.964364</td>\n",
       "      <td>10.851374</td>\n",
       "      <td>10.122181</td>\n",
       "      <td>13.839043</td>\n",
       "      <td>17.398859</td>\n",
       "      <td>13.051765</td>\n",
       "      <td>2.080152</td>\n",
       "      <td>1.521469</td>\n",
       "      <td>0.784113</td>\n",
       "      <td>0.731422</td>\n",
       "      <td>1.454223</td>\n",
       "    </tr>\n",
       "    <tr>\n",
       "      <th>2</th>\n",
       "      <td>21.031515</td>\n",
       "      <td>12.100751</td>\n",
       "      <td>11.981916</td>\n",
       "      <td>10.079036</td>\n",
       "      <td>13.544537</td>\n",
       "      <td>17.289888</td>\n",
       "      <td>12.863929</td>\n",
       "      <td>2.086659</td>\n",
       "      <td>1.552767</td>\n",
       "      <td>0.884631</td>\n",
       "      <td>0.744140</td>\n",
       "      <td>1.428828</td>\n",
       "    </tr>\n",
       "    <tr>\n",
       "      <th>3</th>\n",
       "      <td>21.015458</td>\n",
       "      <td>12.251677</td>\n",
       "      <td>11.009092</td>\n",
       "      <td>10.013014</td>\n",
       "      <td>13.093748</td>\n",
       "      <td>16.466689</td>\n",
       "      <td>12.784320</td>\n",
       "      <td>2.098814</td>\n",
       "      <td>1.604999</td>\n",
       "      <td>0.840790</td>\n",
       "      <td>0.764717</td>\n",
       "      <td>1.344036</td>\n",
       "    </tr>\n",
       "    <tr>\n",
       "      <th>4</th>\n",
       "      <td>20.948589</td>\n",
       "      <td>11.963409</td>\n",
       "      <td>11.187486</td>\n",
       "      <td>10.104590</td>\n",
       "      <td>12.917791</td>\n",
       "      <td>16.855177</td>\n",
       "      <td>11.936329</td>\n",
       "      <td>2.073176</td>\n",
       "      <td>1.621685</td>\n",
       "      <td>0.866053</td>\n",
       "      <td>0.782223</td>\n",
       "      <td>1.408894</td>\n",
       "    </tr>\n",
       "  </tbody>\n",
       "</table>\n",
       "</div>"
      ],
      "text/plain": [
       "   Watch time(Minutes)  Stream time(minutes)  Peak viewers  Average viewers  \\\n",
       "0            21.109149             12.053312     10.716371        10.127750   \n",
       "1            21.055679             11.964364     10.851374        10.122181   \n",
       "2            21.031515             12.100751     11.981916        10.079036   \n",
       "3            21.015458             12.251677     11.009092        10.013014   \n",
       "4            20.948589             11.963409     11.187486        10.104590   \n",
       "\n",
       "   Followers  Views gained  Followers gained  \\\n",
       "0  14.148330     16.813730         11.631286   \n",
       "1  13.839043     17.398859         13.051765   \n",
       "2  13.544537     17.289888         12.863929   \n",
       "3  13.093748     16.466689         12.784320   \n",
       "4  12.917791     16.855177         11.936329   \n",
       "\n",
       "   Watch time(Minutes)/Average viewers  Watch time(Minutes)/Followers  \\\n",
       "0                             2.084288                       1.491989   \n",
       "1                             2.080152                       1.521469   \n",
       "2                             2.086659                       1.552767   \n",
       "3                             2.098814                       1.604999   \n",
       "4                             2.073176                       1.621685   \n",
       "\n",
       "   Peak viewers/Followers  Average viewers/Followers  \\\n",
       "0                0.757430                   0.715827   \n",
       "1                0.784113                   0.731422   \n",
       "2                0.884631                   0.744140   \n",
       "3                0.840790                   0.764717   \n",
       "4                0.866053                   0.782223   \n",
       "\n",
       "   Views gained/Stream time(minutes)  \n",
       "0                           1.394947  \n",
       "1                           1.454223  \n",
       "2                           1.428828  \n",
       "3                           1.344036  \n",
       "4                           1.408894  "
      ]
     },
     "execution_count": 30,
     "metadata": {},
     "output_type": "execute_result"
    }
   ],
   "source": [
    "numeric.head()"
   ]
  },
  {
   "cell_type": "markdown",
   "id": "0bcec20d",
   "metadata": {},
   "source": [
    "## Train, Test, Val Split & Data Scaling"
   ]
  },
  {
   "cell_type": "code",
   "execution_count": 33,
   "id": "4b9fcae9",
   "metadata": {},
   "outputs": [],
   "source": [
    "from sklearn.model_selection import train_test_split\n",
    "from sklearn.preprocessing import StandardScaler\n",
    "scaler = StandardScaler()"
   ]
  },
  {
   "cell_type": "code",
   "execution_count": 32,
   "id": "4e2d3722",
   "metadata": {},
   "outputs": [],
   "source": [
    "X = numeric.drop('Followers gained', axis=1).values\n",
    "y = numeric['Followers gained'].values\n",
    "\n",
    "X_train, X_test, y_train, y_test = train_test_split(X, y, test_size=0.2, random_state=42)\n",
    "X_test, X_val, y_test, y_val = train_test_split(X_test, y_test, test_size=0.2, random_state=101)"
   ]
  },
  {
   "cell_type": "code",
   "execution_count": 34,
   "id": "521d389d",
   "metadata": {},
   "outputs": [],
   "source": [
    "X_train = scaler.fit_transform(X_train)\n",
    "X_test = scaler.fit_transform(X_test)\n",
    "X_val = scaler.fit_transform(X_val)"
   ]
  },
  {
   "cell_type": "markdown",
   "id": "6206c1d2",
   "metadata": {},
   "source": [
    "## Models Generation"
   ]
  },
  {
   "cell_type": "code",
   "execution_count": 42,
   "id": "394bdc3d",
   "metadata": {},
   "outputs": [],
   "source": [
    "def rmse(y_true, y_pred):\n",
    "    return np.sqrt(mean_squared_error(y_true, y_pred))"
   ]
  },
  {
   "cell_type": "markdown",
   "id": "c43765e7",
   "metadata": {},
   "source": [
    "### Deep Neural Network"
   ]
  },
  {
   "cell_type": "code",
   "execution_count": 35,
   "id": "d8ed5f1b",
   "metadata": {},
   "outputs": [],
   "source": [
    "from keras.models import Sequential\n",
    "from keras.layers import Dense, Dropout\n",
    "import keras.backend as K\n",
    "from keras.losses import mean_squared_error as mse"
   ]
  },
  {
   "cell_type": "code",
   "execution_count": 36,
   "id": "d2e840fd",
   "metadata": {},
   "outputs": [],
   "source": [
    "model = Sequential()\n",
    "\n",
    "# INPUT LAYER\n",
    "model.add(Dense(512, activation='relu', kernel_initializer=keras.initializers.RandomUniform()))\n",
    "model.add(Dropout(0.5))\n",
    "\n",
    "# FIRST DENSE LAYER\n",
    "model.add(Dense(512, activation='relu', kernel_initializer=keras.initializers.RandomUniform()))\n",
    "model.add(Dropout(0.5))\n",
    "\n",
    "# SECOND DENSE LAYER\n",
    "model.add(Dense(256, activation='relu', kernel_initializer=keras.initializers.RandomUniform()))\n",
    "model.add(Dropout(0.5))\n",
    "\n",
    "# THIRD DENSE LAYER\n",
    "model.add(Dense(256, activation='relu', kernel_initializer=keras.initializers.RandomUniform()))\n",
    "model.add(Dropout(0.5))\n",
    "\n",
    "# FOURTH DENSE LAYER\n",
    "model.add(Dense(128, activation='relu', kernel_initializer=keras.initializers.RandomUniform()))\n",
    "model.add(Dropout(0.5))\n",
    "\n",
    "# FIFTH DENSE LAYER\n",
    "model.add(Dense(128, activation='relu', kernel_initializer=keras.initializers.RandomUniform()))\n",
    "model.add(Dropout(0.5))\n",
    "\n",
    "# SIXTH DENSE LAYER\n",
    "model.add(Dense(64, activation='relu', kernel_initializer=keras.initializers.RandomUniform()))\n",
    "model.add(Dropout(0.5))\n",
    "\n",
    "# SEVENTH DENSE LAYER\n",
    "model.add(Dense(64, activation='relu', kernel_initializer=keras.initializers.RandomUniform()))\n",
    "model.add(Dropout(0.5))\n",
    "\n",
    "# OUTPUT LAYER\n",
    "model.add(Dense(1))\n",
    "\n",
    "# COMPILE MODEL\n",
    "def rmse(y_true, y_pred):\n",
    "    return K.sqrt(mse(y_true, y_pred))\n",
    "\n",
    "model.compile(optimizer='adam', loss=rmse)"
   ]
  },
  {
   "cell_type": "code",
   "execution_count": 37,
   "id": "58bebe15",
   "metadata": {},
   "outputs": [
    {
     "name": "stdout",
     "output_type": "stream",
     "text": [
      "Epoch 1/70\n",
      "67/67 [==============================] - 1s 8ms/step - loss: 6.5255 - val_loss: 3.3013\n",
      "Epoch 2/70\n",
      "67/67 [==============================] - 0s 7ms/step - loss: 3.5166 - val_loss: 1.2849\n",
      "Epoch 3/70\n",
      "67/67 [==============================] - 0s 6ms/step - loss: 3.0608 - val_loss: 0.7994\n",
      "Epoch 4/70\n",
      "67/67 [==============================] - 0s 6ms/step - loss: 2.6045 - val_loss: 2.5232\n",
      "Epoch 5/70\n",
      "67/67 [==============================] - 0s 6ms/step - loss: 2.5150 - val_loss: 1.0386\n",
      "Epoch 6/70\n",
      "67/67 [==============================] - 0s 6ms/step - loss: 2.1904 - val_loss: 0.7380\n",
      "Epoch 7/70\n",
      "67/67 [==============================] - 0s 6ms/step - loss: 2.1416 - val_loss: 0.5225\n",
      "Epoch 8/70\n",
      "67/67 [==============================] - 0s 6ms/step - loss: 2.1441 - val_loss: 0.6280\n",
      "Epoch 9/70\n",
      "67/67 [==============================] - 0s 6ms/step - loss: 2.0139 - val_loss: 1.2365\n",
      "Epoch 10/70\n",
      "67/67 [==============================] - 0s 6ms/step - loss: 1.9946 - val_loss: 0.8315\n",
      "Epoch 11/70\n",
      "67/67 [==============================] - 0s 6ms/step - loss: 1.8905 - val_loss: 0.7334\n",
      "Epoch 12/70\n",
      "67/67 [==============================] - 0s 7ms/step - loss: 1.9332 - val_loss: 0.6788\n",
      "Epoch 13/70\n",
      "67/67 [==============================] - 0s 6ms/step - loss: 1.8336 - val_loss: 0.6227\n",
      "Epoch 14/70\n",
      "67/67 [==============================] - 0s 6ms/step - loss: 1.8691 - val_loss: 0.8205\n",
      "Epoch 15/70\n",
      "67/67 [==============================] - 0s 6ms/step - loss: 1.8311 - val_loss: 0.9283\n",
      "Epoch 16/70\n",
      "67/67 [==============================] - 0s 6ms/step - loss: 1.8245 - val_loss: 0.9660\n",
      "Epoch 17/70\n",
      "67/67 [==============================] - 0s 6ms/step - loss: 1.8544 - val_loss: 0.3331\n",
      "Epoch 18/70\n",
      "67/67 [==============================] - 0s 6ms/step - loss: 1.7826 - val_loss: 0.6218\n",
      "Epoch 19/70\n",
      "67/67 [==============================] - 0s 6ms/step - loss: 1.6899 - val_loss: 0.4809\n",
      "Epoch 20/70\n",
      "67/67 [==============================] - 0s 6ms/step - loss: 1.7696 - val_loss: 0.4176\n",
      "Epoch 21/70\n",
      "67/67 [==============================] - 0s 6ms/step - loss: 1.7002 - val_loss: 0.5472\n",
      "Epoch 22/70\n",
      "67/67 [==============================] - 0s 6ms/step - loss: 1.6819 - val_loss: 0.5565\n",
      "Epoch 23/70\n",
      "67/67 [==============================] - 0s 6ms/step - loss: 1.7168 - val_loss: 0.4230\n",
      "Epoch 24/70\n",
      "67/67 [==============================] - 0s 6ms/step - loss: 1.7165 - val_loss: 0.7345\n",
      "Epoch 25/70\n",
      "67/67 [==============================] - 0s 6ms/step - loss: 1.6137 - val_loss: 0.7361\n",
      "Epoch 26/70\n",
      "67/67 [==============================] - 0s 6ms/step - loss: 1.6472 - val_loss: 0.3351\n",
      "Epoch 27/70\n",
      "67/67 [==============================] - 0s 6ms/step - loss: 1.6292 - val_loss: 0.5780\n",
      "Epoch 28/70\n",
      "67/67 [==============================] - 0s 6ms/step - loss: 1.5709 - val_loss: 0.3130\n",
      "Epoch 29/70\n",
      "67/67 [==============================] - 0s 6ms/step - loss: 1.5772 - val_loss: 0.6386\n",
      "Epoch 30/70\n",
      "67/67 [==============================] - 0s 6ms/step - loss: 1.5756 - val_loss: 0.7724\n",
      "Epoch 31/70\n",
      "67/67 [==============================] - 0s 6ms/step - loss: 1.5731 - val_loss: 0.5990\n",
      "Epoch 32/70\n",
      "67/67 [==============================] - 0s 6ms/step - loss: 1.5744 - val_loss: 0.7194\n",
      "Epoch 33/70\n",
      "67/67 [==============================] - 0s 6ms/step - loss: 1.5378 - val_loss: 0.6345\n",
      "Epoch 34/70\n",
      "67/67 [==============================] - 0s 6ms/step - loss: 1.5144 - val_loss: 0.4795\n",
      "Epoch 35/70\n",
      "67/67 [==============================] - 0s 6ms/step - loss: 1.5060 - val_loss: 0.4605\n",
      "Epoch 36/70\n",
      "67/67 [==============================] - 0s 6ms/step - loss: 1.5116 - val_loss: 0.6536\n",
      "Epoch 37/70\n",
      "67/67 [==============================] - 0s 6ms/step - loss: 1.4999 - val_loss: 0.5141\n",
      "Epoch 38/70\n",
      "67/67 [==============================] - 0s 6ms/step - loss: 1.4842 - val_loss: 0.6439\n",
      "Epoch 39/70\n",
      "67/67 [==============================] - 0s 6ms/step - loss: 1.4418 - val_loss: 0.3530\n",
      "Epoch 40/70\n",
      "67/67 [==============================] - 0s 6ms/step - loss: 1.4744 - val_loss: 0.4753\n",
      "Epoch 41/70\n",
      "67/67 [==============================] - 0s 6ms/step - loss: 1.4880 - val_loss: 0.4129\n",
      "Epoch 42/70\n",
      "67/67 [==============================] - 0s 6ms/step - loss: 1.4597 - val_loss: 0.5047\n",
      "Epoch 43/70\n",
      "67/67 [==============================] - 0s 6ms/step - loss: 1.4466 - val_loss: 0.8310\n",
      "Epoch 44/70\n",
      "67/67 [==============================] - 0s 6ms/step - loss: 1.4390 - val_loss: 0.4682\n",
      "Epoch 45/70\n",
      "67/67 [==============================] - 0s 6ms/step - loss: 1.4088 - val_loss: 0.5509\n",
      "Epoch 46/70\n",
      "67/67 [==============================] - 0s 6ms/step - loss: 1.4034 - val_loss: 0.5111\n",
      "Epoch 47/70\n",
      "67/67 [==============================] - 0s 6ms/step - loss: 1.4263 - val_loss: 0.6742\n",
      "Epoch 48/70\n",
      "67/67 [==============================] - 0s 6ms/step - loss: 1.3674 - val_loss: 0.5371\n",
      "Epoch 49/70\n",
      "67/67 [==============================] - 0s 6ms/step - loss: 1.4020 - val_loss: 0.5541\n",
      "Epoch 50/70\n",
      "67/67 [==============================] - 0s 6ms/step - loss: 1.3105 - val_loss: 0.7758\n",
      "Epoch 51/70\n",
      "67/67 [==============================] - 0s 6ms/step - loss: 1.3456 - val_loss: 0.3120\n",
      "Epoch 52/70\n",
      "67/67 [==============================] - 0s 6ms/step - loss: 1.3416 - val_loss: 0.4549\n",
      "Epoch 53/70\n",
      "67/67 [==============================] - 0s 6ms/step - loss: 1.3290 - val_loss: 0.5619\n",
      "Epoch 54/70\n",
      "67/67 [==============================] - 0s 6ms/step - loss: 1.3797 - val_loss: 0.4684\n",
      "Epoch 55/70\n",
      "67/67 [==============================] - 0s 6ms/step - loss: 1.3485 - val_loss: 0.3717\n",
      "Epoch 56/70\n",
      "67/67 [==============================] - 0s 6ms/step - loss: 1.3717 - val_loss: 0.4425\n",
      "Epoch 57/70\n",
      "67/67 [==============================] - 0s 6ms/step - loss: 1.3596 - val_loss: 0.4636\n",
      "Epoch 58/70\n",
      "67/67 [==============================] - 0s 6ms/step - loss: 1.3609 - val_loss: 0.4125\n",
      "Epoch 59/70\n",
      "67/67 [==============================] - 0s 6ms/step - loss: 1.3024 - val_loss: 0.5217\n",
      "Epoch 60/70\n",
      "67/67 [==============================] - 0s 6ms/step - loss: 1.3221 - val_loss: 0.4590\n",
      "Epoch 61/70\n",
      "67/67 [==============================] - 0s 6ms/step - loss: 1.3222 - val_loss: 0.4994\n",
      "Epoch 62/70\n",
      "67/67 [==============================] - 0s 6ms/step - loss: 1.3179 - val_loss: 0.4113\n",
      "Epoch 63/70\n",
      "67/67 [==============================] - 0s 6ms/step - loss: 1.2585 - val_loss: 0.2910\n",
      "Epoch 64/70\n",
      "67/67 [==============================] - 0s 6ms/step - loss: 1.2653 - val_loss: 0.4536\n",
      "Epoch 65/70\n",
      "67/67 [==============================] - 0s 6ms/step - loss: 1.2685 - val_loss: 0.3780\n",
      "Epoch 66/70\n",
      "67/67 [==============================] - 0s 6ms/step - loss: 1.3047 - val_loss: 0.3237\n",
      "Epoch 67/70\n",
      "67/67 [==============================] - 0s 6ms/step - loss: 1.2996 - val_loss: 0.5417\n",
      "Epoch 68/70\n",
      "67/67 [==============================] - 0s 6ms/step - loss: 1.2929 - val_loss: 0.4040\n",
      "Epoch 69/70\n",
      "67/67 [==============================] - 0s 6ms/step - loss: 1.2719 - val_loss: 0.5326\n",
      "Epoch 70/70\n",
      "67/67 [==============================] - 0s 6ms/step - loss: 1.2697 - val_loss: 0.4558\n"
     ]
    },
    {
     "data": {
      "text/plain": [
       "<keras.callbacks.History at 0x1f7dc89f8b0>"
      ]
     },
     "execution_count": 37,
     "metadata": {},
     "output_type": "execute_result"
    }
   ],
   "source": [
    "model.fit(X_train, y_train, validation_data=(X_val, y_val), batch_size=32, epochs=70)"
   ]
  },
  {
   "cell_type": "code",
   "execution_count": 43,
   "id": "cd8b6c1a",
   "metadata": {},
   "outputs": [
    {
     "name": "stdout",
     "output_type": "stream",
     "text": [
      "\n",
      "DNN Train EVS: 0.9064954132339623\n",
      "DNN Train RMSE: 0.512249485364412\n",
      "\n",
      "DNN Test EVS: 0.9046869100064433\n",
      "DNN Test RMSE: 0.5143046376007099\n",
      "\n"
     ]
    }
   ],
   "source": [
    "# Make predictions\n",
    "train_pred = model.predict(X_train)\n",
    "test_pred = model.predict(X_test)\n",
    "\n",
    "# Train set performance\n",
    "dnn_train_evs = explained_variance_score(y_train, train_pred)\n",
    "dnn_train_rmse = rmse(y_train, train_pred)\n",
    "\n",
    "# Test set performance\n",
    "dnn_test_evs = explained_variance_score(y_test, test_pred)\n",
    "dnn_test_rmse = rmse(y_test, test_pred)\n",
    "\n",
    "# Output results\n",
    "dnn_results = f\"\"\"\n",
    "DNN Train EVS: {dnn_train_evs}\n",
    "DNN Train RMSE: {dnn_train_rmse}\n",
    "\n",
    "DNN Test EVS: {dnn_test_evs}\n",
    "DNN Test RMSE: {dnn_test_rmse}\n",
    "\"\"\"\n",
    "\n",
    "print(dnn_results)"
   ]
  },
  {
   "cell_type": "markdown",
   "id": "277f10a0",
   "metadata": {},
   "source": [
    "### XGBRegressor"
   ]
  },
  {
   "cell_type": "code",
   "execution_count": 39,
   "id": "e2772ccb",
   "metadata": {},
   "outputs": [
    {
     "name": "stdout",
     "output_type": "stream",
     "text": [
      "[11:52:52] WARNING: C:/Users/Administrator/workspace/xgboost-win64_release_1.4.0/src/objective/regression_obj.cu:171: reg:linear is now deprecated in favor of reg:squarederror.\n",
      "\n",
      "XGBoost Train EVS: 0.9966361138098816\n",
      "XGBoost Train RMSE: 0.1124007322976203\n",
      "\n",
      "XGBoost Test EVS: 0.823371128307179\n",
      "XGBoost Test RMSE: 0.5843082671249864\n",
      "\n"
     ]
    }
   ],
   "source": [
    "from xgboost import XGBRegressor\n",
    "\n",
    "# Model generation and training\n",
    "xgb_model = XGBRegressor(objective='reg:linear', \n",
    "                         n_estimators=5000, \n",
    "                         max_depth=15, \n",
    "                         eta=0.001, \n",
    "                         subsample=0.8, \n",
    "                         colsample_bytree=0.8, \n",
    "                         eval_metric='rmse')\n",
    "\n",
    "xgb_model.fit(X_train, y_train, eval_set=[(X_val, y_val)], verbose=0)\n",
    "\n",
    "# Make predictions\n",
    "train_pred = xgb_model.predict(X_train)\n",
    "test_pred = xgb_model.predict(X_test)\n",
    "\n",
    "# Train set performance\n",
    "xgb_train_evs = explained_variance_score(y_train, train_pred)\n",
    "xgb_train_rmse = rmse(y_train, train_pred)\n",
    "\n",
    "# Test set performance\n",
    "xgb_test_evs = explained_variance_score(y_test, test_pred)\n",
    "xgb_test_rmse = rmse(y_test, test_pred)\n",
    "\n",
    "# Output results\n",
    "xgb_results = f\"\"\"\n",
    "XGBoost Train EVS: {xgb_train_evs}\n",
    "XGBoost Train RMSE: {xgb_train_rmse}\n",
    "\n",
    "XGBoost Test EVS: {xgb_test_evs}\n",
    "XGBoost Test RMSE: {xgb_test_rmse}\n",
    "\"\"\"\n",
    "\n",
    "print(xgb_results)"
   ]
  },
  {
   "cell_type": "markdown",
   "id": "d92f5a8c",
   "metadata": {},
   "source": [
    "### LGBMRegressor"
   ]
  },
  {
   "cell_type": "code",
   "execution_count": 40,
   "id": "863d6352",
   "metadata": {},
   "outputs": [
    {
     "name": "stdout",
     "output_type": "stream",
     "text": [
      "\n",
      "LightGBM Train EVS: 0.9903635471141264\n",
      "LightGBM Train RMSE: 0.13096702605068788\n",
      "\n",
      "LightGBM Test EVS: 0.8339762639393111\n",
      "LightGBM Test RMSE: 0.55367756391769\n",
      "\n"
     ]
    }
   ],
   "source": [
    "from lightgbm import LGBMRegressor as lgb\n",
    "\n",
    "# Model generation and training\n",
    "lgb_model = lgb(boosting_type='gbdt', objective='regression',\n",
    "                num_leaves=150, learning_rate=0.001, n_estimators=10**4)\n",
    "lgb_model.fit(X_train, y_train)\n",
    "\n",
    "# Make predictions\n",
    "train_pred = lgb_model.predict(X_train)\n",
    "test_pred = lgb_model.predict(X_test)\n",
    "\n",
    "# Train set performance\n",
    "lgb_train_evs = explained_variance_score(y_train, train_pred)\n",
    "lgb_train_rmse = rmse(y_train, train_pred)\n",
    "\n",
    "# Test set performance\n",
    "lgb_test_evs = explained_variance_score(y_test, test_pred)\n",
    "lgb_test_rmse = rmse(y_test, test_pred)\n",
    "\n",
    "# Output results\n",
    "lgb_results = f\"\"\"\n",
    "LightGBM Train EVS: {lgb_train_evs}\n",
    "LightGBM Train RMSE: {lgb_train_rmse}\n",
    "\n",
    "LightGBM Test EVS: {lgb_test_evs}\n",
    "LightGBM Test RMSE: {lgb_test_rmse}\n",
    "\"\"\"\n",
    "\n",
    "print(lgb_results)"
   ]
  },
  {
   "cell_type": "markdown",
   "id": "042b946f",
   "metadata": {},
   "source": [
    "### Random Forests Regressor"
   ]
  },
  {
   "cell_type": "code",
   "execution_count": 41,
   "id": "8b16fa6e",
   "metadata": {},
   "outputs": [
    {
     "name": "stderr",
     "output_type": "stream",
     "text": [
      "[Parallel(n_jobs=1)]: Using backend SequentialBackend with 1 concurrent workers.\n"
     ]
    },
    {
     "name": "stdout",
     "output_type": "stream",
     "text": [
      "\n",
      "Random Forests Train EVS: 0.9915477406939238\n",
      "Random Forests Train RMSE: 0.12265639640504167\n",
      "\n",
      "Random Forests Test EVS: 0.8444586871060641\n",
      "Random Forests Test RMSE: 0.5379830844530455\n",
      "\n"
     ]
    },
    {
     "name": "stderr",
     "output_type": "stream",
     "text": [
      "[Parallel(n_jobs=1)]: Done 350 out of 350 | elapsed:    0.9s finished\n",
      "[Parallel(n_jobs=1)]: Using backend SequentialBackend with 1 concurrent workers.\n",
      "[Parallel(n_jobs=1)]: Done 350 out of 350 | elapsed:    0.0s finished\n",
      "[Parallel(n_jobs=1)]: Using backend SequentialBackend with 1 concurrent workers.\n",
      "[Parallel(n_jobs=1)]: Done 350 out of 350 | elapsed:    0.0s finished\n"
     ]
    }
   ],
   "source": [
    "from sklearn.ensemble import RandomForestRegressor\n",
    "\n",
    "# Model generation and training\n",
    "forest = RandomForestRegressor(n_estimators=350, verbose=1)\n",
    "forest.fit(X_train, y_train)\n",
    "\n",
    "# Make predictions\n",
    "train_pred = forest.predict(X_train)\n",
    "test_pred = forest.predict(X_test)\n",
    "\n",
    "# Train set performance\n",
    "rf_train_evs = explained_variance_score(y_train, train_pred)\n",
    "rf_train_rmse = rmse(y_train, train_pred)\n",
    "\n",
    "# Test set performance\n",
    "rf_test_evs = explained_variance_score(y_test, test_pred)\n",
    "rf_test_rmse = rmse(y_test, test_pred)\n",
    "\n",
    "# Output results\n",
    "rf_results = f\"\"\"\n",
    "Random Forests Train EVS: {rf_train_evs}\n",
    "Random Forests Train RMSE: {rf_train_rmse}\n",
    "\n",
    "Random Forests Test EVS: {rf_test_evs}\n",
    "Random Forests Test RMSE: {rf_test_rmse}\n",
    "\"\"\"\n",
    "\n",
    "print(rf_results)"
   ]
  },
  {
   "cell_type": "markdown",
   "id": "56780d76",
   "metadata": {},
   "source": [
    "## Stacked Model"
   ]
  },
  {
   "cell_type": "code",
   "execution_count": 45,
   "id": "554a0920",
   "metadata": {},
   "outputs": [
    {
     "name": "stdout",
     "output_type": "stream",
     "text": [
      "[12:08:08] WARNING: C:/Users/Administrator/workspace/xgboost-win64_release_1.4.0/src/objective/regression_obj.cu:171: reg:linear is now deprecated in favor of reg:squarederror.\n"
     ]
    },
    {
     "name": "stderr",
     "output_type": "stream",
     "text": [
      "[Parallel(n_jobs=1)]: Using backend SequentialBackend with 1 concurrent workers.\n",
      "[Parallel(n_jobs=1)]: Done 350 out of 350 | elapsed:    0.9s finished\n"
     ]
    },
    {
     "name": "stdout",
     "output_type": "stream",
     "text": [
      "[12:08:22] WARNING: C:/Users/Administrator/workspace/xgboost-win64_release_1.4.0/src/objective/regression_obj.cu:171: reg:linear is now deprecated in favor of reg:squarederror.\n",
      "[12:08:29] WARNING: C:/Users/Administrator/workspace/xgboost-win64_release_1.4.0/src/objective/regression_obj.cu:171: reg:linear is now deprecated in favor of reg:squarederror.\n",
      "[12:08:35] WARNING: C:/Users/Administrator/workspace/xgboost-win64_release_1.4.0/src/objective/regression_obj.cu:171: reg:linear is now deprecated in favor of reg:squarederror.\n",
      "[12:08:42] WARNING: C:/Users/Administrator/workspace/xgboost-win64_release_1.4.0/src/objective/regression_obj.cu:171: reg:linear is now deprecated in favor of reg:squarederror.\n",
      "[12:08:49] WARNING: C:/Users/Administrator/workspace/xgboost-win64_release_1.4.0/src/objective/regression_obj.cu:171: reg:linear is now deprecated in favor of reg:squarederror.\n"
     ]
    },
    {
     "name": "stderr",
     "output_type": "stream",
     "text": [
      "[Parallel(n_jobs=1)]: Using backend SequentialBackend with 1 concurrent workers.\n",
      "[Parallel(n_jobs=1)]: Done 350 out of 350 | elapsed:    0.7s finished\n",
      "[Parallel(n_jobs=1)]: Using backend SequentialBackend with 1 concurrent workers.\n",
      "[Parallel(n_jobs=1)]: Done 350 out of 350 | elapsed:    0.0s finished\n",
      "[Parallel(n_jobs=1)]: Using backend SequentialBackend with 1 concurrent workers.\n",
      "[Parallel(n_jobs=1)]: Done 350 out of 350 | elapsed:    0.7s finished\n",
      "[Parallel(n_jobs=1)]: Using backend SequentialBackend with 1 concurrent workers.\n",
      "[Parallel(n_jobs=1)]: Done 350 out of 350 | elapsed:    0.0s finished\n",
      "[Parallel(n_jobs=1)]: Using backend SequentialBackend with 1 concurrent workers.\n",
      "[Parallel(n_jobs=1)]: Done 350 out of 350 | elapsed:    0.7s finished\n",
      "[Parallel(n_jobs=1)]: Using backend SequentialBackend with 1 concurrent workers.\n",
      "[Parallel(n_jobs=1)]: Done 350 out of 350 | elapsed:    0.0s finished\n",
      "[Parallel(n_jobs=1)]: Using backend SequentialBackend with 1 concurrent workers.\n",
      "[Parallel(n_jobs=1)]: Done 350 out of 350 | elapsed:    0.7s finished\n",
      "[Parallel(n_jobs=1)]: Using backend SequentialBackend with 1 concurrent workers.\n",
      "[Parallel(n_jobs=1)]: Done 350 out of 350 | elapsed:    0.0s finished\n",
      "[Parallel(n_jobs=1)]: Using backend SequentialBackend with 1 concurrent workers.\n",
      "[Parallel(n_jobs=1)]: Done 350 out of 350 | elapsed:    0.7s finished\n",
      "[Parallel(n_jobs=1)]: Using backend SequentialBackend with 1 concurrent workers.\n",
      "[Parallel(n_jobs=1)]: Done 350 out of 350 | elapsed:    0.0s finished\n",
      "[Parallel(n_jobs=1)]: Using backend SequentialBackend with 1 concurrent workers.\n",
      "[Parallel(n_jobs=1)]: Done 350 out of 350 | elapsed:    0.0s finished\n",
      "[Parallel(n_jobs=1)]: Using backend SequentialBackend with 1 concurrent workers.\n"
     ]
    },
    {
     "name": "stdout",
     "output_type": "stream",
     "text": [
      "\n",
      "Stacked Model Train EVS: 0.9950425093181401\n",
      "Stacked Model Train RMSE: 0.09400860525081253\n",
      "\n",
      "Stacked Model Test EVS: 0.8357479676152102\n",
      "Stacked Model Test RMSE: 0.5507084685677772\n",
      "\n"
     ]
    },
    {
     "name": "stderr",
     "output_type": "stream",
     "text": [
      "[Parallel(n_jobs=1)]: Done 350 out of 350 | elapsed:    0.0s finished\n"
     ]
    }
   ],
   "source": [
    "from sklearn.ensemble import StackingRegressor\n",
    "from sklearn.linear_model import LinearRegression\n",
    "\n",
    "# Models to use\n",
    "estimators = [\n",
    "    ('XGBRegressor', xgb_model),\n",
    "    ('LGBMRegressor', lgb_model),\n",
    "    ('RFRegressor', forest)\n",
    "]\n",
    "\n",
    "# Build Stacked Model\n",
    "stack_model = StackingRegressor(\n",
    "    estimators=estimators, final_estimator=LinearRegression()\n",
    ")\n",
    "\n",
    "# Train Stacked Model\n",
    "stack_model.fit(X_train, y_train)\n",
    "\n",
    "# Make Predictions\n",
    "sm_train_pred = stack_model.predict(X_train) \n",
    "sm_test_pred = stack_model.predict(X_test)\n",
    "\n",
    "# Train Set Performance\n",
    "sm_train_evs = explained_variance_score(y_train, sm_train_pred)\n",
    "sm_train_rmse = rmse(y_train, sm_train_pred)\n",
    "\n",
    "# Test Set Performance\n",
    "sm_test_evs = explained_variance_score(y_test, sm_test_pred)\n",
    "sm_test_rmse = rmse(y_test, sm_test_pred)\n",
    "\n",
    "# Output results\n",
    "sm_results = f\"\"\"\n",
    "Stacked Model Train EVS: {sm_train_evs}\n",
    "Stacked Model Train RMSE: {sm_train_rmse}\n",
    "\n",
    "Stacked Model Test EVS: {sm_test_evs}\n",
    "Stacked Model Test RMSE: {sm_test_rmse}\n",
    "\"\"\"\n",
    "\n",
    "print(sm_results)"
   ]
  },
  {
   "cell_type": "markdown",
   "id": "e3930370",
   "metadata": {},
   "source": [
    "## Model Predictions"
   ]
  },
  {
   "cell_type": "code",
   "execution_count": 102,
   "id": "5637b848",
   "metadata": {},
   "outputs": [
    {
     "data": {
      "text/html": [
       "<div>\n",
       "<style scoped>\n",
       "    .dataframe tbody tr th:only-of-type {\n",
       "        vertical-align: middle;\n",
       "    }\n",
       "\n",
       "    .dataframe tbody tr th {\n",
       "        vertical-align: top;\n",
       "    }\n",
       "\n",
       "    .dataframe thead th {\n",
       "        text-align: right;\n",
       "    }\n",
       "</style>\n",
       "<table border=\"1\" class=\"dataframe\">\n",
       "  <thead>\n",
       "    <tr style=\"text-align: right;\">\n",
       "      <th></th>\n",
       "      <th>Channel</th>\n",
       "      <th>Watch time(Minutes)</th>\n",
       "      <th>Stream time(minutes)</th>\n",
       "      <th>Peak viewers</th>\n",
       "      <th>Average viewers</th>\n",
       "      <th>Followers</th>\n",
       "      <th>Views gained</th>\n",
       "      <th>Partnered</th>\n",
       "      <th>Mature</th>\n",
       "      <th>Language</th>\n",
       "    </tr>\n",
       "  </thead>\n",
       "  <tbody>\n",
       "    <tr>\n",
       "      <th>0</th>\n",
       "      <td>97R8L3J0</td>\n",
       "      <td>154332060</td>\n",
       "      <td>27105</td>\n",
       "      <td>29983</td>\n",
       "      <td>5864</td>\n",
       "      <td>308815</td>\n",
       "      <td>8255635</td>\n",
       "      <td>0</td>\n",
       "      <td>0</td>\n",
       "      <td>Russian</td>\n",
       "    </tr>\n",
       "    <tr>\n",
       "      <th>1</th>\n",
       "      <td>6UV44QFF</td>\n",
       "      <td>154277370</td>\n",
       "      <td>87375</td>\n",
       "      <td>9437</td>\n",
       "      <td>1759</td>\n",
       "      <td>151886</td>\n",
       "      <td>3019137</td>\n",
       "      <td>1</td>\n",
       "      <td>1</td>\n",
       "      <td>French</td>\n",
       "    </tr>\n",
       "    <tr>\n",
       "      <th>2</th>\n",
       "      <td>2WKQZUGR</td>\n",
       "      <td>154125945</td>\n",
       "      <td>77475</td>\n",
       "      <td>9460</td>\n",
       "      <td>2106</td>\n",
       "      <td>411346</td>\n",
       "      <td>4832180</td>\n",
       "      <td>1</td>\n",
       "      <td>0</td>\n",
       "      <td>Turkish</td>\n",
       "    </tr>\n",
       "    <tr>\n",
       "      <th>3</th>\n",
       "      <td>R4DGVX2D</td>\n",
       "      <td>153988380</td>\n",
       "      <td>83325</td>\n",
       "      <td>11200</td>\n",
       "      <td>1787</td>\n",
       "      <td>272635</td>\n",
       "      <td>4345590</td>\n",
       "      <td>1</td>\n",
       "      <td>0</td>\n",
       "      <td>French</td>\n",
       "    </tr>\n",
       "    <tr>\n",
       "      <th>4</th>\n",
       "      <td>P8YSNIOI</td>\n",
       "      <td>153963765</td>\n",
       "      <td>110910</td>\n",
       "      <td>14329</td>\n",
       "      <td>1281</td>\n",
       "      <td>106365</td>\n",
       "      <td>1449834</td>\n",
       "      <td>1</td>\n",
       "      <td>1</td>\n",
       "      <td>English</td>\n",
       "    </tr>\n",
       "  </tbody>\n",
       "</table>\n",
       "</div>"
      ],
      "text/plain": [
       "    Channel  Watch time(Minutes)  Stream time(minutes)  Peak viewers  \\\n",
       "0  97R8L3J0            154332060                 27105         29983   \n",
       "1  6UV44QFF            154277370                 87375          9437   \n",
       "2  2WKQZUGR            154125945                 77475          9460   \n",
       "3  R4DGVX2D            153988380                 83325         11200   \n",
       "4  P8YSNIOI            153963765                110910         14329   \n",
       "\n",
       "   Average viewers  Followers  Views gained  Partnered  Mature Language  \n",
       "0             5864     308815       8255635          0       0  Russian  \n",
       "1             1759     151886       3019137          1       1   French  \n",
       "2             2106     411346       4832180          1       0  Turkish  \n",
       "3             1787     272635       4345590          1       0   French  \n",
       "4             1281     106365       1449834          1       1  English  "
      ]
     },
     "execution_count": 102,
     "metadata": {},
     "output_type": "execute_result"
    }
   ],
   "source": [
    "test = pd.read_csv('Data_Files/test.csv')\n",
    "test.head()"
   ]
  },
  {
   "cell_type": "code",
   "execution_count": 103,
   "id": "51813db6",
   "metadata": {},
   "outputs": [
    {
     "data": {
      "text/html": [
       "<div>\n",
       "<style scoped>\n",
       "    .dataframe tbody tr th:only-of-type {\n",
       "        vertical-align: middle;\n",
       "    }\n",
       "\n",
       "    .dataframe tbody tr th {\n",
       "        vertical-align: top;\n",
       "    }\n",
       "\n",
       "    .dataframe thead th {\n",
       "        text-align: right;\n",
       "    }\n",
       "</style>\n",
       "<table border=\"1\" class=\"dataframe\">\n",
       "  <thead>\n",
       "    <tr style=\"text-align: right;\">\n",
       "      <th></th>\n",
       "      <th>Watch time(Minutes)</th>\n",
       "      <th>Stream time(minutes)</th>\n",
       "      <th>Peak viewers</th>\n",
       "      <th>Average viewers</th>\n",
       "      <th>Followers</th>\n",
       "      <th>Views gained</th>\n",
       "    </tr>\n",
       "  </thead>\n",
       "  <tbody>\n",
       "    <tr>\n",
       "      <th>0</th>\n",
       "      <td>154332060</td>\n",
       "      <td>27105</td>\n",
       "      <td>29983</td>\n",
       "      <td>5864</td>\n",
       "      <td>308815</td>\n",
       "      <td>8255635</td>\n",
       "    </tr>\n",
       "    <tr>\n",
       "      <th>1</th>\n",
       "      <td>154277370</td>\n",
       "      <td>87375</td>\n",
       "      <td>9437</td>\n",
       "      <td>1759</td>\n",
       "      <td>151886</td>\n",
       "      <td>3019137</td>\n",
       "    </tr>\n",
       "    <tr>\n",
       "      <th>2</th>\n",
       "      <td>154125945</td>\n",
       "      <td>77475</td>\n",
       "      <td>9460</td>\n",
       "      <td>2106</td>\n",
       "      <td>411346</td>\n",
       "      <td>4832180</td>\n",
       "    </tr>\n",
       "    <tr>\n",
       "      <th>3</th>\n",
       "      <td>153988380</td>\n",
       "      <td>83325</td>\n",
       "      <td>11200</td>\n",
       "      <td>1787</td>\n",
       "      <td>272635</td>\n",
       "      <td>4345590</td>\n",
       "    </tr>\n",
       "    <tr>\n",
       "      <th>4</th>\n",
       "      <td>153963765</td>\n",
       "      <td>110910</td>\n",
       "      <td>14329</td>\n",
       "      <td>1281</td>\n",
       "      <td>106365</td>\n",
       "      <td>1449834</td>\n",
       "    </tr>\n",
       "  </tbody>\n",
       "</table>\n",
       "</div>"
      ],
      "text/plain": [
       "   Watch time(Minutes)  Stream time(minutes)  Peak viewers  Average viewers  \\\n",
       "0            154332060                 27105         29983             5864   \n",
       "1            154277370                 87375          9437             1759   \n",
       "2            154125945                 77475          9460             2106   \n",
       "3            153988380                 83325         11200             1787   \n",
       "4            153963765                110910         14329             1281   \n",
       "\n",
       "   Followers  Views gained  \n",
       "0     308815       8255635  \n",
       "1     151886       3019137  \n",
       "2     411346       4832180  \n",
       "3     272635       4345590  \n",
       "4     106365       1449834  "
      ]
     },
     "execution_count": 103,
     "metadata": {},
     "output_type": "execute_result"
    }
   ],
   "source": [
    "test.drop(['Channel', 'Partnered', 'Mature', 'Language'], axis=1, inplace=True)\n",
    "test.head()"
   ]
  },
  {
   "cell_type": "code",
   "execution_count": 104,
   "id": "83cc3736",
   "metadata": {},
   "outputs": [
    {
     "name": "stdout",
     "output_type": "stream",
     "text": [
      "Watch time(Minutes): 122192850\n",
      "\n",
      "Stream time(minutes): 3465\n",
      "\n",
      "Peak viewers: 496\n",
      "\n",
      "Average viewers: 235\n",
      "\n",
      "Followers: 7102\n",
      "\n",
      "Views gained: 956614\n",
      "\n"
     ]
    }
   ],
   "source": [
    "for col in test.columns:\n",
    "    print(f\"{col}: {test[col].min()}\\n\")"
   ]
  },
  {
   "cell_type": "code",
   "execution_count": 105,
   "id": "557cef44",
   "metadata": {},
   "outputs": [],
   "source": [
    "test += 15772"
   ]
  },
  {
   "cell_type": "code",
   "execution_count": 106,
   "id": "b5aad37e",
   "metadata": {},
   "outputs": [
    {
     "data": {
      "text/html": [
       "<div>\n",
       "<style scoped>\n",
       "    .dataframe tbody tr th:only-of-type {\n",
       "        vertical-align: middle;\n",
       "    }\n",
       "\n",
       "    .dataframe tbody tr th {\n",
       "        vertical-align: top;\n",
       "    }\n",
       "\n",
       "    .dataframe thead th {\n",
       "        text-align: right;\n",
       "    }\n",
       "</style>\n",
       "<table border=\"1\" class=\"dataframe\">\n",
       "  <thead>\n",
       "    <tr style=\"text-align: right;\">\n",
       "      <th></th>\n",
       "      <th>Watch time(Minutes)</th>\n",
       "      <th>Stream time(minutes)</th>\n",
       "      <th>Peak viewers</th>\n",
       "      <th>Average viewers</th>\n",
       "      <th>Followers</th>\n",
       "      <th>Views gained</th>\n",
       "    </tr>\n",
       "  </thead>\n",
       "  <tbody>\n",
       "    <tr>\n",
       "      <th>0</th>\n",
       "      <td>154347832</td>\n",
       "      <td>42877</td>\n",
       "      <td>45755</td>\n",
       "      <td>21636</td>\n",
       "      <td>324587</td>\n",
       "      <td>8271407</td>\n",
       "    </tr>\n",
       "    <tr>\n",
       "      <th>1</th>\n",
       "      <td>154293142</td>\n",
       "      <td>103147</td>\n",
       "      <td>25209</td>\n",
       "      <td>17531</td>\n",
       "      <td>167658</td>\n",
       "      <td>3034909</td>\n",
       "    </tr>\n",
       "    <tr>\n",
       "      <th>2</th>\n",
       "      <td>154141717</td>\n",
       "      <td>93247</td>\n",
       "      <td>25232</td>\n",
       "      <td>17878</td>\n",
       "      <td>427118</td>\n",
       "      <td>4847952</td>\n",
       "    </tr>\n",
       "    <tr>\n",
       "      <th>3</th>\n",
       "      <td>154004152</td>\n",
       "      <td>99097</td>\n",
       "      <td>26972</td>\n",
       "      <td>17559</td>\n",
       "      <td>288407</td>\n",
       "      <td>4361362</td>\n",
       "    </tr>\n",
       "    <tr>\n",
       "      <th>4</th>\n",
       "      <td>153979537</td>\n",
       "      <td>126682</td>\n",
       "      <td>30101</td>\n",
       "      <td>17053</td>\n",
       "      <td>122137</td>\n",
       "      <td>1465606</td>\n",
       "    </tr>\n",
       "  </tbody>\n",
       "</table>\n",
       "</div>"
      ],
      "text/plain": [
       "   Watch time(Minutes)  Stream time(minutes)  Peak viewers  Average viewers  \\\n",
       "0            154347832                 42877         45755            21636   \n",
       "1            154293142                103147         25209            17531   \n",
       "2            154141717                 93247         25232            17878   \n",
       "3            154004152                 99097         26972            17559   \n",
       "4            153979537                126682         30101            17053   \n",
       "\n",
       "   Followers  Views gained  \n",
       "0     324587       8271407  \n",
       "1     167658       3034909  \n",
       "2     427118       4847952  \n",
       "3     288407       4361362  \n",
       "4     122137       1465606  "
      ]
     },
     "execution_count": 106,
     "metadata": {},
     "output_type": "execute_result"
    }
   ],
   "source": [
    "test.head()"
   ]
  },
  {
   "cell_type": "code",
   "execution_count": 107,
   "id": "e95911c2",
   "metadata": {},
   "outputs": [
    {
     "data": {
      "text/html": [
       "<div>\n",
       "<style scoped>\n",
       "    .dataframe tbody tr th:only-of-type {\n",
       "        vertical-align: middle;\n",
       "    }\n",
       "\n",
       "    .dataframe tbody tr th {\n",
       "        vertical-align: top;\n",
       "    }\n",
       "\n",
       "    .dataframe thead th {\n",
       "        text-align: right;\n",
       "    }\n",
       "</style>\n",
       "<table border=\"1\" class=\"dataframe\">\n",
       "  <thead>\n",
       "    <tr style=\"text-align: right;\">\n",
       "      <th></th>\n",
       "      <th>Watch time(Minutes)</th>\n",
       "      <th>Stream time(minutes)</th>\n",
       "      <th>Peak viewers</th>\n",
       "      <th>Average viewers</th>\n",
       "      <th>Followers</th>\n",
       "      <th>Views gained</th>\n",
       "    </tr>\n",
       "  </thead>\n",
       "  <tbody>\n",
       "    <tr>\n",
       "      <th>0</th>\n",
       "      <td>18.854719</td>\n",
       "      <td>10.666091</td>\n",
       "      <td>10.731056</td>\n",
       "      <td>9.982114</td>\n",
       "      <td>12.690309</td>\n",
       "      <td>15.928315</td>\n",
       "    </tr>\n",
       "    <tr>\n",
       "      <th>1</th>\n",
       "      <td>18.854365</td>\n",
       "      <td>11.543910</td>\n",
       "      <td>10.134956</td>\n",
       "      <td>9.771726</td>\n",
       "      <td>12.029681</td>\n",
       "      <td>14.925692</td>\n",
       "    </tr>\n",
       "    <tr>\n",
       "      <th>2</th>\n",
       "      <td>18.853383</td>\n",
       "      <td>11.443007</td>\n",
       "      <td>10.135868</td>\n",
       "      <td>9.791326</td>\n",
       "      <td>12.964816</td>\n",
       "      <td>15.394067</td>\n",
       "    </tr>\n",
       "    <tr>\n",
       "      <th>3</th>\n",
       "      <td>18.852490</td>\n",
       "      <td>11.503854</td>\n",
       "      <td>10.202555</td>\n",
       "      <td>9.773322</td>\n",
       "      <td>12.572128</td>\n",
       "      <td>15.288295</td>\n",
       "    </tr>\n",
       "    <tr>\n",
       "      <th>4</th>\n",
       "      <td>18.852330</td>\n",
       "      <td>11.749435</td>\n",
       "      <td>10.312314</td>\n",
       "      <td>9.744081</td>\n",
       "      <td>11.712899</td>\n",
       "      <td>14.197779</td>\n",
       "    </tr>\n",
       "  </tbody>\n",
       "</table>\n",
       "</div>"
      ],
      "text/plain": [
       "   Watch time(Minutes)  Stream time(minutes)  Peak viewers  Average viewers  \\\n",
       "0            18.854719             10.666091     10.731056         9.982114   \n",
       "1            18.854365             11.543910     10.134956         9.771726   \n",
       "2            18.853383             11.443007     10.135868         9.791326   \n",
       "3            18.852490             11.503854     10.202555         9.773322   \n",
       "4            18.852330             11.749435     10.312314         9.744081   \n",
       "\n",
       "   Followers  Views gained  \n",
       "0  12.690309     15.928315  \n",
       "1  12.029681     14.925692  \n",
       "2  12.964816     15.394067  \n",
       "3  12.572128     15.288295  \n",
       "4  11.712899     14.197779  "
      ]
     },
     "execution_count": 107,
     "metadata": {},
     "output_type": "execute_result"
    }
   ],
   "source": [
    "test = test.transform(np.log)\n",
    "test.head()"
   ]
  },
  {
   "cell_type": "code",
   "execution_count": 108,
   "id": "b01d115e",
   "metadata": {},
   "outputs": [],
   "source": [
    "test['Watch time(Minutes)/Average viewers'] = test['Watch time(Minutes)'] / test['Average viewers']\n",
    "test['Watch time(Minutes)/Followers'] = test['Watch time(Minutes)'] / test['Followers']\n",
    "test['Peak viewers/Followers'] = test['Peak viewers'] / test['Followers']\n",
    "test['Average viewers/Followers'] = test['Average viewers'] / test['Followers']\n",
    "test['Views gained/Stream time(minutes)'] = test['Views gained'] / test['Stream time(minutes)']"
   ]
  },
  {
   "cell_type": "code",
   "execution_count": 109,
   "id": "b90de067",
   "metadata": {},
   "outputs": [
    {
     "data": {
      "text/html": [
       "<div>\n",
       "<style scoped>\n",
       "    .dataframe tbody tr th:only-of-type {\n",
       "        vertical-align: middle;\n",
       "    }\n",
       "\n",
       "    .dataframe tbody tr th {\n",
       "        vertical-align: top;\n",
       "    }\n",
       "\n",
       "    .dataframe thead th {\n",
       "        text-align: right;\n",
       "    }\n",
       "</style>\n",
       "<table border=\"1\" class=\"dataframe\">\n",
       "  <thead>\n",
       "    <tr style=\"text-align: right;\">\n",
       "      <th></th>\n",
       "      <th>Watch time(Minutes)</th>\n",
       "      <th>Stream time(minutes)</th>\n",
       "      <th>Peak viewers</th>\n",
       "      <th>Average viewers</th>\n",
       "      <th>Followers</th>\n",
       "      <th>Views gained</th>\n",
       "      <th>Watch time(Minutes)/Average viewers</th>\n",
       "      <th>Watch time(Minutes)/Followers</th>\n",
       "      <th>Peak viewers/Followers</th>\n",
       "      <th>Average viewers/Followers</th>\n",
       "      <th>Views gained/Stream time(minutes)</th>\n",
       "    </tr>\n",
       "  </thead>\n",
       "  <tbody>\n",
       "    <tr>\n",
       "      <th>0</th>\n",
       "      <td>18.854719</td>\n",
       "      <td>10.666091</td>\n",
       "      <td>10.731056</td>\n",
       "      <td>9.982114</td>\n",
       "      <td>12.690309</td>\n",
       "      <td>15.928315</td>\n",
       "      <td>1.888850</td>\n",
       "      <td>1.485757</td>\n",
       "      <td>0.845610</td>\n",
       "      <td>0.786593</td>\n",
       "      <td>1.493360</td>\n",
       "    </tr>\n",
       "    <tr>\n",
       "      <th>1</th>\n",
       "      <td>18.854365</td>\n",
       "      <td>11.543910</td>\n",
       "      <td>10.134956</td>\n",
       "      <td>9.771726</td>\n",
       "      <td>12.029681</td>\n",
       "      <td>14.925692</td>\n",
       "      <td>1.929482</td>\n",
       "      <td>1.567320</td>\n",
       "      <td>0.842496</td>\n",
       "      <td>0.812301</td>\n",
       "      <td>1.292949</td>\n",
       "    </tr>\n",
       "    <tr>\n",
       "      <th>2</th>\n",
       "      <td>18.853383</td>\n",
       "      <td>11.443007</td>\n",
       "      <td>10.135868</td>\n",
       "      <td>9.791326</td>\n",
       "      <td>12.964816</td>\n",
       "      <td>15.394067</td>\n",
       "      <td>1.925519</td>\n",
       "      <td>1.454196</td>\n",
       "      <td>0.781798</td>\n",
       "      <td>0.755223</td>\n",
       "      <td>1.345282</td>\n",
       "    </tr>\n",
       "    <tr>\n",
       "      <th>3</th>\n",
       "      <td>18.852490</td>\n",
       "      <td>11.503854</td>\n",
       "      <td>10.202555</td>\n",
       "      <td>9.773322</td>\n",
       "      <td>12.572128</td>\n",
       "      <td>15.288295</td>\n",
       "      <td>1.928975</td>\n",
       "      <td>1.499546</td>\n",
       "      <td>0.811522</td>\n",
       "      <td>0.777380</td>\n",
       "      <td>1.328972</td>\n",
       "    </tr>\n",
       "    <tr>\n",
       "      <th>4</th>\n",
       "      <td>18.852330</td>\n",
       "      <td>11.749435</td>\n",
       "      <td>10.312314</td>\n",
       "      <td>9.744081</td>\n",
       "      <td>11.712899</td>\n",
       "      <td>14.197779</td>\n",
       "      <td>1.934747</td>\n",
       "      <td>1.609536</td>\n",
       "      <td>0.880424</td>\n",
       "      <td>0.831910</td>\n",
       "      <td>1.208380</td>\n",
       "    </tr>\n",
       "  </tbody>\n",
       "</table>\n",
       "</div>"
      ],
      "text/plain": [
       "   Watch time(Minutes)  Stream time(minutes)  Peak viewers  Average viewers  \\\n",
       "0            18.854719             10.666091     10.731056         9.982114   \n",
       "1            18.854365             11.543910     10.134956         9.771726   \n",
       "2            18.853383             11.443007     10.135868         9.791326   \n",
       "3            18.852490             11.503854     10.202555         9.773322   \n",
       "4            18.852330             11.749435     10.312314         9.744081   \n",
       "\n",
       "   Followers  Views gained  Watch time(Minutes)/Average viewers  \\\n",
       "0  12.690309     15.928315                             1.888850   \n",
       "1  12.029681     14.925692                             1.929482   \n",
       "2  12.964816     15.394067                             1.925519   \n",
       "3  12.572128     15.288295                             1.928975   \n",
       "4  11.712899     14.197779                             1.934747   \n",
       "\n",
       "   Watch time(Minutes)/Followers  Peak viewers/Followers  \\\n",
       "0                       1.485757                0.845610   \n",
       "1                       1.567320                0.842496   \n",
       "2                       1.454196                0.781798   \n",
       "3                       1.499546                0.811522   \n",
       "4                       1.609536                0.880424   \n",
       "\n",
       "   Average viewers/Followers  Views gained/Stream time(minutes)  \n",
       "0                   0.786593                           1.493360  \n",
       "1                   0.812301                           1.292949  \n",
       "2                   0.755223                           1.345282  \n",
       "3                   0.777380                           1.328972  \n",
       "4                   0.831910                           1.208380  "
      ]
     },
     "execution_count": 109,
     "metadata": {},
     "output_type": "execute_result"
    }
   ],
   "source": [
    "test.head()"
   ]
  },
  {
   "cell_type": "code",
   "execution_count": 110,
   "id": "fb204a8d",
   "metadata": {},
   "outputs": [],
   "source": [
    "test = scaler.fit_transform(test.values)"
   ]
  },
  {
   "cell_type": "code",
   "execution_count": 111,
   "id": "6c6a4f52",
   "metadata": {},
   "outputs": [
    {
     "name": "stderr",
     "output_type": "stream",
     "text": [
      "[Parallel(n_jobs=1)]: Using backend SequentialBackend with 1 concurrent workers.\n",
      "[Parallel(n_jobs=1)]: Done 350 out of 350 | elapsed:    0.0s finished\n"
     ]
    }
   ],
   "source": [
    "dnn_pred = model.predict(test)\n",
    "stack_pred = stack_model.predict(test)"
   ]
  },
  {
   "cell_type": "code",
   "execution_count": 116,
   "id": "71f05cc9",
   "metadata": {},
   "outputs": [
    {
     "data": {
      "text/plain": [
       "array([12.439688 , 10.917651 , 12.016177 , 11.922047 , 11.174175 ,\n",
       "       12.263006 , 11.364642 , 11.451378 , 10.788482 , 12.273087 ,\n",
       "        9.695849 , 11.529628 , 11.363216 , 10.878829 , 11.331057 ,\n",
       "       10.790657 , 12.496848 , 10.731037 , 10.777291 , 11.558172 ,\n",
       "       11.23559  , 11.924931 , 11.195542 , 11.42687  , 10.749044 ,\n",
       "        9.384607 ,  9.589088 , 10.879125 , 10.842255 , 10.788539 ,\n",
       "        9.289243 , 11.333783 , 12.007539 , 10.760064 , 11.163733 ,\n",
       "       10.781558 , 10.73101  , 10.834358 , 11.272903 , 11.212042 ,\n",
       "       11.218452 , 11.837251 ,  9.377518 , 10.762179 , 12.055263 ,\n",
       "       10.881328 , 10.913664 , 10.764567 , 11.804995 , 11.052164 ,\n",
       "        9.537625 , 10.898504 , 12.240664 , 12.155491 , 10.801669 ,\n",
       "       12.198722 , 11.348603 , 10.416898 , 11.392661 , 11.682641 ,\n",
       "       10.127118 , 11.38635  , 10.608349 , 11.647723 ,  9.188121 ,\n",
       "       10.874239 ,  9.1903925, 12.408732 , 10.775735 , 11.287666 ,\n",
       "       10.684526 , 11.639324 , 10.829828 , 11.974817 , 12.2686825,\n",
       "       10.762242 , 11.472838 , 10.463829 , 11.2612095,  9.325427 ,\n",
       "       12.197434 , 10.806806 , 11.543508 , 11.521034 , 11.349445 ,\n",
       "       11.220841 , 10.868698 , 12.414428 , 10.758578 , 11.448603 ,\n",
       "       10.741698 , 10.44292  , 11.602374 , 11.590475 , 11.007336 ,\n",
       "       11.440672 , 11.665559 , 11.60471  , 11.715067 , 11.257485 ,\n",
       "       12.39882  , 10.442604 ,  9.883805 , 10.601693 , 11.441577 ,\n",
       "       11.226393 , 11.375034 , 10.548393 , 10.651048 , 11.298221 ,\n",
       "       10.633936 , 11.373053 , 10.143781 ,  9.958043 , 12.206838 ,\n",
       "       10.883445 , 11.465731 , 11.18092  , 11.096733 , 11.667126 ,\n",
       "       11.59997  , 11.400429 , 10.778471 , 10.884697 ,  9.176183 ,\n",
       "        9.942771 , 10.521919 , 12.615621 , 11.224025 , 11.183489 ,\n",
       "       11.678055 , 11.574335 , 12.274189 , 11.197325 , 11.542464 ,\n",
       "       11.356236 , 10.815959 , 10.947131 , 11.446458 , 10.625307 ,\n",
       "       11.2018175, 11.370091 , 11.523563 , 12.134739 , 10.51275  ,\n",
       "       11.905373 , 11.421694 , 10.635328 , 11.418398 , 10.884272 ,\n",
       "       12.199676 , 12.438142 , 11.553774 , 11.24141  , 10.806617 ,\n",
       "       11.232028 , 11.3899145, 11.202581 , 11.444471 , 12.017101 ,\n",
       "       11.510253 , 11.542976 , 11.362759 , 11.463234 , 11.575724 ,\n",
       "       11.237061 ,  9.1920185, 10.116212 , 11.414213 , 11.255648 ,\n",
       "       10.729089 , 10.79862  ,  9.752575 , 11.951117 , 10.918915 ,\n",
       "        9.758443 , 10.437446 ,  9.380715 , 11.520379 , 11.191348 ,\n",
       "        9.779181 , 11.443348 , 11.52322  , 10.906035 , 10.736549 ,\n",
       "       11.613546 ,  9.780644 , 11.469171 , 12.361888 , 11.468753 ,\n",
       "       11.418191 , 10.791049 , 11.076215 , 11.16966  , 10.991879 ,\n",
       "       12.376406 , 11.18311  , 10.66601  , 11.2213335, 11.487609 ],\n",
       "      dtype=float32)"
      ]
     },
     "execution_count": 116,
     "metadata": {},
     "output_type": "execute_result"
    }
   ],
   "source": [
    "dnn_pred = dnn_pred.transpose()[0]\n",
    "dnn_pred"
   ]
  },
  {
   "cell_type": "code",
   "execution_count": 117,
   "id": "ae82719e",
   "metadata": {},
   "outputs": [
    {
     "data": {
      "text/plain": [
       "array([12.79877183, 11.90778866, 12.29243414, 12.2112474 , 11.61524768,\n",
       "       12.17242676, 11.70073825, 12.13935804, 11.72293173, 11.93670284,\n",
       "       11.63077535, 11.69176241, 11.67941387, 11.65071946, 11.88995043,\n",
       "       11.1349127 , 12.71480691, 11.18597069, 10.98594   , 11.8576455 ,\n",
       "       11.75172611, 12.83879921, 11.84501643, 11.91838531, 11.55938868,\n",
       "       12.77855122, 11.31155757, 11.69074858, 10.96044647, 11.14010115,\n",
       "       11.51346281, 11.60062953, 11.98459074, 11.13365447, 11.82462316,\n",
       "       11.08614495, 11.29180331, 11.00177723, 11.89940792, 12.15261143,\n",
       "       12.12967032, 12.78020828, 11.9456682 , 11.08939134, 12.12884186,\n",
       "       10.81283866, 11.41764973, 11.59823414, 11.94514095, 12.04879494,\n",
       "       11.94329825, 11.18830327, 12.43003566, 12.65155627, 11.63255392,\n",
       "       12.51925265, 11.94833002, 11.6879322 , 11.78420124, 11.6116665 ,\n",
       "       12.02068847, 12.09632726, 11.2332636 , 11.59535674, 11.14757829,\n",
       "       11.29969718, 11.81886533, 12.51111636, 11.05771243, 11.39174697,\n",
       "       11.56465393, 12.25326705, 11.16342614, 12.13240174, 13.00946486,\n",
       "       11.00796978, 11.87914359, 11.3515688 , 12.2474574 , 11.81338679,\n",
       "       13.02280178, 10.9960327 , 11.81376485, 11.69340831, 11.86511387,\n",
       "       11.44862222, 10.93390865, 13.1060395 , 11.10542136, 11.85033263,\n",
       "       11.14719461, 11.44642764, 11.98531945, 11.92677029, 11.52171392,\n",
       "       11.45312661, 12.2855091 , 11.99808161, 12.35523159, 11.67582414,\n",
       "       12.0007493 , 11.64453146, 11.47968753, 11.03927368, 12.11917903,\n",
       "       11.95031313, 12.16045909, 11.1396108 , 11.181406  , 11.89454836,\n",
       "       11.02942016, 12.22850641, 11.73612207, 11.36723759, 12.410163  ,\n",
       "       10.93458999, 11.92300129, 12.16328142, 11.14002675, 11.79246325,\n",
       "       12.05065386, 12.00317974, 11.15555964, 10.8742952 , 12.83459344,\n",
       "       11.82189016, 11.18583249, 11.84980762, 11.94815501, 11.92725943,\n",
       "       12.3278395 , 11.97124267, 13.30912755, 11.31538525, 11.65064637,\n",
       "       11.62154673, 11.32537443, 11.09234778, 11.73655045, 11.37019618,\n",
       "       11.91263534, 11.94831783, 12.1471979 , 12.06041499, 10.92008166,\n",
       "       12.2793515 , 12.41375265, 12.1251815 , 11.95819671, 11.38081354,\n",
       "       12.41994801, 12.98152378, 12.06458074, 11.68975471, 11.52492486,\n",
       "       11.66495067, 11.47946886, 12.17810229, 11.63496786, 12.23343778,\n",
       "       11.99091219, 12.09873568, 11.48635532, 11.54733112, 12.08306592,\n",
       "       11.96878747, 11.66324337, 11.07061305, 11.3018833 , 11.9521116 ,\n",
       "       11.24880457, 10.98849349, 11.06456947, 12.47467324, 11.11311942,\n",
       "       11.44734828, 11.40453948, 12.08611377, 12.06840608, 12.24211614,\n",
       "       11.09355955, 11.48309858, 11.36868151, 11.30336697, 11.11055675,\n",
       "       11.52261837, 11.06739438, 11.83674362, 12.77799419, 12.08268222,\n",
       "       11.31864708, 10.97875355, 10.9308406 , 11.8092506 , 11.06779006,\n",
       "       12.7301284 , 11.98717352, 11.12772725, 11.26338004, 11.98235224])"
      ]
     },
     "execution_count": 117,
     "metadata": {},
     "output_type": "execute_result"
    }
   ],
   "source": [
    "stack_pred"
   ]
  },
  {
   "cell_type": "code",
   "execution_count": 125,
   "id": "8b2dac88",
   "metadata": {},
   "outputs": [],
   "source": [
    "predictions = np.divide(np.add(dnn_pred, stack_pred), 2)"
   ]
  },
  {
   "cell_type": "code",
   "execution_count": 126,
   "id": "a3766f50",
   "metadata": {},
   "outputs": [
    {
     "data": {
      "text/plain": [
       "array([12.61922978, 11.41271992, 12.15430566, 12.06664703, 11.39471147,\n",
       "       12.21771648, 11.5326902 , 11.79536795, 11.25570672, 12.10489469,\n",
       "       10.66331239, 11.61069511, 11.52131514, 11.26477423, 11.61050351,\n",
       "       10.96278487, 12.60582751, 10.95850392, 10.88161565, 11.70790886,\n",
       "       11.49365804, 12.38186489, 11.52027938, 11.67262783, 11.15421655,\n",
       "       11.08157927, 10.45032301, 11.28493661, 10.90135056, 10.96432004,\n",
       "       10.40135278, 11.46720634, 11.99606477, 10.9468593 , 11.49417784,\n",
       "       10.93385149, 11.01140687, 10.91806772, 11.58615568, 11.68232664,\n",
       "       11.67406139, 12.3087295 , 10.66159295, 10.92578536, 12.09205221,\n",
       "       10.84708314, 11.1656568 , 11.18140076, 11.87506777, 11.55047951,\n",
       "       10.74046178, 11.04340376, 12.33534959, 12.40352357, 11.21711152,\n",
       "       12.35898727, 11.64846663, 11.05241499, 11.58843117, 11.64715376,\n",
       "       11.07390329, 11.74133847, 10.92080622, 11.62153997, 10.16784956,\n",
       "       11.08696808, 10.50462891, 12.45992439, 10.91672367, 11.33970664,\n",
       "       11.12459019, 11.94629562, 10.9966272 , 12.05360951, 12.63907367,\n",
       "       10.88510605, 11.675991  , 10.90769892, 11.75433344, 10.56940692,\n",
       "       12.6101181 , 10.90141915, 11.67863621, 11.60722128, 11.60727961,\n",
       "       11.33473182, 10.90130339, 12.76023363, 10.93199983, 11.64946765,\n",
       "       10.94444644, 10.94467368, 11.79384676, 11.75862269, 11.26452479,\n",
       "       11.44689927, 11.97553396, 11.80139562, 12.03514925, 11.46665476,\n",
       "       12.19978461, 11.04356776, 10.6817464 , 10.82048342, 11.780378  ,\n",
       "       11.58835294, 11.76774671, 10.84400202, 10.91622685, 11.5963845 ,\n",
       "       10.83167804, 11.8007795 , 10.93995139, 10.66264034, 12.30850033,\n",
       "       10.90901739, 11.69436598, 11.67210053, 11.11837992, 11.72979448,\n",
       "       11.82531186, 11.70180426, 10.96701531, 10.87949608, 11.0053881 ,\n",
       "       10.88233056, 10.85387587, 12.23271412, 11.58608989, 11.55537414,\n",
       "       12.00294715, 11.77278888, 12.79165827, 11.256355  , 11.59655531,\n",
       "       11.48889159, 11.07066671, 11.01973947, 11.59150416, 10.99775163,\n",
       "       11.55722643, 11.65920463, 11.83538064, 12.09757696, 10.71641566,\n",
       "       12.09236206, 11.91772322, 11.3802549 , 11.68829731, 11.13254258,\n",
       "       12.30981179, 12.7098328 , 11.80917731, 11.46558248, 11.16577082,\n",
       "       11.44848934, 11.43469169, 11.69034185, 11.53971961, 12.12526953,\n",
       "       11.75058257, 11.82085603, 11.42455698, 11.50528254, 11.82939479,\n",
       "       11.60292401, 10.42763094, 10.59341247, 11.35804824, 11.60387963,\n",
       "       10.98894668, 10.89355686, 10.4085722 , 12.2128949 , 11.01601711,\n",
       "       10.60289558, 10.92099256, 10.73341457, 11.79439258, 11.71673211,\n",
       "       10.43637004, 11.46322325, 11.44595079, 11.1047012 , 10.92355307,\n",
       "       11.56808237, 10.4240194 , 11.6529571 , 12.56994106, 11.77571754,\n",
       "       11.36841902, 10.88490127, 11.0035277 , 11.48945511, 11.02983476,\n",
       "       12.55326706, 11.58514188, 10.89686858, 11.24235677, 11.73498058])"
      ]
     },
     "execution_count": 126,
     "metadata": {},
     "output_type": "execute_result"
    }
   ],
   "source": [
    "predictions"
   ]
  },
  {
   "cell_type": "code",
   "execution_count": 143,
   "id": "1a5fb74d",
   "metadata": {},
   "outputs": [],
   "source": [
    "predictions = np.exp(predictions).astype(int)"
   ]
  },
  {
   "cell_type": "code",
   "execution_count": 145,
   "id": "96f4d76d",
   "metadata": {},
   "outputs": [
    {
     "data": {
      "text/plain": [
       "array([302316,  90465, 189910, 173971,  88850, 202342, 101996, 132636,\n",
       "        77319, 180754])"
      ]
     },
     "execution_count": 145,
     "metadata": {},
     "output_type": "execute_result"
    }
   ],
   "source": [
    "predictions[:10]"
   ]
  },
  {
   "cell_type": "markdown",
   "id": "df52a3cb",
   "metadata": {},
   "source": [
    "## Output Predictions"
   ]
  },
  {
   "cell_type": "code",
   "execution_count": 154,
   "id": "90fe4f92",
   "metadata": {},
   "outputs": [],
   "source": [
    "channels = pd.read_csv('Data_Files/test.csv')['Channel']\n",
    "channels = pd.DataFrame(channels)\n",
    "\n",
    "predictions = pd.DataFrame(predictions)\n",
    "predictions = predictions.rename(columns={0: 'Followers gained'})"
   ]
  },
  {
   "cell_type": "code",
   "execution_count": 155,
   "id": "0065f333",
   "metadata": {},
   "outputs": [
    {
     "data": {
      "text/html": [
       "<div>\n",
       "<style scoped>\n",
       "    .dataframe tbody tr th:only-of-type {\n",
       "        vertical-align: middle;\n",
       "    }\n",
       "\n",
       "    .dataframe tbody tr th {\n",
       "        vertical-align: top;\n",
       "    }\n",
       "\n",
       "    .dataframe thead th {\n",
       "        text-align: right;\n",
       "    }\n",
       "</style>\n",
       "<table border=\"1\" class=\"dataframe\">\n",
       "  <thead>\n",
       "    <tr style=\"text-align: right;\">\n",
       "      <th></th>\n",
       "      <th>Channel</th>\n",
       "    </tr>\n",
       "  </thead>\n",
       "  <tbody>\n",
       "    <tr>\n",
       "      <th>0</th>\n",
       "      <td>97R8L3J0</td>\n",
       "    </tr>\n",
       "    <tr>\n",
       "      <th>1</th>\n",
       "      <td>6UV44QFF</td>\n",
       "    </tr>\n",
       "    <tr>\n",
       "      <th>2</th>\n",
       "      <td>2WKQZUGR</td>\n",
       "    </tr>\n",
       "    <tr>\n",
       "      <th>3</th>\n",
       "      <td>R4DGVX2D</td>\n",
       "    </tr>\n",
       "    <tr>\n",
       "      <th>4</th>\n",
       "      <td>P8YSNIOI</td>\n",
       "    </tr>\n",
       "  </tbody>\n",
       "</table>\n",
       "</div>"
      ],
      "text/plain": [
       "    Channel\n",
       "0  97R8L3J0\n",
       "1  6UV44QFF\n",
       "2  2WKQZUGR\n",
       "3  R4DGVX2D\n",
       "4  P8YSNIOI"
      ]
     },
     "execution_count": 155,
     "metadata": {},
     "output_type": "execute_result"
    }
   ],
   "source": [
    "channels.head()"
   ]
  },
  {
   "cell_type": "code",
   "execution_count": 156,
   "id": "40402d28",
   "metadata": {},
   "outputs": [
    {
     "data": {
      "text/html": [
       "<div>\n",
       "<style scoped>\n",
       "    .dataframe tbody tr th:only-of-type {\n",
       "        vertical-align: middle;\n",
       "    }\n",
       "\n",
       "    .dataframe tbody tr th {\n",
       "        vertical-align: top;\n",
       "    }\n",
       "\n",
       "    .dataframe thead th {\n",
       "        text-align: right;\n",
       "    }\n",
       "</style>\n",
       "<table border=\"1\" class=\"dataframe\">\n",
       "  <thead>\n",
       "    <tr style=\"text-align: right;\">\n",
       "      <th></th>\n",
       "      <th>Followers gained</th>\n",
       "    </tr>\n",
       "  </thead>\n",
       "  <tbody>\n",
       "    <tr>\n",
       "      <th>0</th>\n",
       "      <td>302316</td>\n",
       "    </tr>\n",
       "    <tr>\n",
       "      <th>1</th>\n",
       "      <td>90465</td>\n",
       "    </tr>\n",
       "    <tr>\n",
       "      <th>2</th>\n",
       "      <td>189910</td>\n",
       "    </tr>\n",
       "    <tr>\n",
       "      <th>3</th>\n",
       "      <td>173971</td>\n",
       "    </tr>\n",
       "    <tr>\n",
       "      <th>4</th>\n",
       "      <td>88850</td>\n",
       "    </tr>\n",
       "  </tbody>\n",
       "</table>\n",
       "</div>"
      ],
      "text/plain": [
       "   Followers gained\n",
       "0            302316\n",
       "1             90465\n",
       "2            189910\n",
       "3            173971\n",
       "4             88850"
      ]
     },
     "execution_count": 156,
     "metadata": {},
     "output_type": "execute_result"
    }
   ],
   "source": [
    "predictions.head()"
   ]
  },
  {
   "cell_type": "code",
   "execution_count": 157,
   "id": "e9e2d8b7",
   "metadata": {},
   "outputs": [
    {
     "data": {
      "text/html": [
       "<div>\n",
       "<style scoped>\n",
       "    .dataframe tbody tr th:only-of-type {\n",
       "        vertical-align: middle;\n",
       "    }\n",
       "\n",
       "    .dataframe tbody tr th {\n",
       "        vertical-align: top;\n",
       "    }\n",
       "\n",
       "    .dataframe thead th {\n",
       "        text-align: right;\n",
       "    }\n",
       "</style>\n",
       "<table border=\"1\" class=\"dataframe\">\n",
       "  <thead>\n",
       "    <tr style=\"text-align: right;\">\n",
       "      <th></th>\n",
       "      <th>Channel</th>\n",
       "      <th>Followers gained</th>\n",
       "    </tr>\n",
       "  </thead>\n",
       "  <tbody>\n",
       "    <tr>\n",
       "      <th>0</th>\n",
       "      <td>97R8L3J0</td>\n",
       "      <td>302316</td>\n",
       "    </tr>\n",
       "    <tr>\n",
       "      <th>1</th>\n",
       "      <td>6UV44QFF</td>\n",
       "      <td>90465</td>\n",
       "    </tr>\n",
       "    <tr>\n",
       "      <th>2</th>\n",
       "      <td>2WKQZUGR</td>\n",
       "      <td>189910</td>\n",
       "    </tr>\n",
       "    <tr>\n",
       "      <th>3</th>\n",
       "      <td>R4DGVX2D</td>\n",
       "      <td>173971</td>\n",
       "    </tr>\n",
       "    <tr>\n",
       "      <th>4</th>\n",
       "      <td>P8YSNIOI</td>\n",
       "      <td>88850</td>\n",
       "    </tr>\n",
       "  </tbody>\n",
       "</table>\n",
       "</div>"
      ],
      "text/plain": [
       "    Channel  Followers gained\n",
       "0  97R8L3J0            302316\n",
       "1  6UV44QFF             90465\n",
       "2  2WKQZUGR            189910\n",
       "3  R4DGVX2D            173971\n",
       "4  P8YSNIOI             88850"
      ]
     },
     "execution_count": 157,
     "metadata": {},
     "output_type": "execute_result"
    }
   ],
   "source": [
    "output = pd.concat([channels, predictions], axis=1)\n",
    "output.head()"
   ]
  },
  {
   "cell_type": "code",
   "execution_count": 158,
   "id": "939be500",
   "metadata": {},
   "outputs": [],
   "source": [
    "output.to_csv('Trial_3_Predictions.csv', index=False)"
   ]
  },
  {
   "cell_type": "code",
   "execution_count": null,
   "id": "389931ad",
   "metadata": {},
   "outputs": [],
   "source": []
  }
 ],
 "metadata": {
  "kernelspec": {
   "display_name": "Python 3 (ipykernel)",
   "language": "python",
   "name": "python3"
  },
  "language_info": {
   "codemirror_mode": {
    "name": "ipython",
    "version": 3
   },
   "file_extension": ".py",
   "mimetype": "text/x-python",
   "name": "python",
   "nbconvert_exporter": "python",
   "pygments_lexer": "ipython3",
   "version": "3.9.0"
  }
 },
 "nbformat": 4,
 "nbformat_minor": 5
}
