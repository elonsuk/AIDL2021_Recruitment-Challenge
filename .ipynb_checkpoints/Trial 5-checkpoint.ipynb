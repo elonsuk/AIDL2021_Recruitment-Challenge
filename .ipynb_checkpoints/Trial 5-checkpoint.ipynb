{
 "cells": [
  {
   "cell_type": "code",
   "execution_count": 1,
   "id": "444a81aa",
   "metadata": {},
   "outputs": [],
   "source": [
    "import os"
   ]
  },
  {
   "cell_type": "code",
   "execution_count": 2,
   "id": "0339f6fa",
   "metadata": {},
   "outputs": [],
   "source": [
    "import pandas as pd\n",
    "import numpy as np\n",
    "import matplotlib.pyplot as plt\n",
    "import seaborn as sns\n",
    "%matplotlib inline"
   ]
  },
  {
   "cell_type": "code",
   "execution_count": 3,
   "id": "ec595497",
   "metadata": {},
   "outputs": [],
   "source": [
    "import tensorflow as tf\n",
    "import tensorflow.keras as keras"
   ]
  },
  {
   "cell_type": "code",
   "execution_count": 4,
   "id": "d4a3fb18",
   "metadata": {},
   "outputs": [],
   "source": [
    "from sklearn.metrics import mean_squared_error, explained_variance_score"
   ]
  },
  {
   "cell_type": "code",
   "execution_count": 5,
   "id": "adcdbc43",
   "metadata": {},
   "outputs": [],
   "source": [
    "import sklearn.gaussian_process as gp"
   ]
  },
  {
   "cell_type": "code",
   "execution_count": 6,
   "id": "ba9e08c0",
   "metadata": {},
   "outputs": [],
   "source": [
    "physical_devices = tf.config.list_physical_devices('GPU')\n",
    "tf.config.experimental.set_memory_growth(physical_devices[0], True)"
   ]
  },
  {
   "cell_type": "code",
   "execution_count": 7,
   "id": "00844729",
   "metadata": {},
   "outputs": [
    {
     "data": {
      "text/html": [
       "<div>\n",
       "<style scoped>\n",
       "    .dataframe tbody tr th:only-of-type {\n",
       "        vertical-align: middle;\n",
       "    }\n",
       "\n",
       "    .dataframe tbody tr th {\n",
       "        vertical-align: top;\n",
       "    }\n",
       "\n",
       "    .dataframe thead th {\n",
       "        text-align: right;\n",
       "    }\n",
       "</style>\n",
       "<table border=\"1\" class=\"dataframe\">\n",
       "  <thead>\n",
       "    <tr style=\"text-align: right;\">\n",
       "      <th></th>\n",
       "      <th>Watch time(Minutes)</th>\n",
       "      <th>Stream time(minutes)</th>\n",
       "      <th>Peak viewers</th>\n",
       "      <th>Average viewers</th>\n",
       "      <th>Followers</th>\n",
       "      <th>Followers gained</th>\n",
       "      <th>Views gained</th>\n",
       "    </tr>\n",
       "  </thead>\n",
       "  <tbody>\n",
       "    <tr>\n",
       "      <th>0</th>\n",
       "      <td>22.547198</td>\n",
       "      <td>12.350268</td>\n",
       "      <td>12.382091</td>\n",
       "      <td>10.680240</td>\n",
       "      <td>14.997873</td>\n",
       "      <td>14.375459</td>\n",
       "      <td>18.348674</td>\n",
       "    </tr>\n",
       "    <tr>\n",
       "      <th>1</th>\n",
       "      <td>22.530192</td>\n",
       "      <td>12.335420</td>\n",
       "      <td>12.697012</td>\n",
       "      <td>10.630601</td>\n",
       "      <td>15.488099</td>\n",
       "      <td>14.141901</td>\n",
       "      <td>18.312224</td>\n",
       "    </tr>\n",
       "    <tr>\n",
       "      <th>2</th>\n",
       "      <td>22.453966</td>\n",
       "      <td>13.182615</td>\n",
       "      <td>12.906908</td>\n",
       "      <td>10.194215</td>\n",
       "      <td>14.394036</td>\n",
       "      <td>13.854299</td>\n",
       "      <td>18.446615</td>\n",
       "    </tr>\n",
       "    <tr>\n",
       "      <th>3</th>\n",
       "      <td>22.102116</td>\n",
       "      <td>13.187237</td>\n",
       "      <td>12.664595</td>\n",
       "      <td>10.064160</td>\n",
       "      <td>15.191912</td>\n",
       "      <td>13.486670</td>\n",
       "      <td>18.484244</td>\n",
       "    </tr>\n",
       "    <tr>\n",
       "      <th>4</th>\n",
       "      <td>22.023734</td>\n",
       "      <td>11.845332</td>\n",
       "      <td>12.616247</td>\n",
       "      <td>10.722695</td>\n",
       "      <td>16.007686</td>\n",
       "      <td>14.549894</td>\n",
       "      <td>18.185140</td>\n",
       "    </tr>\n",
       "  </tbody>\n",
       "</table>\n",
       "</div>"
      ],
      "text/plain": [
       "   Watch time(Minutes)  Stream time(minutes)  Peak viewers  Average viewers  \\\n",
       "0            22.547198             12.350268     12.382091        10.680240   \n",
       "1            22.530192             12.335420     12.697012        10.630601   \n",
       "2            22.453966             13.182615     12.906908        10.194215   \n",
       "3            22.102116             13.187237     12.664595        10.064160   \n",
       "4            22.023734             11.845332     12.616247        10.722695   \n",
       "\n",
       "   Followers  Followers gained  Views gained  \n",
       "0  14.997873         14.375459     18.348674  \n",
       "1  15.488099         14.141901     18.312224  \n",
       "2  14.394036         13.854299     18.446615  \n",
       "3  15.191912         13.486670     18.484244  \n",
       "4  16.007686         14.549894     18.185140  "
      ]
     },
     "execution_count": 7,
     "metadata": {},
     "output_type": "execute_result"
    }
   ],
   "source": [
    "data = pd.read_csv('Trial 5_Processed Data.csv')\n",
    "data.head()"
   ]
  },
  {
   "cell_type": "code",
   "execution_count": 8,
   "id": "a2e71424",
   "metadata": {},
   "outputs": [],
   "source": [
    "from sklearn.model_selection import train_test_split"
   ]
  },
  {
   "cell_type": "code",
   "execution_count": 9,
   "id": "674f7dea",
   "metadata": {},
   "outputs": [],
   "source": [
    "X = data.drop('Followers gained', axis=1).values\n",
    "y = data['Followers gained'].values\n",
    "\n",
    "X_train, X_test, y_train, y_test = train_test_split(X, y, test_size=0.2, random_state=42)"
   ]
  },
  {
   "cell_type": "code",
   "execution_count": 10,
   "id": "26284b50",
   "metadata": {},
   "outputs": [],
   "source": [
    "kernel = gp.kernels.ConstantKernel(1.0, (1e-1, 1e3)) * gp.kernels.RBF(2.0, (1e-1, 1e3))"
   ]
  },
  {
   "cell_type": "code",
   "execution_count": 11,
   "id": "99442748",
   "metadata": {},
   "outputs": [],
   "source": [
    "model = gp.GaussianProcessRegressor(kernel=kernel, n_restarts_optimizer=10, \n",
    "                                    alpha=6, normalize_y=True)"
   ]
  },
  {
   "cell_type": "code",
   "execution_count": 12,
   "id": "2ecf006d",
   "metadata": {},
   "outputs": [
    {
     "data": {
      "text/plain": [
       "GaussianProcessRegressor(alpha=6, kernel=1**2 * RBF(length_scale=2),\n",
       "                         n_restarts_optimizer=10, normalize_y=True)"
      ]
     },
     "execution_count": 12,
     "metadata": {},
     "output_type": "execute_result"
    }
   ],
   "source": [
    "model.fit(X_train, y_train)"
   ]
  },
  {
   "cell_type": "code",
   "execution_count": 13,
   "id": "4e83d29e",
   "metadata": {},
   "outputs": [],
   "source": [
    "y_pred, std = model.predict(X_test, return_std=True)"
   ]
  },
  {
   "cell_type": "code",
   "execution_count": 14,
   "id": "d3463898",
   "metadata": {},
   "outputs": [],
   "source": [
    "y_pred = np.exp(y_pred)\n",
    "y_pred = y_pred.astype(int)"
   ]
  },
  {
   "cell_type": "code",
   "execution_count": 15,
   "id": "5503fe46",
   "metadata": {
    "scrolled": false
   },
   "outputs": [],
   "source": [
    "y_test = np.exp(y_test)\n",
    "y_test = y_test.astype(int)"
   ]
  },
  {
   "cell_type": "code",
   "execution_count": 16,
   "id": "bae9f76e",
   "metadata": {},
   "outputs": [
    {
     "data": {
      "text/plain": [
       "11692.947407251519"
      ]
     },
     "execution_count": 16,
     "metadata": {},
     "output_type": "execute_result"
    }
   ],
   "source": [
    "np.sqrt(mean_squared_error(y_test, y_pred))"
   ]
  },
  {
   "cell_type": "code",
   "execution_count": 17,
   "id": "077e02a0",
   "metadata": {},
   "outputs": [
    {
     "data": {
      "text/plain": [
       "11692.947407251519"
      ]
     },
     "execution_count": 17,
     "metadata": {},
     "output_type": "execute_result"
    }
   ],
   "source": [
    "np.sqrt(((y_test-y_pred)**2).mean())"
   ]
  },
  {
   "cell_type": "code",
   "execution_count": 18,
   "id": "6b0e9c1c",
   "metadata": {},
   "outputs": [
    {
     "data": {
      "text/html": [
       "<div>\n",
       "<style scoped>\n",
       "    .dataframe tbody tr th:only-of-type {\n",
       "        vertical-align: middle;\n",
       "    }\n",
       "\n",
       "    .dataframe tbody tr th {\n",
       "        vertical-align: top;\n",
       "    }\n",
       "\n",
       "    .dataframe thead th {\n",
       "        text-align: right;\n",
       "    }\n",
       "</style>\n",
       "<table border=\"1\" class=\"dataframe\">\n",
       "  <thead>\n",
       "    <tr style=\"text-align: right;\">\n",
       "      <th></th>\n",
       "      <th>Channel</th>\n",
       "      <th>Watch time(Minutes)</th>\n",
       "      <th>Stream time(minutes)</th>\n",
       "      <th>Peak viewers</th>\n",
       "      <th>Average viewers</th>\n",
       "      <th>Followers</th>\n",
       "      <th>Views gained</th>\n",
       "      <th>Partnered</th>\n",
       "      <th>Mature</th>\n",
       "      <th>Language</th>\n",
       "    </tr>\n",
       "  </thead>\n",
       "  <tbody>\n",
       "    <tr>\n",
       "      <th>0</th>\n",
       "      <td>97R8L3J0</td>\n",
       "      <td>154332060</td>\n",
       "      <td>27105</td>\n",
       "      <td>29983</td>\n",
       "      <td>5864</td>\n",
       "      <td>308815</td>\n",
       "      <td>8255635</td>\n",
       "      <td>0</td>\n",
       "      <td>0</td>\n",
       "      <td>Russian</td>\n",
       "    </tr>\n",
       "    <tr>\n",
       "      <th>1</th>\n",
       "      <td>6UV44QFF</td>\n",
       "      <td>154277370</td>\n",
       "      <td>87375</td>\n",
       "      <td>9437</td>\n",
       "      <td>1759</td>\n",
       "      <td>151886</td>\n",
       "      <td>3019137</td>\n",
       "      <td>1</td>\n",
       "      <td>1</td>\n",
       "      <td>French</td>\n",
       "    </tr>\n",
       "    <tr>\n",
       "      <th>2</th>\n",
       "      <td>2WKQZUGR</td>\n",
       "      <td>154125945</td>\n",
       "      <td>77475</td>\n",
       "      <td>9460</td>\n",
       "      <td>2106</td>\n",
       "      <td>411346</td>\n",
       "      <td>4832180</td>\n",
       "      <td>1</td>\n",
       "      <td>0</td>\n",
       "      <td>Turkish</td>\n",
       "    </tr>\n",
       "    <tr>\n",
       "      <th>3</th>\n",
       "      <td>R4DGVX2D</td>\n",
       "      <td>153988380</td>\n",
       "      <td>83325</td>\n",
       "      <td>11200</td>\n",
       "      <td>1787</td>\n",
       "      <td>272635</td>\n",
       "      <td>4345590</td>\n",
       "      <td>1</td>\n",
       "      <td>0</td>\n",
       "      <td>French</td>\n",
       "    </tr>\n",
       "    <tr>\n",
       "      <th>4</th>\n",
       "      <td>P8YSNIOI</td>\n",
       "      <td>153963765</td>\n",
       "      <td>110910</td>\n",
       "      <td>14329</td>\n",
       "      <td>1281</td>\n",
       "      <td>106365</td>\n",
       "      <td>1449834</td>\n",
       "      <td>1</td>\n",
       "      <td>1</td>\n",
       "      <td>English</td>\n",
       "    </tr>\n",
       "  </tbody>\n",
       "</table>\n",
       "</div>"
      ],
      "text/plain": [
       "    Channel  Watch time(Minutes)  Stream time(minutes)  Peak viewers  \\\n",
       "0  97R8L3J0            154332060                 27105         29983   \n",
       "1  6UV44QFF            154277370                 87375          9437   \n",
       "2  2WKQZUGR            154125945                 77475          9460   \n",
       "3  R4DGVX2D            153988380                 83325         11200   \n",
       "4  P8YSNIOI            153963765                110910         14329   \n",
       "\n",
       "   Average viewers  Followers  Views gained  Partnered  Mature Language  \n",
       "0             5864     308815       8255635          0       0  Russian  \n",
       "1             1759     151886       3019137          1       1   French  \n",
       "2             2106     411346       4832180          1       0  Turkish  \n",
       "3             1787     272635       4345590          1       0   French  \n",
       "4             1281     106365       1449834          1       1  English  "
      ]
     },
     "execution_count": 18,
     "metadata": {},
     "output_type": "execute_result"
    }
   ],
   "source": [
    "test = pd.read_csv('Data_Files/test.csv')\n",
    "test.head()"
   ]
  },
  {
   "cell_type": "code",
   "execution_count": 19,
   "id": "53559879",
   "metadata": {},
   "outputs": [
    {
     "data": {
      "text/html": [
       "<div>\n",
       "<style scoped>\n",
       "    .dataframe tbody tr th:only-of-type {\n",
       "        vertical-align: middle;\n",
       "    }\n",
       "\n",
       "    .dataframe tbody tr th {\n",
       "        vertical-align: top;\n",
       "    }\n",
       "\n",
       "    .dataframe thead th {\n",
       "        text-align: right;\n",
       "    }\n",
       "</style>\n",
       "<table border=\"1\" class=\"dataframe\">\n",
       "  <thead>\n",
       "    <tr style=\"text-align: right;\">\n",
       "      <th></th>\n",
       "      <th>Watch time(Minutes)</th>\n",
       "      <th>Stream time(minutes)</th>\n",
       "      <th>Peak viewers</th>\n",
       "      <th>Average viewers</th>\n",
       "      <th>Followers</th>\n",
       "      <th>Views gained</th>\n",
       "    </tr>\n",
       "  </thead>\n",
       "  <tbody>\n",
       "    <tr>\n",
       "      <th>0</th>\n",
       "      <td>154332060</td>\n",
       "      <td>27105</td>\n",
       "      <td>29983</td>\n",
       "      <td>5864</td>\n",
       "      <td>308815</td>\n",
       "      <td>8255635</td>\n",
       "    </tr>\n",
       "    <tr>\n",
       "      <th>1</th>\n",
       "      <td>154277370</td>\n",
       "      <td>87375</td>\n",
       "      <td>9437</td>\n",
       "      <td>1759</td>\n",
       "      <td>151886</td>\n",
       "      <td>3019137</td>\n",
       "    </tr>\n",
       "    <tr>\n",
       "      <th>2</th>\n",
       "      <td>154125945</td>\n",
       "      <td>77475</td>\n",
       "      <td>9460</td>\n",
       "      <td>2106</td>\n",
       "      <td>411346</td>\n",
       "      <td>4832180</td>\n",
       "    </tr>\n",
       "    <tr>\n",
       "      <th>3</th>\n",
       "      <td>153988380</td>\n",
       "      <td>83325</td>\n",
       "      <td>11200</td>\n",
       "      <td>1787</td>\n",
       "      <td>272635</td>\n",
       "      <td>4345590</td>\n",
       "    </tr>\n",
       "    <tr>\n",
       "      <th>4</th>\n",
       "      <td>153963765</td>\n",
       "      <td>110910</td>\n",
       "      <td>14329</td>\n",
       "      <td>1281</td>\n",
       "      <td>106365</td>\n",
       "      <td>1449834</td>\n",
       "    </tr>\n",
       "  </tbody>\n",
       "</table>\n",
       "</div>"
      ],
      "text/plain": [
       "   Watch time(Minutes)  Stream time(minutes)  Peak viewers  Average viewers  \\\n",
       "0            154332060                 27105         29983             5864   \n",
       "1            154277370                 87375          9437             1759   \n",
       "2            154125945                 77475          9460             2106   \n",
       "3            153988380                 83325         11200             1787   \n",
       "4            153963765                110910         14329             1281   \n",
       "\n",
       "   Followers  Views gained  \n",
       "0     308815       8255635  \n",
       "1     151886       3019137  \n",
       "2     411346       4832180  \n",
       "3     272635       4345590  \n",
       "4     106365       1449834  "
      ]
     },
     "execution_count": 19,
     "metadata": {},
     "output_type": "execute_result"
    }
   ],
   "source": [
    "test.drop(['Channel', 'Partnered', 'Mature', 'Language'], axis=1, inplace=True)\n",
    "test.head()"
   ]
  },
  {
   "cell_type": "code",
   "execution_count": 20,
   "id": "f40efabc",
   "metadata": {},
   "outputs": [],
   "source": [
    "test += 15772\n",
    "test = test.transform(np.log)\n",
    "test = test.values"
   ]
  },
  {
   "cell_type": "code",
   "execution_count": 21,
   "id": "e1519d89",
   "metadata": {},
   "outputs": [],
   "source": [
    "test_pred, test_std = model.predict(test, return_std=True)"
   ]
  },
  {
   "cell_type": "code",
   "execution_count": 22,
   "id": "96dcc0df",
   "metadata": {},
   "outputs": [],
   "source": [
    "test_pred = np.exp(test_pred)\n",
    "test_pred = test_pred.astype(int)\n",
    "test_pred -= 15772"
   ]
  },
  {
   "cell_type": "code",
   "execution_count": 23,
   "id": "ae46f99e",
   "metadata": {},
   "outputs": [],
   "source": [
    "actual = pd.read_csv('Data_Files/twitchdata-update.csv')[800:]\n",
    "actual = actual['Followers gained']"
   ]
  },
  {
   "cell_type": "code",
   "execution_count": 24,
   "id": "7990d969",
   "metadata": {},
   "outputs": [],
   "source": [
    "actual = actual.values"
   ]
  },
  {
   "cell_type": "code",
   "execution_count": 25,
   "id": "a22986b1",
   "metadata": {},
   "outputs": [
    {
     "data": {
      "text/plain": [
       "109854.12533441791"
      ]
     },
     "execution_count": 25,
     "metadata": {},
     "output_type": "execute_result"
    }
   ],
   "source": [
    "np.sqrt(mean_squared_error(actual, test_pred))"
   ]
  },
  {
   "cell_type": "code",
   "execution_count": null,
   "id": "1ecb8b00",
   "metadata": {},
   "outputs": [],
   "source": []
  }
 ],
 "metadata": {
  "kernelspec": {
   "display_name": "Python 3 (ipykernel)",
   "language": "python",
   "name": "python3"
  },
  "language_info": {
   "codemirror_mode": {
    "name": "ipython",
    "version": 3
   },
   "file_extension": ".py",
   "mimetype": "text/x-python",
   "name": "python",
   "nbconvert_exporter": "python",
   "pygments_lexer": "ipython3",
   "version": "3.9.0"
  }
 },
 "nbformat": 4,
 "nbformat_minor": 5
}
